{
 "cells": [
  {
   "cell_type": "markdown",
   "metadata": {},
   "source": [
    "# Исследование общепита Москвы"
   ]
  },
  {
   "cell_type": "markdown",
   "metadata": {},
   "source": [
    "Я решил открыть небольшое кафе в Москве. Оно оригинальное — гостей должны обслуживать роботы. Проект многообещающий, но дорогой. Вместе с партнёрами мы решились обратиться к инвесторам. Их интересует текущее положение дел на рынке — сможете ли мы снискать популярность на долгое время, когда все зеваки насмотрятся на роботов-официантов?\n",
    "\n",
    "Для оргументации мне нужно подготовить исследование рынка. Для этого у меня есть открытые данные по общепиту г Москва."
   ]
  },
  {
   "cell_type": "markdown",
   "metadata": {},
   "source": [
    "# Ипрорт данных"
   ]
  },
  {
   "cell_type": "code",
   "execution_count": 78,
   "metadata": {},
   "outputs": [],
   "source": [
    "import pandas as pd\n",
    "import numpy as np\n",
    "import matplotlib.pyplot as plt\n",
    "import seaborn as sns\n",
    "import datetime as dt\n",
    "import scipy.stats as stats"
   ]
  },
  {
   "cell_type": "code",
   "execution_count": 79,
   "metadata": {},
   "outputs": [
    {
     "name": "stdout",
     "output_type": "stream",
     "text": [
      "<class 'pandas.core.frame.DataFrame'>\n",
      "RangeIndex: 15366 entries, 0 to 15365\n",
      "Data columns (total 6 columns):\n",
      "id             15366 non-null int64\n",
      "object_name    15366 non-null object\n",
      "chain          15366 non-null object\n",
      "object_type    15366 non-null object\n",
      "address        15366 non-null object\n",
      "number         15366 non-null int64\n",
      "dtypes: int64(2), object(4)\n",
      "memory usage: 720.4+ KB\n"
     ]
    },
    {
     "data": {
      "text/html": [
       "<div>\n",
       "<style scoped>\n",
       "    .dataframe tbody tr th:only-of-type {\n",
       "        vertical-align: middle;\n",
       "    }\n",
       "\n",
       "    .dataframe tbody tr th {\n",
       "        vertical-align: top;\n",
       "    }\n",
       "\n",
       "    .dataframe thead th {\n",
       "        text-align: right;\n",
       "    }\n",
       "</style>\n",
       "<table border=\"1\" class=\"dataframe\">\n",
       "  <thead>\n",
       "    <tr style=\"text-align: right;\">\n",
       "      <th></th>\n",
       "      <th>id</th>\n",
       "      <th>object_name</th>\n",
       "      <th>chain</th>\n",
       "      <th>object_type</th>\n",
       "      <th>address</th>\n",
       "      <th>number</th>\n",
       "    </tr>\n",
       "  </thead>\n",
       "  <tbody>\n",
       "    <tr>\n",
       "      <td>0</td>\n",
       "      <td>151635</td>\n",
       "      <td>СМЕТАНА</td>\n",
       "      <td>нет</td>\n",
       "      <td>кафе</td>\n",
       "      <td>город Москва, улица Егора Абакумова, дом 9</td>\n",
       "      <td>48</td>\n",
       "    </tr>\n",
       "    <tr>\n",
       "      <td>1</td>\n",
       "      <td>77874</td>\n",
       "      <td>Родник</td>\n",
       "      <td>нет</td>\n",
       "      <td>кафе</td>\n",
       "      <td>город Москва, улица Талалихина, дом 2/1, корпус 1</td>\n",
       "      <td>35</td>\n",
       "    </tr>\n",
       "    <tr>\n",
       "      <td>2</td>\n",
       "      <td>24309</td>\n",
       "      <td>Кафе «Академия»</td>\n",
       "      <td>нет</td>\n",
       "      <td>кафе</td>\n",
       "      <td>город Москва, Абельмановская улица, дом 6</td>\n",
       "      <td>95</td>\n",
       "    </tr>\n",
       "    <tr>\n",
       "      <td>3</td>\n",
       "      <td>21894</td>\n",
       "      <td>ПИЦЦЕТОРИЯ</td>\n",
       "      <td>да</td>\n",
       "      <td>кафе</td>\n",
       "      <td>город Москва, Абрамцевская улица, дом 1</td>\n",
       "      <td>40</td>\n",
       "    </tr>\n",
       "    <tr>\n",
       "      <td>4</td>\n",
       "      <td>119365</td>\n",
       "      <td>Кафе «Вишневая метель»</td>\n",
       "      <td>нет</td>\n",
       "      <td>кафе</td>\n",
       "      <td>город Москва, Абрамцевская улица, дом 9, корпус 1</td>\n",
       "      <td>50</td>\n",
       "    </tr>\n",
       "  </tbody>\n",
       "</table>\n",
       "</div>"
      ],
      "text/plain": [
       "       id             object_name chain object_type  \\\n",
       "0  151635                 СМЕТАНА   нет        кафе   \n",
       "1   77874                  Родник   нет        кафе   \n",
       "2   24309         Кафе «Академия»   нет        кафе   \n",
       "3   21894              ПИЦЦЕТОРИЯ    да        кафе   \n",
       "4  119365  Кафе «Вишневая метель»   нет        кафе   \n",
       "\n",
       "                                             address  number  \n",
       "0         город Москва, улица Егора Абакумова, дом 9      48  \n",
       "1  город Москва, улица Талалихина, дом 2/1, корпус 1      35  \n",
       "2          город Москва, Абельмановская улица, дом 6      95  \n",
       "3            город Москва, Абрамцевская улица, дом 1      40  \n",
       "4  город Москва, Абрамцевская улица, дом 9, корпус 1      50  "
      ]
     },
     "execution_count": 79,
     "metadata": {},
     "output_type": "execute_result"
    }
   ],
   "source": [
    "try:\n",
    "    df = pd.read_csv('/Users/Lenovo/Desktop/ЯП/Проекты/Проект 7/rest_data.csv')\n",
    "except:\n",
    "    df = pd.read_csv('/datasets/rest_data.csv')\n",
    "df.info()\n",
    "df.head()"
   ]
  },
  {
   "cell_type": "markdown",
   "metadata": {},
   "source": [
    "Данные выгрузил, вижу что в данных отсутсвуют пропуски, нужно проверить наличие дубликатов и привести все стрико к нижнему регистру."
   ]
  },
  {
   "cell_type": "markdown",
   "metadata": {},
   "source": [
    "# Подготовка данных"
   ]
  },
  {
   "cell_type": "markdown",
   "metadata": {},
   "source": [
    "Начну с приведегия данных к нижнему регистру"
   ]
  },
  {
   "cell_type": "code",
   "execution_count": 80,
   "metadata": {},
   "outputs": [],
   "source": [
    "df['object_name'] = df['object_name'].str.lower()"
   ]
  },
  {
   "cell_type": "markdown",
   "metadata": {},
   "source": [
    "А теперь проверю наличие дубликатов как во всех строках, так и отдельно по столбцам"
   ]
  },
  {
   "cell_type": "code",
   "execution_count": 81,
   "metadata": {},
   "outputs": [
    {
     "data": {
      "text/plain": [
       "False    15366\n",
       "dtype: int64"
      ]
     },
     "execution_count": 81,
     "metadata": {},
     "output_type": "execute_result"
    }
   ],
   "source": [
    "df.duplicated().value_counts()"
   ]
  },
  {
   "cell_type": "markdown",
   "metadata": {},
   "source": [
    "В таблице нет дублирующих строк, проверю столбцы"
   ]
  },
  {
   "cell_type": "code",
   "execution_count": 82,
   "metadata": {},
   "outputs": [
    {
     "name": "stdout",
     "output_type": "stream",
     "text": [
      "False    15366\n",
      "Name: id, dtype: int64\n"
     ]
    }
   ],
   "source": [
    "def dup (column):\n",
    "    print(df[column].duplicated().value_counts())\n",
    "dup('id')"
   ]
  },
  {
   "cell_type": "markdown",
   "metadata": {},
   "source": [
    "в столбце `id` нет дубликатов, перехожу дальше"
   ]
  },
  {
   "cell_type": "code",
   "execution_count": 83,
   "metadata": {},
   "outputs": [
    {
     "name": "stdout",
     "output_type": "stream",
     "text": [
      "False    9924\n",
      "True     5442\n",
      "Name: object_name, dtype: int64\n"
     ]
    },
    {
     "data": {
      "text/plain": [
       "столовая           321\n",
       "кафе               278\n",
       "шаурма             250\n",
       "шоколадница        158\n",
       "kfc                155\n",
       "макдоналдс         151\n",
       "бургер кинг        137\n",
       "теремок             94\n",
       "домино'с пицца      90\n",
       "крошка картошка     90\n",
       "Name: object_name, dtype: int64"
      ]
     },
     "execution_count": 83,
     "metadata": {},
     "output_type": "execute_result"
    }
   ],
   "source": [
    "dup('object_name')\n",
    "df['object_name'].value_counts().head(10)"
   ]
  },
  {
   "cell_type": "markdown",
   "metadata": {},
   "source": [
    "В столбце `object_name` ожидаемо имеются дубликаты, общепита с названиями \"Кафе\" или \"Столовая\" в москве много, плюс сетевой общепит."
   ]
  },
  {
   "cell_type": "code",
   "execution_count": 84,
   "metadata": {},
   "outputs": [
    {
     "name": "stdout",
     "output_type": "stream",
     "text": [
      "False    9108\n",
      "True     6258\n",
      "Name: address, dtype: int64\n"
     ]
    },
    {
     "data": {
      "text/plain": [
       "город Москва, Ходынский бульвар, дом 4            95\n",
       "город Москва, Пресненская набережная, дом 2       63\n",
       "город Москва, проспект Мира, дом 211, корпус 2    60\n",
       "город Москва, Кировоградская улица, дом 13А       53\n",
       "город Москва, площадь Киевского Вокзала, дом 2    48\n",
       "город Москва, Мытная улица, дом 74                46\n",
       "город Москва, улица Земляной Вал, дом 33          46\n",
       "город Москва, улица Новый Арбат, дом 21           42\n",
       "город Москва, улица Ленинская Слобода, дом 26     41\n",
       "город Москва, Кутузовский проспект, дом 57        40\n",
       "Name: address, dtype: int64"
      ]
     },
     "execution_count": 84,
     "metadata": {},
     "output_type": "execute_result"
    }
   ],
   "source": [
    "dup('address')\n",
    "df['address'].value_counts().head(10)"
   ]
  },
  {
   "cell_type": "markdown",
   "metadata": {},
   "source": [
    "Наличие дупликатов в этом столбце тоже не удивительно, адреса с большим количеством дубликатом это торговые центры где имеются фудзоны."
   ]
  },
  {
   "cell_type": "code",
   "execution_count": 85,
   "metadata": {},
   "outputs": [
    {
     "data": {
      "text/plain": [
       "кафе                                 6099\n",
       "столовая                             2587\n",
       "ресторан                             2285\n",
       "предприятие быстрого обслуживания    1923\n",
       "бар                                   856\n",
       "буфет                                 585\n",
       "кафетерий                             398\n",
       "закусочная                            360\n",
       "магазин (отдел кулинарии)             273\n",
       "Name: object_type, dtype: int64"
      ]
     },
     "execution_count": 85,
     "metadata": {},
     "output_type": "execute_result"
    }
   ],
   "source": [
    "df['object_type'].value_counts()"
   ]
  },
  {
   "cell_type": "markdown",
   "metadata": {},
   "source": [
    "в данном столбце все данные разбиты по типу заведения, отмечу что тип общепита *кафе* преобладает в таблице\n",
    "\n",
    "Проанализирую столбец *number*"
   ]
  },
  {
   "cell_type": "code",
   "execution_count": 86,
   "metadata": {},
   "outputs": [
    {
     "name": "stdout",
     "output_type": "stream",
     "text": [
      "0     1621\n",
      "40     835\n",
      "20     727\n",
      "30     685\n",
      "10     644\n",
      "50     560\n",
      "60     472\n",
      "80     464\n",
      "15     360\n",
      "45     360\n",
      "Name: number, dtype: int64\n"
     ]
    },
    {
     "data": {
      "image/png": "[encoded data removed]",
      "text/plain": [
       "<Figure size 720x360 with 1 Axes>"
      ]
     },
     "metadata": {
      "needs_background": "light"
     },
     "output_type": "display_data"
    }
   ],
   "source": [
    "print(df['number'].value_counts().head(10))\n",
    "df['number'].hist(bins=200, figsize = (10,5), range = (0, 250))\n",
    "plt.title('Распределение общепита по кол-ву мест')\n",
    "plt.xlabel('Кол-во мест')\n",
    "plt.ylabel('Кол-во точек общепита')\n",
    "plt.show()"
   ]
  },
  {
   "cell_type": "markdown",
   "metadata": {},
   "source": [
    "На распределениии заметны большое скопление заведений с нулевым количеством посадочных мест, предпологаю что данная часть это общепиты работающие на вынос или на доставку, плотное скопление в распределении от 0 до 100 мест.\n",
    "\n",
    "Данные готовы к аналицу, дубликатов не обнаружено, пропусков нет, названия кафе приведени к нижнему регистру."
   ]
  },
  {
   "cell_type": "markdown",
   "metadata": {},
   "source": [
    "# Анализ данных"
   ]
  },
  {
   "cell_type": "markdown",
   "metadata": {},
   "source": [
    "## Исследую соотношение видов объектов общественного питания по количеству. "
   ]
  },
  {
   "cell_type": "code",
   "execution_count": 87,
   "metadata": {},
   "outputs": [
    {
     "name": "stdout",
     "output_type": "stream",
     "text": [
      "кафе                                 6099\n",
      "столовая                             2587\n",
      "ресторан                             2285\n",
      "предприятие быстрого обслуживания    1923\n",
      "бар                                   856\n",
      "буфет                                 585\n",
      "кафетерий                             398\n",
      "закусочная                            360\n",
      "магазин (отдел кулинарии)             273\n",
      "Name: object_type, dtype: int64\n"
     ]
    }
   ],
   "source": [
    "print(df['object_type'].value_counts())"
   ]
  },
  {
   "cell_type": "markdown",
   "metadata": {},
   "source": [
    "Кафе больше всего в Москве, на последних местах закусочные и кулинария"
   ]
  },
  {
   "cell_type": "markdown",
   "metadata": {},
   "source": [
    "## Исследую соотношение сетевых и несетевых заведений по количеству. "
   ]
  },
  {
   "cell_type": "code",
   "execution_count": 88,
   "metadata": {},
   "outputs": [
    {
     "name": "stdout",
     "output_type": "stream",
     "text": [
      "нет    12398\n",
      "да      2968\n",
      "Name: chain, dtype: int64\n"
     ]
    },
    {
     "data": {
      "image/png": "[encoded data removed]",
      "text/plain": [
       "<Figure size 432x288 with 1 Axes>"
      ]
     },
     "metadata": {},
     "output_type": "display_data"
    }
   ],
   "source": [
    "print(df['chain'].value_counts())\n",
    "plt.pie((df['chain'].value_counts()), \n",
    "        autopct='%1.1f%%', \n",
    "        startangle=90, \n",
    "        labels = ('НЕсетевые','Сетевые'), \n",
    "        explode= (0.1,0.1))\n",
    "\n",
    "plt.title('Соотношение сетевых и несетевых заведений общепита')\n",
    "plt.axis('equal')\n",
    "plt.show()"
   ]
  },
  {
   "cell_type": "markdown",
   "metadata": {},
   "source": [
    "Не сетевых заведений в Москве в 4 раза больше, а казалось что наоборот, малый и сдедний бизнес продолжает боротся с гигантами индустрии."
   ]
  },
  {
   "cell_type": "markdown",
   "metadata": {},
   "source": [
    "## Найду для какого вида объекта общественного питания характерно сетевое распространение?"
   ]
  },
  {
   "cell_type": "code",
   "execution_count": 89,
   "metadata": {},
   "outputs": [
    {
     "data": {
      "text/plain": [
       "кафе                                 1396\n",
       "предприятие быстрого обслуживания     791\n",
       "ресторан                              544\n",
       "магазин (отдел кулинарии)              78\n",
       "закусочная                             56\n",
       "кафетерий                              52\n",
       "бар                                    37\n",
       "буфет                                  11\n",
       "столовая                                3\n",
       "Name: object_type, dtype: int64"
      ]
     },
     "metadata": {},
     "output_type": "display_data"
    }
   ],
   "source": [
    "chain_cafes = df[df['chain'] == 'да']\n",
    "display(chain_cafes['object_type'].value_counts())"
   ]
  },
  {
   "cell_type": "markdown",
   "metadata": {},
   "source": [
    "Ожидаемо что порядка 90 % всех сетевых заведений это  `кафе`, `предприятия быстрого обслуживания` и и так называемые `рестораны`,  совпадает с моим представлением о крупных сетевых представителях в этом бизнесе."
   ]
  },
  {
   "cell_type": "markdown",
   "metadata": {},
   "source": [
    "## Иследую что характерно для сетевых заведений: много заведений с небольшим числом посадочных мест в каждом или мало заведений с большим количеством посадочных мест?"
   ]
  },
  {
   "cell_type": "code",
   "execution_count": 90,
   "metadata": {},
   "outputs": [
    {
     "data": {
      "image/png": "[encoded data removed]",
      "text/plain": [
       "<Figure size 720x360 with 1 Axes>"
      ]
     },
     "metadata": {
      "needs_background": "light"
     },
     "output_type": "display_data"
    }
   ],
   "source": [
    "chain_cafes['number'].hist(bins=40, figsize = (10,5))\n",
    "plt.title('Распределение сетевого общепита по кол-ву мест')\n",
    "plt.xlabel('Кол-во мест')\n",
    "plt.ylabel('Кол-во точек сетевого общепита')\n",
    "plt.show()"
   ]
  },
  {
   "cell_type": "markdown",
   "metadata": {},
   "source": [
    "На графике видно что для сетевого общепита в основном характерно наличие посадочных мест от 0 до 100, и не смотря на то что пик графика расположен около значения 0, я не могу сказать что это точно характеризует сетевой общепит, "
   ]
  },
  {
   "cell_type": "markdown",
   "metadata": {},
   "source": [
    "## Для каждого вида объекта общественного питания опишу среднее количество посадочных мест. "
   ]
  },
  {
   "cell_type": "code",
   "execution_count": 91,
   "metadata": {},
   "outputs": [
    {
     "data": {
      "image/png": "[encoded data removed]",
      "text/plain": [
       "<Figure size 720x360 with 1 Axes>"
      ]
     },
     "metadata": {
      "needs_background": "light"
     },
     "output_type": "display_data"
    }
   ],
   "source": [
    "numbers = df.groupby('object_type')['number'].mean().round().astype('int64').sort_values(ascending = True).reset_index()\n",
    "\n",
    "numbers.plot.barh(x='object_type', y='number', legend=True, figsize=(10,5))\n",
    "plt.title('Распределение сетевого общепита по среднему кол-ву мест')\n",
    "plt.xlabel('Кол-во мест')\n",
    "plt.show()"
   ]
  },
  {
   "cell_type": "markdown",
   "metadata": {},
   "source": [
    "Как показывает график, среднее количество посадочных мест у закусочных и кулинари и кафетерий близка к 10, а в рестораннах и столовых среднее число превышает 100 посадочных мест.\n",
    "Лидер по количеству точек ощепита *Кафе* в среднем имеет 45 посадочных мест."
   ]
  },
  {
   "cell_type": "markdown",
   "metadata": {},
   "source": [
    "## Выделю в отдельный столбец информацию об улице из столбца address"
   ]
  },
  {
   "cell_type": "code",
   "execution_count": 92,
   "metadata": {},
   "outputs": [
    {
     "data": {
      "text/html": [
       "<div>\n",
       "<style scoped>\n",
       "    .dataframe tbody tr th:only-of-type {\n",
       "        vertical-align: middle;\n",
       "    }\n",
       "\n",
       "    .dataframe tbody tr th {\n",
       "        vertical-align: top;\n",
       "    }\n",
       "\n",
       "    .dataframe thead th {\n",
       "        text-align: right;\n",
       "    }\n",
       "</style>\n",
       "<table border=\"1\" class=\"dataframe\">\n",
       "  <thead>\n",
       "    <tr style=\"text-align: right;\">\n",
       "      <th></th>\n",
       "      <th>id</th>\n",
       "      <th>object_name</th>\n",
       "      <th>chain</th>\n",
       "      <th>object_type</th>\n",
       "      <th>address</th>\n",
       "      <th>number</th>\n",
       "    </tr>\n",
       "  </thead>\n",
       "  <tbody>\n",
       "    <tr>\n",
       "      <td>0</td>\n",
       "      <td>151635</td>\n",
       "      <td>сметана</td>\n",
       "      <td>нет</td>\n",
       "      <td>кафе</td>\n",
       "      <td>город Москва, улица Егора Абакумова, дом 9</td>\n",
       "      <td>48</td>\n",
       "    </tr>\n",
       "    <tr>\n",
       "      <td>1</td>\n",
       "      <td>77874</td>\n",
       "      <td>родник</td>\n",
       "      <td>нет</td>\n",
       "      <td>кафе</td>\n",
       "      <td>город Москва, улица Талалихина, дом 2/1, корпус 1</td>\n",
       "      <td>35</td>\n",
       "    </tr>\n",
       "    <tr>\n",
       "      <td>2</td>\n",
       "      <td>24309</td>\n",
       "      <td>кафе «академия»</td>\n",
       "      <td>нет</td>\n",
       "      <td>кафе</td>\n",
       "      <td>город Москва, Абельмановская улица, дом 6</td>\n",
       "      <td>95</td>\n",
       "    </tr>\n",
       "    <tr>\n",
       "      <td>3</td>\n",
       "      <td>21894</td>\n",
       "      <td>пиццетория</td>\n",
       "      <td>да</td>\n",
       "      <td>кафе</td>\n",
       "      <td>город Москва, Абрамцевская улица, дом 1</td>\n",
       "      <td>40</td>\n",
       "    </tr>\n",
       "    <tr>\n",
       "      <td>4</td>\n",
       "      <td>119365</td>\n",
       "      <td>кафе «вишневая метель»</td>\n",
       "      <td>нет</td>\n",
       "      <td>кафе</td>\n",
       "      <td>город Москва, Абрамцевская улица, дом 9, корпус 1</td>\n",
       "      <td>50</td>\n",
       "    </tr>\n",
       "  </tbody>\n",
       "</table>\n",
       "</div>"
      ],
      "text/plain": [
       "       id             object_name chain object_type  \\\n",
       "0  151635                 сметана   нет        кафе   \n",
       "1   77874                  родник   нет        кафе   \n",
       "2   24309         кафе «академия»   нет        кафе   \n",
       "3   21894              пиццетория    да        кафе   \n",
       "4  119365  кафе «вишневая метель»   нет        кафе   \n",
       "\n",
       "                                             address  number  \n",
       "0         город Москва, улица Егора Абакумова, дом 9      48  \n",
       "1  город Москва, улица Талалихина, дом 2/1, корпус 1      35  \n",
       "2          город Москва, Абельмановская улица, дом 6      95  \n",
       "3            город Москва, Абрамцевская улица, дом 1      40  \n",
       "4  город Москва, Абрамцевская улица, дом 9, корпус 1      50  "
      ]
     },
     "execution_count": 92,
     "metadata": {},
     "output_type": "execute_result"
    }
   ],
   "source": [
    "df.head()"
   ]
  },
  {
   "cell_type": "markdown",
   "metadata": {},
   "source": [
    "Выделю улицу послп первой запятой, методом  *split* и затем удалю пробел который остается перед улицей методом *strip* и за счет лямды добавим в отдельный столбец"
   ]
  },
  {
   "cell_type": "code",
   "execution_count": 93,
   "metadata": {},
   "outputs": [
    {
     "data": {
      "text/plain": [
       "город Зеленоград          232\n",
       "проспект Мира             204\n",
       "Профсоюзная улица         182\n",
       "Ленинградский проспект    171\n",
       "Пресненская набережная    167\n",
       "Варшавское шоссе          161\n",
       "Ленинский проспект        147\n",
       "поселение Сосенское       138\n",
       "проспект Вернадского      132\n",
       "Кутузовский проспект      114\n",
       "Каширское шоссе           112\n",
       "Кировоградская улица      110\n",
       "Ходынский бульвар         102\n",
       "Ленинградское шоссе       100\n",
       "Дмитровское шоссе         100\n",
       "Name: street, dtype: int64"
      ]
     },
     "execution_count": 93,
     "metadata": {},
     "output_type": "execute_result"
    }
   ],
   "source": [
    "df['street'] = df['address'].apply(lambda x: x.split(\",\")[1].strip())\n",
    "\n",
    "df['street'].value_counts().head(15)"
   ]
  },
  {
   "cell_type": "markdown",
   "metadata": {},
   "source": [
    "Вижу что в первые 15 улиц с наибольшим количествоим общепита попали *город Зеленогорск* и *поселение Сосенское*, гляну состоят ли они из одной улицы"
   ]
  },
  {
   "cell_type": "code",
   "execution_count": 94,
   "metadata": {},
   "outputs": [
    {
     "data": {
      "text/plain": [
       "город Москва, город Зеленоград, Крюковская площадь, дом 1            11\n",
       "город Москва, город Зеленоград, площадь Юности, дом 2, строение 1     7\n",
       "город Москва, город Зеленоград, Панфиловский проспект, дом 6А         7\n",
       "Name: address, dtype: int64"
      ]
     },
     "metadata": {},
     "output_type": "display_data"
    },
    {
     "data": {
      "text/plain": [
       "город Москва, поселение Сосенское, Калужское шоссе, 22-й километр, дом 10                              38\n",
       "город Москва, поселение Сосенское, ж/к \"Дубровка\", Сосновая улица, дом 15                               6\n",
       "город Москва, поселение Сосенское, посёлок Коммунарка, улица Александры Монаховой, дом 96, корпус 2     5\n",
       "Name: address, dtype: int64"
      ]
     },
     "metadata": {},
     "output_type": "display_data"
    }
   ],
   "source": [
    "display(df[df['street'] == 'город Зеленоград']['address'].value_counts().head(3))\n",
    "display(df[df['street'] == 'поселение Сосенское']['address'].value_counts().head(3))"
   ]
  },
  {
   "cell_type": "markdown",
   "metadata": {},
   "source": [
    "Выделил в отдельный столбец улицу нахождения общепита и обнаружил что в нее попадают поселки и города входящие в г.Москва, подробнее расмотрел данные города, расмотрел кол-во общепита на улицах этих городов, как показывают данные общепиты в этих городах сосредоточены не на одной улице а распределены по многим улицам."
   ]
  },
  {
   "cell_type": "markdown",
   "metadata": {},
   "source": [
    "## Построю график топ-10 улиц по количеству объектов общественного питания. "
   ]
  },
  {
   "cell_type": "markdown",
   "metadata": {},
   "source": [
    "При формировании топ 10 улиц по кол-ву общепитов, я не буду учитыть за улицы населенные пункты Зеленоград и Сосенское, так как предыдущий анализ дал понять что общепиты в данных населенных пунктах распределены по разным улицам и количество не достаточное для попадания в топ 10. "
   ]
  },
  {
   "cell_type": "code",
   "execution_count": 95,
   "metadata": {},
   "outputs": [
    {
     "data": {
      "text/html": [
       "<div>\n",
       "<style scoped>\n",
       "    .dataframe tbody tr th:only-of-type {\n",
       "        vertical-align: middle;\n",
       "    }\n",
       "\n",
       "    .dataframe tbody tr th {\n",
       "        vertical-align: top;\n",
       "    }\n",
       "\n",
       "    .dataframe thead th {\n",
       "        text-align: right;\n",
       "    }\n",
       "</style>\n",
       "<table border=\"1\" class=\"dataframe\">\n",
       "  <thead>\n",
       "    <tr style=\"text-align: right;\">\n",
       "      <th></th>\n",
       "      <th>street</th>\n",
       "      <th>id</th>\n",
       "    </tr>\n",
       "  </thead>\n",
       "  <tbody>\n",
       "    <tr>\n",
       "      <td>0</td>\n",
       "      <td>проспект Мира</td>\n",
       "      <td>204</td>\n",
       "    </tr>\n",
       "    <tr>\n",
       "      <td>1</td>\n",
       "      <td>Профсоюзная улица</td>\n",
       "      <td>182</td>\n",
       "    </tr>\n",
       "    <tr>\n",
       "      <td>2</td>\n",
       "      <td>Ленинградский проспект</td>\n",
       "      <td>171</td>\n",
       "    </tr>\n",
       "    <tr>\n",
       "      <td>3</td>\n",
       "      <td>Пресненская набережная</td>\n",
       "      <td>167</td>\n",
       "    </tr>\n",
       "    <tr>\n",
       "      <td>4</td>\n",
       "      <td>Варшавское шоссе</td>\n",
       "      <td>161</td>\n",
       "    </tr>\n",
       "    <tr>\n",
       "      <td>5</td>\n",
       "      <td>Ленинский проспект</td>\n",
       "      <td>147</td>\n",
       "    </tr>\n",
       "    <tr>\n",
       "      <td>6</td>\n",
       "      <td>проспект Вернадского</td>\n",
       "      <td>132</td>\n",
       "    </tr>\n",
       "    <tr>\n",
       "      <td>7</td>\n",
       "      <td>Кутузовский проспект</td>\n",
       "      <td>114</td>\n",
       "    </tr>\n",
       "    <tr>\n",
       "      <td>8</td>\n",
       "      <td>Каширское шоссе</td>\n",
       "      <td>112</td>\n",
       "    </tr>\n",
       "    <tr>\n",
       "      <td>9</td>\n",
       "      <td>Кировоградская улица</td>\n",
       "      <td>110</td>\n",
       "    </tr>\n",
       "  </tbody>\n",
       "</table>\n",
       "</div>"
      ],
      "text/plain": [
       "                   street   id\n",
       "0           проспект Мира  204\n",
       "1       Профсоюзная улица  182\n",
       "2  Ленинградский проспект  171\n",
       "3  Пресненская набережная  167\n",
       "4        Варшавское шоссе  161\n",
       "5      Ленинский проспект  147\n",
       "6    проспект Вернадского  132\n",
       "7    Кутузовский проспект  114\n",
       "8         Каширское шоссе  112\n",
       "9    Кировоградская улица  110"
      ]
     },
     "execution_count": 95,
     "metadata": {},
     "output_type": "execute_result"
    }
   ],
   "source": [
    "top_10_street = (\n",
    "    df.groupby('street')['id']\n",
    "    .nunique()\n",
    "    .sort_values(ascending = False)\n",
    "    .drop(['город Зеленоград','поселение Сосенское'],axis = 0)\n",
    "    .iloc[:10]\n",
    "    .reset_index()\n",
    ")\n",
    "\n",
    "top_10_street"
   ]
  },
  {
   "cell_type": "markdown",
   "metadata": {},
   "source": [
    "Воспользуюсь внешней информацией для ответа на вопрос, в каких районах находятся данные улицы"
   ]
  },
  {
   "cell_type": "code",
   "execution_count": 96,
   "metadata": {},
   "outputs": [
    {
     "data": {
      "text/html": [
       "<div>\n",
       "<style scoped>\n",
       "    .dataframe tbody tr th:only-of-type {\n",
       "        vertical-align: middle;\n",
       "    }\n",
       "\n",
       "    .dataframe tbody tr th {\n",
       "        vertical-align: top;\n",
       "    }\n",
       "\n",
       "    .dataframe thead th {\n",
       "        text-align: right;\n",
       "    }\n",
       "</style>\n",
       "<table border=\"1\" class=\"dataframe\">\n",
       "  <thead>\n",
       "    <tr style=\"text-align: right;\">\n",
       "      <th></th>\n",
       "      <th>street</th>\n",
       "      <th>id</th>\n",
       "      <th>streetname</th>\n",
       "      <th>areaid</th>\n",
       "      <th>okrug</th>\n",
       "      <th>area</th>\n",
       "    </tr>\n",
       "  </thead>\n",
       "  <tbody>\n",
       "    <tr>\n",
       "      <td>0</td>\n",
       "      <td>проспект Мира</td>\n",
       "      <td>204</td>\n",
       "      <td>проспект Мира</td>\n",
       "      <td>70</td>\n",
       "      <td>СВАО</td>\n",
       "      <td>Алексеевский район</td>\n",
       "    </tr>\n",
       "    <tr>\n",
       "      <td>1</td>\n",
       "      <td>проспект Мира</td>\n",
       "      <td>204</td>\n",
       "      <td>проспект Мира</td>\n",
       "      <td>86</td>\n",
       "      <td>СВАО</td>\n",
       "      <td>Ярославский Район</td>\n",
       "    </tr>\n",
       "    <tr>\n",
       "      <td>2</td>\n",
       "      <td>проспект Мира</td>\n",
       "      <td>204</td>\n",
       "      <td>проспект Мира</td>\n",
       "      <td>78</td>\n",
       "      <td>СВАО</td>\n",
       "      <td>Район Марьина роща</td>\n",
       "    </tr>\n",
       "    <tr>\n",
       "      <td>3</td>\n",
       "      <td>проспект Мира</td>\n",
       "      <td>204</td>\n",
       "      <td>проспект Мира</td>\n",
       "      <td>79</td>\n",
       "      <td>СВАО</td>\n",
       "      <td>Останкинский район</td>\n",
       "    </tr>\n",
       "    <tr>\n",
       "      <td>4</td>\n",
       "      <td>проспект Мира</td>\n",
       "      <td>204</td>\n",
       "      <td>проспект Мира</td>\n",
       "      <td>81</td>\n",
       "      <td>СВАО</td>\n",
       "      <td>Район Ростокино</td>\n",
       "    </tr>\n",
       "  </tbody>\n",
       "</table>\n",
       "</div>"
      ],
      "text/plain": [
       "          street   id     streetname  areaid okrug                area\n",
       "0  проспект Мира  204  проспект Мира      70  СВАО  Алексеевский район\n",
       "1  проспект Мира  204  проспект Мира      86  СВАО   Ярославский Район\n",
       "2  проспект Мира  204  проспект Мира      78  СВАО  Район Марьина роща\n",
       "3  проспект Мира  204  проспект Мира      79  СВАО  Останкинский район\n",
       "4  проспект Мира  204  проспект Мира      81  СВАО     Район Ростокино"
      ]
     },
     "execution_count": 96,
     "metadata": {},
     "output_type": "execute_result"
    }
   ],
   "source": [
    "districts = pd.read_csv('https://frs.noosphere.ru/xmlui/bitstream/handle/20.500.11925/714058/mosgaz-streets.csv?sequence=1')\n",
    "str_and_areas_merge =pd.merge(top_10_street, districts,  left_on = 'street', right_on = 'streetname' )\n",
    "\n",
    "str_and_areas_merge.head()"
   ]
  },
  {
   "cell_type": "markdown",
   "metadata": {},
   "source": [
    "Сгрупирую данные так что бы в одной строке были все районы в которые попадает каждая из топ-10 улиц по кол-ву общепита, а следом через цикл получу перечень данных районов."
   ]
  },
  {
   "cell_type": "code",
   "execution_count": 97,
   "metadata": {},
   "outputs": [
    {
     "name": "stdout",
     "output_type": "stream",
     "text": [
      "Варшавское шоссе находится в:\n",
      "1 Район Чертаново Центральное\n",
      "2 Район Чертаново Северное\n",
      "3 Район Чертаново Южное\n",
      "4 Донской район\n",
      "5 Район Нагатино-Садовники\n",
      "6 Нагорный район\n",
      "7 Район Северное Бутово\n",
      "8 Район Южное Бутово\n",
      "\n",
      "Каширское шоссе находится в:\n",
      "1 Район Москворечье-Сабурово\n",
      "2 Район Нагатино-Садовники\n",
      "3 Район Орехово-Борисово Южное\n",
      "4 Район Орехово-Борисово Северное\n",
      "\n",
      "Кировоградская улица находится в:\n",
      "1 Район Чертаново Центральное\n",
      "2 Район Чертаново Северное\n",
      "3 Район Чертаново Южное\n",
      "\n",
      "Кутузовский проспект находится в:\n",
      "1 Район Дорогомилово\n",
      "2 Район Фили-Давыдково\n",
      "\n",
      "Ленинградский проспект находится в:\n",
      "1 Район Аэропорт\n",
      "2 Район Беговой\n",
      "3 Хорошевский район\n",
      "4 Район Сокол\n",
      "\n",
      "Ленинский проспект находится в:\n",
      "1 Район Проспект Вернадского\n",
      "2 Район Тропарево-Никулино\n",
      "3 Донской район\n",
      "4 Район Гагаринский\n",
      "5 Ломоносовский район\n",
      "6 Обручевский район\n",
      "7 Район Теплый Стан\n",
      "8 Район Якиманка\n",
      "\n",
      "Пресненская набережная находится в:\n",
      "1 Пресненский район\n",
      "\n",
      "Профсоюзная улица находится в:\n",
      "1 Академический район\n",
      "2 Район Черемушки\n",
      "3 Район Ясенево\n",
      "4 Район Коньково\n",
      "5 Обручевский район\n",
      "6 Район Теплый Стан\n",
      "\n",
      "проспект Вернадского находится в:\n",
      "1 Район Проспект Вернадского\n",
      "2 Район Раменки\n",
      "3 Район Тропарево-Никулино\n",
      "4 Район Гагаринский\n",
      "5 Ломоносовский район\n",
      "\n",
      "проспект Мира находится в:\n",
      "1 Алексеевский район\n",
      "2 Ярославский Район\n",
      "3 Район Марьина роща\n",
      "4 Останкинский район\n",
      "5 Район Ростокино\n",
      "6 Район Свиблово\n",
      "7 Мещанский район\n",
      "\n"
     ]
    }
   ],
   "source": [
    "street_and_areas = (\n",
    "    str_and_areas_merge\n",
    "    .groupby('street')\n",
    "    .agg({'area':'unique'})\n",
    "    .reset_index()\n",
    ")\n",
    "i = 0\n",
    "for street, areas in zip(street_and_areas['street'], street_and_areas['area']):\n",
    "    print(street, 'находится в:')\n",
    "    for area in areas:\n",
    "        i +=1\n",
    "        print(i, area)\n",
    "    i = 0    \n",
    "    print('')   "
   ]
  },
  {
   "cell_type": "markdown",
   "metadata": {},
   "source": [
    "Улицы с большим количеством общепита находятся одновременно наскольких районах, что говорит о их протяженности и размерах, так-же на данных улицах находятся торговые центры."
   ]
  },
  {
   "cell_type": "markdown",
   "metadata": {},
   "source": [
    "## Найду  число улиц с одним объектом общественного питания.  улицы?"
   ]
  },
  {
   "cell_type": "markdown",
   "metadata": {},
   "source": [
    "Для начала создам отдельную таблицу с улицами с одним общепитом, и найду их число"
   ]
  },
  {
   "cell_type": "code",
   "execution_count": 98,
   "metadata": {},
   "outputs": [
    {
     "data": {
      "text/html": [
       "<div>\n",
       "<style scoped>\n",
       "    .dataframe tbody tr th:only-of-type {\n",
       "        vertical-align: middle;\n",
       "    }\n",
       "\n",
       "    .dataframe tbody tr th {\n",
       "        vertical-align: top;\n",
       "    }\n",
       "\n",
       "    .dataframe thead th {\n",
       "        text-align: right;\n",
       "    }\n",
       "</style>\n",
       "<table border=\"1\" class=\"dataframe\">\n",
       "  <thead>\n",
       "    <tr style=\"text-align: right;\">\n",
       "      <th></th>\n",
       "      <th>street</th>\n",
       "      <th>amount</th>\n",
       "    </tr>\n",
       "  </thead>\n",
       "  <tbody>\n",
       "    <tr>\n",
       "      <td>1321</td>\n",
       "      <td>2-я Квесисская улица</td>\n",
       "      <td>1</td>\n",
       "    </tr>\n",
       "    <tr>\n",
       "      <td>1322</td>\n",
       "      <td>Нижний Журавлёв переулок</td>\n",
       "      <td>1</td>\n",
       "    </tr>\n",
       "    <tr>\n",
       "      <td>1323</td>\n",
       "      <td>Жигулёвская улица</td>\n",
       "      <td>1</td>\n",
       "    </tr>\n",
       "    <tr>\n",
       "      <td>1324</td>\n",
       "      <td>Бутиковский переулок</td>\n",
       "      <td>1</td>\n",
       "    </tr>\n",
       "    <tr>\n",
       "      <td>1325</td>\n",
       "      <td>Театральная аллея</td>\n",
       "      <td>1</td>\n",
       "    </tr>\n",
       "  </tbody>\n",
       "</table>\n",
       "</div>"
      ],
      "text/plain": [
       "                        street  amount\n",
       "1321      2-я Квесисская улица       1\n",
       "1322  Нижний Журавлёв переулок       1\n",
       "1323         Жигулёвская улица       1\n",
       "1324      Бутиковский переулок       1\n",
       "1325         Театральная аллея       1"
      ]
     },
     "metadata": {},
     "output_type": "display_data"
    },
    {
     "name": "stdout",
     "output_type": "stream",
     "text": [
      "Количество улиц с одним объектом общественного питания: 579\n"
     ]
    }
   ],
   "source": [
    "streets = df['street'].value_counts().reset_index()\n",
    "streets.columns = ['street', 'amount']\n",
    "alone_street =  streets[streets['amount'] == 1]\n",
    "display(alone_street.head())\n",
    "\n",
    "print('Количество улиц с одним объектом общественного питания:', len(alone_street))"
   ]
  },
  {
   "cell_type": "markdown",
   "metadata": {},
   "source": [
    "Соединю получившуюся таблицу с таблицой с районами, и посмотрю в какие районы они попадают"
   ]
  },
  {
   "cell_type": "code",
   "execution_count": 99,
   "metadata": {},
   "outputs": [
    {
     "data": {
      "text/html": [
       "<div>\n",
       "<style scoped>\n",
       "    .dataframe tbody tr th:only-of-type {\n",
       "        vertical-align: middle;\n",
       "    }\n",
       "\n",
       "    .dataframe tbody tr th {\n",
       "        vertical-align: top;\n",
       "    }\n",
       "\n",
       "    .dataframe thead th {\n",
       "        text-align: right;\n",
       "    }\n",
       "</style>\n",
       "<table border=\"1\" class=\"dataframe\">\n",
       "  <thead>\n",
       "    <tr style=\"text-align: right;\">\n",
       "      <th></th>\n",
       "      <th>street</th>\n",
       "      <th>amount</th>\n",
       "      <th>streetname</th>\n",
       "      <th>areaid</th>\n",
       "      <th>okrug</th>\n",
       "      <th>area</th>\n",
       "    </tr>\n",
       "  </thead>\n",
       "  <tbody>\n",
       "    <tr>\n",
       "      <td>0</td>\n",
       "      <td>2-я Квесисская улица</td>\n",
       "      <td>1</td>\n",
       "      <td>2-я Квесисская улица</td>\n",
       "      <td>65</td>\n",
       "      <td>САО</td>\n",
       "      <td>Савеловский район</td>\n",
       "    </tr>\n",
       "    <tr>\n",
       "      <td>1</td>\n",
       "      <td>Нижний Журавлёв переулок</td>\n",
       "      <td>1</td>\n",
       "      <td>Нижний Журавлёв переулок</td>\n",
       "      <td>34</td>\n",
       "      <td>ВАО</td>\n",
       "      <td>Район Преображенское</td>\n",
       "    </tr>\n",
       "    <tr>\n",
       "      <td>2</td>\n",
       "      <td>Нижний Журавлёв переулок</td>\n",
       "      <td>1</td>\n",
       "      <td>Нижний Журавлёв переулок</td>\n",
       "      <td>36</td>\n",
       "      <td>ВАО</td>\n",
       "      <td>Район Соколиная Гора</td>\n",
       "    </tr>\n",
       "    <tr>\n",
       "      <td>3</td>\n",
       "      <td>Жигулёвская улица</td>\n",
       "      <td>1</td>\n",
       "      <td>Жигулёвская улица</td>\n",
       "      <td>113</td>\n",
       "      <td>ЮВАО</td>\n",
       "      <td>Район Кузьминки</td>\n",
       "    </tr>\n",
       "    <tr>\n",
       "      <td>4</td>\n",
       "      <td>Бутиковский переулок</td>\n",
       "      <td>1</td>\n",
       "      <td>Бутиковский переулок</td>\n",
       "      <td>20</td>\n",
       "      <td>ЦАО</td>\n",
       "      <td>Район Хамовники</td>\n",
       "    </tr>\n",
       "  </tbody>\n",
       "</table>\n",
       "</div>"
      ],
      "text/plain": [
       "                     street  amount                streetname  areaid okrug  \\\n",
       "0      2-я Квесисская улица       1      2-я Квесисская улица      65   САО   \n",
       "1  Нижний Журавлёв переулок       1  Нижний Журавлёв переулок      34   ВАО   \n",
       "2  Нижний Журавлёв переулок       1  Нижний Журавлёв переулок      36   ВАО   \n",
       "3         Жигулёвская улица       1         Жигулёвская улица     113  ЮВАО   \n",
       "4      Бутиковский переулок       1      Бутиковский переулок      20   ЦАО   \n",
       "\n",
       "                   area  \n",
       "0     Савеловский район  \n",
       "1  Район Преображенское  \n",
       "2  Район Соколиная Гора  \n",
       "3       Район Кузьминки  \n",
       "4       Район Хамовники  "
      ]
     },
     "execution_count": 99,
     "metadata": {},
     "output_type": "execute_result"
    }
   ],
   "source": [
    "str_and_areas_1 = pd.merge(alone_street, districts,  right_on = 'streetname', left_on = 'street' )\n",
    "str_and_areas_1.head()"
   ]
  },
  {
   "cell_type": "markdown",
   "metadata": {},
   "source": [
    "Гляну, есть ли улицы которые находятся одновременно в нескольких районах"
   ]
  },
  {
   "cell_type": "code",
   "execution_count": 100,
   "metadata": {},
   "outputs": [
    {
     "name": "stdout",
     "output_type": "stream",
     "text": [
      "                       area\n",
      "street                     \n",
      "11-я Парковая улица       3\n",
      "Нарвская улица            3\n",
      "улица Достоевского        3\n",
      "Хавская улица             3\n",
      "площадь Журавлёва         2\n",
      "Малая Тульская улица      2\n",
      "улица Павла Андреева      2\n",
      "улица Богородский Вал     2\n",
      "Денежный переулок         2\n",
      "Балтийская улица          2\n"
     ]
    }
   ],
   "source": [
    "print(str_and_areas_1.groupby('street').agg({'area':'nunique'}).sort_values('area', ascending = False).head(10))"
   ]
  },
  {
   "cell_type": "markdown",
   "metadata": {},
   "source": [
    "такие улице имеются, но максимальное кол-во районов в котором расположена улиц равно 3, что наводит на предположения что данные улицы короткие или расположены в совсем новых районах Москвы.\n",
    "\n",
    "Гляну в каких районах расположены данные улицы"
   ]
  },
  {
   "cell_type": "code",
   "execution_count": 101,
   "metadata": {},
   "outputs": [
    {
     "name": "stdout",
     "output_type": "stream",
     "text": [
      "                      street\n",
      "area                        \n",
      "Таганский район           27\n",
      "Район Хамовники           26\n",
      "Басманный район           25\n",
      "Тверской район            20\n",
      "Пресненский район         19\n",
      "Район Марьина роща        18\n",
      "Район Арбат               17\n",
      "Мещанский район           16\n",
      "Район Сокольники          15\n",
      "Район Замоскворечье       14\n",
      "Район Лефортово           12\n",
      "Даниловский район         12\n",
      "Район Соколиная Гора      12\n",
      "Район Якиманка            11\n",
      "Красносельский район      10\n"
     ]
    }
   ],
   "source": [
    "print(str_and_areas_1.groupby('area').agg({'street':'nunique'}).sort_values('street', ascending = False).head(15))"
   ]
  },
  {
   "cell_type": "markdown",
   "metadata": {},
   "source": [
    "Получил улицы с одним общепитом, и в каких районах они располагаются, в процесе анализа сделал вывод что причина столь малого кол-ва общепита на этих улицах это маленькие размеры и молодой возвраст улиц."
   ]
  },
  {
   "cell_type": "markdown",
   "metadata": {},
   "source": [
    "## Посмотрю на распределение количества посадочных мест для улиц с большим количеством объектов общественного питания. "
   ]
  },
  {
   "cell_type": "markdown",
   "metadata": {},
   "source": [
    "Для начала отфильтрую основные данные по улицам из топ-10, и вспоминая предыдущий этап анализа отфильтрую  данные от выбросов"
   ]
  },
  {
   "cell_type": "code",
   "execution_count": 103,
   "metadata": {},
   "outputs": [],
   "source": [
    "top_10_list = top_10_street['street'].to_list()\n",
    "last_task = df.query('street == @top_10_list and number < 300')"
   ]
  },
  {
   "cell_type": "markdown",
   "metadata": {},
   "source": [
    "Воспользуюсь библиотекой seaborn, построю распределение кол-ва посадочных мест в общепитах на улицах из топ-10"
   ]
  },
  {
   "cell_type": "code",
   "execution_count": 104,
   "metadata": {},
   "outputs": [
    {
     "data": {
      "image/png": "[encoded data removed]",
      "text/plain": [
       "<Figure size 936x648 with 1 Axes>"
      ]
     },
     "metadata": {
      "needs_background": "light"
     },
     "output_type": "display_data"
    }
   ],
   "source": [
    "plt.figure(figsize=(13, 9))\n",
    "plt.title('Распределение объектов общесвенного питания по кол-ву посадочных мест на улицах из ТОП10')\n",
    "plt.xticks(rotation=20)\n",
    "sns.stripplot(y='number', x='street', data=last_task, size = 4, jitter=0.15, color = '0.1')\n",
    "sns.boxplot(y='number', x='street', data=last_task, whis=np.inf, palette=\"Set1\")\n",
    "plt.ylabel('Кол-во посадочных мест в общепитах')\n",
    "plt.xlabel('Улица')\n",
    "plt.show()"
   ]
  },
  {
   "cell_type": "markdown",
   "metadata": {},
   "source": [
    "Медианы кол-ва посадочных мест в сравнении между улицами схожи, и находятся в диапазоне от 25 до 50 мест, а вот плотность распределения различаются от улицы к улице, но все же можно отметить что на большенсве улиц преобладают общепиты с кол-вом посадочных мест в среднем от 10 до 100."
   ]
  },
  {
   "cell_type": "markdown",
   "metadata": {},
   "source": [
    "# Вывод"
   ]
  },
  {
   "cell_type": "markdown",
   "metadata": {},
   "source": [
    "Я провел анализ обьектов общественного питания по Москве и могу сделать следующие выводы:\n",
    "- около 40% обьектов общественного питания в Москве это кафе.\n",
    "- 81 % общепита не относится к сетевых заведениям\n",
    "- большая часть заведений в Москве имеет кол-во посадочных мест от 0 до 100, среднее количество для Москвы это от 25 до 50 мест, в зависимости от типа заведения, в кафе например среднее кол-во посадочных мест около 40.\n",
    "- улицы с наибольшим кол-вом заведений это протяженные проспекты и шоссе с наличием торговых центров и галерей, расположеные в центральной части и пересекающие несколько районов Москвы.\n",
    "- наименьшее кол-во заведений общепита на коротких маленьких улечках или на новых улицах новых районов.\n",
    "\n",
    "Могу дать рекомендации на окрытии кафе, с небольшим кол-вом посадочных мест и расположенном в одном из крупнейших торговых центров Москвы или рядом с ним.\n"
   ]
  },
  {
   "cell_type": "markdown",
   "metadata": {},
   "source": [
    "Презентация:https://disk.yandex.ru/i/ZonUlmQd4LZwtA"
   ]
  }
 ],
 "metadata": {
  "ExecuteTimeLog": [
   {
    "duration": 1548,
    "start_time": "2021-12-11T21:33:55.323Z"
   },
   {
    "duration": 88,
    "start_time": "2021-12-11T21:33:56.877Z"
   },
   {
    "duration": 13,
    "start_time": "2021-12-11T21:33:56.968Z"
   },
   {
    "duration": 43,
    "start_time": "2021-12-11T21:33:56.984Z"
   },
   {
    "duration": 6,
    "start_time": "2021-12-11T21:33:57.029Z"
   },
   {
    "duration": 18,
    "start_time": "2021-12-11T21:33:57.037Z"
   },
   {
    "duration": 15,
    "start_time": "2021-12-11T21:33:57.057Z"
   },
   {
    "duration": 52,
    "start_time": "2021-12-11T21:33:57.075Z"
   },
   {
    "duration": 212283,
    "start_time": "2021-12-11T21:33:57.131Z"
   },
   {
    "duration": 428034,
    "start_time": "2021-12-11T21:37:29.417Z"
   },
   {
    "duration": 180,
    "start_time": "2021-12-11T21:44:37.454Z"
   },
   {
    "duration": 10,
    "start_time": "2021-12-11T21:44:37.637Z"
   },
   {
    "duration": 434,
    "start_time": "2021-12-11T21:44:37.649Z"
   },
   {
    "duration": 384,
    "start_time": "2021-12-11T21:44:38.086Z"
   },
   {
    "duration": 13,
    "start_time": "2021-12-11T21:44:38.472Z"
   },
   {
    "duration": 48,
    "start_time": "2021-12-11T21:44:38.487Z"
   },
   {
    "duration": 19,
    "start_time": "2021-12-11T21:44:38.537Z"
   },
   {
    "duration": 22,
    "start_time": "2021-12-11T21:44:38.559Z"
   },
   {
    "duration": 560,
    "start_time": "2021-12-11T21:44:38.584Z"
   },
   {
    "duration": 24,
    "start_time": "2021-12-11T21:44:39.146Z"
   },
   {
    "duration": 52,
    "start_time": "2021-12-11T21:44:39.172Z"
   },
   {
    "duration": 17,
    "start_time": "2021-12-11T21:44:39.226Z"
   },
   {
    "duration": 10,
    "start_time": "2021-12-11T21:44:39.245Z"
   },
   {
    "duration": 17,
    "start_time": "2021-12-11T21:44:39.258Z"
   },
   {
    "duration": 13,
    "start_time": "2021-12-11T21:44:39.277Z"
   },
   {
    "duration": 1060,
    "start_time": "2021-12-11T21:44:39.292Z"
   },
   {
    "duration": 1485,
    "start_time": "2021-12-12T14:15:24.306Z"
   },
   {
    "duration": 83,
    "start_time": "2021-12-12T14:15:25.812Z"
   },
   {
    "duration": 15,
    "start_time": "2021-12-12T14:15:29.083Z"
   },
   {
    "duration": 27,
    "start_time": "2021-12-12T14:15:31.502Z"
   },
   {
    "duration": 8,
    "start_time": "2021-12-12T14:15:33.787Z"
   },
   {
    "duration": 19,
    "start_time": "2021-12-12T14:15:35.500Z"
   },
   {
    "duration": 19,
    "start_time": "2021-12-12T14:15:38.177Z"
   },
   {
    "duration": 9,
    "start_time": "2021-12-12T14:15:40.748Z"
   },
   {
    "duration": 874,
    "start_time": "2021-12-12T14:15:43.416Z"
   },
   {
    "duration": 905,
    "start_time": "2021-12-12T14:15:55.554Z"
   },
   {
    "duration": 18,
    "start_time": "2021-12-12T14:17:37.023Z"
   },
   {
    "duration": 17,
    "start_time": "2021-12-12T14:19:50.388Z"
   },
   {
    "duration": 674,
    "start_time": "2021-12-12T14:21:44.775Z"
   },
   {
    "duration": 28,
    "start_time": "2021-12-12T14:22:13.336Z"
   },
   {
    "duration": 45,
    "start_time": "2021-12-12T14:22:34.617Z"
   },
   {
    "duration": 46,
    "start_time": "2021-12-12T14:22:45.655Z"
   },
   {
    "duration": 466,
    "start_time": "2021-12-12T14:22:54.555Z"
   },
   {
    "duration": 34,
    "start_time": "2021-12-12T14:25:24.930Z"
   },
   {
    "duration": 438,
    "start_time": "2021-12-12T14:25:41.263Z"
   },
   {
    "duration": 35,
    "start_time": "2021-12-12T14:28:00.712Z"
   },
   {
    "duration": 125,
    "start_time": "2021-12-12T14:30:27.145Z"
   },
   {
    "duration": 42,
    "start_time": "2021-12-12T14:30:30.412Z"
   },
   {
    "duration": 50,
    "start_time": "2021-12-12T14:30:38.975Z"
   },
   {
    "duration": 279,
    "start_time": "2021-12-12T14:31:13.922Z"
   },
   {
    "duration": 40,
    "start_time": "2021-12-12T14:31:26.624Z"
   },
   {
    "duration": 40,
    "start_time": "2021-12-12T14:32:00.192Z"
   },
   {
    "duration": 4,
    "start_time": "2021-12-12T14:32:20.352Z"
   },
   {
    "duration": 74,
    "start_time": "2021-12-12T14:32:21.926Z"
   },
   {
    "duration": 14,
    "start_time": "2021-12-12T14:32:27.563Z"
   },
   {
    "duration": 14,
    "start_time": "2021-12-12T14:32:27.783Z"
   },
   {
    "duration": 28,
    "start_time": "2021-12-12T14:32:30.713Z"
   },
   {
    "duration": 8,
    "start_time": "2021-12-12T14:32:32.741Z"
   },
   {
    "duration": 21,
    "start_time": "2021-12-12T14:32:34.994Z"
   },
   {
    "duration": 19,
    "start_time": "2021-12-12T14:32:37.248Z"
   },
   {
    "duration": 11,
    "start_time": "2021-12-12T14:32:40.174Z"
   },
   {
    "duration": 942,
    "start_time": "2021-12-12T14:32:42.437Z"
   },
   {
    "duration": 38,
    "start_time": "2021-12-12T14:32:49.185Z"
   },
   {
    "duration": 174,
    "start_time": "2021-12-12T14:33:11.518Z"
   },
   {
    "duration": 34,
    "start_time": "2021-12-12T14:33:12.728Z"
   },
   {
    "duration": 26,
    "start_time": "2021-12-12T14:38:05.594Z"
   },
   {
    "duration": 26,
    "start_time": "2021-12-12T14:38:19.448Z"
   },
   {
    "duration": 24,
    "start_time": "2021-12-12T14:38:52.343Z"
   },
   {
    "duration": 18,
    "start_time": "2021-12-12T14:39:17.572Z"
   },
   {
    "duration": 24,
    "start_time": "2021-12-12T14:39:22.415Z"
   },
   {
    "duration": 944,
    "start_time": "2021-12-12T14:41:18.887Z"
   },
   {
    "duration": 25,
    "start_time": "2021-12-12T14:41:31.501Z"
   },
   {
    "duration": 4,
    "start_time": "2021-12-12T14:42:41.339Z"
   },
   {
    "duration": 87,
    "start_time": "2021-12-12T14:42:42.806Z"
   },
   {
    "duration": 15,
    "start_time": "2021-12-12T14:42:45.281Z"
   },
   {
    "duration": 56,
    "start_time": "2021-12-12T14:42:51.139Z"
   },
   {
    "duration": 30,
    "start_time": "2021-12-12T14:43:50.500Z"
   },
   {
    "duration": 21,
    "start_time": "2021-12-12T14:44:17.196Z"
   },
   {
    "duration": 384,
    "start_time": "2021-12-12T14:44:26.659Z"
   },
   {
    "duration": 33,
    "start_time": "2021-12-12T14:44:52.117Z"
   },
   {
    "duration": 27,
    "start_time": "2021-12-12T14:45:12.052Z"
   },
   {
    "duration": 33,
    "start_time": "2021-12-12T14:45:31.089Z"
   },
   {
    "duration": 33,
    "start_time": "2021-12-12T14:47:56.169Z"
   },
   {
    "duration": 1709,
    "start_time": "2021-12-12T14:52:16.251Z"
   },
   {
    "duration": 106,
    "start_time": "2021-12-12T14:52:17.858Z"
   },
   {
    "duration": 108,
    "start_time": "2021-12-12T14:52:17.862Z"
   },
   {
    "duration": 108,
    "start_time": "2021-12-12T14:52:17.865Z"
   },
   {
    "duration": 4,
    "start_time": "2021-12-12T14:52:25.721Z"
   },
   {
    "duration": 70,
    "start_time": "2021-12-12T14:52:27.522Z"
   },
   {
    "duration": 16,
    "start_time": "2021-12-12T14:52:30.797Z"
   },
   {
    "duration": 36,
    "start_time": "2021-12-12T14:52:38.562Z"
   },
   {
    "duration": 30,
    "start_time": "2021-12-12T14:52:41.388Z"
   },
   {
    "duration": 456598,
    "start_time": "2021-12-12T15:00:12.501Z"
   },
   {
    "duration": 1039,
    "start_time": "2022-03-03T11:21:35.546Z"
   },
   {
    "duration": 55,
    "start_time": "2022-03-03T11:21:37.247Z"
   },
   {
    "duration": 10,
    "start_time": "2022-03-03T11:21:40.513Z"
   },
   {
    "duration": 20,
    "start_time": "2022-03-03T11:21:41.924Z"
   },
   {
    "duration": 6,
    "start_time": "2022-03-03T11:21:43.340Z"
   },
   {
    "duration": 15,
    "start_time": "2022-03-03T11:21:44.764Z"
   },
   {
    "duration": 13,
    "start_time": "2022-03-03T11:21:47.488Z"
   },
   {
    "duration": 7,
    "start_time": "2022-03-03T11:21:50.087Z"
   },
   {
    "duration": 510,
    "start_time": "2022-03-03T11:21:51.870Z"
   },
   {
    "duration": 22,
    "start_time": "2022-03-03T11:21:54.880Z"
   },
   {
    "duration": 20,
    "start_time": "2022-03-03T11:21:57.510Z"
   },
   {
    "duration": 146092,
    "start_time": "2022-03-03T11:22:34.332Z"
   },
   {
    "duration": -492,
    "start_time": "2022-03-03T11:25:00.918Z"
   },
   {
    "duration": -493,
    "start_time": "2022-03-03T11:25:00.920Z"
   },
   {
    "duration": 3,
    "start_time": "2022-03-03T11:25:16.862Z"
   },
   {
    "duration": 50,
    "start_time": "2022-03-03T11:25:18.289Z"
   },
   {
    "duration": 10,
    "start_time": "2022-03-03T11:25:21.308Z"
   },
   {
    "duration": 20,
    "start_time": "2022-03-03T11:25:23.041Z"
   },
   {
    "duration": 7,
    "start_time": "2022-03-03T11:25:25.022Z"
   },
   {
    "duration": 14,
    "start_time": "2022-03-03T11:25:26.752Z"
   },
   {
    "duration": 13,
    "start_time": "2022-03-03T11:25:28.889Z"
   },
   {
    "duration": 7,
    "start_time": "2022-03-03T11:25:31.218Z"
   },
   {
    "duration": 646,
    "start_time": "2022-03-03T11:25:33.048Z"
   },
   {
    "duration": 22,
    "start_time": "2022-03-03T11:25:38.994Z"
   },
   {
    "duration": 21,
    "start_time": "2022-03-03T11:25:41.178Z"
   },
   {
    "duration": 21,
    "start_time": "2022-03-03T11:26:23.058Z"
   },
   {
    "duration": 1015,
    "start_time": "2022-03-03T11:27:43.370Z"
   },
   {
    "duration": 61,
    "start_time": "2022-03-03T11:27:45.705Z"
   },
   {
    "duration": 11,
    "start_time": "2022-03-03T11:27:48.410Z"
   },
   {
    "duration": 19,
    "start_time": "2022-03-03T11:27:51.400Z"
   },
   {
    "duration": 6,
    "start_time": "2022-03-03T11:27:52.831Z"
   },
   {
    "duration": 15,
    "start_time": "2022-03-03T11:27:54.370Z"
   },
   {
    "duration": 15,
    "start_time": "2022-03-03T11:27:56.562Z"
   },
   {
    "duration": 6,
    "start_time": "2022-03-03T11:27:59.008Z"
   },
   {
    "duration": 518,
    "start_time": "2022-03-03T11:28:00.894Z"
   },
   {
    "duration": 515,
    "start_time": "2022-03-03T11:28:04.119Z"
   },
   {
    "duration": 218,
    "start_time": "2022-03-03T11:28:08.113Z"
   },
   {
    "duration": 3,
    "start_time": "2022-03-03T11:28:42.001Z"
   },
   {
    "duration": 50,
    "start_time": "2022-03-03T11:28:44.416Z"
   },
   {
    "duration": 11,
    "start_time": "2022-03-03T11:28:48.232Z"
   },
   {
    "duration": 21,
    "start_time": "2022-03-03T11:28:50.449Z"
   },
   {
    "duration": 6,
    "start_time": "2022-03-03T11:28:52.503Z"
   },
   {
    "duration": 14,
    "start_time": "2022-03-03T11:28:54.549Z"
   },
   {
    "duration": 13,
    "start_time": "2022-03-03T11:28:57.009Z"
   },
   {
    "duration": 7,
    "start_time": "2022-03-03T11:28:59.260Z"
   },
   {
    "duration": 565,
    "start_time": "2022-03-03T11:29:01.773Z"
   },
   {
    "duration": 22,
    "start_time": "2022-03-03T11:29:05.351Z"
   },
   {
    "duration": 21,
    "start_time": "2022-03-03T11:29:08.414Z"
   },
   {
    "duration": 31364,
    "start_time": "2022-03-03T11:29:12.348Z"
   },
   {
    "duration": -503,
    "start_time": "2022-03-03T11:29:44.218Z"
   },
   {
    "duration": 3,
    "start_time": "2022-03-03T11:29:45.569Z"
   },
   {
    "duration": 51,
    "start_time": "2022-03-03T11:29:47.127Z"
   },
   {
    "duration": 11,
    "start_time": "2022-03-03T11:29:49.704Z"
   },
   {
    "duration": 21,
    "start_time": "2022-03-03T11:29:52.437Z"
   },
   {
    "duration": 7,
    "start_time": "2022-03-03T11:29:54.198Z"
   },
   {
    "duration": 14,
    "start_time": "2022-03-03T11:29:56.097Z"
   },
   {
    "duration": 14,
    "start_time": "2022-03-03T11:29:58.396Z"
   },
   {
    "duration": 7,
    "start_time": "2022-03-03T11:30:00.775Z"
   },
   {
    "duration": 554,
    "start_time": "2022-03-03T11:30:02.779Z"
   },
   {
    "duration": 22,
    "start_time": "2022-03-03T11:30:06.728Z"
   },
   {
    "duration": 21,
    "start_time": "2022-03-03T11:30:09.089Z"
   },
   {
    "duration": 38323,
    "start_time": "2022-03-03T11:30:12.593Z"
   },
   {
    "duration": 3,
    "start_time": "2022-03-03T11:30:54.808Z"
   },
   {
    "duration": 48,
    "start_time": "2022-03-03T11:30:56.452Z"
   },
   {
    "duration": 11,
    "start_time": "2022-03-03T11:31:00.568Z"
   },
   {
    "duration": 24,
    "start_time": "2022-03-03T11:31:02.355Z"
   },
   {
    "duration": 5,
    "start_time": "2022-03-03T11:31:04.403Z"
   },
   {
    "duration": 15,
    "start_time": "2022-03-03T11:31:06.437Z"
   },
   {
    "duration": 18,
    "start_time": "2022-03-03T11:31:08.995Z"
   },
   {
    "duration": 7,
    "start_time": "2022-03-03T11:31:11.551Z"
   },
   {
    "duration": 516,
    "start_time": "2022-03-03T11:31:13.799Z"
   },
   {
    "duration": 25,
    "start_time": "2022-03-03T11:31:17.096Z"
   },
   {
    "duration": 25,
    "start_time": "2022-03-03T11:31:19.694Z"
   },
   {
    "duration": 145,
    "start_time": "2022-03-03T11:31:40.148Z"
   },
   {
    "duration": 157,
    "start_time": "2022-03-03T11:31:47.777Z"
   },
   {
    "duration": 76,
    "start_time": "2022-03-03T11:32:04.601Z"
   },
   {
    "duration": 8,
    "start_time": "2022-03-03T11:32:08.762Z"
   },
   {
    "duration": 7,
    "start_time": "2022-03-03T11:32:52.032Z"
   },
   {
    "duration": 11,
    "start_time": "2022-03-03T11:33:00.366Z"
   },
   {
    "duration": 407,
    "start_time": "2022-03-03T11:33:02.741Z"
   },
   {
    "duration": 212,
    "start_time": "2022-03-03T11:33:14.303Z"
   },
   {
    "duration": 9,
    "start_time": "2022-03-03T11:33:34.753Z"
   },
   {
    "duration": 22,
    "start_time": "2022-03-03T11:33:36.562Z"
   },
   {
    "duration": 15,
    "start_time": "2022-03-03T11:33:52.992Z"
   },
   {
    "duration": 132,
    "start_time": "2022-03-03T11:33:55.443Z"
   },
   {
    "duration": 13,
    "start_time": "2022-03-03T11:34:32.972Z"
   },
   {
    "duration": 246,
    "start_time": "2022-03-03T11:36:03.138Z"
   },
   {
    "duration": 19,
    "start_time": "2022-03-03T11:36:25.982Z"
   },
   {
    "duration": 250,
    "start_time": "2022-03-03T11:36:51.332Z"
   },
   {
    "duration": 183,
    "start_time": "2022-03-03T11:38:21.452Z"
   },
   {
    "duration": 319,
    "start_time": "2022-03-03T11:38:46.041Z"
   },
   {
    "duration": 223,
    "start_time": "2022-03-03T11:38:54.491Z"
   },
   {
    "duration": 187,
    "start_time": "2022-03-03T11:39:03.864Z"
   },
   {
    "duration": 2,
    "start_time": "2022-03-03T11:39:56.057Z"
   },
   {
    "duration": 46,
    "start_time": "2022-03-03T11:39:57.880Z"
   },
   {
    "duration": 12,
    "start_time": "2022-03-03T11:40:02.053Z"
   },
   {
    "duration": 19,
    "start_time": "2022-03-03T11:40:04.261Z"
   },
   {
    "duration": 7,
    "start_time": "2022-03-03T11:40:06.289Z"
   },
   {
    "duration": 14,
    "start_time": "2022-03-03T11:40:08.748Z"
   },
   {
    "duration": 14,
    "start_time": "2022-03-03T11:40:10.901Z"
   },
   {
    "duration": 7,
    "start_time": "2022-03-03T11:40:13.578Z"
   },
   {
    "duration": 2593,
    "start_time": "2022-03-03T11:40:15.410Z"
   },
   {
    "duration": 22,
    "start_time": "2022-03-03T11:40:20.213Z"
   },
   {
    "duration": 20,
    "start_time": "2022-03-03T11:40:22.567Z"
   },
   {
    "duration": 3,
    "start_time": "2022-03-03T11:41:18.475Z"
   },
   {
    "duration": 49,
    "start_time": "2022-03-03T11:41:19.857Z"
   },
   {
    "duration": 11,
    "start_time": "2022-03-03T11:41:23.239Z"
   },
   {
    "duration": 20,
    "start_time": "2022-03-03T11:41:24.894Z"
   },
   {
    "duration": 7,
    "start_time": "2022-03-03T11:41:27.607Z"
   },
   {
    "duration": 16,
    "start_time": "2022-03-03T11:41:29.656Z"
   },
   {
    "duration": 14,
    "start_time": "2022-03-03T11:41:31.974Z"
   },
   {
    "duration": 7,
    "start_time": "2022-03-03T11:41:34.045Z"
   },
   {
    "duration": 503,
    "start_time": "2022-03-03T11:41:35.943Z"
   },
   {
    "duration": 6,
    "start_time": "2022-03-03T11:41:50.867Z"
   },
   {
    "duration": 79,
    "start_time": "2022-03-03T11:41:52.434Z"
   },
   {
    "duration": 9,
    "start_time": "2022-03-03T11:41:54.772Z"
   },
   {
    "duration": 250,
    "start_time": "2022-03-03T11:41:56.970Z"
   },
   {
    "duration": 220,
    "start_time": "2022-03-03T11:41:59.171Z"
   },
   {
    "duration": 9,
    "start_time": "2022-03-03T11:42:03.443Z"
   },
   {
    "duration": 19,
    "start_time": "2022-03-03T11:42:05.345Z"
   },
   {
    "duration": 15,
    "start_time": "2022-03-03T11:42:08.756Z"
   },
   {
    "duration": 17,
    "start_time": "2022-03-03T11:42:28.875Z"
   },
   {
    "duration": 322,
    "start_time": "2022-03-03T11:42:34.973Z"
   },
   {
    "duration": 22,
    "start_time": "2022-03-03T11:42:40.118Z"
   },
   {
    "duration": 14,
    "start_time": "2022-03-03T11:42:46.939Z"
   },
   {
    "duration": 12,
    "start_time": "2022-03-03T11:42:50.227Z"
   },
   {
    "duration": 9,
    "start_time": "2022-03-03T11:42:51.995Z"
   },
   {
    "duration": 7,
    "start_time": "2022-03-03T11:42:55.407Z"
   },
   {
    "duration": 9,
    "start_time": "2022-03-03T11:42:58.966Z"
   },
   {
    "duration": 8,
    "start_time": "2022-03-03T11:51:09.939Z"
   },
   {
    "duration": 570,
    "start_time": "2022-03-03T11:51:11.471Z"
   }
  ],
  "kernelspec": {
   "display_name": "Python 3",
   "language": "python",
   "name": "python3"
  },
  "language_info": {
   "codemirror_mode": {
    "name": "ipython",
    "version": 3
   },
   "file_extension": ".py",
   "mimetype": "text/x-python",
   "name": "python",
   "nbconvert_exporter": "python",
   "pygments_lexer": "ipython3",
   "version": "3.7.8"
  },
  "toc": {
   "base_numbering": 1,
   "nav_menu": {},
   "number_sections": true,
   "sideBar": true,
   "skip_h1_title": false,
   "title_cell": "Table of Contents",
   "title_sidebar": "Contents",
   "toc_cell": false,
   "toc_position": {},
   "toc_section_display": true,
   "toc_window_display": false
  }
 },
 "nbformat": 4,
 "nbformat_minor": 5
}
