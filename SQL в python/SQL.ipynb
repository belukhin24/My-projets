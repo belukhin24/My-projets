{
 "cells": [
  {
   "cell_type": "markdown",
   "metadata": {},
   "source": [
    "# SQL"
   ]
  },
  {
   "cell_type": "markdown",
   "metadata": {},
   "source": [
    "Наша команда купила крупный сервис для чтения книг по подписке.\n",
    "\n",
    "Моя первая задача как аналитика — проанализировать базу данных.\n",
    "\n",
    "В ней — информация о книгах, издательствах, авторах, а также пользовательские обзоры книг. Эти данные помогут сформулировать ценностное предложение для нового продукта.\n",
    "\n",
    "**Задания**\n",
    "\n",
    "- Посчитать, сколько книг вышло после 1 января 2000 года;\n",
    "- Для каждой книги посчитать количество обзоров и среднюю оценку;\n",
    "- Определить издательство, которое выпустило наибольшее число книг толще 50 страниц — так вы исключите из анализа брошюры;\n",
    "- Определить автора с самой высокой средней оценкой книг — неоходимо учитывать только книги с 50 и более оценками;\n",
    "- Посчитайть среднее количество обзоров от пользователей, которые поставили больше 50 оценок.\n",
    "\n",
    "**Описание данных**\n",
    "\n",
    "**Таблица `books`**\n",
    "\n",
    "Содержит данные о книгах:\n",
    "\n",
    "- `book_id` — идентификатор книги;\n",
    "- `author_id` — идентификатор автора;\n",
    "- `title` — название книги;\n",
    "- `num_pages` — количество страниц;\n",
    "- `publication_date` — дата публикации книги;\n",
    "- `publisher_id` — идентификатор издателя.\n",
    "\n",
    "**Таблица `authors`**\n",
    "\n",
    "Содержит данные об авторах:\n",
    "\n",
    "- `author_id` — идентификатор автора;\n",
    "- `author` — имя автора.\n",
    "\n",
    "**Таблица `publishers`**\n",
    "\n",
    "Содержит данные об издательствах:\n",
    "\n",
    "- `publisher_id` — идентификатор издательства;\n",
    "- `publisher` — название издательства;\n",
    "\n",
    "**Таблица `ratings`**\n",
    "\n",
    "Содержит данные о пользовательских оценках книг:\n",
    "\n",
    "- `rating_id` — идентификатор оценки;\n",
    "- `book_id` — идентификатор книги;\n",
    "- `username` — имя пользователя, оставившего оценку;\n",
    "- `rating` — оценка книги.\n",
    "\n",
    "**Таблица `reviews`**\n",
    "\n",
    "Содержит данные о пользовательских обзорах на книги:\n",
    "\n",
    "- `review_id` — идентификатор обзора;\n",
    "- `book_id` — идентификатор книги;\n",
    "- `username` — имя пользователя, написавшего обзор;\n",
    "- `text` — текст обзора."
   ]
  },
  {
   "cell_type": "markdown",
   "metadata": {},
   "source": [
    "## Ипрорт библиотек и подключение к базе данных"
   ]
  },
  {
   "cell_type": "code",
   "execution_count": 2,
   "metadata": {},
   "outputs": [],
   "source": [
    "import pandas as pd\n",
    "from sqlalchemy import create_engine"
   ]
  },
  {
   "cell_type": "code",
   "execution_count": 3,
   "metadata": {},
   "outputs": [],
   "source": [
    "# устанавливаем параметры\n",
    "db_config = {'user': 'praktikum_student', # имя пользователя\n",
    " 'pwd': 'Sdf4$2;d-d30pp', # пароль\n",
    " 'host': 'rc1b-wcoijxj3yxfsf3fs.mdb.yandexcloud.net',\n",
    " 'port': 6432, # порт подключения\n",
    " 'db': 'data-analyst-final-project-db'} # название базы данных\n",
    "connection_string = 'postgresql://{}:{}@{}:{}/{}'.format(db_config['user'],\n",
    " db_config['pwd'],\n",
    " db_config['host'],\n",
    " db_config['port'],\n",
    " db_config['db'])\n",
    "\n",
    "# сохраняем коннектор\n",
    "engine = create_engine(connection_string, connect_args={'sslmode':'require'}) "
   ]
  },
  {
   "cell_type": "markdown",
   "metadata": {},
   "source": [
    "## Знакомство с таблицами"
   ]
  },
  {
   "cell_type": "markdown",
   "metadata": {},
   "source": [
    "Выведу первые строки таблиц"
   ]
  },
  {
   "cell_type": "code",
   "execution_count": 4,
   "metadata": {},
   "outputs": [
    {
     "data": {
      "text/html": [
       "<div>\n",
       "<style scoped>\n",
       "    .dataframe tbody tr th:only-of-type {\n",
       "        vertical-align: middle;\n",
       "    }\n",
       "\n",
       "    .dataframe tbody tr th {\n",
       "        vertical-align: top;\n",
       "    }\n",
       "\n",
       "    .dataframe thead th {\n",
       "        text-align: right;\n",
       "    }\n",
       "</style>\n",
       "<table border=\"1\" class=\"dataframe\">\n",
       "  <thead>\n",
       "    <tr style=\"text-align: right;\">\n",
       "      <th></th>\n",
       "      <th>book_id</th>\n",
       "      <th>author_id</th>\n",
       "      <th>title</th>\n",
       "      <th>num_pages</th>\n",
       "      <th>publication_date</th>\n",
       "      <th>publisher_id</th>\n",
       "    </tr>\n",
       "  </thead>\n",
       "  <tbody>\n",
       "    <tr>\n",
       "      <td>0</td>\n",
       "      <td>1</td>\n",
       "      <td>546</td>\n",
       "      <td>'Salem's Lot</td>\n",
       "      <td>594</td>\n",
       "      <td>2005-11-01</td>\n",
       "      <td>93</td>\n",
       "    </tr>\n",
       "    <tr>\n",
       "      <td>1</td>\n",
       "      <td>2</td>\n",
       "      <td>465</td>\n",
       "      <td>1 000 Places to See Before You Die</td>\n",
       "      <td>992</td>\n",
       "      <td>2003-05-22</td>\n",
       "      <td>336</td>\n",
       "    </tr>\n",
       "    <tr>\n",
       "      <td>2</td>\n",
       "      <td>3</td>\n",
       "      <td>407</td>\n",
       "      <td>13 Little Blue Envelopes (Little Blue Envelope...</td>\n",
       "      <td>322</td>\n",
       "      <td>2010-12-21</td>\n",
       "      <td>135</td>\n",
       "    </tr>\n",
       "    <tr>\n",
       "      <td>3</td>\n",
       "      <td>4</td>\n",
       "      <td>82</td>\n",
       "      <td>1491: New Revelations of the Americas Before C...</td>\n",
       "      <td>541</td>\n",
       "      <td>2006-10-10</td>\n",
       "      <td>309</td>\n",
       "    </tr>\n",
       "    <tr>\n",
       "      <td>4</td>\n",
       "      <td>5</td>\n",
       "      <td>125</td>\n",
       "      <td>1776</td>\n",
       "      <td>386</td>\n",
       "      <td>2006-07-04</td>\n",
       "      <td>268</td>\n",
       "    </tr>\n",
       "    <tr>\n",
       "      <td>...</td>\n",
       "      <td>...</td>\n",
       "      <td>...</td>\n",
       "      <td>...</td>\n",
       "      <td>...</td>\n",
       "      <td>...</td>\n",
       "      <td>...</td>\n",
       "    </tr>\n",
       "    <tr>\n",
       "      <td>995</td>\n",
       "      <td>996</td>\n",
       "      <td>571</td>\n",
       "      <td>Wyrd Sisters (Discworld  #6; Witches #2)</td>\n",
       "      <td>265</td>\n",
       "      <td>2001-02-06</td>\n",
       "      <td>147</td>\n",
       "    </tr>\n",
       "    <tr>\n",
       "      <td>996</td>\n",
       "      <td>997</td>\n",
       "      <td>454</td>\n",
       "      <td>Xenocide (Ender's Saga  #3)</td>\n",
       "      <td>592</td>\n",
       "      <td>1996-07-15</td>\n",
       "      <td>297</td>\n",
       "    </tr>\n",
       "    <tr>\n",
       "      <td>997</td>\n",
       "      <td>998</td>\n",
       "      <td>201</td>\n",
       "      <td>Year of Wonders</td>\n",
       "      <td>358</td>\n",
       "      <td>2002-04-30</td>\n",
       "      <td>212</td>\n",
       "    </tr>\n",
       "    <tr>\n",
       "      <td>998</td>\n",
       "      <td>999</td>\n",
       "      <td>94</td>\n",
       "      <td>You Suck (A Love Story  #2)</td>\n",
       "      <td>328</td>\n",
       "      <td>2007-01-16</td>\n",
       "      <td>331</td>\n",
       "    </tr>\n",
       "    <tr>\n",
       "      <td>999</td>\n",
       "      <td>1000</td>\n",
       "      <td>509</td>\n",
       "      <td>Zen and the Art of Motorcycle Maintenance: An ...</td>\n",
       "      <td>540</td>\n",
       "      <td>2006-04-25</td>\n",
       "      <td>143</td>\n",
       "    </tr>\n",
       "  </tbody>\n",
       "</table>\n",
       "<p>1000 rows × 6 columns</p>\n",
       "</div>"
      ],
      "text/plain": [
       "     book_id  author_id                                              title  \\\n",
       "0          1        546                                       'Salem's Lot   \n",
       "1          2        465                 1 000 Places to See Before You Die   \n",
       "2          3        407  13 Little Blue Envelopes (Little Blue Envelope...   \n",
       "3          4         82  1491: New Revelations of the Americas Before C...   \n",
       "4          5        125                                               1776   \n",
       "..       ...        ...                                                ...   \n",
       "995      996        571           Wyrd Sisters (Discworld  #6; Witches #2)   \n",
       "996      997        454                        Xenocide (Ender's Saga  #3)   \n",
       "997      998        201                                    Year of Wonders   \n",
       "998      999         94                        You Suck (A Love Story  #2)   \n",
       "999     1000        509  Zen and the Art of Motorcycle Maintenance: An ...   \n",
       "\n",
       "     num_pages publication_date  publisher_id  \n",
       "0          594       2005-11-01            93  \n",
       "1          992       2003-05-22           336  \n",
       "2          322       2010-12-21           135  \n",
       "3          541       2006-10-10           309  \n",
       "4          386       2006-07-04           268  \n",
       "..         ...              ...           ...  \n",
       "995        265       2001-02-06           147  \n",
       "996        592       1996-07-15           297  \n",
       "997        358       2002-04-30           212  \n",
       "998        328       2007-01-16           331  \n",
       "999        540       2006-04-25           143  \n",
       "\n",
       "[1000 rows x 6 columns]"
      ]
     },
     "execution_count": 4,
     "metadata": {},
     "output_type": "execute_result"
    }
   ],
   "source": [
    "query_1 = '''\n",
    "         SELECT *\n",
    "         FROM books\n",
    "        '''\n",
    "books = pd.io.sql.read_sql(query_1, con = engine)\n",
    "books "
   ]
  },
  {
   "cell_type": "code",
   "execution_count": 5,
   "metadata": {},
   "outputs": [
    {
     "data": {
      "text/html": [
       "<div>\n",
       "<style scoped>\n",
       "    .dataframe tbody tr th:only-of-type {\n",
       "        vertical-align: middle;\n",
       "    }\n",
       "\n",
       "    .dataframe tbody tr th {\n",
       "        vertical-align: top;\n",
       "    }\n",
       "\n",
       "    .dataframe thead th {\n",
       "        text-align: right;\n",
       "    }\n",
       "</style>\n",
       "<table border=\"1\" class=\"dataframe\">\n",
       "  <thead>\n",
       "    <tr style=\"text-align: right;\">\n",
       "      <th></th>\n",
       "      <th>author_id</th>\n",
       "      <th>author</th>\n",
       "    </tr>\n",
       "  </thead>\n",
       "  <tbody>\n",
       "    <tr>\n",
       "      <td>0</td>\n",
       "      <td>1</td>\n",
       "      <td>A.S. Byatt</td>\n",
       "    </tr>\n",
       "    <tr>\n",
       "      <td>1</td>\n",
       "      <td>2</td>\n",
       "      <td>Aesop/Laura Harris/Laura Gibbs</td>\n",
       "    </tr>\n",
       "    <tr>\n",
       "      <td>2</td>\n",
       "      <td>3</td>\n",
       "      <td>Agatha Christie</td>\n",
       "    </tr>\n",
       "    <tr>\n",
       "      <td>3</td>\n",
       "      <td>4</td>\n",
       "      <td>Alan Brennert</td>\n",
       "    </tr>\n",
       "    <tr>\n",
       "      <td>4</td>\n",
       "      <td>5</td>\n",
       "      <td>Alan Moore/David   Lloyd</td>\n",
       "    </tr>\n",
       "    <tr>\n",
       "      <td>...</td>\n",
       "      <td>...</td>\n",
       "      <td>...</td>\n",
       "    </tr>\n",
       "    <tr>\n",
       "      <td>631</td>\n",
       "      <td>632</td>\n",
       "      <td>William Strunk Jr./E.B. White</td>\n",
       "    </tr>\n",
       "    <tr>\n",
       "      <td>632</td>\n",
       "      <td>633</td>\n",
       "      <td>Zadie Smith</td>\n",
       "    </tr>\n",
       "    <tr>\n",
       "      <td>633</td>\n",
       "      <td>634</td>\n",
       "      <td>Zilpha Keatley Snyder</td>\n",
       "    </tr>\n",
       "    <tr>\n",
       "      <td>634</td>\n",
       "      <td>635</td>\n",
       "      <td>Zora Neale Hurston</td>\n",
       "    </tr>\n",
       "    <tr>\n",
       "      <td>635</td>\n",
       "      <td>636</td>\n",
       "      <td>Åsne Seierstad/Ingrid Christopherson</td>\n",
       "    </tr>\n",
       "  </tbody>\n",
       "</table>\n",
       "<p>636 rows × 2 columns</p>\n",
       "</div>"
      ],
      "text/plain": [
       "     author_id                                author\n",
       "0            1                            A.S. Byatt\n",
       "1            2        Aesop/Laura Harris/Laura Gibbs\n",
       "2            3                       Agatha Christie\n",
       "3            4                         Alan Brennert\n",
       "4            5              Alan Moore/David   Lloyd\n",
       "..         ...                                   ...\n",
       "631        632         William Strunk Jr./E.B. White\n",
       "632        633                           Zadie Smith\n",
       "633        634                 Zilpha Keatley Snyder\n",
       "634        635                    Zora Neale Hurston\n",
       "635        636  Åsne Seierstad/Ingrid Christopherson\n",
       "\n",
       "[636 rows x 2 columns]"
      ]
     },
     "execution_count": 5,
     "metadata": {},
     "output_type": "execute_result"
    }
   ],
   "source": [
    "query_2 = '''\n",
    "         SELECT *\n",
    "         FROM authors\n",
    "        '''\n",
    "authors = pd.io.sql.read_sql(query_2, con = engine)\n",
    "authors "
   ]
  },
  {
   "cell_type": "code",
   "execution_count": 6,
   "metadata": {},
   "outputs": [
    {
     "data": {
      "text/html": [
       "<div>\n",
       "<style scoped>\n",
       "    .dataframe tbody tr th:only-of-type {\n",
       "        vertical-align: middle;\n",
       "    }\n",
       "\n",
       "    .dataframe tbody tr th {\n",
       "        vertical-align: top;\n",
       "    }\n",
       "\n",
       "    .dataframe thead th {\n",
       "        text-align: right;\n",
       "    }\n",
       "</style>\n",
       "<table border=\"1\" class=\"dataframe\">\n",
       "  <thead>\n",
       "    <tr style=\"text-align: right;\">\n",
       "      <th></th>\n",
       "      <th>publisher_id</th>\n",
       "      <th>publisher</th>\n",
       "    </tr>\n",
       "  </thead>\n",
       "  <tbody>\n",
       "    <tr>\n",
       "      <td>0</td>\n",
       "      <td>1</td>\n",
       "      <td>Ace</td>\n",
       "    </tr>\n",
       "    <tr>\n",
       "      <td>1</td>\n",
       "      <td>2</td>\n",
       "      <td>Ace Book</td>\n",
       "    </tr>\n",
       "    <tr>\n",
       "      <td>2</td>\n",
       "      <td>3</td>\n",
       "      <td>Ace Books</td>\n",
       "    </tr>\n",
       "    <tr>\n",
       "      <td>3</td>\n",
       "      <td>4</td>\n",
       "      <td>Ace Hardcover</td>\n",
       "    </tr>\n",
       "    <tr>\n",
       "      <td>4</td>\n",
       "      <td>5</td>\n",
       "      <td>Addison Wesley Publishing Company</td>\n",
       "    </tr>\n",
       "    <tr>\n",
       "      <td>...</td>\n",
       "      <td>...</td>\n",
       "      <td>...</td>\n",
       "    </tr>\n",
       "    <tr>\n",
       "      <td>335</td>\n",
       "      <td>336</td>\n",
       "      <td>Workman Publishing Company</td>\n",
       "    </tr>\n",
       "    <tr>\n",
       "      <td>336</td>\n",
       "      <td>337</td>\n",
       "      <td>Wyatt Book</td>\n",
       "    </tr>\n",
       "    <tr>\n",
       "      <td>337</td>\n",
       "      <td>338</td>\n",
       "      <td>Yale University Press</td>\n",
       "    </tr>\n",
       "    <tr>\n",
       "      <td>338</td>\n",
       "      <td>339</td>\n",
       "      <td>Yearling</td>\n",
       "    </tr>\n",
       "    <tr>\n",
       "      <td>339</td>\n",
       "      <td>340</td>\n",
       "      <td>Yearling Books</td>\n",
       "    </tr>\n",
       "  </tbody>\n",
       "</table>\n",
       "<p>340 rows × 2 columns</p>\n",
       "</div>"
      ],
      "text/plain": [
       "     publisher_id                          publisher\n",
       "0               1                                Ace\n",
       "1               2                           Ace Book\n",
       "2               3                          Ace Books\n",
       "3               4                      Ace Hardcover\n",
       "4               5  Addison Wesley Publishing Company\n",
       "..            ...                                ...\n",
       "335           336         Workman Publishing Company\n",
       "336           337                         Wyatt Book\n",
       "337           338              Yale University Press\n",
       "338           339                           Yearling\n",
       "339           340                     Yearling Books\n",
       "\n",
       "[340 rows x 2 columns]"
      ]
     },
     "execution_count": 6,
     "metadata": {},
     "output_type": "execute_result"
    }
   ],
   "source": [
    "query_3 = '''\n",
    "         SELECT *\n",
    "         FROM publishers\n",
    "        '''\n",
    "publishers = pd.io.sql.read_sql(query_3, con = engine)\n",
    "publishers "
   ]
  },
  {
   "cell_type": "code",
   "execution_count": 7,
   "metadata": {},
   "outputs": [
    {
     "data": {
      "text/html": [
       "<div>\n",
       "<style scoped>\n",
       "    .dataframe tbody tr th:only-of-type {\n",
       "        vertical-align: middle;\n",
       "    }\n",
       "\n",
       "    .dataframe tbody tr th {\n",
       "        vertical-align: top;\n",
       "    }\n",
       "\n",
       "    .dataframe thead th {\n",
       "        text-align: right;\n",
       "    }\n",
       "</style>\n",
       "<table border=\"1\" class=\"dataframe\">\n",
       "  <thead>\n",
       "    <tr style=\"text-align: right;\">\n",
       "      <th></th>\n",
       "      <th>rating_id</th>\n",
       "      <th>book_id</th>\n",
       "      <th>username</th>\n",
       "      <th>rating</th>\n",
       "    </tr>\n",
       "  </thead>\n",
       "  <tbody>\n",
       "    <tr>\n",
       "      <td>0</td>\n",
       "      <td>1</td>\n",
       "      <td>1</td>\n",
       "      <td>ryanfranco</td>\n",
       "      <td>4</td>\n",
       "    </tr>\n",
       "    <tr>\n",
       "      <td>1</td>\n",
       "      <td>2</td>\n",
       "      <td>1</td>\n",
       "      <td>grantpatricia</td>\n",
       "      <td>2</td>\n",
       "    </tr>\n",
       "    <tr>\n",
       "      <td>2</td>\n",
       "      <td>3</td>\n",
       "      <td>1</td>\n",
       "      <td>brandtandrea</td>\n",
       "      <td>5</td>\n",
       "    </tr>\n",
       "    <tr>\n",
       "      <td>3</td>\n",
       "      <td>4</td>\n",
       "      <td>2</td>\n",
       "      <td>lorichen</td>\n",
       "      <td>3</td>\n",
       "    </tr>\n",
       "    <tr>\n",
       "      <td>4</td>\n",
       "      <td>5</td>\n",
       "      <td>2</td>\n",
       "      <td>mariokeller</td>\n",
       "      <td>2</td>\n",
       "    </tr>\n",
       "    <tr>\n",
       "      <td>...</td>\n",
       "      <td>...</td>\n",
       "      <td>...</td>\n",
       "      <td>...</td>\n",
       "      <td>...</td>\n",
       "    </tr>\n",
       "    <tr>\n",
       "      <td>6451</td>\n",
       "      <td>6452</td>\n",
       "      <td>1000</td>\n",
       "      <td>carolrodriguez</td>\n",
       "      <td>4</td>\n",
       "    </tr>\n",
       "    <tr>\n",
       "      <td>6452</td>\n",
       "      <td>6453</td>\n",
       "      <td>1000</td>\n",
       "      <td>wendy18</td>\n",
       "      <td>4</td>\n",
       "    </tr>\n",
       "    <tr>\n",
       "      <td>6453</td>\n",
       "      <td>6454</td>\n",
       "      <td>1000</td>\n",
       "      <td>jarvispaul</td>\n",
       "      <td>5</td>\n",
       "    </tr>\n",
       "    <tr>\n",
       "      <td>6454</td>\n",
       "      <td>6455</td>\n",
       "      <td>1000</td>\n",
       "      <td>zross</td>\n",
       "      <td>2</td>\n",
       "    </tr>\n",
       "    <tr>\n",
       "      <td>6455</td>\n",
       "      <td>6456</td>\n",
       "      <td>1000</td>\n",
       "      <td>fharris</td>\n",
       "      <td>5</td>\n",
       "    </tr>\n",
       "  </tbody>\n",
       "</table>\n",
       "<p>6456 rows × 4 columns</p>\n",
       "</div>"
      ],
      "text/plain": [
       "      rating_id  book_id        username  rating\n",
       "0             1        1      ryanfranco       4\n",
       "1             2        1   grantpatricia       2\n",
       "2             3        1    brandtandrea       5\n",
       "3             4        2        lorichen       3\n",
       "4             5        2     mariokeller       2\n",
       "...         ...      ...             ...     ...\n",
       "6451       6452     1000  carolrodriguez       4\n",
       "6452       6453     1000         wendy18       4\n",
       "6453       6454     1000      jarvispaul       5\n",
       "6454       6455     1000           zross       2\n",
       "6455       6456     1000         fharris       5\n",
       "\n",
       "[6456 rows x 4 columns]"
      ]
     },
     "execution_count": 7,
     "metadata": {},
     "output_type": "execute_result"
    }
   ],
   "source": [
    "query_4 = '''\n",
    "         SELECT *\n",
    "         FROM ratings\n",
    "        '''\n",
    "ratings = pd.io.sql.read_sql(query_4, con = engine)\n",
    "ratings "
   ]
  },
  {
   "cell_type": "code",
   "execution_count": 8,
   "metadata": {},
   "outputs": [
    {
     "data": {
      "text/html": [
       "<div>\n",
       "<style scoped>\n",
       "    .dataframe tbody tr th:only-of-type {\n",
       "        vertical-align: middle;\n",
       "    }\n",
       "\n",
       "    .dataframe tbody tr th {\n",
       "        vertical-align: top;\n",
       "    }\n",
       "\n",
       "    .dataframe thead th {\n",
       "        text-align: right;\n",
       "    }\n",
       "</style>\n",
       "<table border=\"1\" class=\"dataframe\">\n",
       "  <thead>\n",
       "    <tr style=\"text-align: right;\">\n",
       "      <th></th>\n",
       "      <th>review_id</th>\n",
       "      <th>book_id</th>\n",
       "      <th>username</th>\n",
       "      <th>text</th>\n",
       "    </tr>\n",
       "  </thead>\n",
       "  <tbody>\n",
       "    <tr>\n",
       "      <td>0</td>\n",
       "      <td>1</td>\n",
       "      <td>1</td>\n",
       "      <td>brandtandrea</td>\n",
       "      <td>Mention society tell send professor analysis. ...</td>\n",
       "    </tr>\n",
       "    <tr>\n",
       "      <td>1</td>\n",
       "      <td>2</td>\n",
       "      <td>1</td>\n",
       "      <td>ryanfranco</td>\n",
       "      <td>Foot glass pretty audience hit themselves. Amo...</td>\n",
       "    </tr>\n",
       "    <tr>\n",
       "      <td>2</td>\n",
       "      <td>3</td>\n",
       "      <td>2</td>\n",
       "      <td>lorichen</td>\n",
       "      <td>Listen treat keep worry. Miss husband tax but ...</td>\n",
       "    </tr>\n",
       "    <tr>\n",
       "      <td>3</td>\n",
       "      <td>4</td>\n",
       "      <td>3</td>\n",
       "      <td>johnsonamanda</td>\n",
       "      <td>Finally month interesting blue could nature cu...</td>\n",
       "    </tr>\n",
       "    <tr>\n",
       "      <td>4</td>\n",
       "      <td>5</td>\n",
       "      <td>3</td>\n",
       "      <td>scotttamara</td>\n",
       "      <td>Nation purpose heavy give wait song will. List...</td>\n",
       "    </tr>\n",
       "    <tr>\n",
       "      <td>...</td>\n",
       "      <td>...</td>\n",
       "      <td>...</td>\n",
       "      <td>...</td>\n",
       "      <td>...</td>\n",
       "    </tr>\n",
       "    <tr>\n",
       "      <td>2788</td>\n",
       "      <td>2789</td>\n",
       "      <td>999</td>\n",
       "      <td>martinadam</td>\n",
       "      <td>Later hospital turn easy community. Fact same ...</td>\n",
       "    </tr>\n",
       "    <tr>\n",
       "      <td>2789</td>\n",
       "      <td>2790</td>\n",
       "      <td>1000</td>\n",
       "      <td>wknight</td>\n",
       "      <td>Change lose answer close pressure. Spend so now.</td>\n",
       "    </tr>\n",
       "    <tr>\n",
       "      <td>2790</td>\n",
       "      <td>2791</td>\n",
       "      <td>1000</td>\n",
       "      <td>carolrodriguez</td>\n",
       "      <td>Authority go who television entire hair guy po...</td>\n",
       "    </tr>\n",
       "    <tr>\n",
       "      <td>2791</td>\n",
       "      <td>2792</td>\n",
       "      <td>1000</td>\n",
       "      <td>wendy18</td>\n",
       "      <td>Or western offer wonder ask. More hear phone f...</td>\n",
       "    </tr>\n",
       "    <tr>\n",
       "      <td>2792</td>\n",
       "      <td>2793</td>\n",
       "      <td>1000</td>\n",
       "      <td>jarvispaul</td>\n",
       "      <td>Republican staff bit eat material measure plan...</td>\n",
       "    </tr>\n",
       "  </tbody>\n",
       "</table>\n",
       "<p>2793 rows × 4 columns</p>\n",
       "</div>"
      ],
      "text/plain": [
       "      review_id  book_id        username  \\\n",
       "0             1        1    brandtandrea   \n",
       "1             2        1      ryanfranco   \n",
       "2             3        2        lorichen   \n",
       "3             4        3   johnsonamanda   \n",
       "4             5        3     scotttamara   \n",
       "...         ...      ...             ...   \n",
       "2788       2789      999      martinadam   \n",
       "2789       2790     1000         wknight   \n",
       "2790       2791     1000  carolrodriguez   \n",
       "2791       2792     1000         wendy18   \n",
       "2792       2793     1000      jarvispaul   \n",
       "\n",
       "                                                   text  \n",
       "0     Mention society tell send professor analysis. ...  \n",
       "1     Foot glass pretty audience hit themselves. Amo...  \n",
       "2     Listen treat keep worry. Miss husband tax but ...  \n",
       "3     Finally month interesting blue could nature cu...  \n",
       "4     Nation purpose heavy give wait song will. List...  \n",
       "...                                                 ...  \n",
       "2788  Later hospital turn easy community. Fact same ...  \n",
       "2789   Change lose answer close pressure. Spend so now.  \n",
       "2790  Authority go who television entire hair guy po...  \n",
       "2791  Or western offer wonder ask. More hear phone f...  \n",
       "2792  Republican staff bit eat material measure plan...  \n",
       "\n",
       "[2793 rows x 4 columns]"
      ]
     },
     "execution_count": 8,
     "metadata": {},
     "output_type": "execute_result"
    }
   ],
   "source": [
    "query_5 = '''\n",
    "         SELECT *\n",
    "         FROM reviews\n",
    "        '''\n",
    "reviews = pd.io.sql.read_sql(query_5, con = engine)\n",
    "reviews "
   ]
  },
  {
   "cell_type": "markdown",
   "metadata": {},
   "source": [
    "Все таблицы на месте, в таблицах:\n",
    " - books - 1000 строк\n",
    " - authors - 636 строк\n",
    " - publishers - 340 строк\n",
    " - ratings - 6456 строк\n",
    " - reviews - 2793 строки\n",
    " "
   ]
  },
  {
   "cell_type": "markdown",
   "metadata": {},
   "source": [
    "## Посчитаю какое количество книг вышло после 1 января 2000 года"
   ]
  },
  {
   "cell_type": "code",
   "execution_count": 9,
   "metadata": {},
   "outputs": [
    {
     "data": {
      "text/html": [
       "<div>\n",
       "<style scoped>\n",
       "    .dataframe tbody tr th:only-of-type {\n",
       "        vertical-align: middle;\n",
       "    }\n",
       "\n",
       "    .dataframe tbody tr th {\n",
       "        vertical-align: top;\n",
       "    }\n",
       "\n",
       "    .dataframe thead th {\n",
       "        text-align: right;\n",
       "    }\n",
       "</style>\n",
       "<table border=\"1\" class=\"dataframe\">\n",
       "  <thead>\n",
       "    <tr style=\"text-align: right;\">\n",
       "      <th></th>\n",
       "      <th>Количество книг</th>\n",
       "    </tr>\n",
       "  </thead>\n",
       "  <tbody>\n",
       "    <tr>\n",
       "      <td>0</td>\n",
       "      <td>819</td>\n",
       "    </tr>\n",
       "  </tbody>\n",
       "</table>\n",
       "</div>"
      ],
      "text/plain": [
       "   Количество книг\n",
       "0              819"
      ]
     },
     "execution_count": 9,
     "metadata": {},
     "output_type": "execute_result"
    }
   ],
   "source": [
    "# Напишу функцию для выполнения запросов.\n",
    "def query_display(query):\n",
    "    return pd.io.sql.read_sql(query, con = engine)\n",
    "\n",
    "\n",
    "query_6 = '''\n",
    "         SELECT COUNT(book_id) AS \"Количество книг\"\n",
    "         FROM books\n",
    "         WHERE publication_date > '2000-01-01'\n",
    "         \n",
    "        '''\n",
    "query_display(query_6)"
   ]
  },
  {
   "cell_type": "markdown",
   "metadata": {},
   "source": [
    "После 1 января 2000 года было опубликованно 819 книг."
   ]
  },
  {
   "cell_type": "markdown",
   "metadata": {},
   "source": [
    "## Для каждой книги посчитаю количество обзоров и среднюю оценку"
   ]
  },
  {
   "cell_type": "code",
   "execution_count": 10,
   "metadata": {},
   "outputs": [
    {
     "data": {
      "text/html": [
       "<div>\n",
       "<style scoped>\n",
       "    .dataframe tbody tr th:only-of-type {\n",
       "        vertical-align: middle;\n",
       "    }\n",
       "\n",
       "    .dataframe tbody tr th {\n",
       "        vertical-align: top;\n",
       "    }\n",
       "\n",
       "    .dataframe thead th {\n",
       "        text-align: right;\n",
       "    }\n",
       "</style>\n",
       "<table border=\"1\" class=\"dataframe\">\n",
       "  <thead>\n",
       "    <tr style=\"text-align: right;\">\n",
       "      <th></th>\n",
       "      <th>book_id</th>\n",
       "      <th>title</th>\n",
       "      <th>number_of_reviews</th>\n",
       "      <th>avg_rating</th>\n",
       "    </tr>\n",
       "  </thead>\n",
       "  <tbody>\n",
       "    <tr>\n",
       "      <td>0</td>\n",
       "      <td>948</td>\n",
       "      <td>Twilight (Twilight  #1)</td>\n",
       "      <td>7</td>\n",
       "      <td>3.662500</td>\n",
       "    </tr>\n",
       "    <tr>\n",
       "      <td>1</td>\n",
       "      <td>302</td>\n",
       "      <td>Harry Potter and the Prisoner of Azkaban (Harr...</td>\n",
       "      <td>6</td>\n",
       "      <td>4.414634</td>\n",
       "    </tr>\n",
       "    <tr>\n",
       "      <td>2</td>\n",
       "      <td>299</td>\n",
       "      <td>Harry Potter and the Chamber of Secrets (Harry...</td>\n",
       "      <td>6</td>\n",
       "      <td>4.287500</td>\n",
       "    </tr>\n",
       "    <tr>\n",
       "      <td>3</td>\n",
       "      <td>656</td>\n",
       "      <td>The Book Thief</td>\n",
       "      <td>6</td>\n",
       "      <td>4.264151</td>\n",
       "    </tr>\n",
       "    <tr>\n",
       "      <td>4</td>\n",
       "      <td>734</td>\n",
       "      <td>The Glass Castle</td>\n",
       "      <td>6</td>\n",
       "      <td>4.206897</td>\n",
       "    </tr>\n",
       "    <tr>\n",
       "      <td>...</td>\n",
       "      <td>...</td>\n",
       "      <td>...</td>\n",
       "      <td>...</td>\n",
       "      <td>...</td>\n",
       "    </tr>\n",
       "    <tr>\n",
       "      <td>995</td>\n",
       "      <td>191</td>\n",
       "      <td>Disney's Beauty and the Beast (A Little Golden...</td>\n",
       "      <td>0</td>\n",
       "      <td>4.000000</td>\n",
       "    </tr>\n",
       "    <tr>\n",
       "      <td>996</td>\n",
       "      <td>387</td>\n",
       "      <td>Leonardo's Notebooks</td>\n",
       "      <td>0</td>\n",
       "      <td>4.000000</td>\n",
       "    </tr>\n",
       "    <tr>\n",
       "      <td>997</td>\n",
       "      <td>221</td>\n",
       "      <td>Essential Tales and Poems</td>\n",
       "      <td>0</td>\n",
       "      <td>4.000000</td>\n",
       "    </tr>\n",
       "    <tr>\n",
       "      <td>998</td>\n",
       "      <td>83</td>\n",
       "      <td>Anne Rice's The Vampire Lestat: A Graphic Novel</td>\n",
       "      <td>0</td>\n",
       "      <td>3.666667</td>\n",
       "    </tr>\n",
       "    <tr>\n",
       "      <td>999</td>\n",
       "      <td>808</td>\n",
       "      <td>The Natural Way to Draw</td>\n",
       "      <td>0</td>\n",
       "      <td>3.000000</td>\n",
       "    </tr>\n",
       "  </tbody>\n",
       "</table>\n",
       "<p>1000 rows × 4 columns</p>\n",
       "</div>"
      ],
      "text/plain": [
       "     book_id                                              title  \\\n",
       "0        948                            Twilight (Twilight  #1)   \n",
       "1        302  Harry Potter and the Prisoner of Azkaban (Harr...   \n",
       "2        299  Harry Potter and the Chamber of Secrets (Harry...   \n",
       "3        656                                     The Book Thief   \n",
       "4        734                                   The Glass Castle   \n",
       "..       ...                                                ...   \n",
       "995      191  Disney's Beauty and the Beast (A Little Golden...   \n",
       "996      387                               Leonardo's Notebooks   \n",
       "997      221                          Essential Tales and Poems   \n",
       "998       83    Anne Rice's The Vampire Lestat: A Graphic Novel   \n",
       "999      808                            The Natural Way to Draw   \n",
       "\n",
       "     number_of_reviews  avg_rating  \n",
       "0                    7    3.662500  \n",
       "1                    6    4.414634  \n",
       "2                    6    4.287500  \n",
       "3                    6    4.264151  \n",
       "4                    6    4.206897  \n",
       "..                 ...         ...  \n",
       "995                  0    4.000000  \n",
       "996                  0    4.000000  \n",
       "997                  0    4.000000  \n",
       "998                  0    3.666667  \n",
       "999                  0    3.000000  \n",
       "\n",
       "[1000 rows x 4 columns]"
      ]
     },
     "execution_count": 10,
     "metadata": {},
     "output_type": "execute_result"
    }
   ],
   "source": [
    "query_7 = '''\n",
    "         SELECT b.book_id, title, COUNT(DISTINCT text) AS number_of_reviews, AVG(rating) AS avg_rating\n",
    "         FROM books b\n",
    "         LEFT JOIN reviews r ON r.book_id = b.book_id\n",
    "         LEFT JOIN ratings ra ON ra.book_id = b.book_id\n",
    "         GROUP BY b.book_id, title\n",
    "         ORDER BY number_of_reviews DESC, avg_rating DESC \n",
    "        '''\n",
    "\n",
    "query_display(query_7)"
   ]
  },
  {
   "cell_type": "markdown",
   "metadata": {},
   "source": [
    "Топ-5 по количеству обзоров и средней оценки\n",
    "\n",
    " - Twilight (Twilight #1) 7 обзоров / 3.66 средний рейтинг обзора\n",
    " - Harry Potter and the Prisoner of Azkaban 6 обзоров / 4.41 средний рейтинг обзора\n",
    " - Harry Potter and the Chamber of Secrets  6 обзоров /4.28 средний рейтинг обзора\n",
    " - The Book Thief 6 обзоров / 4.26 средний рейтинг обзора\n",
    " - The Glass Castle 6 обзоров/ 4.21 средний рейтинг обзора"
   ]
  },
  {
   "cell_type": "markdown",
   "metadata": {},
   "source": [
    "## Определю издательство, которое выпустило наибольшее число книг толще 50 страниц — так я исключю из анализа брошюры;"
   ]
  },
  {
   "cell_type": "code",
   "execution_count": 11,
   "metadata": {},
   "outputs": [
    {
     "data": {
      "text/html": [
       "<div>\n",
       "<style scoped>\n",
       "    .dataframe tbody tr th:only-of-type {\n",
       "        vertical-align: middle;\n",
       "    }\n",
       "\n",
       "    .dataframe tbody tr th {\n",
       "        vertical-align: top;\n",
       "    }\n",
       "\n",
       "    .dataframe thead th {\n",
       "        text-align: right;\n",
       "    }\n",
       "</style>\n",
       "<table border=\"1\" class=\"dataframe\">\n",
       "  <thead>\n",
       "    <tr style=\"text-align: right;\">\n",
       "      <th></th>\n",
       "      <th>publisher</th>\n",
       "      <th>number_of_books</th>\n",
       "    </tr>\n",
       "  </thead>\n",
       "  <tbody>\n",
       "    <tr>\n",
       "      <td>0</td>\n",
       "      <td>Penguin Books</td>\n",
       "      <td>42</td>\n",
       "    </tr>\n",
       "  </tbody>\n",
       "</table>\n",
       "</div>"
      ],
      "text/plain": [
       "       publisher  number_of_books\n",
       "0  Penguin Books               42"
      ]
     },
     "execution_count": 11,
     "metadata": {},
     "output_type": "execute_result"
    }
   ],
   "source": [
    "query_8 = '''\n",
    "         SELECT publisher, COUNT(b.book_id) as number_of_books\n",
    "         FROM publishers p\n",
    "         JOIN books b ON p.publisher_id = b.publisher_id\n",
    "         WHERE num_pages > 50\n",
    "         GROUP BY publisher\n",
    "         ORDER BY number_of_books DESC\n",
    "         LIMIT 1\n",
    "        '''\n",
    "query_display(query_8)"
   ]
  },
  {
   "cell_type": "markdown",
   "metadata": {},
   "source": [
    "Издательство, которое выпустило наибольшее число книг толще 50 страниц это Penguin books - 42 книги."
   ]
  },
  {
   "cell_type": "markdown",
   "metadata": {},
   "source": [
    "## Определю автора с самой высокой средней оценкой книг — учитываю только книги с 50 и более оценками"
   ]
  },
  {
   "cell_type": "code",
   "execution_count": 12,
   "metadata": {},
   "outputs": [
    {
     "data": {
      "text/html": [
       "<div>\n",
       "<style scoped>\n",
       "    .dataframe tbody tr th:only-of-type {\n",
       "        vertical-align: middle;\n",
       "    }\n",
       "\n",
       "    .dataframe tbody tr th {\n",
       "        vertical-align: top;\n",
       "    }\n",
       "\n",
       "    .dataframe thead th {\n",
       "        text-align: right;\n",
       "    }\n",
       "</style>\n",
       "<table border=\"1\" class=\"dataframe\">\n",
       "  <thead>\n",
       "    <tr style=\"text-align: right;\">\n",
       "      <th></th>\n",
       "      <th>author</th>\n",
       "      <th>avg_rating_total</th>\n",
       "    </tr>\n",
       "  </thead>\n",
       "  <tbody>\n",
       "    <tr>\n",
       "      <td>0</td>\n",
       "      <td>J.K. Rowling/Mary GrandPré</td>\n",
       "      <td>4.283844</td>\n",
       "    </tr>\n",
       "  </tbody>\n",
       "</table>\n",
       "</div>"
      ],
      "text/plain": [
       "                       author  avg_rating_total\n",
       "0  J.K. Rowling/Mary GrandPré          4.283844"
      ]
     },
     "execution_count": 12,
     "metadata": {},
     "output_type": "execute_result"
    }
   ],
   "source": [
    "query_9 = '''\n",
    "         SELECT author, AVG(avg_rating) AS avg_rating_total\n",
    "         FROM authors a\n",
    "         JOIN books b ON b.author_id = a.author_id\n",
    "         JOIN(\n",
    "             SELECT b.book_id, title, COUNT(rating_id) AS number_of_ratings, AVG(rating) AS avg_rating\n",
    "             FROM books b\n",
    "             JOIN ratings r ON r.book_id = b.book_id\n",
    "             GROUP BY b.book_id, title) j  ON j.book_id = b.book_id\n",
    "         WHERE number_of_ratings >= 50\n",
    "         GROUP BY author\n",
    "         ORDER BY avg_rating_total DESC\n",
    "         LIMIT 1\n",
    "        '''\n",
    "query_display(query_9)"
   ]
  },
  {
   "cell_type": "markdown",
   "metadata": {},
   "source": [
    "Автор с самой высокой средней оценкой книг это J.K. Rowling/Mary GrandPré"
   ]
  },
  {
   "cell_type": "markdown",
   "metadata": {},
   "source": [
    "## Посчитаю среднее количество обзоров от пользователей, которые поставили больше 50 оценок."
   ]
  },
  {
   "cell_type": "code",
   "execution_count": 13,
   "metadata": {},
   "outputs": [
    {
     "data": {
      "text/html": [
       "<div>\n",
       "<style scoped>\n",
       "    .dataframe tbody tr th:only-of-type {\n",
       "        vertical-align: middle;\n",
       "    }\n",
       "\n",
       "    .dataframe tbody tr th {\n",
       "        vertical-align: top;\n",
       "    }\n",
       "\n",
       "    .dataframe thead th {\n",
       "        text-align: right;\n",
       "    }\n",
       "</style>\n",
       "<table border=\"1\" class=\"dataframe\">\n",
       "  <thead>\n",
       "    <tr style=\"text-align: right;\">\n",
       "      <th></th>\n",
       "      <th>rounded_avg_review</th>\n",
       "    </tr>\n",
       "  </thead>\n",
       "  <tbody>\n",
       "    <tr>\n",
       "      <td>0</td>\n",
       "      <td>24.0</td>\n",
       "    </tr>\n",
       "  </tbody>\n",
       "</table>\n",
       "</div>"
      ],
      "text/plain": [
       "   rounded_avg_review\n",
       "0                24.0"
      ]
     },
     "execution_count": 13,
     "metadata": {},
     "output_type": "execute_result"
    }
   ],
   "source": [
    "query_10 = '''\n",
    "          SELECT ROUND(AVG(count_text)) AS rounded_avg_review    \n",
    "          FROM(\n",
    "               SELECT COUNT(text) AS count_text\n",
    "               FROM reviews r\n",
    "               FULL OUTER JOIN (\n",
    "                                SELECT username, COUNT(rating_id) AS count_raring \n",
    "                                FROM ratings \n",
    "                                GROUP BY username) c ON c.username = r.username \n",
    "                WHERE count_raring > 50\n",
    "                GROUP BY r.username) count_text;    \n",
    "     '''\n",
    "query_display(query_10)"
   ]
  },
  {
   "cell_type": "markdown",
   "metadata": {},
   "source": [
    "Среднее кол-во текстовых обзоров пользователей 24, которые поставили более чем по 50 оценок."
   ]
  },
  {
   "cell_type": "markdown",
   "metadata": {},
   "source": [
    "## Вывод"
   ]
  },
  {
   "cell_type": "markdown",
   "metadata": {},
   "source": [
    "После 1 января 2000 года было выпущено 819 книг.\n",
    "Топ-5 по количеству обзоров и среднему рейтингу:\n",
    "\n",
    " - Memoirs of a Geisha  8 / 4.13 средний рейтинг обзора\n",
    " - Twilight (Twilight #1) 7 обзоров / 3.66 средний рейтинг обзора\n",
    " - Harry Potter and the Prisoner of Azkaban 6 обзоров / 4.41 средний рейтинг обзора\n",
    " - Harry Potter and the Chamber of Secrets  6 обзоров /4.28 средний рейтинг обзора\n",
    " - The Book Thief 6 обзоров / 4.26 средний рейтинг обзора\n",
    "Издательство Penguin Books - выпустило наибольше число книг в кол-ве 42 книг, толще 50 страниц.\n",
    "\n",
    "Cамая высокая средняя оценка у автора J.K. Rowling/Mary GrandPré.\n",
    "Среднее кол-во текстовых обзоров пользователей 24, которые поставили более чем по 50 оценок."
   ]
  }
 ],
 "metadata": {
  "ExecuteTimeLog": [
   {
    "duration": 111,
    "start_time": "2022-02-18T15:51:12.284Z"
   },
   {
    "duration": 730,
    "start_time": "2022-02-18T15:51:23.362Z"
   },
   {
    "duration": 4,
    "start_time": "2022-02-18T15:51:25.579Z"
   },
   {
    "duration": 396,
    "start_time": "2022-02-18T15:53:32.637Z"
   },
   {
    "duration": 39,
    "start_time": "2022-02-18T15:54:08.235Z"
   },
   {
    "duration": 4,
    "start_time": "2022-02-18T15:54:19.402Z"
   },
   {
    "duration": 4,
    "start_time": "2022-02-18T15:56:55.454Z"
   },
   {
    "duration": 4,
    "start_time": "2022-02-18T15:57:40.265Z"
   },
   {
    "duration": 27,
    "start_time": "2022-02-18T16:01:26.141Z"
   },
   {
    "duration": 12,
    "start_time": "2022-02-18T16:01:30.657Z"
   },
   {
    "duration": 12,
    "start_time": "2022-02-18T16:01:36.831Z"
   },
   {
    "duration": 12,
    "start_time": "2022-02-18T16:01:48.225Z"
   },
   {
    "duration": 330,
    "start_time": "2022-02-18T16:02:29.985Z"
   },
   {
    "duration": 13,
    "start_time": "2022-02-18T16:02:50.213Z"
   },
   {
    "duration": 12,
    "start_time": "2022-02-18T16:03:07.535Z"
   },
   {
    "duration": 14,
    "start_time": "2022-02-18T16:03:10.266Z"
   },
   {
    "duration": 15,
    "start_time": "2022-02-18T16:03:20.418Z"
   },
   {
    "duration": 13,
    "start_time": "2022-02-18T16:03:49.094Z"
   },
   {
    "duration": 13,
    "start_time": "2022-02-18T16:05:44.877Z"
   },
   {
    "duration": 13,
    "start_time": "2022-02-18T16:06:13.904Z"
   },
   {
    "duration": 12,
    "start_time": "2022-02-18T16:06:17.301Z"
   },
   {
    "duration": 13,
    "start_time": "2022-02-18T16:06:22.821Z"
   },
   {
    "duration": 11,
    "start_time": "2022-02-18T16:07:56.711Z"
   },
   {
    "duration": 14,
    "start_time": "2022-02-18T16:07:58.474Z"
   },
   {
    "duration": 13,
    "start_time": "2022-02-18T16:08:00.766Z"
   },
   {
    "duration": 19,
    "start_time": "2022-02-18T16:08:02.879Z"
   },
   {
    "duration": 16,
    "start_time": "2022-02-18T16:12:06.773Z"
   },
   {
    "duration": 11,
    "start_time": "2022-02-18T16:12:15.300Z"
   },
   {
    "duration": 11,
    "start_time": "2022-02-18T16:12:35.807Z"
   },
   {
    "duration": 10,
    "start_time": "2022-02-18T16:12:45.046Z"
   },
   {
    "duration": 28,
    "start_time": "2022-02-18T16:16:42.061Z"
   },
   {
    "duration": 32,
    "start_time": "2022-02-18T16:17:12.435Z"
   },
   {
    "duration": 628,
    "start_time": "2022-02-20T17:24:31.450Z"
   },
   {
    "duration": 294,
    "start_time": "2022-02-20T17:24:34.650Z"
   },
   {
    "duration": 4,
    "start_time": "2022-02-20T17:24:40.109Z"
   },
   {
    "duration": 221,
    "start_time": "2022-02-20T17:24:43.383Z"
   },
   {
    "duration": 255,
    "start_time": "2022-02-20T17:24:56.361Z"
   },
   {
    "duration": 62,
    "start_time": "2022-02-20T17:24:59.180Z"
   },
   {
    "duration": 65,
    "start_time": "2022-02-20T17:25:01.460Z"
   },
   {
    "duration": 62,
    "start_time": "2022-02-20T17:25:04.156Z"
   },
   {
    "duration": 62,
    "start_time": "2022-02-20T17:25:06.919Z"
   },
   {
    "duration": 62,
    "start_time": "2022-02-20T17:25:09.619Z"
   },
   {
    "duration": 98,
    "start_time": "2022-02-20T17:25:13.245Z"
   },
   {
    "duration": 96,
    "start_time": "2022-02-20T17:26:57.530Z"
   },
   {
    "duration": 907,
    "start_time": "2022-02-22T15:51:46.647Z"
   },
   {
    "duration": 250,
    "start_time": "2022-02-22T15:51:53.873Z"
   },
   {
    "duration": 62,
    "start_time": "2022-02-22T15:51:56.366Z"
   },
   {
    "duration": 63,
    "start_time": "2022-02-22T15:51:58.165Z"
   },
   {
    "duration": 62,
    "start_time": "2022-02-22T15:52:00.257Z"
   },
   {
    "duration": 60,
    "start_time": "2022-02-22T15:52:02.455Z"
   },
   {
    "duration": 62,
    "start_time": "2022-02-22T15:52:34.204Z"
   },
   {
    "duration": 98,
    "start_time": "2022-02-22T15:52:37.897Z"
   },
   {
    "duration": 446,
    "start_time": "2022-02-22T15:55:55.887Z"
   },
   {
    "duration": 99,
    "start_time": "2022-02-22T15:56:04.200Z"
   },
   {
    "duration": 96,
    "start_time": "2022-02-22T15:56:19.006Z"
   },
   {
    "duration": 63,
    "start_time": "2022-02-22T16:10:20.131Z"
   },
   {
    "duration": 63,
    "start_time": "2022-02-22T16:10:25.912Z"
   },
   {
    "duration": 102,
    "start_time": "2022-02-22T16:10:56.526Z"
   },
   {
    "duration": 116,
    "start_time": "2022-02-22T16:11:52.370Z"
   },
   {
    "duration": 6,
    "start_time": "2022-02-22T16:12:18.338Z"
   },
   {
    "duration": 115,
    "start_time": "2022-02-22T16:12:54.097Z"
   },
   {
    "duration": 4,
    "start_time": "2022-02-22T16:12:56.033Z"
   },
   {
    "duration": 97,
    "start_time": "2022-02-22T16:12:58.014Z"
   },
   {
    "duration": 116,
    "start_time": "2022-02-22T16:13:10.533Z"
   },
   {
    "duration": 115,
    "start_time": "2022-02-22T16:14:08.384Z"
   },
   {
    "duration": 116,
    "start_time": "2022-02-22T16:15:32.885Z"
   },
   {
    "duration": 63,
    "start_time": "2022-02-22T16:17:45.256Z"
   },
   {
    "duration": 113,
    "start_time": "2022-02-22T16:18:14.834Z"
   },
   {
    "duration": 113,
    "start_time": "2022-02-22T16:18:19.534Z"
   },
   {
    "duration": 95,
    "start_time": "2022-02-22T16:19:12.228Z"
   },
   {
    "duration": 419,
    "start_time": "2022-02-22T16:23:59.896Z"
   },
   {
    "duration": 862,
    "start_time": "2022-02-22T16:24:11.661Z"
   },
   {
    "duration": 906,
    "start_time": "2022-02-22T16:24:27.890Z"
   },
   {
    "duration": 1056,
    "start_time": "2022-02-22T16:24:55.891Z"
   },
   {
    "duration": 62,
    "start_time": "2022-02-22T16:25:03.600Z"
   },
   {
    "duration": 61,
    "start_time": "2022-02-22T16:25:41.608Z"
   },
   {
    "duration": 68,
    "start_time": "2022-02-22T16:29:55.655Z"
   },
   {
    "duration": 712,
    "start_time": "2022-02-22T16:31:50.613Z"
   },
   {
    "duration": 65,
    "start_time": "2022-02-22T16:32:49.904Z"
   },
   {
    "duration": 65,
    "start_time": "2022-02-22T16:33:02.135Z"
   },
   {
    "duration": 64,
    "start_time": "2022-02-22T16:35:04.722Z"
   },
   {
    "duration": 61,
    "start_time": "2022-02-22T16:35:27.333Z"
   },
   {
    "duration": 63,
    "start_time": "2022-02-22T16:35:42.270Z"
   },
   {
    "duration": 655,
    "start_time": "2022-02-22T16:39:43.679Z"
   },
   {
    "duration": 65,
    "start_time": "2022-02-22T16:43:41.814Z"
   },
   {
    "duration": 68,
    "start_time": "2022-02-22T16:45:05.363Z"
   },
   {
    "duration": 668,
    "start_time": "2022-02-22T16:45:50.765Z"
   },
   {
    "duration": 735,
    "start_time": "2022-02-22T16:46:25.047Z"
   },
   {
    "duration": 66,
    "start_time": "2022-02-22T16:46:30.804Z"
   },
   {
    "duration": 751,
    "start_time": "2022-02-22T16:47:04.849Z"
   },
   {
    "duration": 63,
    "start_time": "2022-02-22T16:47:20.517Z"
   },
   {
    "duration": 66,
    "start_time": "2022-02-22T16:47:44.728Z"
   },
   {
    "duration": 63,
    "start_time": "2022-02-22T16:48:30.533Z"
   },
   {
    "duration": 64,
    "start_time": "2022-02-22T16:48:33.012Z"
   },
   {
    "duration": 3,
    "start_time": "2022-02-22T16:49:33.234Z"
   },
   {
    "duration": 117,
    "start_time": "2022-02-22T16:52:02.816Z"
   },
   {
    "duration": 624,
    "start_time": "2022-02-24T21:27:32.042Z"
   },
   {
    "duration": 40,
    "start_time": "2022-02-24T21:27:32.668Z"
   },
   {
    "duration": 10,
    "start_time": "2022-02-24T21:27:32.710Z"
   },
   {
    "duration": 10,
    "start_time": "2022-02-24T21:27:32.721Z"
   },
   {
    "duration": 10,
    "start_time": "2022-02-24T21:27:32.732Z"
   },
   {
    "duration": 9,
    "start_time": "2022-02-24T21:27:32.744Z"
   },
   {
    "duration": 8,
    "start_time": "2022-02-24T21:27:32.755Z"
   },
   {
    "duration": 49,
    "start_time": "2022-02-24T21:27:32.765Z"
   },
   {
    "duration": 10,
    "start_time": "2022-02-24T21:27:32.816Z"
   },
   {
    "duration": 13,
    "start_time": "2022-02-24T21:27:32.827Z"
   },
   {
    "duration": 11,
    "start_time": "2022-02-24T21:27:32.841Z"
   },
   {
    "duration": 43,
    "start_time": "2022-02-24T21:32:51.668Z"
   },
   {
    "duration": 45,
    "start_time": "2022-02-24T21:32:55.753Z"
   },
   {
    "duration": 15,
    "start_time": "2022-02-24T21:35:39.904Z"
   },
   {
    "duration": 14,
    "start_time": "2022-02-24T21:35:42.856Z"
   },
   {
    "duration": 706,
    "start_time": "2022-02-24T21:38:28.307Z"
   },
   {
    "duration": 38,
    "start_time": "2022-02-24T21:38:29.015Z"
   },
   {
    "duration": 9,
    "start_time": "2022-02-24T21:38:29.057Z"
   },
   {
    "duration": 9,
    "start_time": "2022-02-24T21:38:29.068Z"
   },
   {
    "duration": 10,
    "start_time": "2022-02-24T21:38:29.078Z"
   },
   {
    "duration": 10,
    "start_time": "2022-02-24T21:38:29.089Z"
   },
   {
    "duration": 9,
    "start_time": "2022-02-24T21:38:29.100Z"
   },
   {
    "duration": 47,
    "start_time": "2022-02-24T21:38:29.132Z"
   },
   {
    "duration": 10,
    "start_time": "2022-02-24T21:38:29.181Z"
   },
   {
    "duration": 12,
    "start_time": "2022-02-24T21:38:29.193Z"
   },
   {
    "duration": 12,
    "start_time": "2022-02-24T21:38:29.206Z"
   },
   {
    "duration": 98,
    "start_time": "2022-02-25T04:53:24.135Z"
   },
   {
    "duration": 678,
    "start_time": "2022-02-25T04:53:34.032Z"
   },
   {
    "duration": 50,
    "start_time": "2022-02-25T04:53:37.269Z"
   },
   {
    "duration": 13,
    "start_time": "2022-02-25T04:53:39.725Z"
   },
   {
    "duration": 12,
    "start_time": "2022-02-25T04:53:41.487Z"
   },
   {
    "duration": 14,
    "start_time": "2022-02-25T04:53:43.355Z"
   },
   {
    "duration": 13,
    "start_time": "2022-02-25T04:53:45.343Z"
   },
   {
    "duration": 66,
    "start_time": "2022-02-25T04:54:36.638Z"
   },
   {
    "duration": 14,
    "start_time": "2022-02-25T04:54:43.234Z"
   },
   {
    "duration": 32,
    "start_time": "2022-02-25T04:55:04.745Z"
   },
   {
    "duration": 27,
    "start_time": "2022-02-25T04:55:10.992Z"
   },
   {
    "duration": 15,
    "start_time": "2022-02-25T04:55:15.387Z"
   },
   {
    "duration": 15,
    "start_time": "2022-02-25T04:55:20.174Z"
   },
   {
    "duration": 22,
    "start_time": "2022-02-25T04:55:23.568Z"
   },
   {
    "duration": 12,
    "start_time": "2022-02-25T04:57:58.268Z"
   },
   {
    "duration": 635,
    "start_time": "2022-02-25T04:58:56.203Z"
   },
   {
    "duration": 12,
    "start_time": "2022-02-25T04:58:59.669Z"
   },
   {
    "duration": 57,
    "start_time": "2022-02-25T04:59:34.173Z"
   },
   {
    "duration": 36,
    "start_time": "2022-02-25T05:01:31.762Z"
   },
   {
    "duration": 81,
    "start_time": "2022-02-25T05:06:12.911Z"
   },
   {
    "duration": 12,
    "start_time": "2022-02-25T05:06:21.524Z"
   },
   {
    "duration": 15,
    "start_time": "2022-02-25T05:06:23.679Z"
   },
   {
    "duration": 13,
    "start_time": "2022-02-25T05:07:02.264Z"
   },
   {
    "duration": 900,
    "start_time": "2022-02-25T07:52:12.854Z"
   },
   {
    "duration": 279,
    "start_time": "2022-02-25T07:52:13.756Z"
   },
   {
    "duration": 72,
    "start_time": "2022-02-25T07:52:14.039Z"
   },
   {
    "duration": 72,
    "start_time": "2022-02-25T07:52:14.112Z"
   },
   {
    "duration": 95,
    "start_time": "2022-02-25T07:52:14.186Z"
   },
   {
    "duration": 86,
    "start_time": "2022-02-25T07:52:14.283Z"
   },
   {
    "duration": 68,
    "start_time": "2022-02-25T07:52:14.371Z"
   },
   {
    "duration": 91,
    "start_time": "2022-02-25T07:52:14.441Z"
   },
   {
    "duration": 69,
    "start_time": "2022-02-25T07:52:14.534Z"
   },
   {
    "duration": 72,
    "start_time": "2022-02-25T07:52:14.604Z"
   },
   {
    "duration": 70,
    "start_time": "2022-02-25T07:52:14.678Z"
   },
   {
    "duration": 865,
    "start_time": "2022-02-25T07:57:27.670Z"
   },
   {
    "duration": 278,
    "start_time": "2022-02-25T07:57:28.537Z"
   },
   {
    "duration": 76,
    "start_time": "2022-02-25T07:57:28.817Z"
   },
   {
    "duration": 70,
    "start_time": "2022-02-25T07:57:28.895Z"
   },
   {
    "duration": 97,
    "start_time": "2022-02-25T07:57:28.967Z"
   },
   {
    "duration": 86,
    "start_time": "2022-02-25T07:57:29.065Z"
   },
   {
    "duration": 72,
    "start_time": "2022-02-25T07:57:29.153Z"
   },
   {
    "duration": 92,
    "start_time": "2022-02-25T07:57:29.227Z"
   },
   {
    "duration": 70,
    "start_time": "2022-02-25T07:57:29.321Z"
   },
   {
    "duration": 72,
    "start_time": "2022-02-25T07:57:29.393Z"
   },
   {
    "duration": 72,
    "start_time": "2022-02-25T07:57:29.467Z"
   },
   {
    "duration": 820,
    "start_time": "2022-03-04T06:06:15.464Z"
   },
   {
    "duration": 4,
    "start_time": "2022-03-04T06:06:34.413Z"
   },
   {
    "duration": 6,
    "start_time": "2022-03-04T06:06:42.459Z"
   },
   {
    "duration": 66,
    "start_time": "2022-03-04T06:06:51.237Z"
   },
   {
    "duration": 23,
    "start_time": "2022-03-04T06:06:52.998Z"
   },
   {
    "duration": 21,
    "start_time": "2022-03-04T06:06:54.734Z"
   },
   {
    "duration": 45,
    "start_time": "2022-03-04T06:06:56.798Z"
   },
   {
    "duration": 33,
    "start_time": "2022-03-04T06:06:58.934Z"
   },
   {
    "duration": 14,
    "start_time": "2022-03-04T06:07:06.609Z"
   },
   {
    "duration": 50,
    "start_time": "2022-03-04T06:07:11.104Z"
   },
   {
    "duration": 19,
    "start_time": "2022-03-04T06:07:18.637Z"
   },
   {
    "duration": 19,
    "start_time": "2022-03-04T06:07:23.799Z"
   },
   {
    "duration": 16,
    "start_time": "2022-03-04T06:07:28.202Z"
   }
  ],
  "kernelspec": {
   "display_name": "Python 3",
   "language": "python",
   "name": "python3"
  },
  "language_info": {
   "codemirror_mode": {
    "name": "ipython",
    "version": 3
   },
   "file_extension": ".py",
   "mimetype": "text/x-python",
   "name": "python",
   "nbconvert_exporter": "python",
   "pygments_lexer": "ipython3",
   "version": "3.7.8"
  },
  "toc": {
   "base_numbering": 1,
   "nav_menu": {},
   "number_sections": true,
   "sideBar": true,
   "skip_h1_title": true,
   "title_cell": "Table of Contents",
   "title_sidebar": "Contents",
   "toc_cell": false,
   "toc_position": {},
   "toc_section_display": true,
   "toc_window_display": false
  }
 },
 "nbformat": 4,
 "nbformat_minor": 2
}
