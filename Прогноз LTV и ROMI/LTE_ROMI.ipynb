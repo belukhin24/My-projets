{
 "cells": [
  {
   "cell_type": "markdown",
   "id": "382e523d",
   "metadata": {},
   "source": [
    "# Иследование бизнес показателей"
   ]
  },
  {
   "cell_type": "markdown",
   "id": "2e867109",
   "metadata": {},
   "source": [
    "Мы - мобильная утилита для сканирования документов. \n",
    "\n",
    "Модель монетизации подписочная:\n",
    " - пробныей период 7 дней\n",
    " - далее 4,99 USD в неделю\n",
    "\n",
    "Имеется выгрузка с базы данных по оформлению подписок и оплат. Каждая строка представляет собой отдельное событие (либо оформление пробной подписки, либо оплата после завершения пробного периода). имеются следующие задания:\n",
    "\n",
    " 1. Необходимо рассчитать текущий LTV юзера, используя когортный анализ (cohorting event - оформление пробного периода, когорта представляет собой кол-во возможных операций).\n",
    " 2. Спрогнозировать, каким будет LTV на полгода.\n",
    " 3. Построить график, который будет отображать кривую фактического LTV на фоне кривой прогнозируемого LTV.\n",
    " 4. Рассчитать ROMI на 4 недели и на полгода, если стоимость привлечения платящего пользователя 6 USD (ROMI нужно брать операционный, а не бухгалтерский, цель: узнать как окупятся наши инвестиции)."
   ]
  },
  {
   "cell_type": "markdown",
   "id": "ee0bc320",
   "metadata": {},
   "source": [
    "## Импорт данных и библиотек "
   ]
  },
  {
   "cell_type": "code",
   "execution_count": 1,
   "id": "43604aa6",
   "metadata": {},
   "outputs": [],
   "source": [
    "import pandas as pd\n",
    "import numpy as np\n",
    "import matplotlib.pyplot as plt\n",
    "import seaborn as sns\n",
    "from openpyxl import load_workbook\n",
    "import sys\n",
    "import warnings\n",
    "if not sys.warnoptions:\n",
    "       warnings.simplefilter(\"ignore\")\n",
    "import lifetimes"
   ]
  },
  {
   "cell_type": "code",
   "execution_count": 2,
   "id": "a38b52df",
   "metadata": {},
   "outputs": [
    {
     "data": {
      "text/html": [
       "<div>\n",
       "<style scoped>\n",
       "    .dataframe tbody tr th:only-of-type {\n",
       "        vertical-align: middle;\n",
       "    }\n",
       "\n",
       "    .dataframe tbody tr th {\n",
       "        vertical-align: top;\n",
       "    }\n",
       "\n",
       "    .dataframe thead th {\n",
       "        text-align: right;\n",
       "    }\n",
       "</style>\n",
       "<table border=\"1\" class=\"dataframe\">\n",
       "  <thead>\n",
       "    <tr style=\"text-align: right;\">\n",
       "      <th></th>\n",
       "      <th>product_id</th>\n",
       "      <th>quantity</th>\n",
       "      <th>is_trial_period</th>\n",
       "      <th>purchase_date</th>\n",
       "      <th>user_id</th>\n",
       "    </tr>\n",
       "  </thead>\n",
       "  <tbody>\n",
       "    <tr>\n",
       "      <th>0</th>\n",
       "      <td>1week_4.99_USD_subscription_7days_trial</td>\n",
       "      <td>1</td>\n",
       "      <td>False</td>\n",
       "      <td>2020-02-19</td>\n",
       "      <td>9484222</td>\n",
       "    </tr>\n",
       "    <tr>\n",
       "      <th>1</th>\n",
       "      <td>1week_4.99_USD_subscription_7days_trial</td>\n",
       "      <td>1</td>\n",
       "      <td>False</td>\n",
       "      <td>2020-02-17</td>\n",
       "      <td>9422402</td>\n",
       "    </tr>\n",
       "    <tr>\n",
       "      <th>2</th>\n",
       "      <td>1week_4.99_USD_subscription_7days_trial</td>\n",
       "      <td>1</td>\n",
       "      <td>False</td>\n",
       "      <td>2020-02-18</td>\n",
       "      <td>4997991</td>\n",
       "    </tr>\n",
       "    <tr>\n",
       "      <th>3</th>\n",
       "      <td>1week_4.99_USD_subscription_7days_trial</td>\n",
       "      <td>1</td>\n",
       "      <td>False</td>\n",
       "      <td>2020-02-18</td>\n",
       "      <td>9455582</td>\n",
       "    </tr>\n",
       "    <tr>\n",
       "      <th>4</th>\n",
       "      <td>1week_4.99_USD_subscription_7days_trial</td>\n",
       "      <td>1</td>\n",
       "      <td>False</td>\n",
       "      <td>2020-02-16</td>\n",
       "      <td>8803657</td>\n",
       "    </tr>\n",
       "    <tr>\n",
       "      <th>...</th>\n",
       "      <td>...</td>\n",
       "      <td>...</td>\n",
       "      <td>...</td>\n",
       "      <td>...</td>\n",
       "      <td>...</td>\n",
       "    </tr>\n",
       "    <tr>\n",
       "      <th>114195</th>\n",
       "      <td>1week_4.99_USD_subscription_7days_trial</td>\n",
       "      <td>1</td>\n",
       "      <td>True</td>\n",
       "      <td>2020-01-04</td>\n",
       "      <td>8291100</td>\n",
       "    </tr>\n",
       "    <tr>\n",
       "      <th>114196</th>\n",
       "      <td>1week_4.99_USD_subscription_7days_trial</td>\n",
       "      <td>1</td>\n",
       "      <td>True</td>\n",
       "      <td>2020-01-02</td>\n",
       "      <td>8236936</td>\n",
       "    </tr>\n",
       "    <tr>\n",
       "      <th>114197</th>\n",
       "      <td>1week_4.99_USD_subscription_7days_trial</td>\n",
       "      <td>1</td>\n",
       "      <td>True</td>\n",
       "      <td>2020-01-03</td>\n",
       "      <td>8247910</td>\n",
       "    </tr>\n",
       "    <tr>\n",
       "      <th>114198</th>\n",
       "      <td>1week_4.99_USD_subscription_7days_trial</td>\n",
       "      <td>1</td>\n",
       "      <td>True</td>\n",
       "      <td>2020-01-04</td>\n",
       "      <td>8294146</td>\n",
       "    </tr>\n",
       "    <tr>\n",
       "      <th>114199</th>\n",
       "      <td>1week_4.99_USD_subscription_7days_trial</td>\n",
       "      <td>1</td>\n",
       "      <td>True</td>\n",
       "      <td>2020-01-03</td>\n",
       "      <td>8274954</td>\n",
       "    </tr>\n",
       "  </tbody>\n",
       "</table>\n",
       "<p>114200 rows × 5 columns</p>\n",
       "</div>"
      ],
      "text/plain": [
       "                                     product_id  quantity  is_trial_period  \\\n",
       "0       1week_4.99_USD_subscription_7days_trial         1            False   \n",
       "1       1week_4.99_USD_subscription_7days_trial         1            False   \n",
       "2       1week_4.99_USD_subscription_7days_trial         1            False   \n",
       "3       1week_4.99_USD_subscription_7days_trial         1            False   \n",
       "4       1week_4.99_USD_subscription_7days_trial         1            False   \n",
       "...                                         ...       ...              ...   \n",
       "114195  1week_4.99_USD_subscription_7days_trial         1             True   \n",
       "114196  1week_4.99_USD_subscription_7days_trial         1             True   \n",
       "114197  1week_4.99_USD_subscription_7days_trial         1             True   \n",
       "114198  1week_4.99_USD_subscription_7days_trial         1             True   \n",
       "114199  1week_4.99_USD_subscription_7days_trial         1             True   \n",
       "\n",
       "       purchase_date  user_id  \n",
       "0         2020-02-19  9484222  \n",
       "1         2020-02-17  9422402  \n",
       "2         2020-02-18  4997991  \n",
       "3         2020-02-18  9455582  \n",
       "4         2020-02-16  8803657  \n",
       "...              ...      ...  \n",
       "114195    2020-01-04  8291100  \n",
       "114196    2020-01-02  8236936  \n",
       "114197    2020-01-03  8247910  \n",
       "114198    2020-01-04  8294146  \n",
       "114199    2020-01-03  8274954  \n",
       "\n",
       "[114200 rows x 5 columns]"
      ]
     },
     "execution_count": 2,
     "metadata": {},
     "output_type": "execute_result"
    }
   ],
   "source": [
    "df = pd.read_excel('/Users/Lenovo/Downloads/test case data analyst.xlsx', sheet_name='raw data')\n",
    "df"
   ]
  },
  {
   "cell_type": "markdown",
   "id": "7db66325",
   "metadata": {},
   "source": [
    "Вижу что в выгрузке 5 столбцов:\n",
    " - наименование продукта\n",
    " - кол-во продукта\n",
    " - пробный период это или нет\n",
    " - дата оплаты\n",
    " - номер клиента"
   ]
  },
  {
   "cell_type": "markdown",
   "id": "2a4f7ff1",
   "metadata": {},
   "source": [
    "## Предподготовка данных"
   ]
  },
  {
   "cell_type": "markdown",
   "id": "ae213ab9",
   "metadata": {},
   "source": [
    "Гляну на данные, а именно посмотрю на пропуски, дубликаты, и типы данных"
   ]
  },
  {
   "cell_type": "code",
   "execution_count": 5,
   "id": "5b6a9d2b",
   "metadata": {},
   "outputs": [
    {
     "name": "stdout",
     "output_type": "stream",
     "text": [
      "<class 'pandas.core.frame.DataFrame'>\n",
      "RangeIndex: 114200 entries, 0 to 114199\n",
      "Data columns (total 5 columns):\n",
      " #   Column           Non-Null Count   Dtype         \n",
      "---  ------           --------------   -----         \n",
      " 0   product_id       114200 non-null  object        \n",
      " 1   quantity         114200 non-null  int64         \n",
      " 2   is_trial_period  114200 non-null  bool          \n",
      " 3   purchase_date    114200 non-null  datetime64[ns]\n",
      " 4   user_id          114200 non-null  int64         \n",
      "dtypes: bool(1), datetime64[ns](1), int64(2), object(1)\n",
      "memory usage: 3.6+ MB\n"
     ]
    }
   ],
   "source": [
    "df.info()"
   ]
  },
  {
   "cell_type": "markdown",
   "id": "12a84a6c",
   "metadata": {},
   "source": [
    "пропусков нет, типы данных в порядке, гляну на дубликаты"
   ]
  },
  {
   "cell_type": "code",
   "execution_count": 6,
   "id": "ceb1d25e",
   "metadata": {},
   "outputs": [
    {
     "data": {
      "text/plain": [
       "False    114116\n",
       "True         84\n",
       "dtype: int64"
      ]
     },
     "execution_count": 6,
     "metadata": {},
     "output_type": "execute_result"
    }
   ],
   "source": [
    "df.duplicated().value_counts()"
   ]
  },
  {
   "cell_type": "markdown",
   "id": "22e75679",
   "metadata": {},
   "source": [
    "обнаружил 84 дубликата, гляну на них"
   ]
  },
  {
   "cell_type": "code",
   "execution_count": 7,
   "id": "90bfe9a8",
   "metadata": {},
   "outputs": [
    {
     "data": {
      "text/plain": [
       "product_id                               quantity  is_trial_period  purchase_date  user_id\n",
       "1week_4.99_USD_subscription_7days_trial  1         False            2020-02-16     9584301    7\n",
       "                                                   True             2020-01-05     8364086    3\n",
       "                                                                    2020-01-19     8805046    3\n",
       "                                                                    2020-01-26     9004386    3\n",
       "                                                                    2020-01-09     8486473    3\n",
       "                                                                    2020-02-13     9527949    3\n",
       "                                                                    2020-01-18     8752195    3\n",
       "                                                                    2020-02-07     9363812    3\n",
       "                                                                    2020-01-08     8450482    3\n",
       "                                                                    2020-01-14     7346601    3\n",
       "                                                                    2020-01-23     8928229    3\n",
       "                                                                    2020-01-12     8577778    3\n",
       "                                                   False            2020-01-22     8671902    3\n",
       "                                                   True             2020-01-28     9036347    3\n",
       "                                                                    2020-01-03     8269588    3\n",
       "                                                                    2020-02-04     9191067    2\n",
       "                                                   False            2020-01-24     1335694    2\n",
       "                                                                    2020-02-11     5943648    2\n",
       "                                                   True             2020-01-11     8538635    2\n",
       "                                                                    2020-01-14     8650192    2\n",
       "dtype: int64"
      ]
     },
     "execution_count": 7,
     "metadata": {},
     "output_type": "execute_result"
    }
   ],
   "source": [
    "df.value_counts().head(20)"
   ]
  },
  {
   "cell_type": "markdown",
   "id": "2acf748a",
   "metadata": {},
   "source": [
    "вижу что в выгрузке есть странные дубликаты, один из клиентов одновременно купил подписку 7 раз за день, а есть такие которые за день 3 раза начали использовать наше приложение в триал версии\n",
    "\n",
    "Количество дубликатов и их нелогичная приророда наводит на мысль что это ошибка при формировании выгрузки, я в любом случае доведу информацию о наличии дубликатов в выгрузке руководителю, возможно ошибка формируется раньше.\n",
    "\n",
    "Удалю дубликаты"
   ]
  },
  {
   "cell_type": "code",
   "execution_count": 3,
   "id": "85da3c80",
   "metadata": {},
   "outputs": [
    {
     "data": {
      "text/html": [
       "<div>\n",
       "<style scoped>\n",
       "    .dataframe tbody tr th:only-of-type {\n",
       "        vertical-align: middle;\n",
       "    }\n",
       "\n",
       "    .dataframe tbody tr th {\n",
       "        vertical-align: top;\n",
       "    }\n",
       "\n",
       "    .dataframe thead th {\n",
       "        text-align: right;\n",
       "    }\n",
       "</style>\n",
       "<table border=\"1\" class=\"dataframe\">\n",
       "  <thead>\n",
       "    <tr style=\"text-align: right;\">\n",
       "      <th></th>\n",
       "      <th>product_id</th>\n",
       "      <th>quantity</th>\n",
       "      <th>is_trial_period</th>\n",
       "      <th>purchase_date</th>\n",
       "      <th>user_id</th>\n",
       "    </tr>\n",
       "  </thead>\n",
       "  <tbody>\n",
       "    <tr>\n",
       "      <th>0</th>\n",
       "      <td>1week_4.99_USD_subscription_7days_trial</td>\n",
       "      <td>1</td>\n",
       "      <td>False</td>\n",
       "      <td>2020-02-19</td>\n",
       "      <td>9484222</td>\n",
       "    </tr>\n",
       "    <tr>\n",
       "      <th>1</th>\n",
       "      <td>1week_4.99_USD_subscription_7days_trial</td>\n",
       "      <td>1</td>\n",
       "      <td>False</td>\n",
       "      <td>2020-02-17</td>\n",
       "      <td>9422402</td>\n",
       "    </tr>\n",
       "    <tr>\n",
       "      <th>2</th>\n",
       "      <td>1week_4.99_USD_subscription_7days_trial</td>\n",
       "      <td>1</td>\n",
       "      <td>False</td>\n",
       "      <td>2020-02-18</td>\n",
       "      <td>4997991</td>\n",
       "    </tr>\n",
       "    <tr>\n",
       "      <th>3</th>\n",
       "      <td>1week_4.99_USD_subscription_7days_trial</td>\n",
       "      <td>1</td>\n",
       "      <td>False</td>\n",
       "      <td>2020-02-18</td>\n",
       "      <td>9455582</td>\n",
       "    </tr>\n",
       "    <tr>\n",
       "      <th>4</th>\n",
       "      <td>1week_4.99_USD_subscription_7days_trial</td>\n",
       "      <td>1</td>\n",
       "      <td>False</td>\n",
       "      <td>2020-02-16</td>\n",
       "      <td>8803657</td>\n",
       "    </tr>\n",
       "    <tr>\n",
       "      <th>...</th>\n",
       "      <td>...</td>\n",
       "      <td>...</td>\n",
       "      <td>...</td>\n",
       "      <td>...</td>\n",
       "      <td>...</td>\n",
       "    </tr>\n",
       "    <tr>\n",
       "      <th>114195</th>\n",
       "      <td>1week_4.99_USD_subscription_7days_trial</td>\n",
       "      <td>1</td>\n",
       "      <td>True</td>\n",
       "      <td>2020-01-04</td>\n",
       "      <td>8291100</td>\n",
       "    </tr>\n",
       "    <tr>\n",
       "      <th>114196</th>\n",
       "      <td>1week_4.99_USD_subscription_7days_trial</td>\n",
       "      <td>1</td>\n",
       "      <td>True</td>\n",
       "      <td>2020-01-02</td>\n",
       "      <td>8236936</td>\n",
       "    </tr>\n",
       "    <tr>\n",
       "      <th>114197</th>\n",
       "      <td>1week_4.99_USD_subscription_7days_trial</td>\n",
       "      <td>1</td>\n",
       "      <td>True</td>\n",
       "      <td>2020-01-03</td>\n",
       "      <td>8247910</td>\n",
       "    </tr>\n",
       "    <tr>\n",
       "      <th>114198</th>\n",
       "      <td>1week_4.99_USD_subscription_7days_trial</td>\n",
       "      <td>1</td>\n",
       "      <td>True</td>\n",
       "      <td>2020-01-04</td>\n",
       "      <td>8294146</td>\n",
       "    </tr>\n",
       "    <tr>\n",
       "      <th>114199</th>\n",
       "      <td>1week_4.99_USD_subscription_7days_trial</td>\n",
       "      <td>1</td>\n",
       "      <td>True</td>\n",
       "      <td>2020-01-03</td>\n",
       "      <td>8274954</td>\n",
       "    </tr>\n",
       "  </tbody>\n",
       "</table>\n",
       "<p>114116 rows × 5 columns</p>\n",
       "</div>"
      ],
      "text/plain": [
       "                                     product_id  quantity  is_trial_period  \\\n",
       "0       1week_4.99_USD_subscription_7days_trial         1            False   \n",
       "1       1week_4.99_USD_subscription_7days_trial         1            False   \n",
       "2       1week_4.99_USD_subscription_7days_trial         1            False   \n",
       "3       1week_4.99_USD_subscription_7days_trial         1            False   \n",
       "4       1week_4.99_USD_subscription_7days_trial         1            False   \n",
       "...                                         ...       ...              ...   \n",
       "114195  1week_4.99_USD_subscription_7days_trial         1             True   \n",
       "114196  1week_4.99_USD_subscription_7days_trial         1             True   \n",
       "114197  1week_4.99_USD_subscription_7days_trial         1             True   \n",
       "114198  1week_4.99_USD_subscription_7days_trial         1             True   \n",
       "114199  1week_4.99_USD_subscription_7days_trial         1             True   \n",
       "\n",
       "       purchase_date  user_id  \n",
       "0         2020-02-19  9484222  \n",
       "1         2020-02-17  9422402  \n",
       "2         2020-02-18  4997991  \n",
       "3         2020-02-18  9455582  \n",
       "4         2020-02-16  8803657  \n",
       "...              ...      ...  \n",
       "114195    2020-01-04  8291100  \n",
       "114196    2020-01-02  8236936  \n",
       "114197    2020-01-03  8247910  \n",
       "114198    2020-01-04  8294146  \n",
       "114199    2020-01-03  8274954  \n",
       "\n",
       "[114116 rows x 5 columns]"
      ]
     },
     "execution_count": 3,
     "metadata": {},
     "output_type": "execute_result"
    }
   ],
   "source": [
    "df = df.drop_duplicates()\n",
    "df"
   ]
  },
  {
   "cell_type": "markdown",
   "id": "dc35ff56",
   "metadata": {},
   "source": [
    "дубликаты удалил, ровно 84 строки, меньше 1 % от наших данных\n",
    "\n",
    "гляну на временной период и уникальное кол-во пользователей"
   ]
  },
  {
   "cell_type": "code",
   "execution_count": 4,
   "id": "0276ecbf",
   "metadata": {},
   "outputs": [
    {
     "name": "stdout",
     "output_type": "stream",
     "text": [
      "Временной период с 2020-01-01 00:00:00 по 2020-02-20 00:00:00\n",
      "Уникальных пользователей: 62909\n",
      "\n"
     ]
    }
   ],
   "source": [
    "date_start = df['purchase_date'].min()\n",
    "date_end = df['purchase_date'].max()\n",
    "total_customer = df['user_id'].nunique()\n",
    "\n",
    "print(f'Временной период с {date_start} по {date_end}')\n",
    "print('Уникальных пользователей:', total_customer)\n",
    "print()"
   ]
  },
  {
   "cell_type": "markdown",
   "id": "2c590a15",
   "metadata": {},
   "source": [
    "**ВЫВОД**\n",
    " - данные даны с 01.01.2020 по 20.02.2022\n",
    " - количество уникальных пользователей в выборке 62 909 пользователей\n",
    " - в выбоке 84 дубликаты, были удалены\n",
    " - осталось 114116 строк\n",
    " - пропусков в датасете нет\n",
    " - данные изначально были приведены в нужный формат"
   ]
  },
  {
   "cell_type": "markdown",
   "id": "7d36a5d4",
   "metadata": {},
   "source": [
    "##  Иследование данных"
   ]
  },
  {
   "cell_type": "markdown",
   "id": "4febe21b",
   "metadata": {},
   "source": [
    "### Общее иследование "
   ]
  },
  {
   "cell_type": "markdown",
   "id": "6be46e55",
   "metadata": {},
   "source": [
    "гляну как распределяются события в течении данного периода"
   ]
  },
  {
   "cell_type": "code",
   "execution_count": 5,
   "id": "9e07156d",
   "metadata": {},
   "outputs": [
    {
     "data": {
      "image/png": "[encoded data removed]",
      "text/plain": [
       "<Figure size 792x360 with 1 Axes>"
      ]
     },
     "metadata": {
      "needs_background": "light"
     },
     "output_type": "display_data"
    }
   ],
   "source": [
    "df['purchase_date'].hist(bins = 25, figsize = (11,5))\n",
    "plt.xlabel('дата')\n",
    "plt.ylabel('кол-во событий')\n",
    "plt.show()"
   ]
  },
  {
   "cell_type": "markdown",
   "id": "4672655c",
   "metadata": {},
   "source": [
    "по данной гистограмме вижу, что  в даной выгрузке наблюдается растущий тренд в кол-ве событий, чуть позже гляну подробнее\n",
    "\n",
    "А сейчас посмотрю сколько продуктов и какое количество есть в датасете"
   ]
  },
  {
   "cell_type": "code",
   "execution_count": 6,
   "id": "25a30e72",
   "metadata": {},
   "outputs": [
    {
     "name": "stdout",
     "output_type": "stream",
     "text": [
      "['1week_4.99_USD_subscription_7days_trial']\n",
      "[1]\n"
     ]
    }
   ],
   "source": [
    "print(df['product_id'].unique())\n",
    "print(df['quantity'].unique())"
   ]
  },
  {
   "cell_type": "markdown",
   "id": "e90c41c5",
   "metadata": {},
   "source": [
    "вижу что в данной выгрузке только один продукт, наша подписка, и кол-во ее всегда равно единице\n"
   ]
  },
  {
   "cell_type": "markdown",
   "id": "af6d46ed",
   "metadata": {},
   "source": [
    "### Расчитаю LTV применяя когортный анализ"
   ]
  },
  {
   "cell_type": "markdown",
   "id": "0c8f2b96",
   "metadata": {},
   "source": [
    "Для начала найду даты первого посещения по каждому посетителю, т.е кагорту и проверю коректность понедельного лайфтайм каждой когорты"
   ]
  },
  {
   "cell_type": "code",
   "execution_count": 7,
   "id": "8f548ae1",
   "metadata": {},
   "outputs": [
    {
     "data": {
      "text/html": [
       "<div>\n",
       "<style scoped>\n",
       "    .dataframe tbody tr th:only-of-type {\n",
       "        vertical-align: middle;\n",
       "    }\n",
       "\n",
       "    .dataframe tbody tr th {\n",
       "        vertical-align: top;\n",
       "    }\n",
       "\n",
       "    .dataframe thead th {\n",
       "        text-align: right;\n",
       "    }\n",
       "</style>\n",
       "<table border=\"1\" class=\"dataframe\">\n",
       "  <thead>\n",
       "    <tr style=\"text-align: right;\">\n",
       "      <th></th>\n",
       "      <th>product_id</th>\n",
       "      <th>quantity</th>\n",
       "      <th>is_trial_period</th>\n",
       "      <th>purchase_date</th>\n",
       "      <th>user_id</th>\n",
       "      <th>first_purchase_date</th>\n",
       "      <th>purchase_week</th>\n",
       "      <th>first_purchase_week</th>\n",
       "      <th>cohort_lifetime</th>\n",
       "    </tr>\n",
       "  </thead>\n",
       "  <tbody>\n",
       "    <tr>\n",
       "      <th>0</th>\n",
       "      <td>1week_4.99_USD_subscription_7days_trial</td>\n",
       "      <td>1</td>\n",
       "      <td>False</td>\n",
       "      <td>2020-02-19</td>\n",
       "      <td>9484222</td>\n",
       "      <td>2020-02-12</td>\n",
       "      <td>2020-02-13</td>\n",
       "      <td>2020-02-06</td>\n",
       "      <td>1</td>\n",
       "    </tr>\n",
       "    <tr>\n",
       "      <th>1</th>\n",
       "      <td>1week_4.99_USD_subscription_7days_trial</td>\n",
       "      <td>1</td>\n",
       "      <td>True</td>\n",
       "      <td>2020-02-12</td>\n",
       "      <td>9484222</td>\n",
       "      <td>2020-02-12</td>\n",
       "      <td>2020-02-06</td>\n",
       "      <td>2020-02-06</td>\n",
       "      <td>0</td>\n",
       "    </tr>\n",
       "    <tr>\n",
       "      <th>2</th>\n",
       "      <td>1week_4.99_USD_subscription_7days_trial</td>\n",
       "      <td>1</td>\n",
       "      <td>False</td>\n",
       "      <td>2020-02-17</td>\n",
       "      <td>9422402</td>\n",
       "      <td>2020-02-10</td>\n",
       "      <td>2020-02-13</td>\n",
       "      <td>2020-02-06</td>\n",
       "      <td>1</td>\n",
       "    </tr>\n",
       "    <tr>\n",
       "      <th>3</th>\n",
       "      <td>1week_4.99_USD_subscription_7days_trial</td>\n",
       "      <td>1</td>\n",
       "      <td>True</td>\n",
       "      <td>2020-02-10</td>\n",
       "      <td>9422402</td>\n",
       "      <td>2020-02-10</td>\n",
       "      <td>2020-02-06</td>\n",
       "      <td>2020-02-06</td>\n",
       "      <td>0</td>\n",
       "    </tr>\n",
       "    <tr>\n",
       "      <th>4</th>\n",
       "      <td>1week_4.99_USD_subscription_7days_trial</td>\n",
       "      <td>1</td>\n",
       "      <td>False</td>\n",
       "      <td>2020-02-18</td>\n",
       "      <td>4997991</td>\n",
       "      <td>2020-02-11</td>\n",
       "      <td>2020-02-13</td>\n",
       "      <td>2020-02-06</td>\n",
       "      <td>1</td>\n",
       "    </tr>\n",
       "  </tbody>\n",
       "</table>\n",
       "</div>"
      ],
      "text/plain": [
       "                                product_id  quantity  is_trial_period  \\\n",
       "0  1week_4.99_USD_subscription_7days_trial         1            False   \n",
       "1  1week_4.99_USD_subscription_7days_trial         1             True   \n",
       "2  1week_4.99_USD_subscription_7days_trial         1            False   \n",
       "3  1week_4.99_USD_subscription_7days_trial         1             True   \n",
       "4  1week_4.99_USD_subscription_7days_trial         1            False   \n",
       "\n",
       "  purchase_date  user_id first_purchase_date purchase_week  \\\n",
       "0    2020-02-19  9484222          2020-02-12    2020-02-13   \n",
       "1    2020-02-12  9484222          2020-02-12    2020-02-06   \n",
       "2    2020-02-17  9422402          2020-02-10    2020-02-13   \n",
       "3    2020-02-10  9422402          2020-02-10    2020-02-06   \n",
       "4    2020-02-18  4997991          2020-02-11    2020-02-13   \n",
       "\n",
       "  first_purchase_week  cohort_lifetime  \n",
       "0          2020-02-06                1  \n",
       "1          2020-02-06                0  \n",
       "2          2020-02-06                1  \n",
       "3          2020-02-06                0  \n",
       "4          2020-02-06                1  "
      ]
     },
     "metadata": {},
     "output_type": "display_data"
    },
    {
     "name": "stdout",
     "output_type": "stream",
     "text": [
      "<class 'pandas.core.frame.DataFrame'>\n",
      "Int64Index: 114116 entries, 0 to 114115\n",
      "Data columns (total 9 columns):\n",
      " #   Column               Non-Null Count   Dtype         \n",
      "---  ------               --------------   -----         \n",
      " 0   product_id           114116 non-null  object        \n",
      " 1   quantity             114116 non-null  int64         \n",
      " 2   is_trial_period      114116 non-null  bool          \n",
      " 3   purchase_date        114116 non-null  datetime64[ns]\n",
      " 4   user_id              114116 non-null  int64         \n",
      " 5   first_purchase_date  114116 non-null  datetime64[ns]\n",
      " 6   purchase_week        114116 non-null  datetime64[ns]\n",
      " 7   first_purchase_week  114116 non-null  datetime64[ns]\n",
      " 8   cohort_lifetime      114116 non-null  int32         \n",
      "dtypes: bool(1), datetime64[ns](4), int32(1), int64(2), object(1)\n",
      "memory usage: 7.5+ MB\n"
     ]
    }
   ],
   "source": [
    "first_purchase = (\n",
    "    df\n",
    "    .query('is_trial_period == True')\n",
    "    .groupby('user_id')\n",
    "    .agg({'purchase_date':'min'})\n",
    ") # сгрупировал данные по первому триал пользованию\n",
    "\n",
    "first_purchase.columns = ['first_purchase_date'] # перемеиновал столбец\n",
    "\n",
    "df_cohorts = df.merge(first_purchase, on= 'user_id') # cоединил с основной таблицей\n",
    "\n",
    "df_cohorts['purchase_week'] = df_cohorts['purchase_date'].astype('datetime64[W]') #получил неделю конкретного события\n",
    "df_cohorts['first_purchase_week'] = df_cohorts['first_purchase_date'].astype('datetime64[W]') # получил недельные когорты \n",
    "\n",
    "df_cohorts['cohort_lifetime'] = ((\n",
    "    df_cohorts['purchase_week'] - df_cohorts['first_purchase_week']) \n",
    "    / np.timedelta64(1, 'W')).round().astype('int') # получил лайфтайм кокогт\n",
    "\n",
    "\n",
    "display(df_cohorts.head())\n",
    "df_cohorts.info()"
   ]
  },
  {
   "cell_type": "markdown",
   "id": "d56af3ec",
   "metadata": {},
   "source": [
    "Когорты получены, пропусков нет\n",
    "\n",
    "Проверю есть ли отрицательные лайфтайм"
   ]
  },
  {
   "cell_type": "code",
   "execution_count": 8,
   "id": "839c63c8",
   "metadata": {},
   "outputs": [
    {
     "data": {
      "text/html": [
       "<div>\n",
       "<style scoped>\n",
       "    .dataframe tbody tr th:only-of-type {\n",
       "        vertical-align: middle;\n",
       "    }\n",
       "\n",
       "    .dataframe tbody tr th {\n",
       "        vertical-align: top;\n",
       "    }\n",
       "\n",
       "    .dataframe thead th {\n",
       "        text-align: right;\n",
       "    }\n",
       "</style>\n",
       "<table border=\"1\" class=\"dataframe\">\n",
       "  <thead>\n",
       "    <tr style=\"text-align: right;\">\n",
       "      <th></th>\n",
       "      <th>product_id</th>\n",
       "      <th>quantity</th>\n",
       "      <th>is_trial_period</th>\n",
       "      <th>purchase_date</th>\n",
       "      <th>user_id</th>\n",
       "      <th>first_purchase_date</th>\n",
       "      <th>purchase_week</th>\n",
       "      <th>first_purchase_week</th>\n",
       "      <th>cohort_lifetime</th>\n",
       "    </tr>\n",
       "  </thead>\n",
       "  <tbody>\n",
       "    <tr>\n",
       "      <th>15024</th>\n",
       "      <td>1week_4.99_USD_subscription_7days_trial</td>\n",
       "      <td>1</td>\n",
       "      <td>False</td>\n",
       "      <td>2020-01-22</td>\n",
       "      <td>1511831</td>\n",
       "      <td>2020-01-31</td>\n",
       "      <td>2020-01-16</td>\n",
       "      <td>2020-01-30</td>\n",
       "      <td>-2</td>\n",
       "    </tr>\n",
       "    <tr>\n",
       "      <th>15025</th>\n",
       "      <td>1week_4.99_USD_subscription_7days_trial</td>\n",
       "      <td>1</td>\n",
       "      <td>False</td>\n",
       "      <td>2020-01-01</td>\n",
       "      <td>1511831</td>\n",
       "      <td>2020-01-31</td>\n",
       "      <td>2019-12-26</td>\n",
       "      <td>2020-01-30</td>\n",
       "      <td>-5</td>\n",
       "    </tr>\n",
       "    <tr>\n",
       "      <th>15026</th>\n",
       "      <td>1week_4.99_USD_subscription_7days_trial</td>\n",
       "      <td>1</td>\n",
       "      <td>False</td>\n",
       "      <td>2020-01-08</td>\n",
       "      <td>1511831</td>\n",
       "      <td>2020-01-31</td>\n",
       "      <td>2020-01-02</td>\n",
       "      <td>2020-01-30</td>\n",
       "      <td>-4</td>\n",
       "    </tr>\n",
       "    <tr>\n",
       "      <th>15027</th>\n",
       "      <td>1week_4.99_USD_subscription_7days_trial</td>\n",
       "      <td>1</td>\n",
       "      <td>False</td>\n",
       "      <td>2020-01-29</td>\n",
       "      <td>1511831</td>\n",
       "      <td>2020-01-31</td>\n",
       "      <td>2020-01-23</td>\n",
       "      <td>2020-01-30</td>\n",
       "      <td>-1</td>\n",
       "    </tr>\n",
       "    <tr>\n",
       "      <th>15029</th>\n",
       "      <td>1week_4.99_USD_subscription_7days_trial</td>\n",
       "      <td>1</td>\n",
       "      <td>False</td>\n",
       "      <td>2020-01-15</td>\n",
       "      <td>1511831</td>\n",
       "      <td>2020-01-31</td>\n",
       "      <td>2020-01-09</td>\n",
       "      <td>2020-01-30</td>\n",
       "      <td>-3</td>\n",
       "    </tr>\n",
       "    <tr>\n",
       "      <th>29016</th>\n",
       "      <td>1week_4.99_USD_subscription_7days_trial</td>\n",
       "      <td>1</td>\n",
       "      <td>False</td>\n",
       "      <td>2020-01-03</td>\n",
       "      <td>7591159</td>\n",
       "      <td>2020-02-02</td>\n",
       "      <td>2020-01-02</td>\n",
       "      <td>2020-01-30</td>\n",
       "      <td>-4</td>\n",
       "    </tr>\n",
       "    <tr>\n",
       "      <th>29017</th>\n",
       "      <td>1week_4.99_USD_subscription_7days_trial</td>\n",
       "      <td>1</td>\n",
       "      <td>False</td>\n",
       "      <td>2020-01-10</td>\n",
       "      <td>7591159</td>\n",
       "      <td>2020-02-02</td>\n",
       "      <td>2020-01-09</td>\n",
       "      <td>2020-01-30</td>\n",
       "      <td>-3</td>\n",
       "    </tr>\n",
       "    <tr>\n",
       "      <th>51438</th>\n",
       "      <td>1week_4.99_USD_subscription_7days_trial</td>\n",
       "      <td>1</td>\n",
       "      <td>False</td>\n",
       "      <td>2020-01-14</td>\n",
       "      <td>2555928</td>\n",
       "      <td>2020-01-22</td>\n",
       "      <td>2020-01-09</td>\n",
       "      <td>2020-01-16</td>\n",
       "      <td>-1</td>\n",
       "    </tr>\n",
       "    <tr>\n",
       "      <th>51439</th>\n",
       "      <td>1week_4.99_USD_subscription_7days_trial</td>\n",
       "      <td>1</td>\n",
       "      <td>False</td>\n",
       "      <td>2020-01-07</td>\n",
       "      <td>2555928</td>\n",
       "      <td>2020-01-22</td>\n",
       "      <td>2020-01-02</td>\n",
       "      <td>2020-01-16</td>\n",
       "      <td>-2</td>\n",
       "    </tr>\n",
       "    <tr>\n",
       "      <th>58798</th>\n",
       "      <td>1week_4.99_USD_subscription_7days_trial</td>\n",
       "      <td>1</td>\n",
       "      <td>False</td>\n",
       "      <td>2020-01-04</td>\n",
       "      <td>7204327</td>\n",
       "      <td>2020-01-12</td>\n",
       "      <td>2020-01-02</td>\n",
       "      <td>2020-01-09</td>\n",
       "      <td>-1</td>\n",
       "    </tr>\n",
       "    <tr>\n",
       "      <th>67545</th>\n",
       "      <td>1week_4.99_USD_subscription_7days_trial</td>\n",
       "      <td>1</td>\n",
       "      <td>False</td>\n",
       "      <td>2020-01-09</td>\n",
       "      <td>7293651</td>\n",
       "      <td>2020-01-19</td>\n",
       "      <td>2020-01-09</td>\n",
       "      <td>2020-01-16</td>\n",
       "      <td>-1</td>\n",
       "    </tr>\n",
       "    <tr>\n",
       "      <th>67548</th>\n",
       "      <td>1week_4.99_USD_subscription_7days_trial</td>\n",
       "      <td>1</td>\n",
       "      <td>False</td>\n",
       "      <td>2020-01-02</td>\n",
       "      <td>7293651</td>\n",
       "      <td>2020-01-19</td>\n",
       "      <td>2020-01-02</td>\n",
       "      <td>2020-01-16</td>\n",
       "      <td>-2</td>\n",
       "    </tr>\n",
       "    <tr>\n",
       "      <th>73463</th>\n",
       "      <td>1week_4.99_USD_subscription_7days_trial</td>\n",
       "      <td>1</td>\n",
       "      <td>False</td>\n",
       "      <td>2020-01-02</td>\n",
       "      <td>7843318</td>\n",
       "      <td>2020-02-18</td>\n",
       "      <td>2020-01-02</td>\n",
       "      <td>2020-02-13</td>\n",
       "      <td>-6</td>\n",
       "    </tr>\n",
       "  </tbody>\n",
       "</table>\n",
       "</div>"
      ],
      "text/plain": [
       "                                    product_id  quantity  is_trial_period  \\\n",
       "15024  1week_4.99_USD_subscription_7days_trial         1            False   \n",
       "15025  1week_4.99_USD_subscription_7days_trial         1            False   \n",
       "15026  1week_4.99_USD_subscription_7days_trial         1            False   \n",
       "15027  1week_4.99_USD_subscription_7days_trial         1            False   \n",
       "15029  1week_4.99_USD_subscription_7days_trial         1            False   \n",
       "29016  1week_4.99_USD_subscription_7days_trial         1            False   \n",
       "29017  1week_4.99_USD_subscription_7days_trial         1            False   \n",
       "51438  1week_4.99_USD_subscription_7days_trial         1            False   \n",
       "51439  1week_4.99_USD_subscription_7days_trial         1            False   \n",
       "58798  1week_4.99_USD_subscription_7days_trial         1            False   \n",
       "67545  1week_4.99_USD_subscription_7days_trial         1            False   \n",
       "67548  1week_4.99_USD_subscription_7days_trial         1            False   \n",
       "73463  1week_4.99_USD_subscription_7days_trial         1            False   \n",
       "\n",
       "      purchase_date  user_id first_purchase_date purchase_week  \\\n",
       "15024    2020-01-22  1511831          2020-01-31    2020-01-16   \n",
       "15025    2020-01-01  1511831          2020-01-31    2019-12-26   \n",
       "15026    2020-01-08  1511831          2020-01-31    2020-01-02   \n",
       "15027    2020-01-29  1511831          2020-01-31    2020-01-23   \n",
       "15029    2020-01-15  1511831          2020-01-31    2020-01-09   \n",
       "29016    2020-01-03  7591159          2020-02-02    2020-01-02   \n",
       "29017    2020-01-10  7591159          2020-02-02    2020-01-09   \n",
       "51438    2020-01-14  2555928          2020-01-22    2020-01-09   \n",
       "51439    2020-01-07  2555928          2020-01-22    2020-01-02   \n",
       "58798    2020-01-04  7204327          2020-01-12    2020-01-02   \n",
       "67545    2020-01-09  7293651          2020-01-19    2020-01-09   \n",
       "67548    2020-01-02  7293651          2020-01-19    2020-01-02   \n",
       "73463    2020-01-02  7843318          2020-02-18    2020-01-02   \n",
       "\n",
       "      first_purchase_week  cohort_lifetime  \n",
       "15024          2020-01-30               -2  \n",
       "15025          2020-01-30               -5  \n",
       "15026          2020-01-30               -4  \n",
       "15027          2020-01-30               -1  \n",
       "15029          2020-01-30               -3  \n",
       "29016          2020-01-30               -4  \n",
       "29017          2020-01-30               -3  \n",
       "51438          2020-01-16               -1  \n",
       "51439          2020-01-16               -2  \n",
       "58798          2020-01-09               -1  \n",
       "67545          2020-01-16               -1  \n",
       "67548          2020-01-16               -2  \n",
       "73463          2020-02-13               -6  "
      ]
     },
     "execution_count": 8,
     "metadata": {},
     "output_type": "execute_result"
    }
   ],
   "source": [
    "df_cohorts[df_cohorts['cohort_lifetime'] < 0]"
   ]
  },
  {
   "cell_type": "markdown",
   "id": "5c4c7dbc",
   "metadata": {},
   "source": [
    "У меня появились операции с минусовым лайфтайм, вижу что у этих 6 пользователей по каким то причинам начался триал период позже платного,  так не должно быть, возможно сбой нашего приложения, или сбой при выгрузе, снова донесу информацию до руководства, а эти записи уберу из нашей выгрузки, но перед эти гляну на разницу в днях, возможно таких записей больше"
   ]
  },
  {
   "cell_type": "code",
   "execution_count": 9,
   "id": "e2e65371",
   "metadata": {},
   "outputs": [
    {
     "data": {
      "text/plain": [
       "16"
      ]
     },
     "execution_count": 9,
     "metadata": {},
     "output_type": "execute_result"
    }
   ],
   "source": [
    " days_diff = ((\n",
    "    df_cohorts['purchase_date'] - df_cohorts['first_purchase_date']) \n",
    "    / np.timedelta64(1, 'D')).round().astype('int').reset_index()\n",
    "    \n",
    "len(days_diff[days_diff[0] < 0])"
   ]
  },
  {
   "cell_type": "markdown",
   "id": "31e44628",
   "metadata": {},
   "source": [
    "таких записей 16, удалю их всех из нашего датасета"
   ]
  },
  {
   "cell_type": "code",
   "execution_count": 10,
   "id": "b273cebb",
   "metadata": {},
   "outputs": [
    {
     "data": {
      "text/html": [
       "<div>\n",
       "<style scoped>\n",
       "    .dataframe tbody tr th:only-of-type {\n",
       "        vertical-align: middle;\n",
       "    }\n",
       "\n",
       "    .dataframe tbody tr th {\n",
       "        vertical-align: top;\n",
       "    }\n",
       "\n",
       "    .dataframe thead th {\n",
       "        text-align: right;\n",
       "    }\n",
       "</style>\n",
       "<table border=\"1\" class=\"dataframe\">\n",
       "  <thead>\n",
       "    <tr style=\"text-align: right;\">\n",
       "      <th></th>\n",
       "      <th>product_id</th>\n",
       "      <th>quantity</th>\n",
       "      <th>is_trial_period</th>\n",
       "      <th>purchase_date</th>\n",
       "      <th>user_id</th>\n",
       "      <th>first_purchase_date</th>\n",
       "      <th>purchase_week</th>\n",
       "      <th>first_purchase_week</th>\n",
       "      <th>cohort_lifetime</th>\n",
       "    </tr>\n",
       "  </thead>\n",
       "  <tbody>\n",
       "    <tr>\n",
       "      <th>0</th>\n",
       "      <td>1week_4.99_USD_subscription_7days_trial</td>\n",
       "      <td>1</td>\n",
       "      <td>False</td>\n",
       "      <td>2020-02-19</td>\n",
       "      <td>9484222</td>\n",
       "      <td>2020-02-12</td>\n",
       "      <td>2020-02-13</td>\n",
       "      <td>2020-02-06</td>\n",
       "      <td>1</td>\n",
       "    </tr>\n",
       "    <tr>\n",
       "      <th>1</th>\n",
       "      <td>1week_4.99_USD_subscription_7days_trial</td>\n",
       "      <td>1</td>\n",
       "      <td>True</td>\n",
       "      <td>2020-02-12</td>\n",
       "      <td>9484222</td>\n",
       "      <td>2020-02-12</td>\n",
       "      <td>2020-02-06</td>\n",
       "      <td>2020-02-06</td>\n",
       "      <td>0</td>\n",
       "    </tr>\n",
       "    <tr>\n",
       "      <th>2</th>\n",
       "      <td>1week_4.99_USD_subscription_7days_trial</td>\n",
       "      <td>1</td>\n",
       "      <td>False</td>\n",
       "      <td>2020-02-17</td>\n",
       "      <td>9422402</td>\n",
       "      <td>2020-02-10</td>\n",
       "      <td>2020-02-13</td>\n",
       "      <td>2020-02-06</td>\n",
       "      <td>1</td>\n",
       "    </tr>\n",
       "    <tr>\n",
       "      <th>3</th>\n",
       "      <td>1week_4.99_USD_subscription_7days_trial</td>\n",
       "      <td>1</td>\n",
       "      <td>True</td>\n",
       "      <td>2020-02-10</td>\n",
       "      <td>9422402</td>\n",
       "      <td>2020-02-10</td>\n",
       "      <td>2020-02-06</td>\n",
       "      <td>2020-02-06</td>\n",
       "      <td>0</td>\n",
       "    </tr>\n",
       "    <tr>\n",
       "      <th>4</th>\n",
       "      <td>1week_4.99_USD_subscription_7days_trial</td>\n",
       "      <td>1</td>\n",
       "      <td>False</td>\n",
       "      <td>2020-02-18</td>\n",
       "      <td>4997991</td>\n",
       "      <td>2020-02-11</td>\n",
       "      <td>2020-02-13</td>\n",
       "      <td>2020-02-06</td>\n",
       "      <td>1</td>\n",
       "    </tr>\n",
       "    <tr>\n",
       "      <th>...</th>\n",
       "      <td>...</td>\n",
       "      <td>...</td>\n",
       "      <td>...</td>\n",
       "      <td>...</td>\n",
       "      <td>...</td>\n",
       "      <td>...</td>\n",
       "      <td>...</td>\n",
       "      <td>...</td>\n",
       "      <td>...</td>\n",
       "    </tr>\n",
       "    <tr>\n",
       "      <th>114111</th>\n",
       "      <td>1week_4.99_USD_subscription_7days_trial</td>\n",
       "      <td>1</td>\n",
       "      <td>True</td>\n",
       "      <td>2020-01-03</td>\n",
       "      <td>8243299</td>\n",
       "      <td>2020-01-03</td>\n",
       "      <td>2020-01-02</td>\n",
       "      <td>2020-01-02</td>\n",
       "      <td>0</td>\n",
       "    </tr>\n",
       "    <tr>\n",
       "      <th>114112</th>\n",
       "      <td>1week_4.99_USD_subscription_7days_trial</td>\n",
       "      <td>1</td>\n",
       "      <td>True</td>\n",
       "      <td>2020-01-02</td>\n",
       "      <td>8236936</td>\n",
       "      <td>2020-01-02</td>\n",
       "      <td>2020-01-02</td>\n",
       "      <td>2020-01-02</td>\n",
       "      <td>0</td>\n",
       "    </tr>\n",
       "    <tr>\n",
       "      <th>114113</th>\n",
       "      <td>1week_4.99_USD_subscription_7days_trial</td>\n",
       "      <td>1</td>\n",
       "      <td>True</td>\n",
       "      <td>2020-01-03</td>\n",
       "      <td>8247910</td>\n",
       "      <td>2020-01-03</td>\n",
       "      <td>2020-01-02</td>\n",
       "      <td>2020-01-02</td>\n",
       "      <td>0</td>\n",
       "    </tr>\n",
       "    <tr>\n",
       "      <th>114114</th>\n",
       "      <td>1week_4.99_USD_subscription_7days_trial</td>\n",
       "      <td>1</td>\n",
       "      <td>True</td>\n",
       "      <td>2020-01-04</td>\n",
       "      <td>8294146</td>\n",
       "      <td>2020-01-04</td>\n",
       "      <td>2020-01-02</td>\n",
       "      <td>2020-01-02</td>\n",
       "      <td>0</td>\n",
       "    </tr>\n",
       "    <tr>\n",
       "      <th>114115</th>\n",
       "      <td>1week_4.99_USD_subscription_7days_trial</td>\n",
       "      <td>1</td>\n",
       "      <td>True</td>\n",
       "      <td>2020-01-03</td>\n",
       "      <td>8274954</td>\n",
       "      <td>2020-01-03</td>\n",
       "      <td>2020-01-02</td>\n",
       "      <td>2020-01-02</td>\n",
       "      <td>0</td>\n",
       "    </tr>\n",
       "  </tbody>\n",
       "</table>\n",
       "<p>114100 rows × 9 columns</p>\n",
       "</div>"
      ],
      "text/plain": [
       "                                     product_id  quantity  is_trial_period  \\\n",
       "0       1week_4.99_USD_subscription_7days_trial         1            False   \n",
       "1       1week_4.99_USD_subscription_7days_trial         1             True   \n",
       "2       1week_4.99_USD_subscription_7days_trial         1            False   \n",
       "3       1week_4.99_USD_subscription_7days_trial         1             True   \n",
       "4       1week_4.99_USD_subscription_7days_trial         1            False   \n",
       "...                                         ...       ...              ...   \n",
       "114111  1week_4.99_USD_subscription_7days_trial         1             True   \n",
       "114112  1week_4.99_USD_subscription_7days_trial         1             True   \n",
       "114113  1week_4.99_USD_subscription_7days_trial         1             True   \n",
       "114114  1week_4.99_USD_subscription_7days_trial         1             True   \n",
       "114115  1week_4.99_USD_subscription_7days_trial         1             True   \n",
       "\n",
       "       purchase_date  user_id first_purchase_date purchase_week  \\\n",
       "0         2020-02-19  9484222          2020-02-12    2020-02-13   \n",
       "1         2020-02-12  9484222          2020-02-12    2020-02-06   \n",
       "2         2020-02-17  9422402          2020-02-10    2020-02-13   \n",
       "3         2020-02-10  9422402          2020-02-10    2020-02-06   \n",
       "4         2020-02-18  4997991          2020-02-11    2020-02-13   \n",
       "...              ...      ...                 ...           ...   \n",
       "114111    2020-01-03  8243299          2020-01-03    2020-01-02   \n",
       "114112    2020-01-02  8236936          2020-01-02    2020-01-02   \n",
       "114113    2020-01-03  8247910          2020-01-03    2020-01-02   \n",
       "114114    2020-01-04  8294146          2020-01-04    2020-01-02   \n",
       "114115    2020-01-03  8274954          2020-01-03    2020-01-02   \n",
       "\n",
       "       first_purchase_week  cohort_lifetime  \n",
       "0               2020-02-06                1  \n",
       "1               2020-02-06                0  \n",
       "2               2020-02-06                1  \n",
       "3               2020-02-06                0  \n",
       "4               2020-02-06                1  \n",
       "...                    ...              ...  \n",
       "114111          2020-01-02                0  \n",
       "114112          2020-01-02                0  \n",
       "114113          2020-01-02                0  \n",
       "114114          2020-01-02                0  \n",
       "114115          2020-01-02                0  \n",
       "\n",
       "[114100 rows x 9 columns]"
      ]
     },
     "execution_count": 10,
     "metadata": {},
     "output_type": "execute_result"
    }
   ],
   "source": [
    "drop_line= days_diff[days_diff[0] < 0]['index']\n",
    "\n",
    "df_cohorts = df_cohorts.drop(index=drop_line.index)\n",
    "df_cohorts"
   ]
  },
  {
   "cell_type": "markdown",
   "id": "509a944b",
   "metadata": {},
   "source": [
    "удалил события с минусовым лайф таймом\n",
    "\n",
    "Теперь доблю стоимость подписки, где триал доступ, укажу ноль доларов, где не триал 5,99 доларов"
   ]
  },
  {
   "cell_type": "code",
   "execution_count": 11,
   "id": "82a5eb2f",
   "metadata": {},
   "outputs": [
    {
     "data": {
      "text/html": [
       "<div>\n",
       "<style scoped>\n",
       "    .dataframe tbody tr th:only-of-type {\n",
       "        vertical-align: middle;\n",
       "    }\n",
       "\n",
       "    .dataframe tbody tr th {\n",
       "        vertical-align: top;\n",
       "    }\n",
       "\n",
       "    .dataframe thead th {\n",
       "        text-align: right;\n",
       "    }\n",
       "</style>\n",
       "<table border=\"1\" class=\"dataframe\">\n",
       "  <thead>\n",
       "    <tr style=\"text-align: right;\">\n",
       "      <th></th>\n",
       "      <th>product_id</th>\n",
       "      <th>quantity</th>\n",
       "      <th>is_trial_period</th>\n",
       "      <th>purchase_date</th>\n",
       "      <th>user_id</th>\n",
       "      <th>first_purchase_date</th>\n",
       "      <th>purchase_week</th>\n",
       "      <th>first_purchase_week</th>\n",
       "      <th>cohort_lifetime</th>\n",
       "      <th>price</th>\n",
       "    </tr>\n",
       "  </thead>\n",
       "  <tbody>\n",
       "    <tr>\n",
       "      <th>0</th>\n",
       "      <td>1week_4.99_USD_subscription_7days_trial</td>\n",
       "      <td>1</td>\n",
       "      <td>False</td>\n",
       "      <td>2020-02-19</td>\n",
       "      <td>9484222</td>\n",
       "      <td>2020-02-12</td>\n",
       "      <td>2020-02-13</td>\n",
       "      <td>2020-02-06</td>\n",
       "      <td>1</td>\n",
       "      <td>4.99</td>\n",
       "    </tr>\n",
       "    <tr>\n",
       "      <th>1</th>\n",
       "      <td>1week_4.99_USD_subscription_7days_trial</td>\n",
       "      <td>1</td>\n",
       "      <td>True</td>\n",
       "      <td>2020-02-12</td>\n",
       "      <td>9484222</td>\n",
       "      <td>2020-02-12</td>\n",
       "      <td>2020-02-06</td>\n",
       "      <td>2020-02-06</td>\n",
       "      <td>0</td>\n",
       "      <td>0.00</td>\n",
       "    </tr>\n",
       "    <tr>\n",
       "      <th>2</th>\n",
       "      <td>1week_4.99_USD_subscription_7days_trial</td>\n",
       "      <td>1</td>\n",
       "      <td>False</td>\n",
       "      <td>2020-02-17</td>\n",
       "      <td>9422402</td>\n",
       "      <td>2020-02-10</td>\n",
       "      <td>2020-02-13</td>\n",
       "      <td>2020-02-06</td>\n",
       "      <td>1</td>\n",
       "      <td>4.99</td>\n",
       "    </tr>\n",
       "    <tr>\n",
       "      <th>3</th>\n",
       "      <td>1week_4.99_USD_subscription_7days_trial</td>\n",
       "      <td>1</td>\n",
       "      <td>True</td>\n",
       "      <td>2020-02-10</td>\n",
       "      <td>9422402</td>\n",
       "      <td>2020-02-10</td>\n",
       "      <td>2020-02-06</td>\n",
       "      <td>2020-02-06</td>\n",
       "      <td>0</td>\n",
       "      <td>0.00</td>\n",
       "    </tr>\n",
       "    <tr>\n",
       "      <th>4</th>\n",
       "      <td>1week_4.99_USD_subscription_7days_trial</td>\n",
       "      <td>1</td>\n",
       "      <td>False</td>\n",
       "      <td>2020-02-18</td>\n",
       "      <td>4997991</td>\n",
       "      <td>2020-02-11</td>\n",
       "      <td>2020-02-13</td>\n",
       "      <td>2020-02-06</td>\n",
       "      <td>1</td>\n",
       "      <td>4.99</td>\n",
       "    </tr>\n",
       "  </tbody>\n",
       "</table>\n",
       "</div>"
      ],
      "text/plain": [
       "                                product_id  quantity  is_trial_period  \\\n",
       "0  1week_4.99_USD_subscription_7days_trial         1            False   \n",
       "1  1week_4.99_USD_subscription_7days_trial         1             True   \n",
       "2  1week_4.99_USD_subscription_7days_trial         1            False   \n",
       "3  1week_4.99_USD_subscription_7days_trial         1             True   \n",
       "4  1week_4.99_USD_subscription_7days_trial         1            False   \n",
       "\n",
       "  purchase_date  user_id first_purchase_date purchase_week  \\\n",
       "0    2020-02-19  9484222          2020-02-12    2020-02-13   \n",
       "1    2020-02-12  9484222          2020-02-12    2020-02-06   \n",
       "2    2020-02-17  9422402          2020-02-10    2020-02-13   \n",
       "3    2020-02-10  9422402          2020-02-10    2020-02-06   \n",
       "4    2020-02-18  4997991          2020-02-11    2020-02-13   \n",
       "\n",
       "  first_purchase_week  cohort_lifetime  price  \n",
       "0          2020-02-06                1   4.99  \n",
       "1          2020-02-06                0   0.00  \n",
       "2          2020-02-06                1   4.99  \n",
       "3          2020-02-06                0   0.00  \n",
       "4          2020-02-06                1   4.99  "
      ]
     },
     "execution_count": 11,
     "metadata": {},
     "output_type": "execute_result"
    }
   ],
   "source": [
    "df_cohorts['price'] = 0\n",
    "df_cohorts.loc[df_cohorts['is_trial_period']==False,\"price\"] += 4.99\n",
    "\n",
    "df_cohorts.head()"
   ]
  },
  {
   "cell_type": "markdown",
   "id": "e82fa099",
   "metadata": {},
   "source": [
    "Cгрупирую данные по когортам, получу LTV и сделаю сводную таблицу с накоплением LTV по неделям, построю визуализацию"
   ]
  },
  {
   "cell_type": "code",
   "execution_count": 12,
   "id": "fef2c720",
   "metadata": {},
   "outputs": [
    {
     "data": {
      "image/png": "[encoded data removed]",
      "text/plain": [
       "<Figure size 936x648 with 2 Axes>"
      ]
     },
     "metadata": {
      "needs_background": "light"
     },
     "output_type": "display_data"
    }
   ],
   "source": [
    "cohort_sizes = (\n",
    "    df_cohorts.groupby('first_purchase_week')\n",
    "    .agg({'user_id': 'nunique'})\n",
    "    .reset_index() \n",
    ") #получил когорты с количеством уникальных пользователей\n",
    "\n",
    "cohort_sizes.columns = ['first_purchase_week', 'n_buyers'] #перемеиновал столбцы\n",
    "\n",
    "cohorts = (\n",
    "    df_cohorts.groupby(['first_purchase_week', 'purchase_week'])\n",
    "    .agg({'price': 'sum'})\n",
    "    .reset_index() \n",
    ")# получил когорты с выручкой\n",
    "\n",
    "report = pd.merge(cohort_sizes, cohorts, on='first_purchase_week') # соединил выручки и количество клиентом\n",
    "\n",
    "report['week'] = ((\n",
    "    report['purchase_week'] - report['first_purchase_week']\n",
    ") / np.timedelta64(1, 'W')).round().astype('int') #получил lifetime когорт\n",
    "\n",
    "\n",
    "report['ltv'] = report['price'] / report['n_buyers'] #получил ltv\n",
    "\n",
    "output = (\n",
    "    report\n",
    "    .pivot_table(index='first_purchase_week', \n",
    "                 columns='week', \n",
    "                 values='ltv', \n",
    "                 aggfunc='mean')\n",
    "    .round(2)\n",
    "    #.cumsum(axis = 1) #сводная таблица\n",
    ")\n",
    "\n",
    "plt.figure(figsize=(13, 9))\n",
    "plt.title('Средняя выручка пользователя за неделю в разрезе когорт')\n",
    "sns.heatmap(output, \n",
    "            annot=True,\n",
    "            fmt='.2f', \n",
    "            linewidths=1, \n",
    "            linecolor='gray', \n",
    "            cmap=\"YlGnBu\", \n",
    "            yticklabels= output.index.strftime('%m-%Y'))\n",
    "plt.show()\n"
   ]
  },
  {
   "cell_type": "code",
   "execution_count": 13,
   "id": "93eda9cc",
   "metadata": {},
   "outputs": [
    {
     "name": "stdout",
     "output_type": "stream",
     "text": [
      "Средняя LTV за 6 недель по когортам прожившие 6 или более недель: 6.33 $\n"
     ]
    }
   ],
   "source": [
    "ltv_mean_six_month = output.cumsum(axis = 1).iloc[0:4, 5].mean().round(2)\n",
    "print('Средняя LTV за 6 недель по когортам прожившие 6 или более недель:', ltv_mean_six_month, '$') "
   ]
  },
  {
   "cell_type": "markdown",
   "id": "e59cfe65",
   "metadata": {},
   "source": [
    "на визуализации вижу что с каждой кагортой, выручка становится все меньше и меньше, гляну как какогты уменьшаются в постоянных пользователях"
   ]
  },
  {
   "cell_type": "code",
   "execution_count": 15,
   "id": "25b0c1a2",
   "metadata": {},
   "outputs": [
    {
     "data": {
      "image/png": "[encoded data removed]",
      "text/plain": [
       "<Figure size 936x648 with 2 Axes>"
      ]
     },
     "metadata": {
      "needs_background": "light"
     },
     "output_type": "display_data"
    }
   ],
   "source": [
    "\n",
    "cohorts_1 = (\n",
    "    df_cohorts.groupby(['first_purchase_week', 'purchase_week'])\n",
    "    .agg({'user_id': 'nunique'})\n",
    "    .reset_index() \n",
    ")# получил когорты с уникальными юзерами\n",
    "\n",
    "report_1 = pd.merge(cohort_sizes, cohorts_1, on='first_purchase_week') # соединил выручки и количество клиентом\n",
    "\n",
    "report_1['week'] = ((\n",
    "    report_1['purchase_week'] - report_1['first_purchase_week']\n",
    ") / np.timedelta64(1, 'W')).round().astype('int') #получил lifetime когорт\n",
    "\n",
    "\n",
    "report_1['rr'] = report_1['user_id'] / report_1['n_buyers'] #получил rr\n",
    "\n",
    "output_1 = (\n",
    "    report_1\n",
    "    .pivot_table(index='first_purchase_week', \n",
    "                 columns='week', \n",
    "                 values='rr', \n",
    "                 aggfunc='mean')\n",
    "    .round(2)\n",
    "     #сводная таблица\n",
    ")\n",
    "\n",
    "plt.figure(figsize=(13, 9))\n",
    "plt.title('Кофициэнт удержания клиентов по кагортам')\n",
    "sns.heatmap(output_1, \n",
    "            annot=True,\n",
    "            fmt='.2f', \n",
    "            linewidths=1, \n",
    "            linecolor='gray', \n",
    "            cmap=\"YlGnBu\", \n",
    "            yticklabels= output.index.strftime('%m-%Y'))\n",
    "plt.show()\n"
   ]
  },
  {
   "cell_type": "markdown",
   "id": "13be96a3",
   "metadata": {},
   "source": [
    "Вижу что к четвертой недели почти 80 % пользователей отваливаются"
   ]
  },
  {
   "cell_type": "markdown",
   "id": "b5d4d4ec",
   "metadata": {},
   "source": [
    "### Спрогназирую LTV на пол года"
   ]
  },
  {
   "cell_type": "markdown",
   "id": "52f01801",
   "metadata": {},
   "source": [
    "воспользуюсь BG/NBD моделью, для этого сначало подготовлю сводную таблицу из данных "
   ]
  },
  {
   "cell_type": "code",
   "execution_count": 17,
   "id": "b168458a",
   "metadata": {},
   "outputs": [
    {
     "data": {
      "text/html": [
       "<div>\n",
       "<style scoped>\n",
       "    .dataframe tbody tr th:only-of-type {\n",
       "        vertical-align: middle;\n",
       "    }\n",
       "\n",
       "    .dataframe tbody tr th {\n",
       "        vertical-align: top;\n",
       "    }\n",
       "\n",
       "    .dataframe thead th {\n",
       "        text-align: right;\n",
       "    }\n",
       "</style>\n",
       "<table border=\"1\" class=\"dataframe\">\n",
       "  <thead>\n",
       "    <tr style=\"text-align: right;\">\n",
       "      <th></th>\n",
       "      <th>user_id</th>\n",
       "      <th>frequency</th>\n",
       "      <th>recency</th>\n",
       "      <th>T</th>\n",
       "      <th>monetary_value</th>\n",
       "    </tr>\n",
       "  </thead>\n",
       "  <tbody>\n",
       "    <tr>\n",
       "      <th>0</th>\n",
       "      <td>404</td>\n",
       "      <td>1.0</td>\n",
       "      <td>7.0</td>\n",
       "      <td>17.0</td>\n",
       "      <td>4.99</td>\n",
       "    </tr>\n",
       "    <tr>\n",
       "      <th>1</th>\n",
       "      <td>5337</td>\n",
       "      <td>0.0</td>\n",
       "      <td>0.0</td>\n",
       "      <td>3.0</td>\n",
       "      <td>0.00</td>\n",
       "    </tr>\n",
       "    <tr>\n",
       "      <th>2</th>\n",
       "      <td>9010</td>\n",
       "      <td>3.0</td>\n",
       "      <td>21.0</td>\n",
       "      <td>24.0</td>\n",
       "      <td>4.99</td>\n",
       "    </tr>\n",
       "    <tr>\n",
       "      <th>3</th>\n",
       "      <td>19880</td>\n",
       "      <td>0.0</td>\n",
       "      <td>0.0</td>\n",
       "      <td>21.0</td>\n",
       "      <td>0.00</td>\n",
       "    </tr>\n",
       "    <tr>\n",
       "      <th>4</th>\n",
       "      <td>23403</td>\n",
       "      <td>3.0</td>\n",
       "      <td>22.0</td>\n",
       "      <td>31.0</td>\n",
       "      <td>4.99</td>\n",
       "    </tr>\n",
       "  </tbody>\n",
       "</table>\n",
       "</div>"
      ],
      "text/plain": [
       "   user_id  frequency  recency     T  monetary_value\n",
       "0      404        1.0      7.0  17.0            4.99\n",
       "1     5337        0.0      0.0   3.0            0.00\n",
       "2     9010        3.0     21.0  24.0            4.99\n",
       "3    19880        0.0      0.0  21.0            0.00\n",
       "4    23403        3.0     22.0  31.0            4.99"
      ]
     },
     "execution_count": 17,
     "metadata": {},
     "output_type": "execute_result"
    }
   ],
   "source": [
    "summary = lifetimes.utils.summary_data_from_transaction_data(df_cohorts, 'user_id', 'purchase_date', 'price').reset_index()\n",
    "summary.head()"
   ]
  },
  {
   "cell_type": "markdown",
   "id": "a4d80c21",
   "metadata": {},
   "source": [
    "где:\n",
    " - frequency — количество повторных покупок (более 1 покупки)\n",
    " - recency — время между первой и последней оплатой\n",
    " - T — время между первой покупкой и окончанием периода оплат\n",
    " - monetary_value — это средняя стоимость покупки\n",
    " \n",
    " Гляну как распределяется пользователи по частоте покупок"
   ]
  },
  {
   "cell_type": "code",
   "execution_count": 18,
   "id": "23083543",
   "metadata": {},
   "outputs": [
    {
     "data": {
      "image/png": "[encoded data removed]",
      "text/plain": [
       "<Figure size 432x288 with 1 Axes>"
      ]
     },
     "metadata": {
      "needs_background": "light"
     },
     "output_type": "display_data"
    },
    {
     "name": "stdout",
     "output_type": "stream",
     "text": [
      "Число пользователей, которые не совершили ни одной покупки: 68.89%\n"
     ]
    }
   ],
   "source": [
    "summary['frequency'].plot(kind='hist',bins=8)\n",
    "plt.title('Гистограмма числа покупок на каждого пользователя')\n",
    "plt.show()\n",
    "one_time_buyers = sum(summary ['frequency'] == 0) / len(summary)\n",
    "print(('Число пользователей, которые не совершили ни одной покупки: {:.2%}').format(one_time_buyers))"
   ]
  },
  {
   "cell_type": "markdown",
   "id": "8cb30758",
   "metadata": {},
   "source": [
    "Большая часть пользователей ни разу не купила у нас подписку\n",
    "\n",
    "Теперь применю модель BG/NBD с целью предсказанию будущих покупок к сводным данным"
   ]
  },
  {
   "cell_type": "code",
   "execution_count": 19,
   "id": "e0d696d6",
   "metadata": {},
   "outputs": [
    {
     "data": {
      "text/plain": [
       "<lifetimes.BetaGeoFitter: fitted with 62909 subjects, a: 0.00, alpha: 10.22, b: 0.00, r: 0.32>"
      ]
     },
     "execution_count": 19,
     "metadata": {},
     "output_type": "execute_result"
    }
   ],
   "source": [
    "bgf = lifetimes.BetaGeoFitter(penalizer_coef=0.09)\n",
    "bgf.fit(summary['frequency'], summary['recency'], summary['T'])"
   ]
  },
  {
   "cell_type": "code",
   "execution_count": 73,
   "id": "7e11097e",
   "metadata": {},
   "outputs": [
    {
     "data": {
      "text/html": [
       "<div>\n",
       "<style scoped>\n",
       "    .dataframe tbody tr th:only-of-type {\n",
       "        vertical-align: middle;\n",
       "    }\n",
       "\n",
       "    .dataframe tbody tr th {\n",
       "        vertical-align: top;\n",
       "    }\n",
       "\n",
       "    .dataframe thead th {\n",
       "        text-align: right;\n",
       "    }\n",
       "</style>\n",
       "<table border=\"1\" class=\"dataframe\">\n",
       "  <thead>\n",
       "    <tr style=\"text-align: right;\">\n",
       "      <th></th>\n",
       "      <th>coef</th>\n",
       "      <th>se(coef)</th>\n",
       "      <th>lower 95% bound</th>\n",
       "      <th>upper 95% bound</th>\n",
       "    </tr>\n",
       "  </thead>\n",
       "  <tbody>\n",
       "    <tr>\n",
       "      <th>r</th>\n",
       "      <td>3.187349e-01</td>\n",
       "      <td>3.232707e-03</td>\n",
       "      <td>3.123988e-01</td>\n",
       "      <td>3.250710e-01</td>\n",
       "    </tr>\n",
       "    <tr>\n",
       "      <th>alpha</th>\n",
       "      <td>1.000994e+01</td>\n",
       "      <td>1.270139e-01</td>\n",
       "      <td>9.760991e+00</td>\n",
       "      <td>1.025889e+01</td>\n",
       "    </tr>\n",
       "    <tr>\n",
       "      <th>a</th>\n",
       "      <td>1.787266e-16</td>\n",
       "      <td>6.005155e-12</td>\n",
       "      <td>-1.176992e-11</td>\n",
       "      <td>1.177028e-11</td>\n",
       "    </tr>\n",
       "    <tr>\n",
       "      <th>b</th>\n",
       "      <td>1.879389e-07</td>\n",
       "      <td>6.313712e-03</td>\n",
       "      <td>-1.237469e-02</td>\n",
       "      <td>1.237506e-02</td>\n",
       "    </tr>\n",
       "  </tbody>\n",
       "</table>\n",
       "</div>"
      ],
      "text/plain": [
       "               coef      se(coef)  lower 95% bound  upper 95% bound\n",
       "r      3.187349e-01  3.232707e-03     3.123988e-01     3.250710e-01\n",
       "alpha  1.000994e+01  1.270139e-01     9.760991e+00     1.025889e+01\n",
       "a      1.787266e-16  6.005155e-12    -1.176992e-11     1.177028e-11\n",
       "b      1.879389e-07  6.313712e-03    -1.237469e-02     1.237506e-02"
      ]
     },
     "execution_count": 73,
     "metadata": {},
     "output_type": "execute_result"
    }
   ],
   "source": [
    "bgf.summary"
   ]
  },
  {
   "cell_type": "markdown",
   "id": "4ac8611a",
   "metadata": {},
   "source": [
    "Модель получил, теперь выделю повторных клиентов и применю модель Gamma-Gamma для расчета стоимость покупок"
   ]
  },
  {
   "cell_type": "code",
   "execution_count": 20,
   "id": "d5095465",
   "metadata": {},
   "outputs": [
    {
     "name": "stdout",
     "output_type": "stream",
     "text": [
      "(19569, 5)\n"
     ]
    },
    {
     "data": {
      "text/html": [
       "<div>\n",
       "<style scoped>\n",
       "    .dataframe tbody tr th:only-of-type {\n",
       "        vertical-align: middle;\n",
       "    }\n",
       "\n",
       "    .dataframe tbody tr th {\n",
       "        vertical-align: top;\n",
       "    }\n",
       "\n",
       "    .dataframe thead th {\n",
       "        text-align: right;\n",
       "    }\n",
       "</style>\n",
       "<table border=\"1\" class=\"dataframe\">\n",
       "  <thead>\n",
       "    <tr style=\"text-align: right;\">\n",
       "      <th></th>\n",
       "      <th>user_id</th>\n",
       "      <th>frequency</th>\n",
       "      <th>recency</th>\n",
       "      <th>T</th>\n",
       "      <th>monetary_value</th>\n",
       "    </tr>\n",
       "  </thead>\n",
       "  <tbody>\n",
       "    <tr>\n",
       "      <th>0</th>\n",
       "      <td>404</td>\n",
       "      <td>1.0</td>\n",
       "      <td>7.0</td>\n",
       "      <td>17.0</td>\n",
       "      <td>4.99</td>\n",
       "    </tr>\n",
       "    <tr>\n",
       "      <th>2</th>\n",
       "      <td>9010</td>\n",
       "      <td>3.0</td>\n",
       "      <td>21.0</td>\n",
       "      <td>24.0</td>\n",
       "      <td>4.99</td>\n",
       "    </tr>\n",
       "    <tr>\n",
       "      <th>4</th>\n",
       "      <td>23403</td>\n",
       "      <td>3.0</td>\n",
       "      <td>22.0</td>\n",
       "      <td>31.0</td>\n",
       "      <td>4.99</td>\n",
       "    </tr>\n",
       "    <tr>\n",
       "      <th>5</th>\n",
       "      <td>23647</td>\n",
       "      <td>3.0</td>\n",
       "      <td>21.0</td>\n",
       "      <td>28.0</td>\n",
       "      <td>4.99</td>\n",
       "    </tr>\n",
       "    <tr>\n",
       "      <th>7</th>\n",
       "      <td>33989</td>\n",
       "      <td>3.0</td>\n",
       "      <td>21.0</td>\n",
       "      <td>24.0</td>\n",
       "      <td>4.99</td>\n",
       "    </tr>\n",
       "  </tbody>\n",
       "</table>\n",
       "</div>"
      ],
      "text/plain": [
       "   user_id  frequency  recency     T  monetary_value\n",
       "0      404        1.0      7.0  17.0            4.99\n",
       "2     9010        3.0     21.0  24.0            4.99\n",
       "4    23403        3.0     22.0  31.0            4.99\n",
       "5    23647        3.0     21.0  28.0            4.99\n",
       "7    33989        3.0     21.0  24.0            4.99"
      ]
     },
     "execution_count": 20,
     "metadata": {},
     "output_type": "execute_result"
    }
   ],
   "source": [
    "return_user_summary = summary[summary['frequency'] > 0]\n",
    "print(return_user_summary.shape)\n",
    "return_user_summary = return_user_summary[return_user_summary['monetary_value'] > 0]\n",
    "return_user_summary.head()"
   ]
  },
  {
   "cell_type": "code",
   "execution_count": 21,
   "id": "41850af6",
   "metadata": {},
   "outputs": [
    {
     "data": {
      "text/plain": [
       "<lifetimes.GammaGammaFitter: fitted with 19542 subjects, p: 10.85, q: 11.68, v: 5.33>"
      ]
     },
     "execution_count": 21,
     "metadata": {},
     "output_type": "execute_result"
    }
   ],
   "source": [
    "ggf = lifetimes.GammaGammaFitter(penalizer_coef=0.001)\n",
    "ggf.fit(return_user_summary['frequency'], return_user_summary['monetary_value'])"
   ]
  },
  {
   "cell_type": "code",
   "execution_count": 22,
   "id": "2ed590e8",
   "metadata": {},
   "outputs": [
    {
     "data": {
      "text/html": [
       "<div>\n",
       "<style scoped>\n",
       "    .dataframe tbody tr th:only-of-type {\n",
       "        vertical-align: middle;\n",
       "    }\n",
       "\n",
       "    .dataframe tbody tr th {\n",
       "        vertical-align: top;\n",
       "    }\n",
       "\n",
       "    .dataframe thead th {\n",
       "        text-align: right;\n",
       "    }\n",
       "</style>\n",
       "<table border=\"1\" class=\"dataframe\">\n",
       "  <thead>\n",
       "    <tr style=\"text-align: right;\">\n",
       "      <th></th>\n",
       "      <th>coef</th>\n",
       "      <th>se(coef)</th>\n",
       "      <th>lower 95% bound</th>\n",
       "      <th>upper 95% bound</th>\n",
       "    </tr>\n",
       "  </thead>\n",
       "  <tbody>\n",
       "    <tr>\n",
       "      <th>p</th>\n",
       "      <td>10.852444</td>\n",
       "      <td>0.09786</td>\n",
       "      <td>10.660639</td>\n",
       "      <td>11.044250</td>\n",
       "    </tr>\n",
       "    <tr>\n",
       "      <th>q</th>\n",
       "      <td>11.682680</td>\n",
       "      <td>0.09975</td>\n",
       "      <td>11.487169</td>\n",
       "      <td>11.878190</td>\n",
       "    </tr>\n",
       "    <tr>\n",
       "      <th>v</th>\n",
       "      <td>5.330552</td>\n",
       "      <td>0.05642</td>\n",
       "      <td>5.219969</td>\n",
       "      <td>5.441136</td>\n",
       "    </tr>\n",
       "  </tbody>\n",
       "</table>\n",
       "</div>"
      ],
      "text/plain": [
       "        coef  se(coef)  lower 95% bound  upper 95% bound\n",
       "p  10.852444   0.09786        10.660639        11.044250\n",
       "q  11.682680   0.09975        11.487169        11.878190\n",
       "v   5.330552   0.05642         5.219969         5.441136"
      ]
     },
     "execution_count": 22,
     "metadata": {},
     "output_type": "execute_result"
    }
   ],
   "source": [
    "ggf.summary"
   ]
  },
  {
   "cell_type": "markdown",
   "id": "6351b7fd",
   "metadata": {},
   "source": [
    "теперь я могу предсказать ltv"
   ]
  },
  {
   "cell_type": "code",
   "execution_count": 23,
   "id": "ae341958",
   "metadata": {},
   "outputs": [
    {
     "data": {
      "text/html": [
       "<div>\n",
       "<style scoped>\n",
       "    .dataframe tbody tr th:only-of-type {\n",
       "        vertical-align: middle;\n",
       "    }\n",
       "\n",
       "    .dataframe tbody tr th {\n",
       "        vertical-align: top;\n",
       "    }\n",
       "\n",
       "    .dataframe thead th {\n",
       "        text-align: right;\n",
       "    }\n",
       "</style>\n",
       "<table border=\"1\" class=\"dataframe\">\n",
       "  <thead>\n",
       "    <tr style=\"text-align: right;\">\n",
       "      <th></th>\n",
       "      <th>user_id</th>\n",
       "      <th>frequency</th>\n",
       "      <th>recency</th>\n",
       "      <th>T</th>\n",
       "      <th>monetary_value</th>\n",
       "      <th>predicted_ltv</th>\n",
       "    </tr>\n",
       "  </thead>\n",
       "  <tbody>\n",
       "    <tr>\n",
       "      <th>0</th>\n",
       "      <td>404</td>\n",
       "      <td>1.0</td>\n",
       "      <td>7.0</td>\n",
       "      <td>17.0</td>\n",
       "      <td>4.99</td>\n",
       "      <td>9.211879</td>\n",
       "    </tr>\n",
       "    <tr>\n",
       "      <th>1</th>\n",
       "      <td>5337</td>\n",
       "      <td>0.0</td>\n",
       "      <td>0.0</td>\n",
       "      <td>3.0</td>\n",
       "      <td>0.00</td>\n",
       "      <td>NaN</td>\n",
       "    </tr>\n",
       "    <tr>\n",
       "      <th>2</th>\n",
       "      <td>9010</td>\n",
       "      <td>3.0</td>\n",
       "      <td>21.0</td>\n",
       "      <td>24.0</td>\n",
       "      <td>4.99</td>\n",
       "      <td>18.016225</td>\n",
       "    </tr>\n",
       "    <tr>\n",
       "      <th>3</th>\n",
       "      <td>19880</td>\n",
       "      <td>0.0</td>\n",
       "      <td>0.0</td>\n",
       "      <td>21.0</td>\n",
       "      <td>0.00</td>\n",
       "      <td>NaN</td>\n",
       "    </tr>\n",
       "    <tr>\n",
       "      <th>4</th>\n",
       "      <td>23403</td>\n",
       "      <td>3.0</td>\n",
       "      <td>22.0</td>\n",
       "      <td>31.0</td>\n",
       "      <td>4.99</td>\n",
       "      <td>14.956879</td>\n",
       "    </tr>\n",
       "  </tbody>\n",
       "</table>\n",
       "</div>"
      ],
      "text/plain": [
       "   user_id  frequency  recency     T  monetary_value  predicted_ltv\n",
       "0      404        1.0      7.0  17.0            4.99       9.211879\n",
       "1     5337        0.0      0.0   3.0            0.00            NaN\n",
       "2     9010        3.0     21.0  24.0            4.99      18.016225\n",
       "3    19880        0.0      0.0  21.0            0.00            NaN\n",
       "4    23403        3.0     22.0  31.0            4.99      14.956879"
      ]
     },
     "execution_count": 23,
     "metadata": {},
     "output_type": "execute_result"
    }
   ],
   "source": [
    "\n",
    "summary['predicted_ltv'] = ggf.customer_lifetime_value(bgf,\n",
    "                                                      summary['frequency'],\n",
    "                                                      summary['recency'],\n",
    "                                                      summary['T'],\n",
    "                                                      summary['monetary_value'],\n",
    "                                                      time = 6, # месяцы\n",
    "                                                      freq = 'D', #у меня данные в дня \n",
    "                                                      discount_rate = 0.8) #по причине большого оттока пользователей указываю 80 %\n",
    "summary.head()"
   ]
  },
  {
   "cell_type": "markdown",
   "id": "ef82aa18",
   "metadata": {},
   "source": [
    "Предсказание готово, гляну на него"
   ]
  },
  {
   "cell_type": "code",
   "execution_count": 24,
   "id": "6ce7d391",
   "metadata": {},
   "outputs": [
    {
     "data": {
      "text/plain": [
       "count    20856.000000\n",
       "mean        12.695540\n",
       "std          5.900418\n",
       "min          1.062740\n",
       "25%          8.031716\n",
       "50%         13.045689\n",
       "75%         18.016225\n",
       "max         23.617537\n",
       "Name: predicted_ltv, dtype: float64"
      ]
     },
     "execution_count": 24,
     "metadata": {},
     "output_type": "execute_result"
    }
   ],
   "source": [
    "summary['predicted_ltv'].describe()"
   ]
  },
  {
   "cell_type": "markdown",
   "id": "620e2255",
   "metadata": {},
   "source": [
    "кажется очень похоже на реальный, сравню его с реальным"
   ]
  },
  {
   "cell_type": "markdown",
   "id": "b249e5f9",
   "metadata": {},
   "source": [
    "### График реального и спрогназируемого LTV"
   ]
  },
  {
   "cell_type": "code",
   "execution_count": 25,
   "id": "5534605f",
   "metadata": {},
   "outputs": [
    {
     "data": {
      "image/png": "[encoded data removed]",
      "text/plain": [
       "<Figure size 432x288 with 1 Axes>"
      ]
     },
     "metadata": {
      "needs_background": "light"
     },
     "output_type": "display_data"
    }
   ],
   "source": [
    "ltv_pre = summary['predicted_ltv'].quantile([0.165, 0.33, 0.495, 0.66, 0.825, 0.99 ])\n",
    "days_month = [31, 59, 90, 120, 151, 181]\n",
    "\n",
    "ltv = output.cumsum(axis = 1).mean(axis = 0)\n",
    "days_week = [1, 8, 15, 22, 29, 36, 43, 50, 57]# так ка первая неделя заканчивается первым января то и отщет беру от него\n",
    "\n",
    "\n",
    "\n",
    "fig, ax = plt.subplots()\n",
    "ax.plot(days_week, ltv, color = 'green', label='Реальный LTV')\n",
    "ax.plot(days_month, ltv_pre, color = 'blue', label='Спрогнозированный LTV')\n",
    "plt.title('Реальный и спрогназированный кумулятивный LTV')\n",
    "ax.legend(loc = 'upper left')\n",
    "plt.xlabel('Дни')\n",
    "plt.ylabel('LTV')\n",
    "plt.show()"
   ]
  },
  {
   "cell_type": "markdown",
   "id": "5b1adc78",
   "metadata": {},
   "source": [
    "Спрогнозированный LTV очень похож на реальный, не смотря на то что зеленная линия реального в конце отклоняется ниже, нужно учитывать что в этот временной промежуток я имею моала данных"
   ]
  },
  {
   "cell_type": "markdown",
   "id": "55fad33f",
   "metadata": {},
   "source": [
    "### Расчет ROMI на 4 недели и 6 месяцев"
   ]
  },
  {
   "cell_type": "markdown",
   "id": "26c6bd33",
   "metadata": {},
   "source": [
    "Перед тем как расчитать romi только с клиентами которые заплатили мне нужно пересчитать реальный и прогнозируемый LTV "
   ]
  },
  {
   "cell_type": "code",
   "execution_count": 34,
   "id": "321e5335",
   "metadata": {},
   "outputs": [
    {
     "data": {
      "text/html": [
       "<div>\n",
       "<style scoped>\n",
       "    .dataframe tbody tr th:only-of-type {\n",
       "        vertical-align: middle;\n",
       "    }\n",
       "\n",
       "    .dataframe tbody tr th {\n",
       "        vertical-align: top;\n",
       "    }\n",
       "\n",
       "    .dataframe thead th {\n",
       "        text-align: right;\n",
       "    }\n",
       "</style>\n",
       "<table border=\"1\" class=\"dataframe\">\n",
       "  <thead>\n",
       "    <tr style=\"text-align: right;\">\n",
       "      <th></th>\n",
       "      <th>user_id</th>\n",
       "      <th>frequency</th>\n",
       "      <th>recency</th>\n",
       "      <th>T</th>\n",
       "      <th>monetary_value</th>\n",
       "      <th>predicted_ltv</th>\n",
       "    </tr>\n",
       "  </thead>\n",
       "  <tbody>\n",
       "    <tr>\n",
       "      <th>0</th>\n",
       "      <td>404</td>\n",
       "      <td>1.0</td>\n",
       "      <td>7.0</td>\n",
       "      <td>17.0</td>\n",
       "      <td>4.99</td>\n",
       "      <td>9.211879</td>\n",
       "    </tr>\n",
       "    <tr>\n",
       "      <th>1</th>\n",
       "      <td>5337</td>\n",
       "      <td>0.0</td>\n",
       "      <td>0.0</td>\n",
       "      <td>3.0</td>\n",
       "      <td>0.00</td>\n",
       "      <td>NaN</td>\n",
       "    </tr>\n",
       "    <tr>\n",
       "      <th>2</th>\n",
       "      <td>9010</td>\n",
       "      <td>3.0</td>\n",
       "      <td>21.0</td>\n",
       "      <td>24.0</td>\n",
       "      <td>4.99</td>\n",
       "      <td>18.016225</td>\n",
       "    </tr>\n",
       "    <tr>\n",
       "      <th>3</th>\n",
       "      <td>19880</td>\n",
       "      <td>0.0</td>\n",
       "      <td>0.0</td>\n",
       "      <td>21.0</td>\n",
       "      <td>0.00</td>\n",
       "      <td>NaN</td>\n",
       "    </tr>\n",
       "    <tr>\n",
       "      <th>4</th>\n",
       "      <td>23403</td>\n",
       "      <td>3.0</td>\n",
       "      <td>22.0</td>\n",
       "      <td>31.0</td>\n",
       "      <td>4.99</td>\n",
       "      <td>14.956879</td>\n",
       "    </tr>\n",
       "  </tbody>\n",
       "</table>\n",
       "</div>"
      ],
      "text/plain": [
       "   user_id  frequency  recency     T  monetary_value  predicted_ltv\n",
       "0      404        1.0      7.0  17.0            4.99       9.211879\n",
       "1     5337        0.0      0.0   3.0            0.00            NaN\n",
       "2     9010        3.0     21.0  24.0            4.99      18.016225\n",
       "3    19880        0.0      0.0  21.0            0.00            NaN\n",
       "4    23403        3.0     22.0  31.0            4.99      14.956879"
      ]
     },
     "execution_count": 34,
     "metadata": {},
     "output_type": "execute_result"
    }
   ],
   "source": [
    "df_cohorts_2 = df_cohorts[df_cohorts['cohort_lifetime'] != 0]\n",
    "df_cohorts_2\n",
    "\n",
    "cohort_sizes_2 = (\n",
    "    df_cohorts_2.groupby('first_purchase_week')\n",
    "    .agg({'user_id': 'nunique'})\n",
    "    .reset_index() \n",
    ") #получил когорты с количеством уникальных пользователей\n",
    "\n",
    "cohort_sizes_2.columns = ['first_purchase_week', 'n_buyers'] #перемеиновал столбцы\n",
    "\n",
    "cohorts_2 = (\n",
    "    df_cohorts_2.groupby(['first_purchase_week', 'purchase_week'])\n",
    "    .agg({'price': 'sum'})\n",
    "    .reset_index() \n",
    ")# получил когорты с выручкой\n",
    "\n",
    "report_2 = pd.merge(cohort_sizes_2, cohorts_2, on='first_purchase_week') # соединил выручки и количество клиентом\n",
    "\n",
    "report_2['week'] = ((\n",
    "    report_2['purchase_week'] - report_2['first_purchase_week']\n",
    ") / np.timedelta64(1, 'W')).round().astype('int') #получил lifetime когорт\n",
    "\n",
    "\n",
    "report_2['ltv'] = report_2['price'] / report_2['n_buyers'] #получил ltv\n",
    "\n",
    "output_2 = (\n",
    "    report_2\n",
    "    .pivot_table(index='first_purchase_week', \n",
    "                 columns='week', \n",
    "                 values='ltv', \n",
    "                 aggfunc='mean')\n",
    "    .round(2)    \n",
    ")\n",
    "\n",
    "summary_2 = lifetimes.utils.summary_data_from_transaction_data(df_cohorts_2, 'user_id', 'purchase_date', 'price').reset_index()\n",
    "bgf_2 = lifetimes.BetaGeoFitter(penalizer_coef=0.09)\n",
    "bgf_2.fit(summary_2['frequency'], summary_2['recency'], summary_2['T'])\n",
    "ggf_2 = lifetimes.GammaGammaFitter(penalizer_coef=0.001)\n",
    "return_user_summary_2 = summary_2[summary_2['frequency'] > 0]\n",
    "ggf_2.fit(return_user_summary['frequency'], return_user_summary['monetary_value'])\n",
    "summary_2['predicted_ltv'] = ggf.customer_lifetime_value(bgf,\n",
    "                                                      summary_2['frequency'],\n",
    "                                                      summary_2['recency'],\n",
    "                                                      summary_2['T'],\n",
    "                                                      summary_2['monetary_value'],\n",
    "                                                      time = 6, # месяцы\n",
    "                                                      freq = 'D', #у меня данные в дня \n",
    "                                                      discount_rate = 0.2) #по причине большого оттока пользователей указываю 80 %"
   ]
  },
  {
   "cell_type": "code",
   "execution_count": null,
   "id": "8048d8c7",
   "metadata": {},
   "outputs": [],
   "source": [
    "Зафиксирую что CAC на одного платящего пользователя 6 USD.\n",
    "\n",
    "и получу ROMi за 4 недели и 6 месяцев"
   ]
  },
  {
   "cell_type": "code",
   "execution_count": 37,
   "id": "8b80d682",
   "metadata": {},
   "outputs": [
    {
     "name": "stdout",
     "output_type": "stream",
     "text": [
      "За 4 недели ROMI равно: 124.8 %\n",
      "За пол года ROMI равно: 559.49 %\n"
     ]
    }
   ],
   "source": [
    "cac = 6\n",
    "\n",
    "\n",
    "print('За 4 недели ROMI равно: {} %'.format(((output_2.cumsum(axis = 1).mean(axis=0)[4] - cac) / cac * 100).round(2)))\n",
    "print('За пол года ROMI равно: {} %'.format(((summary_2['predicted_ltv'].mean() - cac) / cac * 100).round(2)))"
   ]
  },
  {
   "cell_type": "markdown",
   "id": "5271e70b",
   "metadata": {},
   "source": [
    "## Вывод"
   ]
  },
  {
   "cell_type": "markdown",
   "id": "feba596a",
   "metadata": {},
   "source": [
    "1. Средняя LTV за 6 недель по когортам прожившие 6 или более недель: 6.33 $\n",
    "2. наблюдается снижение ltv как по когортам так и в течении их жизни\n",
    "3. почти 80 % пользователей отваливаются к 4 недели\n",
    "4. За 4 недели ROMI равно: 124.8 %\n",
    "5. За пол года ROMI равно: 559.49 %"
   ]
  }
 ],
 "metadata": {
  "kernelspec": {
   "display_name": "Python 3 (ipykernel)",
   "language": "python",
   "name": "python3"
  },
  "language_info": {
   "codemirror_mode": {
    "name": "ipython",
    "version": 3
   },
   "file_extension": ".py",
   "mimetype": "text/x-python",
   "name": "python",
   "nbconvert_exporter": "python",
   "pygments_lexer": "ipython3",
   "version": "3.9.8"
  },
  "toc": {
   "base_numbering": 1,
   "nav_menu": {},
   "number_sections": true,
   "sideBar": true,
   "skip_h1_title": true,
   "title_cell": "Table of Contents",
   "title_sidebar": "Contents",
   "toc_cell": false,
   "toc_position": {},
   "toc_section_display": true,
   "toc_window_display": false
  }
 },
 "nbformat": 4,
 "nbformat_minor": 5
}
