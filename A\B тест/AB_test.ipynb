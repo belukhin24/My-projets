{
 "cells": [
  {
   "cell_type": "markdown",
   "metadata": {},
   "source": [
    "# Проект \"Прведение A/B-теста\""
   ]
  },
  {
   "cell_type": "markdown",
   "metadata": {},
   "source": [
    "Я аналитик крупного интернет-магазина. Вместе с отделом маркетинга мы подготовили список гипотез для увеличения выручки.\n",
    "Приоритизируем гипотезы, запустим A/B-тест и проанализируем результаты."
   ]
  },
  {
   "cell_type": "markdown",
   "metadata": {},
   "source": [
    "1. [Импорт данных](#start)\n",
    "2. [Предобработка данных](#preprocessing)\n",
    "3. [Часть 1. Приоритизация гипотез](#part_1)\n",
    "4. [Часть 2. Анализ A/B-теста](#part_2)\n",
    "  * Задача №1. [Построю график кумулятивной выручки по группам.](#task_1)\n",
    "  * Задача №2. [Построю график кумулятивного среднего чека по группам.](#task_2)\n",
    "  * Задача №3. [Построю график относительного изменения кумулятивного среднего чека группы B к группе A.](#task_3)\n",
    "  * Задача №4. [Построю график кумулятивной конверсии по группам.](#task_4)\n",
    "  * Задача №5. [Построю график относительного изменения кумулятивной конверсии группы B к группе A.](#task_5)\n",
    "  * Задача №6. [Построю точечный график количества заказов по пользователям. ](#task_6)\n",
    "  * Задача №7. [Посчитаю 95-й и 99-й перцентили количества заказов на пользователя.](#task_7)\n",
    "  * Задача №8. [Построю точечный график стоимостей заказов. ](#task_8)\n",
    "  * Задача №9. [Посчитаю 95-й и 99-й перцентили количества заказов на пользователя.](#task_9)\n",
    "  * Задача №10. [Посчитаю статистическую значимость различий в конверсии между группами по «сырым» данным.](#task_10)\n",
    "  * Задача №11. [Посчитаю статистическую значимость различий в среднем чеке заказа между группами по «сырым» данным.](#task_11)\n",
    "  * Задача №12. [Посчитаю  статистическую значимость различий в конверсии между группами по «очищенным» данным.](#task_12)\n",
    "  * Задача №13. [Посчитаю статистическую значимость различий в среднем чеке заказа между группами по «очищенным» данным. ](#task_13)\n",
    "  * Задача №14. [Применю решение по результатам теста и объявлю его.](#task_14)"
   ]
  },
  {
   "cell_type": "markdown",
   "metadata": {},
   "source": [
    "## Импорт данных <a id=\"start\"></a>"
   ]
  },
  {
   "cell_type": "code",
   "execution_count": 1,
   "metadata": {},
   "outputs": [],
   "source": [
    "import pandas as pd\n",
    "import numpy as np\n",
    "import matplotlib.pyplot as plt\n",
    "import seaborn as sns\n",
    "import datetime as dt\n",
    "import scipy.stats as stats"
   ]
  },
  {
   "cell_type": "code",
   "execution_count": 2,
   "metadata": {},
   "outputs": [],
   "source": [
    "try:\n",
    "    hypothesis = pd.read_csv('/Users/Lenovo/Desktop/ЯП/Проекты/Проект 6 АБ-тесты/hypothesis.csv')\n",
    "    orders = pd.read_csv('/Users/Lenovo/Desktop/ЯП/Проекты/Проект 6 АБ-тесты/orders.csv')\n",
    "    visitors = pd.read_csv('/Users/Lenovo/Desktop/ЯП/Проекты/Проект 6 АБ-тесты/visitors.csv')\n",
    "except:\n",
    "    hypothesis = pd.read_csv('/datasets/hypothesis.csv') \n",
    "    orders = pd.read_csv('/datasets/orders.csv') \n",
    "    visitors = pd.read_csv('/datasets/visitors.csv') "
   ]
  },
  {
   "cell_type": "markdown",
   "metadata": {},
   "source": [
    "Так как работаю локально воспользовался методом try/except, взгляну на данные"
   ]
  },
  {
   "cell_type": "code",
   "execution_count": 3,
   "metadata": {},
   "outputs": [
    {
     "name": "stdout",
     "output_type": "stream",
     "text": [
      "<class 'pandas.core.frame.DataFrame'>\n",
      "RangeIndex: 9 entries, 0 to 8\n",
      "Data columns (total 5 columns):\n",
      "Hypothesis    9 non-null object\n",
      "Reach         9 non-null int64\n",
      "Impact        9 non-null int64\n",
      "Confidence    9 non-null int64\n",
      "Efforts       9 non-null int64\n",
      "dtypes: int64(4), object(1)\n",
      "memory usage: 488.0+ bytes\n"
     ]
    },
    {
     "data": {
      "text/html": [
       "<div>\n",
       "<style scoped>\n",
       "    .dataframe tbody tr th:only-of-type {\n",
       "        vertical-align: middle;\n",
       "    }\n",
       "\n",
       "    .dataframe tbody tr th {\n",
       "        vertical-align: top;\n",
       "    }\n",
       "\n",
       "    .dataframe thead th {\n",
       "        text-align: right;\n",
       "    }\n",
       "</style>\n",
       "<table border=\"1\" class=\"dataframe\">\n",
       "  <thead>\n",
       "    <tr style=\"text-align: right;\">\n",
       "      <th></th>\n",
       "      <th>Hypothesis</th>\n",
       "      <th>Reach</th>\n",
       "      <th>Impact</th>\n",
       "      <th>Confidence</th>\n",
       "      <th>Efforts</th>\n",
       "    </tr>\n",
       "  </thead>\n",
       "  <tbody>\n",
       "    <tr>\n",
       "      <td>0</td>\n",
       "      <td>Добавить два новых канала привлечения трафика,...</td>\n",
       "      <td>3</td>\n",
       "      <td>10</td>\n",
       "      <td>8</td>\n",
       "      <td>6</td>\n",
       "    </tr>\n",
       "    <tr>\n",
       "      <td>1</td>\n",
       "      <td>Запустить собственную службу доставки, что сок...</td>\n",
       "      <td>2</td>\n",
       "      <td>5</td>\n",
       "      <td>4</td>\n",
       "      <td>10</td>\n",
       "    </tr>\n",
       "    <tr>\n",
       "      <td>2</td>\n",
       "      <td>Добавить блоки рекомендаций товаров на сайт ин...</td>\n",
       "      <td>8</td>\n",
       "      <td>3</td>\n",
       "      <td>7</td>\n",
       "      <td>3</td>\n",
       "    </tr>\n",
       "    <tr>\n",
       "      <td>3</td>\n",
       "      <td>Изменить структура категорий, что увеличит кон...</td>\n",
       "      <td>8</td>\n",
       "      <td>3</td>\n",
       "      <td>3</td>\n",
       "      <td>8</td>\n",
       "    </tr>\n",
       "    <tr>\n",
       "      <td>4</td>\n",
       "      <td>Изменить цвет фона главной страницы, чтобы уве...</td>\n",
       "      <td>3</td>\n",
       "      <td>1</td>\n",
       "      <td>1</td>\n",
       "      <td>1</td>\n",
       "    </tr>\n",
       "  </tbody>\n",
       "</table>\n",
       "</div>"
      ],
      "text/plain": [
       "                                          Hypothesis  Reach  Impact  \\\n",
       "0  Добавить два новых канала привлечения трафика,...      3      10   \n",
       "1  Запустить собственную службу доставки, что сок...      2       5   \n",
       "2  Добавить блоки рекомендаций товаров на сайт ин...      8       3   \n",
       "3  Изменить структура категорий, что увеличит кон...      8       3   \n",
       "4  Изменить цвет фона главной страницы, чтобы уве...      3       1   \n",
       "\n",
       "   Confidence  Efforts  \n",
       "0           8        6  \n",
       "1           4       10  \n",
       "2           7        3  \n",
       "3           3        8  \n",
       "4           1        1  "
      ]
     },
     "execution_count": 3,
     "metadata": {},
     "output_type": "execute_result"
    }
   ],
   "source": [
    "hypothesis.info()\n",
    "hypothesis.head()"
   ]
  },
  {
   "cell_type": "markdown",
   "metadata": {},
   "source": [
    "Сданными все впорядке, смущают только что названия столбцов с большой буквы"
   ]
  },
  {
   "cell_type": "code",
   "execution_count": 4,
   "metadata": {},
   "outputs": [
    {
     "name": "stdout",
     "output_type": "stream",
     "text": [
      "<class 'pandas.core.frame.DataFrame'>\n",
      "RangeIndex: 1197 entries, 0 to 1196\n",
      "Data columns (total 5 columns):\n",
      "transactionId    1197 non-null int64\n",
      "visitorId        1197 non-null int64\n",
      "date             1197 non-null object\n",
      "revenue          1197 non-null int64\n",
      "group            1197 non-null object\n",
      "dtypes: int64(3), object(2)\n",
      "memory usage: 46.9+ KB\n"
     ]
    },
    {
     "data": {
      "text/html": [
       "<div>\n",
       "<style scoped>\n",
       "    .dataframe tbody tr th:only-of-type {\n",
       "        vertical-align: middle;\n",
       "    }\n",
       "\n",
       "    .dataframe tbody tr th {\n",
       "        vertical-align: top;\n",
       "    }\n",
       "\n",
       "    .dataframe thead th {\n",
       "        text-align: right;\n",
       "    }\n",
       "</style>\n",
       "<table border=\"1\" class=\"dataframe\">\n",
       "  <thead>\n",
       "    <tr style=\"text-align: right;\">\n",
       "      <th></th>\n",
       "      <th>transactionId</th>\n",
       "      <th>visitorId</th>\n",
       "      <th>date</th>\n",
       "      <th>revenue</th>\n",
       "      <th>group</th>\n",
       "    </tr>\n",
       "  </thead>\n",
       "  <tbody>\n",
       "    <tr>\n",
       "      <td>0</td>\n",
       "      <td>3667963787</td>\n",
       "      <td>3312258926</td>\n",
       "      <td>2019-08-15</td>\n",
       "      <td>1650</td>\n",
       "      <td>B</td>\n",
       "    </tr>\n",
       "    <tr>\n",
       "      <td>1</td>\n",
       "      <td>2804400009</td>\n",
       "      <td>3642806036</td>\n",
       "      <td>2019-08-15</td>\n",
       "      <td>730</td>\n",
       "      <td>B</td>\n",
       "    </tr>\n",
       "    <tr>\n",
       "      <td>2</td>\n",
       "      <td>2961555356</td>\n",
       "      <td>4069496402</td>\n",
       "      <td>2019-08-15</td>\n",
       "      <td>400</td>\n",
       "      <td>A</td>\n",
       "    </tr>\n",
       "    <tr>\n",
       "      <td>3</td>\n",
       "      <td>3797467345</td>\n",
       "      <td>1196621759</td>\n",
       "      <td>2019-08-15</td>\n",
       "      <td>9759</td>\n",
       "      <td>B</td>\n",
       "    </tr>\n",
       "    <tr>\n",
       "      <td>4</td>\n",
       "      <td>2282983706</td>\n",
       "      <td>2322279887</td>\n",
       "      <td>2019-08-15</td>\n",
       "      <td>2308</td>\n",
       "      <td>B</td>\n",
       "    </tr>\n",
       "  </tbody>\n",
       "</table>\n",
       "</div>"
      ],
      "text/plain": [
       "   transactionId   visitorId        date  revenue group\n",
       "0     3667963787  3312258926  2019-08-15     1650     B\n",
       "1     2804400009  3642806036  2019-08-15      730     B\n",
       "2     2961555356  4069496402  2019-08-15      400     A\n",
       "3     3797467345  1196621759  2019-08-15     9759     B\n",
       "4     2282983706  2322279887  2019-08-15     2308     B"
      ]
     },
     "execution_count": 4,
     "metadata": {},
     "output_type": "execute_result"
    }
   ],
   "source": [
    "orders.info()\n",
    "orders.head()"
   ]
  },
  {
   "cell_type": "markdown",
   "metadata": {},
   "source": [
    "В этой таблице нужно поработать в первую очередь с датами, перевести их нужный тип"
   ]
  },
  {
   "cell_type": "code",
   "execution_count": 5,
   "metadata": {},
   "outputs": [
    {
     "name": "stdout",
     "output_type": "stream",
     "text": [
      "<class 'pandas.core.frame.DataFrame'>\n",
      "RangeIndex: 62 entries, 0 to 61\n",
      "Data columns (total 3 columns):\n",
      "date        62 non-null object\n",
      "group       62 non-null object\n",
      "visitors    62 non-null int64\n",
      "dtypes: int64(1), object(2)\n",
      "memory usage: 1.6+ KB\n"
     ]
    },
    {
     "data": {
      "text/html": [
       "<div>\n",
       "<style scoped>\n",
       "    .dataframe tbody tr th:only-of-type {\n",
       "        vertical-align: middle;\n",
       "    }\n",
       "\n",
       "    .dataframe tbody tr th {\n",
       "        vertical-align: top;\n",
       "    }\n",
       "\n",
       "    .dataframe thead th {\n",
       "        text-align: right;\n",
       "    }\n",
       "</style>\n",
       "<table border=\"1\" class=\"dataframe\">\n",
       "  <thead>\n",
       "    <tr style=\"text-align: right;\">\n",
       "      <th></th>\n",
       "      <th>date</th>\n",
       "      <th>group</th>\n",
       "      <th>visitors</th>\n",
       "    </tr>\n",
       "  </thead>\n",
       "  <tbody>\n",
       "    <tr>\n",
       "      <td>0</td>\n",
       "      <td>2019-08-01</td>\n",
       "      <td>A</td>\n",
       "      <td>719</td>\n",
       "    </tr>\n",
       "    <tr>\n",
       "      <td>1</td>\n",
       "      <td>2019-08-02</td>\n",
       "      <td>A</td>\n",
       "      <td>619</td>\n",
       "    </tr>\n",
       "    <tr>\n",
       "      <td>2</td>\n",
       "      <td>2019-08-03</td>\n",
       "      <td>A</td>\n",
       "      <td>507</td>\n",
       "    </tr>\n",
       "    <tr>\n",
       "      <td>3</td>\n",
       "      <td>2019-08-04</td>\n",
       "      <td>A</td>\n",
       "      <td>717</td>\n",
       "    </tr>\n",
       "    <tr>\n",
       "      <td>4</td>\n",
       "      <td>2019-08-05</td>\n",
       "      <td>A</td>\n",
       "      <td>756</td>\n",
       "    </tr>\n",
       "  </tbody>\n",
       "</table>\n",
       "</div>"
      ],
      "text/plain": [
       "         date group  visitors\n",
       "0  2019-08-01     A       719\n",
       "1  2019-08-02     A       619\n",
       "2  2019-08-03     A       507\n",
       "3  2019-08-04     A       717\n",
       "4  2019-08-05     A       756"
      ]
     },
     "execution_count": 5,
     "metadata": {},
     "output_type": "execute_result"
    }
   ],
   "source": [
    "visitors.info()\n",
    "visitors.head()"
   ]
  },
  {
   "cell_type": "markdown",
   "metadata": {},
   "source": [
    "тут тоже даты нужно перевести в нужный тип"
   ]
  },
  {
   "cell_type": "markdown",
   "metadata": {},
   "source": [
    "## Предобработка данных <a id=\"preprocessing\"></a>"
   ]
  },
  {
   "cell_type": "markdown",
   "metadata": {},
   "source": [
    "Подготовлю данные для дальнейшей работы, исправлю в них выявленные ранее шероховатости"
   ]
  },
  {
   "cell_type": "code",
   "execution_count": 6,
   "metadata": {},
   "outputs": [
    {
     "data": {
      "text/html": [
       "<div>\n",
       "<style scoped>\n",
       "    .dataframe tbody tr th:only-of-type {\n",
       "        vertical-align: middle;\n",
       "    }\n",
       "\n",
       "    .dataframe tbody tr th {\n",
       "        vertical-align: top;\n",
       "    }\n",
       "\n",
       "    .dataframe thead th {\n",
       "        text-align: right;\n",
       "    }\n",
       "</style>\n",
       "<table border=\"1\" class=\"dataframe\">\n",
       "  <thead>\n",
       "    <tr style=\"text-align: right;\">\n",
       "      <th></th>\n",
       "      <th>hypothesis</th>\n",
       "      <th>reach</th>\n",
       "      <th>impact</th>\n",
       "      <th>confidence</th>\n",
       "      <th>efforts</th>\n",
       "    </tr>\n",
       "  </thead>\n",
       "  <tbody>\n",
       "    <tr>\n",
       "      <td>0</td>\n",
       "      <td>Добавить два новых канала привлечения трафика,...</td>\n",
       "      <td>3</td>\n",
       "      <td>10</td>\n",
       "      <td>8</td>\n",
       "      <td>6</td>\n",
       "    </tr>\n",
       "    <tr>\n",
       "      <td>1</td>\n",
       "      <td>Запустить собственную службу доставки, что сок...</td>\n",
       "      <td>2</td>\n",
       "      <td>5</td>\n",
       "      <td>4</td>\n",
       "      <td>10</td>\n",
       "    </tr>\n",
       "    <tr>\n",
       "      <td>2</td>\n",
       "      <td>Добавить блоки рекомендаций товаров на сайт ин...</td>\n",
       "      <td>8</td>\n",
       "      <td>3</td>\n",
       "      <td>7</td>\n",
       "      <td>3</td>\n",
       "    </tr>\n",
       "    <tr>\n",
       "      <td>3</td>\n",
       "      <td>Изменить структура категорий, что увеличит кон...</td>\n",
       "      <td>8</td>\n",
       "      <td>3</td>\n",
       "      <td>3</td>\n",
       "      <td>8</td>\n",
       "    </tr>\n",
       "    <tr>\n",
       "      <td>4</td>\n",
       "      <td>Изменить цвет фона главной страницы, чтобы уве...</td>\n",
       "      <td>3</td>\n",
       "      <td>1</td>\n",
       "      <td>1</td>\n",
       "      <td>1</td>\n",
       "    </tr>\n",
       "    <tr>\n",
       "      <td>5</td>\n",
       "      <td>Добавить страницу отзывов клиентов о магазине,...</td>\n",
       "      <td>3</td>\n",
       "      <td>2</td>\n",
       "      <td>2</td>\n",
       "      <td>3</td>\n",
       "    </tr>\n",
       "    <tr>\n",
       "      <td>6</td>\n",
       "      <td>Показать на главной странице баннеры с актуаль...</td>\n",
       "      <td>5</td>\n",
       "      <td>3</td>\n",
       "      <td>8</td>\n",
       "      <td>3</td>\n",
       "    </tr>\n",
       "    <tr>\n",
       "      <td>7</td>\n",
       "      <td>Добавить форму подписки на все основные страни...</td>\n",
       "      <td>10</td>\n",
       "      <td>7</td>\n",
       "      <td>8</td>\n",
       "      <td>5</td>\n",
       "    </tr>\n",
       "    <tr>\n",
       "      <td>8</td>\n",
       "      <td>Запустить акцию, дающую скидку на товар в день...</td>\n",
       "      <td>1</td>\n",
       "      <td>9</td>\n",
       "      <td>9</td>\n",
       "      <td>5</td>\n",
       "    </tr>\n",
       "  </tbody>\n",
       "</table>\n",
       "</div>"
      ],
      "text/plain": [
       "                                          hypothesis  reach  impact  \\\n",
       "0  Добавить два новых канала привлечения трафика,...      3      10   \n",
       "1  Запустить собственную службу доставки, что сок...      2       5   \n",
       "2  Добавить блоки рекомендаций товаров на сайт ин...      8       3   \n",
       "3  Изменить структура категорий, что увеличит кон...      8       3   \n",
       "4  Изменить цвет фона главной страницы, чтобы уве...      3       1   \n",
       "5  Добавить страницу отзывов клиентов о магазине,...      3       2   \n",
       "6  Показать на главной странице баннеры с актуаль...      5       3   \n",
       "7  Добавить форму подписки на все основные страни...     10       7   \n",
       "8  Запустить акцию, дающую скидку на товар в день...      1       9   \n",
       "\n",
       "   confidence  efforts  \n",
       "0           8        6  \n",
       "1           4       10  \n",
       "2           7        3  \n",
       "3           3        8  \n",
       "4           1        1  \n",
       "5           2        3  \n",
       "6           8        3  \n",
       "7           8        5  \n",
       "8           9        5  "
      ]
     },
     "execution_count": 6,
     "metadata": {},
     "output_type": "execute_result"
    }
   ],
   "source": [
    "hypothesis.columns = hypothesis.columns.str.lower()\n",
    "hypothesis"
   ]
  },
  {
   "cell_type": "code",
   "execution_count": 7,
   "metadata": {},
   "outputs": [
    {
     "name": "stdout",
     "output_type": "stream",
     "text": [
      "<class 'pandas.core.frame.DataFrame'>\n",
      "RangeIndex: 1197 entries, 0 to 1196\n",
      "Data columns (total 5 columns):\n",
      "transactionId    1197 non-null int64\n",
      "visitorId        1197 non-null int64\n",
      "date             1197 non-null datetime64[ns]\n",
      "revenue          1197 non-null int64\n",
      "group            1197 non-null object\n",
      "dtypes: datetime64[ns](1), int64(3), object(1)\n",
      "memory usage: 46.9+ KB\n"
     ]
    }
   ],
   "source": [
    "orders['date'] = pd.to_datetime(orders['date'])\n",
    "orders.info()"
   ]
  },
  {
   "cell_type": "code",
   "execution_count": 8,
   "metadata": {},
   "outputs": [
    {
     "name": "stdout",
     "output_type": "stream",
     "text": [
      "<class 'pandas.core.frame.DataFrame'>\n",
      "RangeIndex: 62 entries, 0 to 61\n",
      "Data columns (total 3 columns):\n",
      "date        62 non-null datetime64[ns]\n",
      "group       62 non-null object\n",
      "visitors    62 non-null int64\n",
      "dtypes: datetime64[ns](1), int64(1), object(1)\n",
      "memory usage: 1.6+ KB\n"
     ]
    }
   ],
   "source": [
    "visitors['date'] = pd.to_datetime(visitors['date'])\n",
    "visitors.info()"
   ]
  },
  {
   "cell_type": "markdown",
   "metadata": {},
   "source": [
    "Пропусков нет, проверю наличие дубликатов."
   ]
  },
  {
   "cell_type": "code",
   "execution_count": 9,
   "metadata": {},
   "outputs": [
    {
     "name": "stdout",
     "output_type": "stream",
     "text": [
      "False    1197\n",
      "dtype: int64\n",
      "False    62\n",
      "dtype: int64\n"
     ]
    }
   ],
   "source": [
    "print(orders.duplicated().value_counts())\n",
    "print(visitors.duplicated().value_counts())"
   ]
  },
  {
   "cell_type": "code",
   "execution_count": 10,
   "metadata": {},
   "outputs": [
    {
     "name": "stdout",
     "output_type": "stream",
     "text": [
      "Кол-во пользвателей в группе А (503,)\n",
      "Кол-во пользвателей в группе B (586,)\n",
      "Кол-во дубликотов в группах (89,)\n"
     ]
    }
   ],
   "source": [
    "group_a = orders[orders['group'] == 'A']['visitorId']\n",
    "print('Кол-во пользвателей в группе А',group_a.value_counts().shape)\n",
    "group_b = orders[orders['group'] == 'B']['visitorId']\n",
    "print('Кол-во пользвателей в группе B', group_b.value_counts().shape)\n",
    "print('Кол-во дубликотов в группах', group_a[group_a.isin(group_b)].shape)"
   ]
  },
  {
   "cell_type": "markdown",
   "metadata": {},
   "source": [
    "Удалю дубликаты"
   ]
  },
  {
   "cell_type": "code",
   "execution_count": 11,
   "metadata": {},
   "outputs": [
    {
     "name": "stdout",
     "output_type": "stream",
     "text": [
      "<class 'pandas.core.frame.DataFrame'>\n",
      "Int64Index: 1016 entries, 0 to 1196\n",
      "Data columns (total 5 columns):\n",
      "transactionId    1016 non-null int64\n",
      "visitorId        1016 non-null int64\n",
      "date             1016 non-null datetime64[ns]\n",
      "revenue          1016 non-null int64\n",
      "group            1016 non-null object\n",
      "dtypes: datetime64[ns](1), int64(3), object(1)\n",
      "memory usage: 47.6+ KB\n"
     ]
    }
   ],
   "source": [
    "duplicates = group_a[group_a.isin(group_b)].tolist()\n",
    "orders= orders.query('visitorId != @duplicates')\n",
    "orders.info()"
   ]
  },
  {
   "cell_type": "markdown",
   "metadata": {},
   "source": [
    "Данные подготовлены к тетсированию, удалены пользователи которые попадали в обе группы, пропусков нет."
   ]
  },
  {
   "cell_type": "markdown",
   "metadata": {},
   "source": [
    "## Часть 1. Приоритизация гипотез. <a id=\"part_1\"></a>"
   ]
  },
  {
   "cell_type": "markdown",
   "metadata": {},
   "source": [
    "Найду 2 фреймворка **ACE** и **RICE** для приоритизаций гипотез."
   ]
  },
  {
   "cell_type": "code",
   "execution_count": 12,
   "metadata": {},
   "outputs": [
    {
     "data": {
      "text/html": [
       "<style  type=\"text/css\" >\n",
       "    #T_cafc1b06_9b83_11ec_bac5_02420a391a13row0_col1 {\n",
       "            background-color:  #ffff2b;\n",
       "            color:  #000000;\n",
       "        }    #T_cafc1b06_9b83_11ec_bac5_02420a391a13row0_col2 {\n",
       "            background-color:  #ffff98;\n",
       "            color:  #000000;\n",
       "        }    #T_cafc1b06_9b83_11ec_bac5_02420a391a13row1_col1 {\n",
       "            background-color:  #ffffd7;\n",
       "            color:  #000000;\n",
       "        }    #T_cafc1b06_9b83_11ec_bac5_02420a391a13row1_col2 {\n",
       "            background-color:  #ffffe4;\n",
       "            color:  #000000;\n",
       "        }    #T_cafc1b06_9b83_11ec_bac5_02420a391a13row2_col1 {\n",
       "            background-color:  #ffff8b;\n",
       "            color:  #000000;\n",
       "        }    #T_cafc1b06_9b83_11ec_bac5_02420a391a13row2_col2 {\n",
       "            background-color:  #ffff76;\n",
       "            color:  #000000;\n",
       "        }    #T_cafc1b06_9b83_11ec_bac5_02420a391a13row3_col1 {\n",
       "            background-color:  #ffffe5;\n",
       "            color:  #000000;\n",
       "        }    #T_cafc1b06_9b83_11ec_bac5_02420a391a13row3_col2 {\n",
       "            background-color:  #ffffd9;\n",
       "            color:  #000000;\n",
       "        }    #T_cafc1b06_9b83_11ec_bac5_02420a391a13row4_col1 {\n",
       "            background-color:  #ffffe5;\n",
       "            color:  #000000;\n",
       "        }    #T_cafc1b06_9b83_11ec_bac5_02420a391a13row4_col2 {\n",
       "            background-color:  #ffffe5;\n",
       "            color:  #000000;\n",
       "        }    #T_cafc1b06_9b83_11ec_bac5_02420a391a13row5_col1 {\n",
       "            background-color:  #ffffe1;\n",
       "            color:  #000000;\n",
       "        }    #T_cafc1b06_9b83_11ec_bac5_02420a391a13row5_col2 {\n",
       "            background-color:  #ffffe4;\n",
       "            color:  #000000;\n",
       "        }    #T_cafc1b06_9b83_11ec_bac5_02420a391a13row6_col1 {\n",
       "            background-color:  #ffff7c;\n",
       "            color:  #000000;\n",
       "        }    #T_cafc1b06_9b83_11ec_bac5_02420a391a13row6_col2 {\n",
       "            background-color:  #ffff98;\n",
       "            color:  #000000;\n",
       "        }    #T_cafc1b06_9b83_11ec_bac5_02420a391a13row7_col1 {\n",
       "            background-color:  #ffff4c;\n",
       "            color:  #000000;\n",
       "        }    #T_cafc1b06_9b83_11ec_bac5_02420a391a13row7_col2 {\n",
       "            background-color:  #ffff00;\n",
       "            color:  #000000;\n",
       "        }    #T_cafc1b06_9b83_11ec_bac5_02420a391a13row8_col1 {\n",
       "            background-color:  #ffff00;\n",
       "            color:  #000000;\n",
       "        }    #T_cafc1b06_9b83_11ec_bac5_02420a391a13row8_col2 {\n",
       "            background-color:  #ffffca;\n",
       "            color:  #000000;\n",
       "        }</style><table id=\"T_cafc1b06_9b83_11ec_bac5_02420a391a13\" ><thead>    <tr>        <th class=\"blank level0\" ></th>        <th class=\"col_heading level0 col0\" >hypothesis</th>        <th class=\"col_heading level0 col1\" >ICE</th>        <th class=\"col_heading level0 col2\" >RICE</th>    </tr></thead><tbody>\n",
       "                <tr>\n",
       "                        <th id=\"T_cafc1b06_9b83_11ec_bac5_02420a391a13level0_row0\" class=\"row_heading level0 row0\" >0</th>\n",
       "                        <td id=\"T_cafc1b06_9b83_11ec_bac5_02420a391a13row0_col0\" class=\"data row0 col0\" >Добавить два новых канала привлечения трафика, что позволит привлекать на 30% больше пользователей</td>\n",
       "                        <td id=\"T_cafc1b06_9b83_11ec_bac5_02420a391a13row0_col1\" class=\"data row0 col1\" >13.3</td>\n",
       "                        <td id=\"T_cafc1b06_9b83_11ec_bac5_02420a391a13row0_col2\" class=\"data row0 col2\" >40</td>\n",
       "            </tr>\n",
       "            <tr>\n",
       "                        <th id=\"T_cafc1b06_9b83_11ec_bac5_02420a391a13level0_row1\" class=\"row_heading level0 row1\" >1</th>\n",
       "                        <td id=\"T_cafc1b06_9b83_11ec_bac5_02420a391a13row1_col0\" class=\"data row1 col0\" >Запустить собственную службу доставки, что сократит срок доставки заказов</td>\n",
       "                        <td id=\"T_cafc1b06_9b83_11ec_bac5_02420a391a13row1_col1\" class=\"data row1 col1\" >2</td>\n",
       "                        <td id=\"T_cafc1b06_9b83_11ec_bac5_02420a391a13row1_col2\" class=\"data row1 col2\" >4</td>\n",
       "            </tr>\n",
       "            <tr>\n",
       "                        <th id=\"T_cafc1b06_9b83_11ec_bac5_02420a391a13level0_row2\" class=\"row_heading level0 row2\" >2</th>\n",
       "                        <td id=\"T_cafc1b06_9b83_11ec_bac5_02420a391a13row2_col0\" class=\"data row2 col0\" >Добавить блоки рекомендаций товаров на сайт интернет магазина, чтобы повысить конверсию и средний чек заказа</td>\n",
       "                        <td id=\"T_cafc1b06_9b83_11ec_bac5_02420a391a13row2_col1\" class=\"data row2 col1\" >7</td>\n",
       "                        <td id=\"T_cafc1b06_9b83_11ec_bac5_02420a391a13row2_col2\" class=\"data row2 col2\" >56</td>\n",
       "            </tr>\n",
       "            <tr>\n",
       "                        <th id=\"T_cafc1b06_9b83_11ec_bac5_02420a391a13level0_row3\" class=\"row_heading level0 row3\" >3</th>\n",
       "                        <td id=\"T_cafc1b06_9b83_11ec_bac5_02420a391a13row3_col0\" class=\"data row3 col0\" >Изменить структура категорий, что увеличит конверсию, т.к. пользователи быстрее найдут нужный товар</td>\n",
       "                        <td id=\"T_cafc1b06_9b83_11ec_bac5_02420a391a13row3_col1\" class=\"data row3 col1\" >1.1</td>\n",
       "                        <td id=\"T_cafc1b06_9b83_11ec_bac5_02420a391a13row3_col2\" class=\"data row3 col2\" >9</td>\n",
       "            </tr>\n",
       "            <tr>\n",
       "                        <th id=\"T_cafc1b06_9b83_11ec_bac5_02420a391a13level0_row4\" class=\"row_heading level0 row4\" >4</th>\n",
       "                        <td id=\"T_cafc1b06_9b83_11ec_bac5_02420a391a13row4_col0\" class=\"data row4 col0\" >Изменить цвет фона главной страницы, чтобы увеличить вовлеченность пользователей</td>\n",
       "                        <td id=\"T_cafc1b06_9b83_11ec_bac5_02420a391a13row4_col1\" class=\"data row4 col1\" >1</td>\n",
       "                        <td id=\"T_cafc1b06_9b83_11ec_bac5_02420a391a13row4_col2\" class=\"data row4 col2\" >3</td>\n",
       "            </tr>\n",
       "            <tr>\n",
       "                        <th id=\"T_cafc1b06_9b83_11ec_bac5_02420a391a13level0_row5\" class=\"row_heading level0 row5\" >5</th>\n",
       "                        <td id=\"T_cafc1b06_9b83_11ec_bac5_02420a391a13row5_col0\" class=\"data row5 col0\" >Добавить страницу отзывов клиентов о магазине, что позволит увеличить количество заказов</td>\n",
       "                        <td id=\"T_cafc1b06_9b83_11ec_bac5_02420a391a13row5_col1\" class=\"data row5 col1\" >1.3</td>\n",
       "                        <td id=\"T_cafc1b06_9b83_11ec_bac5_02420a391a13row5_col2\" class=\"data row5 col2\" >4</td>\n",
       "            </tr>\n",
       "            <tr>\n",
       "                        <th id=\"T_cafc1b06_9b83_11ec_bac5_02420a391a13level0_row6\" class=\"row_heading level0 row6\" >6</th>\n",
       "                        <td id=\"T_cafc1b06_9b83_11ec_bac5_02420a391a13row6_col0\" class=\"data row6 col0\" >Показать на главной странице баннеры с актуальными акциями и распродажами, чтобы увеличить конверсию</td>\n",
       "                        <td id=\"T_cafc1b06_9b83_11ec_bac5_02420a391a13row6_col1\" class=\"data row6 col1\" >8</td>\n",
       "                        <td id=\"T_cafc1b06_9b83_11ec_bac5_02420a391a13row6_col2\" class=\"data row6 col2\" >40</td>\n",
       "            </tr>\n",
       "            <tr>\n",
       "                        <th id=\"T_cafc1b06_9b83_11ec_bac5_02420a391a13level0_row7\" class=\"row_heading level0 row7\" >7</th>\n",
       "                        <td id=\"T_cafc1b06_9b83_11ec_bac5_02420a391a13row7_col0\" class=\"data row7 col0\" >Добавить форму подписки на все основные страницы, чтобы собрать базу клиентов для email-рассылок</td>\n",
       "                        <td id=\"T_cafc1b06_9b83_11ec_bac5_02420a391a13row7_col1\" class=\"data row7 col1\" >11.2</td>\n",
       "                        <td id=\"T_cafc1b06_9b83_11ec_bac5_02420a391a13row7_col2\" class=\"data row7 col2\" >112</td>\n",
       "            </tr>\n",
       "            <tr>\n",
       "                        <th id=\"T_cafc1b06_9b83_11ec_bac5_02420a391a13level0_row8\" class=\"row_heading level0 row8\" >8</th>\n",
       "                        <td id=\"T_cafc1b06_9b83_11ec_bac5_02420a391a13row8_col0\" class=\"data row8 col0\" >Запустить акцию, дающую скидку на товар в день рождения</td>\n",
       "                        <td id=\"T_cafc1b06_9b83_11ec_bac5_02420a391a13row8_col1\" class=\"data row8 col1\" >16.2</td>\n",
       "                        <td id=\"T_cafc1b06_9b83_11ec_bac5_02420a391a13row8_col2\" class=\"data row8 col2\" >16.2</td>\n",
       "            </tr>\n",
       "    </tbody></table>"
      ],
      "text/plain": [
       "<pandas.io.formats.style.Styler at 0x7fd39861d410>"
      ]
     },
     "execution_count": 12,
     "metadata": {},
     "output_type": "execute_result"
    }
   ],
   "source": [
    "hypothesis['ICE'] = (hypothesis['impact'] * hypothesis['confidence'] / hypothesis['efforts']).round(1)\n",
    "hypothesis['RICE'] = hypothesis['reach'] * hypothesis['impact'] * hypothesis['confidence'] / hypothesis['efforts']\n",
    "\n",
    "cm = sns.light_palette(\"yellow\", as_cmap=True)\n",
    "hypothesis[['hypothesis','ICE','RICE']].style.background_gradient(cmap=cm)"
   ]
  },
  {
   "cell_type": "markdown",
   "metadata": {},
   "source": [
    "По фрейморку **ACE** наиболее перспективные гипотизы:\n",
    "- Запустить акцию, дающую скидку на товар в день рождения\n",
    "- Добавить два новых канала привлечения трафика, что позволит привлекать на 30% больше пользователей\n",
    "\n",
    "По фрейморку **RICE** наибелле перспективные гипотизы:\n",
    "- Добавить форму подписки на все основные страницы, чтобы собрать базу клиентов для email-рассылок\n",
    "- Добавить блоки рекомендаций товаров на сайт интернет магазина, чтобы повысить конверсию и средний чек заказа\n",
    "\n",
    "После применения фрейворка **RICE** я получил приоритезацию гипотиз учитывающую не только силу гипотез но и число пользователей на которых изменения могут повлиять, это показатель `reach`, так как мы его умножали он в свою очередь и изменил так чущественно приоритезацию, поэтому получу окончательную таблицу проранжированную по **RICH**"
   ]
  },
  {
   "cell_type": "code",
   "execution_count": 13,
   "metadata": {},
   "outputs": [
    {
     "data": {
      "text/html": [
       "<style  type=\"text/css\" >\n",
       "    #T_cf29c8ae_9b83_11ec_bac5_02420a391a13row0_col1 {\n",
       "            background-color:  #ffff4c;\n",
       "            color:  #000000;\n",
       "        }    #T_cf29c8ae_9b83_11ec_bac5_02420a391a13row0_col2 {\n",
       "            background-color:  #ffff00;\n",
       "            color:  #000000;\n",
       "        }    #T_cf29c8ae_9b83_11ec_bac5_02420a391a13row1_col1 {\n",
       "            background-color:  #ffff8b;\n",
       "            color:  #000000;\n",
       "        }    #T_cf29c8ae_9b83_11ec_bac5_02420a391a13row1_col2 {\n",
       "            background-color:  #ffff76;\n",
       "            color:  #000000;\n",
       "        }    #T_cf29c8ae_9b83_11ec_bac5_02420a391a13row2_col1 {\n",
       "            background-color:  #ffff2b;\n",
       "            color:  #000000;\n",
       "        }    #T_cf29c8ae_9b83_11ec_bac5_02420a391a13row2_col2 {\n",
       "            background-color:  #ffff98;\n",
       "            color:  #000000;\n",
       "        }    #T_cf29c8ae_9b83_11ec_bac5_02420a391a13row3_col1 {\n",
       "            background-color:  #ffff7c;\n",
       "            color:  #000000;\n",
       "        }    #T_cf29c8ae_9b83_11ec_bac5_02420a391a13row3_col2 {\n",
       "            background-color:  #ffff98;\n",
       "            color:  #000000;\n",
       "        }    #T_cf29c8ae_9b83_11ec_bac5_02420a391a13row4_col1 {\n",
       "            background-color:  #ffff00;\n",
       "            color:  #000000;\n",
       "        }    #T_cf29c8ae_9b83_11ec_bac5_02420a391a13row4_col2 {\n",
       "            background-color:  #ffffca;\n",
       "            color:  #000000;\n",
       "        }    #T_cf29c8ae_9b83_11ec_bac5_02420a391a13row5_col1 {\n",
       "            background-color:  #ffffe5;\n",
       "            color:  #000000;\n",
       "        }    #T_cf29c8ae_9b83_11ec_bac5_02420a391a13row5_col2 {\n",
       "            background-color:  #ffffd9;\n",
       "            color:  #000000;\n",
       "        }    #T_cf29c8ae_9b83_11ec_bac5_02420a391a13row6_col1 {\n",
       "            background-color:  #ffffd7;\n",
       "            color:  #000000;\n",
       "        }    #T_cf29c8ae_9b83_11ec_bac5_02420a391a13row6_col2 {\n",
       "            background-color:  #ffffe4;\n",
       "            color:  #000000;\n",
       "        }    #T_cf29c8ae_9b83_11ec_bac5_02420a391a13row7_col1 {\n",
       "            background-color:  #ffffe1;\n",
       "            color:  #000000;\n",
       "        }    #T_cf29c8ae_9b83_11ec_bac5_02420a391a13row7_col2 {\n",
       "            background-color:  #ffffe4;\n",
       "            color:  #000000;\n",
       "        }    #T_cf29c8ae_9b83_11ec_bac5_02420a391a13row8_col1 {\n",
       "            background-color:  #ffffe5;\n",
       "            color:  #000000;\n",
       "        }    #T_cf29c8ae_9b83_11ec_bac5_02420a391a13row8_col2 {\n",
       "            background-color:  #ffffe5;\n",
       "            color:  #000000;\n",
       "        }</style><table id=\"T_cf29c8ae_9b83_11ec_bac5_02420a391a13\" ><thead>    <tr>        <th class=\"blank level0\" ></th>        <th class=\"col_heading level0 col0\" >hypothesis</th>        <th class=\"col_heading level0 col1\" >ICE</th>        <th class=\"col_heading level0 col2\" >RICE</th>    </tr></thead><tbody>\n",
       "                <tr>\n",
       "                        <th id=\"T_cf29c8ae_9b83_11ec_bac5_02420a391a13level0_row0\" class=\"row_heading level0 row0\" >7</th>\n",
       "                        <td id=\"T_cf29c8ae_9b83_11ec_bac5_02420a391a13row0_col0\" class=\"data row0 col0\" >Добавить форму подписки на все основные страницы, чтобы собрать базу клиентов для email-рассылок</td>\n",
       "                        <td id=\"T_cf29c8ae_9b83_11ec_bac5_02420a391a13row0_col1\" class=\"data row0 col1\" >11.2</td>\n",
       "                        <td id=\"T_cf29c8ae_9b83_11ec_bac5_02420a391a13row0_col2\" class=\"data row0 col2\" >112</td>\n",
       "            </tr>\n",
       "            <tr>\n",
       "                        <th id=\"T_cf29c8ae_9b83_11ec_bac5_02420a391a13level0_row1\" class=\"row_heading level0 row1\" >2</th>\n",
       "                        <td id=\"T_cf29c8ae_9b83_11ec_bac5_02420a391a13row1_col0\" class=\"data row1 col0\" >Добавить блоки рекомендаций товаров на сайт интернет магазина, чтобы повысить конверсию и средний чек заказа</td>\n",
       "                        <td id=\"T_cf29c8ae_9b83_11ec_bac5_02420a391a13row1_col1\" class=\"data row1 col1\" >7</td>\n",
       "                        <td id=\"T_cf29c8ae_9b83_11ec_bac5_02420a391a13row1_col2\" class=\"data row1 col2\" >56</td>\n",
       "            </tr>\n",
       "            <tr>\n",
       "                        <th id=\"T_cf29c8ae_9b83_11ec_bac5_02420a391a13level0_row2\" class=\"row_heading level0 row2\" >0</th>\n",
       "                        <td id=\"T_cf29c8ae_9b83_11ec_bac5_02420a391a13row2_col0\" class=\"data row2 col0\" >Добавить два новых канала привлечения трафика, что позволит привлекать на 30% больше пользователей</td>\n",
       "                        <td id=\"T_cf29c8ae_9b83_11ec_bac5_02420a391a13row2_col1\" class=\"data row2 col1\" >13.3</td>\n",
       "                        <td id=\"T_cf29c8ae_9b83_11ec_bac5_02420a391a13row2_col2\" class=\"data row2 col2\" >40</td>\n",
       "            </tr>\n",
       "            <tr>\n",
       "                        <th id=\"T_cf29c8ae_9b83_11ec_bac5_02420a391a13level0_row3\" class=\"row_heading level0 row3\" >6</th>\n",
       "                        <td id=\"T_cf29c8ae_9b83_11ec_bac5_02420a391a13row3_col0\" class=\"data row3 col0\" >Показать на главной странице баннеры с актуальными акциями и распродажами, чтобы увеличить конверсию</td>\n",
       "                        <td id=\"T_cf29c8ae_9b83_11ec_bac5_02420a391a13row3_col1\" class=\"data row3 col1\" >8</td>\n",
       "                        <td id=\"T_cf29c8ae_9b83_11ec_bac5_02420a391a13row3_col2\" class=\"data row3 col2\" >40</td>\n",
       "            </tr>\n",
       "            <tr>\n",
       "                        <th id=\"T_cf29c8ae_9b83_11ec_bac5_02420a391a13level0_row4\" class=\"row_heading level0 row4\" >8</th>\n",
       "                        <td id=\"T_cf29c8ae_9b83_11ec_bac5_02420a391a13row4_col0\" class=\"data row4 col0\" >Запустить акцию, дающую скидку на товар в день рождения</td>\n",
       "                        <td id=\"T_cf29c8ae_9b83_11ec_bac5_02420a391a13row4_col1\" class=\"data row4 col1\" >16.2</td>\n",
       "                        <td id=\"T_cf29c8ae_9b83_11ec_bac5_02420a391a13row4_col2\" class=\"data row4 col2\" >16.2</td>\n",
       "            </tr>\n",
       "            <tr>\n",
       "                        <th id=\"T_cf29c8ae_9b83_11ec_bac5_02420a391a13level0_row5\" class=\"row_heading level0 row5\" >3</th>\n",
       "                        <td id=\"T_cf29c8ae_9b83_11ec_bac5_02420a391a13row5_col0\" class=\"data row5 col0\" >Изменить структура категорий, что увеличит конверсию, т.к. пользователи быстрее найдут нужный товар</td>\n",
       "                        <td id=\"T_cf29c8ae_9b83_11ec_bac5_02420a391a13row5_col1\" class=\"data row5 col1\" >1.1</td>\n",
       "                        <td id=\"T_cf29c8ae_9b83_11ec_bac5_02420a391a13row5_col2\" class=\"data row5 col2\" >9</td>\n",
       "            </tr>\n",
       "            <tr>\n",
       "                        <th id=\"T_cf29c8ae_9b83_11ec_bac5_02420a391a13level0_row6\" class=\"row_heading level0 row6\" >1</th>\n",
       "                        <td id=\"T_cf29c8ae_9b83_11ec_bac5_02420a391a13row6_col0\" class=\"data row6 col0\" >Запустить собственную службу доставки, что сократит срок доставки заказов</td>\n",
       "                        <td id=\"T_cf29c8ae_9b83_11ec_bac5_02420a391a13row6_col1\" class=\"data row6 col1\" >2</td>\n",
       "                        <td id=\"T_cf29c8ae_9b83_11ec_bac5_02420a391a13row6_col2\" class=\"data row6 col2\" >4</td>\n",
       "            </tr>\n",
       "            <tr>\n",
       "                        <th id=\"T_cf29c8ae_9b83_11ec_bac5_02420a391a13level0_row7\" class=\"row_heading level0 row7\" >5</th>\n",
       "                        <td id=\"T_cf29c8ae_9b83_11ec_bac5_02420a391a13row7_col0\" class=\"data row7 col0\" >Добавить страницу отзывов клиентов о магазине, что позволит увеличить количество заказов</td>\n",
       "                        <td id=\"T_cf29c8ae_9b83_11ec_bac5_02420a391a13row7_col1\" class=\"data row7 col1\" >1.3</td>\n",
       "                        <td id=\"T_cf29c8ae_9b83_11ec_bac5_02420a391a13row7_col2\" class=\"data row7 col2\" >4</td>\n",
       "            </tr>\n",
       "            <tr>\n",
       "                        <th id=\"T_cf29c8ae_9b83_11ec_bac5_02420a391a13level0_row8\" class=\"row_heading level0 row8\" >4</th>\n",
       "                        <td id=\"T_cf29c8ae_9b83_11ec_bac5_02420a391a13row8_col0\" class=\"data row8 col0\" >Изменить цвет фона главной страницы, чтобы увеличить вовлеченность пользователей</td>\n",
       "                        <td id=\"T_cf29c8ae_9b83_11ec_bac5_02420a391a13row8_col1\" class=\"data row8 col1\" >1</td>\n",
       "                        <td id=\"T_cf29c8ae_9b83_11ec_bac5_02420a391a13row8_col2\" class=\"data row8 col2\" >3</td>\n",
       "            </tr>\n",
       "    </tbody></table>"
      ],
      "text/plain": [
       "<pandas.io.formats.style.Styler at 0x7fd398276a50>"
      ]
     },
     "execution_count": 13,
     "metadata": {},
     "output_type": "execute_result"
    }
   ],
   "source": [
    "rice_ice = hypothesis.sort_values('RICE', ascending = False)\n",
    "cm = sns.light_palette(\"yellow\", as_cmap=True)\n",
    "rice_ice[['hypothesis','ICE','RICE']].style.background_gradient(cmap=cm)"
   ]
  },
  {
   "cell_type": "markdown",
   "metadata": {},
   "source": [
    "На основании полученной таблицы можно выделить фаворита из доступных теорий:\n",
    "- Добавить форму подписки на все основные страницы, чтобы собрать базу клиентов для email-рассылок\n"
   ]
  },
  {
   "cell_type": "markdown",
   "metadata": {},
   "source": [
    "## Часть 2. Анализ A/B-теста. <a id=\"part_2\"></a>"
   ]
  },
  {
   "cell_type": "markdown",
   "metadata": {},
   "source": [
    "#### Задача №1. Построю график кумулятивной выручки по группам. <a id=\"task_1\"></a>"
   ]
  },
  {
   "cell_type": "code",
   "execution_count": 14,
   "metadata": {},
   "outputs": [
    {
     "data": {
      "text/html": [
       "<div>\n",
       "<style scoped>\n",
       "    .dataframe tbody tr th:only-of-type {\n",
       "        vertical-align: middle;\n",
       "    }\n",
       "\n",
       "    .dataframe tbody tr th {\n",
       "        vertical-align: top;\n",
       "    }\n",
       "\n",
       "    .dataframe thead th {\n",
       "        text-align: right;\n",
       "    }\n",
       "</style>\n",
       "<table border=\"1\" class=\"dataframe\">\n",
       "  <thead>\n",
       "    <tr style=\"text-align: right;\">\n",
       "      <th></th>\n",
       "      <th>transactionId</th>\n",
       "      <th>visitorId</th>\n",
       "      <th>date</th>\n",
       "      <th>revenue</th>\n",
       "      <th>group</th>\n",
       "    </tr>\n",
       "  </thead>\n",
       "  <tbody>\n",
       "    <tr>\n",
       "      <td>0</td>\n",
       "      <td>3667963787</td>\n",
       "      <td>3312258926</td>\n",
       "      <td>2019-08-15</td>\n",
       "      <td>1650</td>\n",
       "      <td>B</td>\n",
       "    </tr>\n",
       "    <tr>\n",
       "      <td>1</td>\n",
       "      <td>2804400009</td>\n",
       "      <td>3642806036</td>\n",
       "      <td>2019-08-15</td>\n",
       "      <td>730</td>\n",
       "      <td>B</td>\n",
       "    </tr>\n",
       "    <tr>\n",
       "      <td>3</td>\n",
       "      <td>3797467345</td>\n",
       "      <td>1196621759</td>\n",
       "      <td>2019-08-15</td>\n",
       "      <td>9759</td>\n",
       "      <td>B</td>\n",
       "    </tr>\n",
       "    <tr>\n",
       "      <td>4</td>\n",
       "      <td>2282983706</td>\n",
       "      <td>2322279887</td>\n",
       "      <td>2019-08-15</td>\n",
       "      <td>2308</td>\n",
       "      <td>B</td>\n",
       "    </tr>\n",
       "    <tr>\n",
       "      <td>5</td>\n",
       "      <td>182168103</td>\n",
       "      <td>935554773</td>\n",
       "      <td>2019-08-15</td>\n",
       "      <td>2210</td>\n",
       "      <td>B</td>\n",
       "    </tr>\n",
       "  </tbody>\n",
       "</table>\n",
       "</div>"
      ],
      "text/plain": [
       "   transactionId   visitorId       date  revenue group\n",
       "0     3667963787  3312258926 2019-08-15     1650     B\n",
       "1     2804400009  3642806036 2019-08-15      730     B\n",
       "3     3797467345  1196621759 2019-08-15     9759     B\n",
       "4     2282983706  2322279887 2019-08-15     2308     B\n",
       "5      182168103   935554773 2019-08-15     2210     B"
      ]
     },
     "execution_count": 14,
     "metadata": {},
     "output_type": "execute_result"
    }
   ],
   "source": [
    "orders.head()"
   ]
  },
  {
   "cell_type": "code",
   "execution_count": 15,
   "metadata": {},
   "outputs": [
    {
     "data": {
      "text/html": [
       "<div>\n",
       "<style scoped>\n",
       "    .dataframe tbody tr th:only-of-type {\n",
       "        vertical-align: middle;\n",
       "    }\n",
       "\n",
       "    .dataframe tbody tr th {\n",
       "        vertical-align: top;\n",
       "    }\n",
       "\n",
       "    .dataframe thead th {\n",
       "        text-align: right;\n",
       "    }\n",
       "</style>\n",
       "<table border=\"1\" class=\"dataframe\">\n",
       "  <thead>\n",
       "    <tr style=\"text-align: right;\">\n",
       "      <th></th>\n",
       "      <th>date</th>\n",
       "      <th>group</th>\n",
       "      <th>orders</th>\n",
       "      <th>buyers</th>\n",
       "      <th>revenue</th>\n",
       "      <th>visitors</th>\n",
       "    </tr>\n",
       "  </thead>\n",
       "  <tbody>\n",
       "    <tr>\n",
       "      <td>0</td>\n",
       "      <td>2019-08-01</td>\n",
       "      <td>A</td>\n",
       "      <td>19</td>\n",
       "      <td>23</td>\n",
       "      <td>142779</td>\n",
       "      <td>719</td>\n",
       "    </tr>\n",
       "    <tr>\n",
       "      <td>1</td>\n",
       "      <td>2019-08-01</td>\n",
       "      <td>B</td>\n",
       "      <td>17</td>\n",
       "      <td>17</td>\n",
       "      <td>59758</td>\n",
       "      <td>713</td>\n",
       "    </tr>\n",
       "    <tr>\n",
       "      <td>2</td>\n",
       "      <td>2019-08-02</td>\n",
       "      <td>A</td>\n",
       "      <td>36</td>\n",
       "      <td>42</td>\n",
       "      <td>234381</td>\n",
       "      <td>1338</td>\n",
       "    </tr>\n",
       "    <tr>\n",
       "      <td>3</td>\n",
       "      <td>2019-08-02</td>\n",
       "      <td>B</td>\n",
       "      <td>39</td>\n",
       "      <td>40</td>\n",
       "      <td>221801</td>\n",
       "      <td>1294</td>\n",
       "    </tr>\n",
       "    <tr>\n",
       "      <td>4</td>\n",
       "      <td>2019-08-03</td>\n",
       "      <td>A</td>\n",
       "      <td>60</td>\n",
       "      <td>66</td>\n",
       "      <td>346854</td>\n",
       "      <td>1845</td>\n",
       "    </tr>\n",
       "  </tbody>\n",
       "</table>\n",
       "</div>"
      ],
      "text/plain": [
       "        date group  orders  buyers  revenue  visitors\n",
       "0 2019-08-01     A      19      23   142779       719\n",
       "1 2019-08-01     B      17      17    59758       713\n",
       "2 2019-08-02     A      36      42   234381      1338\n",
       "3 2019-08-02     B      39      40   221801      1294\n",
       "4 2019-08-03     A      60      66   346854      1845"
      ]
     },
     "metadata": {},
     "output_type": "display_data"
    }
   ],
   "source": [
    "# создаем массив уникальных пар значений дат и групп теста\n",
    "datesGroups = orders[['date','group']].drop_duplicates()\n",
    "\n",
    "# получаем агрегированные кумулятивные по дням данные о заказах \n",
    "ordersAggregated = datesGroups.apply(\n",
    "    lambda x: orders[np.logical_and(orders['date'] <= x['date'],\n",
    "                                    orders['group'] == x['group'])].agg({\n",
    "                                                                    'date' : 'max',\n",
    "                                                                    'group' : 'max',\n",
    "                                                                    'visitorId' : 'nunique',\n",
    "                                                                    'transactionId' : 'nunique',\n",
    "                                                                    'revenue' : 'sum'}), axis=1).sort_values(by=['date','group'])\n",
    "\n",
    "# получаем агрегированные кумулятивные по дням данные о посетителях интернет-магазина \n",
    "visitorsAggregated = datesGroups.apply(\n",
    "    lambda x: visitors[np.logical_and(visitors['date'] <= x['date'],\n",
    "                                      visitors['group'] == x['group'])].agg({\n",
    "                                                                        'date' : 'max', \n",
    "                                                                        'group' : 'max', \n",
    "                                                                        'visitors' : 'sum'}), axis=1).sort_values(by=['date','group'])\n",
    "\n",
    "# объединяем кумулятивные данные в одной таблице и присваиваем ее столбцам понятные названия\n",
    "cumulativeData = ordersAggregated.merge(visitorsAggregated, left_on=['date', 'group'], right_on=['date', 'group'])\n",
    "cumulativeData.columns = ['date', 'group', 'orders', 'buyers', 'revenue', 'visitors']\n",
    "\n",
    "display(cumulativeData.head(5)) "
   ]
  },
  {
   "cell_type": "code",
   "execution_count": 16,
   "metadata": {},
   "outputs": [
    {
     "name": "stderr",
     "output_type": "stream",
     "text": [
      "/opt/conda/lib/python3.7/site-packages/pandas/plotting/_matplotlib/converter.py:103: FutureWarning: Using an implicitly registered datetime converter for a matplotlib plotting method. The converter was registered by pandas on import. Future versions of pandas will require you to explicitly register matplotlib converters.\n",
      "\n",
      "To register the converters:\n",
      "\t>>> from pandas.plotting import register_matplotlib_converters\n",
      "\t>>> register_matplotlib_converters()\n",
      "  warnings.warn(msg, FutureWarning)\n"
     ]
    },
    {
     "data": {
      "image/png": "[encoded data removed]",
      "text/plain": [
       "<Figure size 432x288 with 1 Axes>"
      ]
     },
     "metadata": {
      "needs_background": "light"
     },
     "output_type": "display_data"
    }
   ],
   "source": [
    "# датафрейм с кумулятивным количеством заказов и кумулятивной выручкой по дням в группе А\n",
    "cumulativeRevenueA = cumulativeData[cumulativeData['group']=='A'][['date','revenue', 'orders']]\n",
    "\n",
    "# датафрейм с кумулятивным количеством заказов и кумулятивной выручкой по дням в группе B\n",
    "cumulativeRevenueB = cumulativeData[cumulativeData['group']=='B'][['date','revenue', 'orders']]\n",
    "\n",
    "# Строим график выручки группы А\n",
    "plt.plot(cumulativeRevenueA['date'], cumulativeRevenueA['revenue'], label='A')\n",
    "\n",
    "# Строим график выручки группы B\n",
    "plt.plot(cumulativeRevenueB['date'], cumulativeRevenueB['revenue'], label='B')\n",
    "\n",
    "plt.xticks(rotation=45)\n",
    "plt.title('График кумулятивной выручки по группам')\n",
    "plt.xlabel('Дата теста')\n",
    "plt.ylabel('Выручка, руб')\n",
    "plt.legend() \n",
    "plt.annotate('скачок', xy=('2019-08-17', 2500000), xytext=('2019-08-10', 3500000),\n",
    "            arrowprops=dict(facecolor='g'))\n",
    "plt.annotate('отрыв', xy=('2019-08-05', 800000), xytext=('2019-08-05', 2000000),\n",
    "            arrowprops=dict(facecolor='g'))\n",
    "plt.show()"
   ]
  },
  {
   "cell_type": "markdown",
   "metadata": {},
   "source": [
    "Выручка почти равномерно увеличивается до середины теста а после в группе **B** резкий рост, это может быть сигналом об увеличении кол-ва заказов или о появлении очень дорогих заказов в выборке. Такие выбросы можно проанализировать в дальнейшем."
   ]
  },
  {
   "cell_type": "markdown",
   "metadata": {},
   "source": [
    "#### Задача №2. Построю график кумулятивного среднего чека по группам. <a id=\"task_2\"></a>"
   ]
  },
  {
   "cell_type": "code",
   "execution_count": 17,
   "metadata": {
    "scrolled": true
   },
   "outputs": [
    {
     "data": {
      "image/png": "[encoded data removed]",
      "text/plain": [
       "<Figure size 432x288 with 1 Axes>"
      ]
     },
     "metadata": {
      "needs_background": "light"
     },
     "output_type": "display_data"
    }
   ],
   "source": [
    "plt.plot(cumulativeRevenueA['date'], cumulativeRevenueA['revenue']/cumulativeRevenueA['orders'], label='A')\n",
    "plt.plot(cumulativeRevenueB['date'], cumulativeRevenueB['revenue']/cumulativeRevenueB['orders'], label='B')\n",
    "plt.xticks(rotation=45)\n",
    "plt.title('График кумулятивного среднего чека по группам')\n",
    "plt.xlabel('Дата теста')\n",
    "plt.ylabel('Сумма среднего чека, руб')\n",
    "plt.annotate('скачок', xy=('2019-08-18', 6700), xytext=('2019-08-21', 5000),\n",
    "          arrowprops=dict(facecolor='g'))\n",
    "plt.legend()\n",
    "plt.show()"
   ]
  },
  {
   "cell_type": "markdown",
   "metadata": {},
   "source": [
    "Средний чек у группы **В** в середине теста резко увеличивается,  а после постпенно падает, у группы **А** к середине теста график стабилизируется а к концу начинает расти. Это еще раз говорит, что возможно в группу **А** в середине теста попали крупные заказы."
   ]
  },
  {
   "cell_type": "markdown",
   "metadata": {},
   "source": [
    "#### Задача №3. Построю график относительного изменения кумулятивного среднего чека группы B к группе A.  <a id=\"task_3\"></a>"
   ]
  },
  {
   "cell_type": "code",
   "execution_count": 18,
   "metadata": {},
   "outputs": [
    {
     "data": {
      "image/png": "[encoded data removed]",
      "text/plain": [
       "<Figure size 432x288 with 1 Axes>"
      ]
     },
     "metadata": {
      "needs_background": "light"
     },
     "output_type": "display_data"
    }
   ],
   "source": [
    "# собираем данные в одном датафрейме\n",
    "mergedCumulativeRevenue = cumulativeRevenueA.merge(cumulativeRevenueB, \n",
    "                                                   left_on='date', \n",
    "                                                   right_on='date', \n",
    "                                                   how='left', \n",
    "                                                   suffixes=['A', 'B'])\n",
    "\n",
    "# cтроим отношение средних чеков\n",
    "plt.plot(mergedCumulativeRevenue['date'], \n",
    "         (mergedCumulativeRevenue['revenueB']/mergedCumulativeRevenue['ordersB'])/(mergedCumulativeRevenue['revenueA']/mergedCumulativeRevenue['ordersA'])-1)\n",
    "\n",
    "# добавляем ось X\n",
    "plt.axhline(y=0, color='black', linestyle='--') \n",
    "plt.xticks(rotation=45)\n",
    "plt.title('График относительного изменения кумулятивного среднего чека')\n",
    "plt.xlabel('Дата теста')\n",
    "plt.show()"
   ]
  },
  {
   "cell_type": "markdown",
   "metadata": {},
   "source": [
    "В точках в середине график различия между сегментами резко скачет. возможно в середине есть выбросы!"
   ]
  },
  {
   "cell_type": "markdown",
   "metadata": {},
   "source": [
    "#### Задача №4. Построю график кумулятивной конверсии по группам. <a id=\"task_4\"></a>"
   ]
  },
  {
   "cell_type": "code",
   "execution_count": 19,
   "metadata": {},
   "outputs": [
    {
     "data": {
      "image/png": "[encoded data removed]",
      "text/plain": [
       "<Figure size 432x288 with 1 Axes>"
      ]
     },
     "metadata": {
      "needs_background": "light"
     },
     "output_type": "display_data"
    }
   ],
   "source": [
    "# считаем кумулятивную конверсию\n",
    "cumulativeData['conversion'] = cumulativeData['orders']/cumulativeData['visitors']\n",
    "\n",
    "# отделяем данные по группе A\n",
    "cumulativeDataA = cumulativeData[cumulativeData['group']=='A']\n",
    "\n",
    "# отделяем данные по группе B\n",
    "cumulativeDataB = cumulativeData[cumulativeData['group']=='B']\n",
    "\n",
    "# строим графики\n",
    "plt.plot(cumulativeDataA['date'], cumulativeDataA['conversion'], label='A')\n",
    "plt.plot(cumulativeDataB['date'], cumulativeDataB['conversion'], label='B')\n",
    "plt.legend()\n",
    "plt.xticks(rotation=45)\n",
    "plt.title('График кумулятивной конверсии по группам')\n",
    "plt.xlabel('Дата теста')\n",
    "plt.ylabel('Конверсия, %')\n",
    "plt.show()"
   ]
  },
  {
   "cell_type": "markdown",
   "metadata": {},
   "source": [
    "Графики по группа сильно различаются, причина возможна снова в выбрасах группы **B**."
   ]
  },
  {
   "cell_type": "markdown",
   "metadata": {},
   "source": [
    "#### Задача №5 Построю график относительного изменения кумулятивной конверсии группы B к группе A. <a id=\"task_5\"></a>"
   ]
  },
  {
   "cell_type": "code",
   "execution_count": 20,
   "metadata": {},
   "outputs": [
    {
     "data": {
      "image/png": "[encoded data removed]",
      "text/plain": [
       "<Figure size 432x288 with 1 Axes>"
      ]
     },
     "metadata": {
      "needs_background": "light"
     },
     "output_type": "display_data"
    }
   ],
   "source": [
    "mergedCumulativeConversions = cumulativeDataA[['date','conversion']].merge(cumulativeDataB[['date','conversion']], \n",
    "                                                                           left_on='date', \n",
    "                                                                           right_on='date', \n",
    "                                                                           how='left', \n",
    "                                                                           suffixes=['A', 'B'])\n",
    "\n",
    "plt.plot(mergedCumulativeConversions['date'], \n",
    "         mergedCumulativeConversions['conversionB']/mergedCumulativeConversions['conversionA']-1)\n",
    "\n",
    "\n",
    "plt.axhline(y=0, color='black', linestyle='--')\n",
    "plt.axhline(y=0.15, color='grey', linestyle='--')\n",
    "plt.xticks(rotation=45)\n",
    "plt.title('График относительного изменения кумулятивной конверсии группы B к группе A')\n",
    "plt.xlabel('Дата теста')\n",
    "plt.ylabel('Конверсия, %')\n",
    "plt.show()"
   ]
  },
  {
   "cell_type": "markdown",
   "metadata": {},
   "source": [
    "В начале теста изменение кумулятивной конверсии колеблется, но к середину теста группа **В** вырывается  вперед, а к концу теста начинает падать, но в самом конце снова начинает рости.\n",
    "\n",
    "В итоге можно прийти к выводу что отношение конверсии ещё не установилось, и делать какие-либо выводы по результатам теста пока рано, а сначало стоит проанализировать аномалии, возможно, они изменят картину."
   ]
  },
  {
   "cell_type": "markdown",
   "metadata": {},
   "source": [
    "#### Задача №6 Построю точечный график количества заказов по пользователям.  <a id=\"task_6\"></a>"
   ]
  },
  {
   "cell_type": "markdown",
   "metadata": {},
   "source": [
    "Сгрупирую данные по пользвателю и количеству заказов"
   ]
  },
  {
   "cell_type": "code",
   "execution_count": 21,
   "metadata": {},
   "outputs": [
    {
     "data": {
      "text/html": [
       "<div>\n",
       "<style scoped>\n",
       "    .dataframe tbody tr th:only-of-type {\n",
       "        vertical-align: middle;\n",
       "    }\n",
       "\n",
       "    .dataframe tbody tr th {\n",
       "        vertical-align: top;\n",
       "    }\n",
       "\n",
       "    .dataframe thead th {\n",
       "        text-align: right;\n",
       "    }\n",
       "</style>\n",
       "<table border=\"1\" class=\"dataframe\">\n",
       "  <thead>\n",
       "    <tr style=\"text-align: right;\">\n",
       "      <th></th>\n",
       "      <th>transactionId</th>\n",
       "      <th>visitorId</th>\n",
       "      <th>date</th>\n",
       "      <th>revenue</th>\n",
       "      <th>group</th>\n",
       "    </tr>\n",
       "  </thead>\n",
       "  <tbody>\n",
       "    <tr>\n",
       "      <td>0</td>\n",
       "      <td>3667963787</td>\n",
       "      <td>3312258926</td>\n",
       "      <td>2019-08-15</td>\n",
       "      <td>1650</td>\n",
       "      <td>B</td>\n",
       "    </tr>\n",
       "    <tr>\n",
       "      <td>1</td>\n",
       "      <td>2804400009</td>\n",
       "      <td>3642806036</td>\n",
       "      <td>2019-08-15</td>\n",
       "      <td>730</td>\n",
       "      <td>B</td>\n",
       "    </tr>\n",
       "    <tr>\n",
       "      <td>3</td>\n",
       "      <td>3797467345</td>\n",
       "      <td>1196621759</td>\n",
       "      <td>2019-08-15</td>\n",
       "      <td>9759</td>\n",
       "      <td>B</td>\n",
       "    </tr>\n",
       "    <tr>\n",
       "      <td>4</td>\n",
       "      <td>2282983706</td>\n",
       "      <td>2322279887</td>\n",
       "      <td>2019-08-15</td>\n",
       "      <td>2308</td>\n",
       "      <td>B</td>\n",
       "    </tr>\n",
       "    <tr>\n",
       "      <td>5</td>\n",
       "      <td>182168103</td>\n",
       "      <td>935554773</td>\n",
       "      <td>2019-08-15</td>\n",
       "      <td>2210</td>\n",
       "      <td>B</td>\n",
       "    </tr>\n",
       "    <tr>\n",
       "      <td>...</td>\n",
       "      <td>...</td>\n",
       "      <td>...</td>\n",
       "      <td>...</td>\n",
       "      <td>...</td>\n",
       "      <td>...</td>\n",
       "    </tr>\n",
       "    <tr>\n",
       "      <td>1191</td>\n",
       "      <td>3592955527</td>\n",
       "      <td>608641596</td>\n",
       "      <td>2019-08-14</td>\n",
       "      <td>16490</td>\n",
       "      <td>B</td>\n",
       "    </tr>\n",
       "    <tr>\n",
       "      <td>1192</td>\n",
       "      <td>2662137336</td>\n",
       "      <td>3733762160</td>\n",
       "      <td>2019-08-14</td>\n",
       "      <td>6490</td>\n",
       "      <td>B</td>\n",
       "    </tr>\n",
       "    <tr>\n",
       "      <td>1193</td>\n",
       "      <td>2203539145</td>\n",
       "      <td>370388673</td>\n",
       "      <td>2019-08-14</td>\n",
       "      <td>3190</td>\n",
       "      <td>A</td>\n",
       "    </tr>\n",
       "    <tr>\n",
       "      <td>1194</td>\n",
       "      <td>1807773912</td>\n",
       "      <td>573423106</td>\n",
       "      <td>2019-08-14</td>\n",
       "      <td>10550</td>\n",
       "      <td>A</td>\n",
       "    </tr>\n",
       "    <tr>\n",
       "      <td>1196</td>\n",
       "      <td>3936777065</td>\n",
       "      <td>2108080724</td>\n",
       "      <td>2019-08-15</td>\n",
       "      <td>202740</td>\n",
       "      <td>B</td>\n",
       "    </tr>\n",
       "  </tbody>\n",
       "</table>\n",
       "<p>1016 rows × 5 columns</p>\n",
       "</div>"
      ],
      "text/plain": [
       "      transactionId   visitorId       date  revenue group\n",
       "0        3667963787  3312258926 2019-08-15     1650     B\n",
       "1        2804400009  3642806036 2019-08-15      730     B\n",
       "3        3797467345  1196621759 2019-08-15     9759     B\n",
       "4        2282983706  2322279887 2019-08-15     2308     B\n",
       "5         182168103   935554773 2019-08-15     2210     B\n",
       "...             ...         ...        ...      ...   ...\n",
       "1191     3592955527   608641596 2019-08-14    16490     B\n",
       "1192     2662137336  3733762160 2019-08-14     6490     B\n",
       "1193     2203539145   370388673 2019-08-14     3190     A\n",
       "1194     1807773912   573423106 2019-08-14    10550     A\n",
       "1196     3936777065  2108080724 2019-08-15   202740     B\n",
       "\n",
       "[1016 rows x 5 columns]"
      ]
     },
     "execution_count": 21,
     "metadata": {},
     "output_type": "execute_result"
    }
   ],
   "source": [
    "orders"
   ]
  },
  {
   "cell_type": "code",
   "execution_count": 22,
   "metadata": {},
   "outputs": [
    {
     "name": "stdout",
     "output_type": "stream",
     "text": [
      "         userId  orders\n",
      "908  3967698036       3\n",
      "55    249864742       3\n",
      "478  2108163459       3\n",
      "687  2988190573       3\n",
      "890  3908431265       3\n"
     ]
    }
   ],
   "source": [
    "ordersByUsers = orders.groupby('visitorId').agg({'transactionId': 'nunique'}).reset_index()\n",
    "\n",
    "ordersByUsers.columns = ['userId', 'orders']\n",
    "\n",
    "print(ordersByUsers.sort_values(by='orders', ascending=False).head(5)) "
   ]
  },
  {
   "cell_type": "markdown",
   "metadata": {},
   "source": [
    "А теперь построю по этим данным график"
   ]
  },
  {
   "cell_type": "code",
   "execution_count": 23,
   "metadata": {},
   "outputs": [
    {
     "data": {
      "image/png": "[encoded data removed]",
      "text/plain": [
       "<Figure size 432x288 with 1 Axes>"
      ]
     },
     "metadata": {
      "needs_background": "light"
     },
     "output_type": "display_data"
    }
   ],
   "source": [
    "x_values = pd.Series(range(0,len(ordersByUsers)))\n",
    "plt.scatter(x_values, ordersByUsers['orders']) \n",
    "plt.xlabel('Поряковый № пользователя')\n",
    "plt.ylabel('Кол-во заказов')\n",
    "plt.title('График количества заказов по пользователям')\n",
    "plt.show()"
   ]
  },
  {
   "cell_type": "markdown",
   "metadata": {},
   "source": [
    "Замечаю что есть выбросы с кол-вом заказов 3 шт., Нужно проверить с каким кол-вом заказов пользователи попадают в 95-й и 99-й прецентиль."
   ]
  },
  {
   "cell_type": "markdown",
   "metadata": {},
   "source": [
    "#### Задача №7 Посчитаю 95-й и 99-й перцентили количества заказов на пользователя. Выберу границу для определения аномальных пользователей. <a id=\"task_7\"></a>"
   ]
  },
  {
   "cell_type": "code",
   "execution_count": 24,
   "metadata": {},
   "outputs": [
    {
     "name": "stdout",
     "output_type": "stream",
     "text": [
      "[1. 2.]\n"
     ]
    }
   ],
   "source": [
    "print(np.percentile(ordersByUsers['orders'], [95, 99])) "
   ]
  },
  {
   "cell_type": "markdown",
   "metadata": {},
   "source": [
    "Не более 5% пользователей оформляли больше чем 1  заказов. И 1% пользователей заказывали более 2 раз.\n",
    "\n",
    "Основываясь на график и полученные процентили думаю что разумно выбрать 2 заказа на одного пользователя за нижнюю границу числа заказов. "
   ]
  },
  {
   "cell_type": "markdown",
   "metadata": {},
   "source": [
    "#### Задача №8 Построю точечный график стоимостей заказов.  <a id=\"task_8\"></a>"
   ]
  },
  {
   "cell_type": "code",
   "execution_count": 25,
   "metadata": {},
   "outputs": [
    {
     "data": {
      "image/png": "[encoded data removed]",
      "text/plain": [
       "<Figure size 432x288 with 1 Axes>"
      ]
     },
     "metadata": {
      "needs_background": "light"
     },
     "output_type": "display_data"
    }
   ],
   "source": [
    "x_values = pd.Series(range(0,len(orders['revenue'])))\n",
    "plt.scatter(x_values, orders['revenue']) \n",
    "plt.xlabel('Поряковый № заказа')\n",
    "plt.ylabel('сумма заказа, млн. руб')\n",
    "plt.title('График стоимостей заказов')\n",
    "plt.show()"
   ]
  },
  {
   "cell_type": "markdown",
   "metadata": {},
   "source": [
    "На точечной диаграмме четко вижу 2 выброса с заказами суммой 1.2 млн руб и 200 тыс. руб, их следуюет убрать из данных но перед удалением посмотрю попадают ли они в 95-й и 99-й процентиль."
   ]
  },
  {
   "cell_type": "markdown",
   "metadata": {},
   "source": [
    "#### Задача №9 Посчитаю 95-й и 99-й перцентили количества заказов на пользователя. <a id=\"task_9\"></a>"
   ]
  },
  {
   "cell_type": "code",
   "execution_count": 26,
   "metadata": {},
   "outputs": [
    {
     "name": "stdout",
     "output_type": "stream",
     "text": [
      "[26785. 53904.]\n"
     ]
    }
   ],
   "source": [
    "print(np.percentile(orders['revenue'], [95, 99])) "
   ]
  },
  {
   "cell_type": "markdown",
   "metadata": {},
   "source": [
    "Не более 5% заказов дороже 26785 рублей и не более 1% дороже 53904 рублей, думаю логично взять за нижнюю сумму заказа значение 30000 руб."
   ]
  },
  {
   "cell_type": "markdown",
   "metadata": {},
   "source": [
    "#### Задача №10 Посчитаю статистическую значимость различий в конверсии между группами по «сырым» данным. <a id=\"task_10\"></a>"
   ]
  },
  {
   "cell_type": "markdown",
   "metadata": {},
   "source": [
    "Для начала получу и добавлю в одну таблицу следующие параметры:\n",
    "- количество пользователей в выбранную дату по каждой группе, (**visitorsPerDate**)\n",
    "- количество пользователей до выбранной даты включительно по каждой группе, (**visitorsCummulative**)\n",
    "- количество заказов в выбранную дату по каждой группе, (**ordersPerDate**)\n",
    "- суммарное число заказов до выбранной даты включительно по каждой группе, (**ordersCummulative**)\n",
    "- суммарная выручка в выбранную дату по каждой группе,(**revenuePerDate**)\n",
    "- суммарная выручка до выбранной даты включительно по каждой группе, (**revenueCummulative**)"
   ]
  },
  {
   "cell_type": "code",
   "execution_count": 27,
   "metadata": {},
   "outputs": [
    {
     "data": {
      "text/html": [
       "<div>\n",
       "<style scoped>\n",
       "    .dataframe tbody tr th:only-of-type {\n",
       "        vertical-align: middle;\n",
       "    }\n",
       "\n",
       "    .dataframe tbody tr th {\n",
       "        vertical-align: top;\n",
       "    }\n",
       "\n",
       "    .dataframe thead th {\n",
       "        text-align: right;\n",
       "    }\n",
       "</style>\n",
       "<table border=\"1\" class=\"dataframe\">\n",
       "  <thead>\n",
       "    <tr style=\"text-align: right;\">\n",
       "      <th></th>\n",
       "      <th>date</th>\n",
       "      <th>ordersPerDateA</th>\n",
       "      <th>revenuePerDateA</th>\n",
       "      <th>ordersPerDateB</th>\n",
       "      <th>revenuePerDateB</th>\n",
       "      <th>ordersCummulativeA</th>\n",
       "      <th>revenueCummulativeA</th>\n",
       "      <th>ordersCummulativeB</th>\n",
       "      <th>revenueCummulativeB</th>\n",
       "      <th>visitorsPerDateA</th>\n",
       "      <th>visitorsPerDateB</th>\n",
       "      <th>visitorsCummulativeA</th>\n",
       "      <th>visitorsCummulativeB</th>\n",
       "    </tr>\n",
       "  </thead>\n",
       "  <tbody>\n",
       "    <tr>\n",
       "      <td>0</td>\n",
       "      <td>2019-08-01</td>\n",
       "      <td>23</td>\n",
       "      <td>142779</td>\n",
       "      <td>17</td>\n",
       "      <td>59758</td>\n",
       "      <td>23</td>\n",
       "      <td>142779</td>\n",
       "      <td>17</td>\n",
       "      <td>59758</td>\n",
       "      <td>719</td>\n",
       "      <td>713</td>\n",
       "      <td>719</td>\n",
       "      <td>713</td>\n",
       "    </tr>\n",
       "    <tr>\n",
       "      <td>1</td>\n",
       "      <td>2019-08-02</td>\n",
       "      <td>19</td>\n",
       "      <td>91602</td>\n",
       "      <td>23</td>\n",
       "      <td>162043</td>\n",
       "      <td>42</td>\n",
       "      <td>234381</td>\n",
       "      <td>40</td>\n",
       "      <td>221801</td>\n",
       "      <td>619</td>\n",
       "      <td>581</td>\n",
       "      <td>1338</td>\n",
       "      <td>1294</td>\n",
       "    </tr>\n",
       "    <tr>\n",
       "      <td>2</td>\n",
       "      <td>2019-08-03</td>\n",
       "      <td>24</td>\n",
       "      <td>112473</td>\n",
       "      <td>14</td>\n",
       "      <td>67049</td>\n",
       "      <td>66</td>\n",
       "      <td>346854</td>\n",
       "      <td>54</td>\n",
       "      <td>288850</td>\n",
       "      <td>507</td>\n",
       "      <td>509</td>\n",
       "      <td>1845</td>\n",
       "      <td>1803</td>\n",
       "    </tr>\n",
       "    <tr>\n",
       "      <td>3</td>\n",
       "      <td>2019-08-04</td>\n",
       "      <td>11</td>\n",
       "      <td>41176</td>\n",
       "      <td>14</td>\n",
       "      <td>96890</td>\n",
       "      <td>77</td>\n",
       "      <td>388030</td>\n",
       "      <td>68</td>\n",
       "      <td>385740</td>\n",
       "      <td>717</td>\n",
       "      <td>770</td>\n",
       "      <td>2562</td>\n",
       "      <td>2573</td>\n",
       "    </tr>\n",
       "    <tr>\n",
       "      <td>4</td>\n",
       "      <td>2019-08-05</td>\n",
       "      <td>22</td>\n",
       "      <td>86383</td>\n",
       "      <td>21</td>\n",
       "      <td>89908</td>\n",
       "      <td>99</td>\n",
       "      <td>474413</td>\n",
       "      <td>89</td>\n",
       "      <td>475648</td>\n",
       "      <td>756</td>\n",
       "      <td>707</td>\n",
       "      <td>3318</td>\n",
       "      <td>3280</td>\n",
       "    </tr>\n",
       "  </tbody>\n",
       "</table>\n",
       "</div>"
      ],
      "text/plain": [
       "        date  ordersPerDateA  revenuePerDateA  ordersPerDateB  \\\n",
       "0 2019-08-01              23           142779              17   \n",
       "1 2019-08-02              19            91602              23   \n",
       "2 2019-08-03              24           112473              14   \n",
       "3 2019-08-04              11            41176              14   \n",
       "4 2019-08-05              22            86383              21   \n",
       "\n",
       "   revenuePerDateB  ordersCummulativeA  revenueCummulativeA  \\\n",
       "0            59758                  23               142779   \n",
       "1           162043                  42               234381   \n",
       "2            67049                  66               346854   \n",
       "3            96890                  77               388030   \n",
       "4            89908                  99               474413   \n",
       "\n",
       "   ordersCummulativeB  revenueCummulativeB  visitorsPerDateA  \\\n",
       "0                  17                59758               719   \n",
       "1                  40               221801               619   \n",
       "2                  54               288850               507   \n",
       "3                  68               385740               717   \n",
       "4                  89               475648               756   \n",
       "\n",
       "   visitorsPerDateB  visitorsCummulativeA  visitorsCummulativeB  \n",
       "0               713                   719                   713  \n",
       "1               581                  1338                  1294  \n",
       "2               509                  1845                  1803  \n",
       "3               770                  2562                  2573  \n",
       "4               707                  3318                  3280  "
      ]
     },
     "metadata": {},
     "output_type": "display_data"
    }
   ],
   "source": [
    "#получу кол-во пользователей в выбранную дату по каждой группе\n",
    "visitorsADaily = visitors[visitors['group'] == 'A'][['date', 'visitors']]\n",
    "visitorsADaily.columns = ['date', 'visitorsPerDateA']\n",
    "\n",
    "visitorsBDaily = visitors[visitors['group'] == 'B'][['date', 'visitors']]\n",
    "visitorsBDaily.columns = ['date', 'visitorsPerDateB']\n",
    "\n",
    "\n",
    "#получу кол-во пользователей ДО выбранной даты включительно по каждой группе\n",
    "visitorsACummulative = visitorsADaily.apply(lambda x: visitorsADaily[visitorsADaily['date'] <= x['date']]\n",
    "                                            .agg({'date': 'max', 'visitorsPerDateA': 'sum'}),  axis=1)\n",
    "\n",
    "visitorsACummulative.columns = ['date', 'visitorsCummulativeA']\n",
    "\n",
    "visitorsBCummulative = visitorsBDaily.apply(lambda x: visitorsBDaily[visitorsBDaily['date'] <= x['date']]\n",
    "                                            .agg({'date': 'max', 'visitorsPerDateB': 'sum'}), axis=1)\n",
    "\n",
    "visitorsBCummulative.columns = ['date', 'visitorsCummulativeB']\n",
    "\n",
    "\n",
    "#получу кол-во заказов и суммарную выручку в выбранную дату по каждой группе\n",
    "ordersADaily = (orders[orders['group'] == 'A'][['date', 'transactionId', 'visitorId', 'revenue']]\n",
    "    .groupby('date', as_index=False)\n",
    "    .agg({'transactionId': 'nunique', 'revenue': 'sum'}))\n",
    "\n",
    "ordersADaily.columns = ['date', 'ordersPerDateA', 'revenuePerDateA']\n",
    "\n",
    "ordersBDaily = (orders[orders['group'] == 'B'][['date', 'transactionId', 'visitorId', 'revenue']]\n",
    "    .groupby('date', as_index=False)\n",
    "    .agg({'transactionId':'nunique', 'revenue': 'sum'}))\n",
    "\n",
    "ordersBDaily.columns = ['date', 'ordersPerDateB', 'revenuePerDateB']\n",
    "\n",
    "\n",
    "#получу кол-во заказов и суммарную выручку ДО выбранной даты включительно по каждой группе\n",
    "ordersACummulative = ordersADaily.apply(lambda x: ordersADaily[ordersADaily['date'] <= x['date']]\n",
    "                                        .agg({'date': 'max', \n",
    "                                              'ordersPerDateA': 'sum', \n",
    "                                              'revenuePerDateA': 'sum'}), axis=1).sort_values(by=['date'])\n",
    "\n",
    "ordersACummulative.columns = ['date', 'ordersCummulativeA', 'revenueCummulativeA']\n",
    "\n",
    "ordersBCummulative = ordersBDaily.apply(lambda x: ordersBDaily[ordersBDaily['date'] <= x['date']]\n",
    "                                        .agg({'date': 'max', \n",
    "                                              'ordersPerDateB': 'sum', \n",
    "                                              'revenuePerDateB': 'sum'}), axis=1).sort_values(by=['date'])\n",
    "\n",
    "ordersBCummulative.columns = ['date', 'ordersCummulativeB', 'revenueCummulativeB']\n",
    "\n",
    "#мержим все вместе\n",
    "data = (\n",
    "    ordersADaily.merge( ordersBDaily, left_on='date', right_on='date', how='left')\n",
    "    .merge(ordersACummulative, left_on='date', right_on='date', how='left')\n",
    "    .merge(ordersBCummulative, left_on='date', right_on='date', how='left')\n",
    "    .merge(visitorsADaily, left_on='date', right_on='date', how='left')\n",
    "    .merge(visitorsBDaily, left_on='date', right_on='date', how='left')\n",
    "    .merge(visitorsACummulative, left_on='date', right_on='date', how='left')\n",
    "    .merge(visitorsBCummulative, left_on='date', right_on='date', how='left')\n",
    ")\n",
    "\n",
    "display(data.head(5)) "
   ]
  },
  {
   "cell_type": "markdown",
   "metadata": {},
   "source": [
    "Затем создам переменные `ordersByUsersA` и `ordersByUsersB` со столбцами `['visitorId', 'orders']`. В них для пользователей, которые заказывали хотя бы 1 раз, укажем число совершённых заказов."
   ]
  },
  {
   "cell_type": "code",
   "execution_count": 28,
   "metadata": {},
   "outputs": [],
   "source": [
    "ordersByUsersA = (orders[orders['group'] == 'A']\n",
    "    .groupby('visitorId')\n",
    "    .agg({'transactionId': 'nunique'})\n",
    "    .reset_index())\n",
    "\n",
    "ordersByUsersA.columns = ['visitorId', 'orders']\n",
    "\n",
    "ordersByUsersB =(orders[orders['group'] == 'B']\n",
    "    .groupby('visitorId')\n",
    "    .agg({'transactionId': 'nunique'})\n",
    "    .reset_index())\n",
    "    \n",
    "ordersByUsersB.columns = ['visitorId', 'orders']\n"
   ]
  },
  {
   "cell_type": "markdown",
   "metadata": {},
   "source": [
    "Теперь объявим переменные `sampleA` и `sampleB`, в которых пользователям из разных групп будет соответствовать количество заказов. Тем, кто ничего не заказал, будут соответствовать нули. Это нужно, чтобы подготовить выборки к проверке критерием Манна-Уитни.\n",
    "Сделаю это за счет функции `concat`, а именно объеденю следующие последовательности:\n",
    "- переменные `ordersByUsers`\n",
    "- список индексов которые создам функцией `np.arange()`"
   ]
  },
  {
   "cell_type": "code",
   "execution_count": 29,
   "metadata": {},
   "outputs": [],
   "source": [
    "sampleA = pd.concat([ordersByUsersA['orders'],\n",
    "                     pd.Series(0, index=np.arange(data['visitorsPerDateA'].sum() - len(ordersByUsersA['orders'])),\n",
    "                               name='orders')], axis=0)\n",
    "\n",
    "sampleB = pd.concat([ordersByUsersB['orders'],\n",
    "                     pd.Series(0,index=np.arange(data['visitorsPerDateB'].sum() - len(ordersByUsersB['orders'])),\n",
    "                               name='orders')], axis=0)"
   ]
  },
  {
   "cell_type": "markdown",
   "metadata": {},
   "source": [
    "Теперь применив критерий Манна-Уитни получу p-value и проверю гипотезы:\n",
    "1. Нулевая гипотеза: статистических значимых различий в конверсии между группами **А** и **В** нет, конверсии у групп одинаковые.\n",
    "2. Обратная гипотеза: имеются статистические значимые различия в конверсии между группами **А** и **В**.\n",
    "\n",
    "А что бы получить различия конверсии в группе, я поделю сумму заказов на число пользователей — найду среднее в выборке по каждой группе методом `mean()`.\n"
   ]
  },
  {
   "cell_type": "code",
   "execution_count": 30,
   "metadata": {},
   "outputs": [
    {
     "name": "stdout",
     "output_type": "stream",
     "text": [
      "0.006\n",
      "0.160\n"
     ]
    }
   ],
   "source": [
    "print(\"{0:.3f}\".format(stats.mannwhitneyu(sampleA, sampleB)[1]))\n",
    "\n",
    "print(\"{0:.3f}\".format(sampleB.mean() / sampleA.mean() - 1))"
   ]
  },
  {
   "cell_type": "markdown",
   "metadata": {},
   "source": [
    "*ВЫВОД: По «сырым» данным имеются различия в конверсии групп **A** и **B**.*\n",
    "\n",
    "Первое число — p-value = 0.006 меньше 0.05. Значит, я отвергаю нулевую гипотезу которая гласит что статистически значимых различий в конверсии между группами нет. \n",
    "В подтверждении этого я вижу что в группе **В** на 16 % выше различия конверсии. \n",
    "\n",
    "Предпологаю это обусловленно именно выбросами, в будущем сравню с \"чистыми данными\"."
   ]
  },
  {
   "cell_type": "markdown",
   "metadata": {},
   "source": [
    "#### Задача №11 Посчитаю статистическую значимость различий в среднем чеке заказа между группами по «сырым» данным. <a id=\"task_11\"></a>"
   ]
  },
  {
   "cell_type": "markdown",
   "metadata": {},
   "source": [
    "Чтобы рассчитать статистическую значимость различий для подтверждения одной из гипотиз ниже я передам критерию Манна-Уитни данные о выручке с заказов.\n",
    "\n",
    "Гипотезы:\n",
    "1. Нулевая гипотеза: статистических значимых различий в среднем чеке между группами **А** и **В** нет, средний чек у групп одинаковый.\n",
    "2. Обратная гипотеза: имеются статистические значимые различия в вреднем чеке между группами **А** и **В**.\n",
    "\n",
    "А ещё найду относительные различия в среднем чеке между группами."
   ]
  },
  {
   "cell_type": "code",
   "execution_count": 31,
   "metadata": {},
   "outputs": [
    {
     "name": "stdout",
     "output_type": "stream",
     "text": [
      "0.415\n",
      "0.287\n"
     ]
    }
   ],
   "source": [
    "print('{0:.3f}'.format(stats.mannwhitneyu(\n",
    "    orders[orders['group']=='A']['revenue'], \n",
    "    orders[orders['group']=='B']['revenue'])[1]))\n",
    "\n",
    "print('{0:.3f}'.format(orders[orders['group']=='B']['revenue'].mean()/orders[orders['group']=='A']['revenue'].mean()-1)) \n"
   ]
  },
  {
   "cell_type": "markdown",
   "metadata": {},
   "source": [
    "*ВЫВОД: по \"сырым\" данным различий в среднем чеке групп **A** и **B** нет.*\n",
    "\n",
    "P-value значительно больше 0.05. Значит, причин отвергать нулевую гипотезу и считать, что в среднем чеке есть различия, нет. И  снова подтверждаю что, средний чек группы **B** выше среднего чека группы **A** на 29 %.\n",
    "\n",
    "Снова предпологаю что это обусловленно именно выбросами."
   ]
  },
  {
   "cell_type": "markdown",
   "metadata": {},
   "source": [
    "#### Задача №12 Посчитаю  статистическую значимость различий в конверсии между группами по «очищенным» данным.  <a id=\"task_12\"></a>"
   ]
  },
  {
   "cell_type": "markdown",
   "metadata": {},
   "source": [
    "Напомню, что за аномальных пользователей я принял тех, кто совершил от 3 заказа или совершил заказ дороже 30 000 рублей, поэтому срезы пользователей с числом заказов больше 3 — usersWithManyOrders и пользователей, совершивших заказы дороже 30 000 — usersWithExpensiveOrders. Объединю их в таблице abnormalUsers."
   ]
  },
  {
   "cell_type": "code",
   "execution_count": 32,
   "metadata": {},
   "outputs": [
    {
     "name": "stdout",
     "output_type": "stream",
     "text": [
      "1099    148427295\n",
      "928     204675465\n",
      "33      249864742\n",
      "684     358944393\n",
      "648     382846391\n",
      "Name: visitorId, dtype: int64\n",
      "(49,) аномальных пользоателей\n"
     ]
    }
   ],
   "source": [
    "usersWithManyOrders = pd.concat([ordersByUsersA[ordersByUsersA['orders'] > 2]['visitorId'],\n",
    "                                 ordersByUsersB[ordersByUsersB['orders'] > 2]['visitorId']], axis=0)\n",
    "                                 \n",
    "usersWithExpensiveOrders = orders[orders['revenue'] > 30000]['visitorId']\n",
    "                                 \n",
    "abnormalUsers = (pd.concat([usersWithManyOrders, usersWithExpensiveOrders], axis=0).drop_duplicates().sort_values())\n",
    "print(abnormalUsers.head(5))\n",
    "\n",
    "#Узнаю, сколько всего аномальных пользователей\n",
    "print(abnormalUsers.shape, 'аномальных пользоателей')"
   ]
  },
  {
   "cell_type": "markdown",
   "metadata": {},
   "source": [
    "А теперь узнаю как действия аномальных пользователей повлияли на результаты теста. Посчитаю статистическую значимость различий в конверсии между группами теста по очищенным данным, напомню формулировки проверяемых гипотез.\n",
    "1. Нулевая гипотеза: статистических значимых различий в конверсии между группами **А** и **В** нет, конверсии у групп одинаковые.\n",
    "2. Обратная гипотеза: имеются статистические значимые различия в конверсии между группами **А** и **В**.\n",
    "\n",
    "Сначала подготовлю выборки количества заказов по пользователям по группам теста и применю статистический критерий Манна-Уитни к полученным выборкам"
   ]
  },
  {
   "cell_type": "code",
   "execution_count": 33,
   "metadata": {},
   "outputs": [
    {
     "name": "stdout",
     "output_type": "stream",
     "text": [
      "0.005\n",
      "0.187\n"
     ]
    }
   ],
   "source": [
    "sampleAFiltered = pd.concat([ordersByUsersA[np.logical_not(ordersByUsersA['visitorId'].isin(abnormalUsers))]['orders'],\n",
    "                            pd.Series(0, index=np.arange(data['visitorsPerDateA'].sum() - len(ordersByUsersA['orders'])),\n",
    "                                      name='orders')], axis=0)\n",
    "\n",
    "sampleBFiltered = pd.concat([ordersByUsersB[np.logical_not(ordersByUsersB['visitorId'].isin(abnormalUsers))]['orders'],\n",
    "                             pd.Series(0, index=np.arange(data['visitorsPerDateB'].sum() - len(ordersByUsersB['orders'])),\n",
    "                                       name='orders')], axis=0) \n",
    "\n",
    "print('{0:.3f}'.format(stats.mannwhitneyu(sampleAFiltered, sampleBFiltered)[1]))\n",
    "print('{0:.3f}'.format(sampleBFiltered.mean()/sampleAFiltered.mean()-1)) "
   ]
  },
  {
   "cell_type": "markdown",
   "metadata": {},
   "source": [
    "Результаты по конверсии практически не изменились. P-value = 0.005 меньше 0.05, это снова значит что я отвергаю нулевую гипотезу, по группам имеются различия. А по разницы делаю вывод что впереди именно группа **В**."
   ]
  },
  {
   "cell_type": "markdown",
   "metadata": {},
   "source": [
    "#### Задача №13 Посчитаю статистическую значимость различий в среднем чеке заказа между группами по «очищенным» данным.  <a id=\"task_13\"></a>"
   ]
  },
  {
   "cell_type": "markdown",
   "metadata": {},
   "source": [
    "Гипотезы которые мы проверяем:\n",
    "\n",
    "1. Нулевая гипотеза: статистических значимых различий в среднем чеке между группами **А** и **В** нет, средний чек у групп одинаковый.\n",
    "2. Обратная гипотеза: имеются статистические значимые различия в вреднем чеке между группами **А** и **В**"
   ]
  },
  {
   "cell_type": "code",
   "execution_count": 34,
   "metadata": {},
   "outputs": [
    {
     "name": "stdout",
     "output_type": "stream",
     "text": [
      "0.370\n",
      "-0.027\n"
     ]
    }
   ],
   "source": [
    "print('{0:.3f}'.format(stats.mannwhitneyu(orders[np.logical_and(orders['group'] == 'A',\n",
    "                                                                np.logical_not(orders['visitorId'].isin(abnormalUsers)))]['revenue']\n",
    "                                          ,orders[np.logical_and(orders['group'] == 'B',\n",
    "                                                                np.logical_not(orders['visitorId'].isin(abnormalUsers)))]['revenue'])\n",
    "                       [1]))\n",
    "\n",
    "print(\"{0:.3f}\".format(orders[np.logical_and(orders['group'] == 'B', \n",
    "                                             np.logical_not(orders['visitorId'].isin(abnormalUsers)))]['revenue'].mean() \n",
    "                       / orders[np.logical_and(orders['group'] == 'A',\n",
    "                                             np.logical_not(orders['visitorId'].isin(abnormalUsers)))]['revenue'].mean() \n",
    "                       - 1)) "
   ]
  },
  {
   "cell_type": "markdown",
   "metadata": {},
   "source": [
    "P-value 0.37, что значит причин отвергать нулевую гипотезу  нет. Различий в средних чеках нет. \n",
    "А разница существенно изменилась и теперь равна 3% в пользу группы **А** (для сравнения, в грязных данных разница была 29% и в пользу группы **В**)"
   ]
  },
  {
   "cell_type": "markdown",
   "metadata": {},
   "source": [
    "#### Задание №14 Применю решение по результатам теста и объявлю его.  <a id=\"task_14\"></a>"
   ]
  },
  {
   "cell_type": "markdown",
   "metadata": {},
   "source": [
    "После проведения тестов, были получены следующие выводы:\n",
    "- статистическая значимость конверсии по чистым данным отличается по группам, в группе **В** разница конверсии на 19 % выше.\n",
    "- статистическая значимость по среднему чеку по чистым данным не отличается по группам.\n",
    "- похожие выводы были сделаны и с сырыми данными.\n",
    "- график различия конверсии между группами указывает явную тенденцию к росту группы **В**.\n",
    "- график различия среднего чека колеблется.\n",
    "\n",
    "Я делаю выводы что тест можно остановить и зафиксировать победу группы **В** по увеличению конверсии."
   ]
  },
  {
   "cell_type": "markdown",
   "metadata": {},
   "source": [
    "## ВЫВОД"
   ]
  },
  {
   "cell_type": "markdown",
   "metadata": {},
   "source": [
    "На предобработке данных я обнаружил дубликаты пользователей которые находились в обеих группах, возможно их по ошибке добавили в обе группы или же делили деление не по логину а по номеру заказа. Дубликаты удалены, данные готовы к анализу.\n",
    "На этапе приоретизации гипотез основываясь фрейворками RICE и ICE (но ставил приоритет RICE, так как данный фреймворт учитывает кол-во пользователей на которых повлияет изменение) выбрал гипотезу *Добавить форму подписки на все основные страницы, чтобы собрать базу клиентов для email-рассылок*.\n",
    "На этапе анализа,  при построения графиков кумулятивных показателей среднего чека и конверсии, отсуствовало плавное распределение по группе В, в этой группе отчетливо заметен скачек данных в середине теста что говорило о больших заказах либо о частых заказов в это время, в дальнейшем я нашел данные выбросы в виде анамально больших заказов, данные были подготовлены для проведения теста с \"чистыми\" и \"не подготовленными\" данными.\n",
    "Я сформулировал гипотезы следующим образом:\n",
    "1. Нулевая гипотеза: статистических значимых различий в конверсии между группами **А** и **В** нет, конверсии у групп одинаковые.\n",
    "2. Обратная гипотеза: имеются статистические значимые различия в конверсии между группами **А** и **В**.\n",
    "\n",
    "и\n",
    "\n",
    "1. Нулевая гипотеза: статистических значимых различий в среднем чеке между группами **А** и **В** нет, средний чек у групп одинаковый.\n",
    "2. Обратная гипотеза: имеются статистические значимые различия в вреднем чеке между группами **А** и **В**\n",
    "\n",
    "По оканчанию тестов, сравнивая результаты \"чистых\" данных и \"не подготовленных\" я сделал заключегние что находящиеся в данных выбросы влияли на результаты, не критично но влияли.\n",
    "    \n",
    "**НЕПОДГОТОВЛЕННЫЕ ДАННЫЕ**\n",
    "* Статистическая значимость различий ао конверсии между группами 0.006 \n",
    "* Разница в конверсии между группами в пользу групы В - 0.16 \n",
    "* Статистическая значимость различий в среднем чеке между группами 0.287 \n",
    "* Разница в в среднем чеке между группами в пользу групы В - 0.415  \n",
    "\n",
    "**ЧИСТЫЕ ДАННЫЕ**\n",
    "* Статистическая значимость различий ао конверсии между группами 0.005 \n",
    "* Разница в конверсии между группами в пользу групы В - 0.187 \n",
    "* Статистическая значимость различий в среднем чеке между группами 0.370 \n",
    "* Разница в в среднем чеке между группами в пользу групы В - -0.027\n",
    "\n",
    "В конце теста, на основании полученных результатов, я делал выводы что по среднему чеку группы не отличаются, а по конверсии в группе В рост, она больше на 19 %.\n",
    "Если увеличение конверсии увеличит выручку компании, мои рекомендации для отдела маркенига запускать проверенную гипотезу в работу."
   ]
  }
 ],
 "metadata": {
  "ExecuteTimeLog": [
   {
    "duration": 1537,
    "start_time": "2021-11-27T20:04:26.253Z"
   },
   {
    "duration": 120,
    "start_time": "2021-11-27T20:04:27.793Z"
   },
   {
    "duration": 21,
    "start_time": "2021-11-27T20:04:27.916Z"
   },
   {
    "duration": 17,
    "start_time": "2021-11-27T20:04:27.939Z"
   },
   {
    "duration": 15,
    "start_time": "2021-11-27T20:04:27.958Z"
   },
   {
    "duration": 34,
    "start_time": "2021-11-27T20:04:27.975Z"
   },
   {
    "duration": 16,
    "start_time": "2021-11-27T20:04:28.012Z"
   },
   {
    "duration": 9,
    "start_time": "2021-11-27T20:04:28.032Z"
   },
   {
    "duration": 18,
    "start_time": "2021-11-27T20:04:28.044Z"
   },
   {
    "duration": 48,
    "start_time": "2021-11-27T20:04:28.065Z"
   },
   {
    "duration": 23,
    "start_time": "2021-11-27T20:04:28.116Z"
   },
   {
    "duration": 580,
    "start_time": "2021-11-27T20:04:28.142Z"
   },
   {
    "duration": 358,
    "start_time": "2021-11-27T20:04:28.724Z"
   },
   {
    "duration": 374,
    "start_time": "2021-11-27T20:04:29.084Z"
   },
   {
    "duration": 458,
    "start_time": "2021-11-27T20:04:29.461Z"
   },
   {
    "duration": 366,
    "start_time": "2021-11-27T20:04:29.922Z"
   },
   {
    "duration": 455,
    "start_time": "2021-11-27T20:04:30.291Z"
   },
   {
    "duration": 18,
    "start_time": "2021-11-27T20:04:30.748Z"
   },
   {
    "duration": 32,
    "start_time": "2021-11-27T20:04:30.768Z"
   },
   {
    "duration": 426,
    "start_time": "2021-11-27T20:04:30.803Z"
   },
   {
    "duration": 5,
    "start_time": "2021-11-27T20:04:31.231Z"
   },
   {
    "duration": 509,
    "start_time": "2021-11-27T20:04:31.239Z"
   },
   {
    "duration": 6,
    "start_time": "2021-11-27T20:04:31.755Z"
   },
   {
    "duration": 485,
    "start_time": "2021-11-27T20:04:31.763Z"
   },
   {
    "duration": 17,
    "start_time": "2021-11-27T20:04:32.252Z"
   },
   {
    "duration": 8,
    "start_time": "2021-11-27T20:04:32.272Z"
   },
   {
    "duration": 11,
    "start_time": "2021-11-27T20:04:32.301Z"
   },
   {
    "duration": 17,
    "start_time": "2021-11-27T20:04:32.314Z"
   },
   {
    "duration": 20,
    "start_time": "2021-11-27T20:04:32.334Z"
   },
   {
    "duration": 59,
    "start_time": "2021-11-27T20:04:32.357Z"
   },
   {
    "duration": 23,
    "start_time": "2021-11-27T20:04:32.419Z"
   },
   {
    "duration": 972,
    "start_time": "2021-11-27T20:04:32.445Z"
   },
   {
    "duration": 110,
    "start_time": "2021-11-30T08:59:47.352Z"
   },
   {
    "duration": 1332,
    "start_time": "2021-11-30T09:05:18.710Z"
   },
   {
    "duration": 68,
    "start_time": "2021-11-30T09:05:20.330Z"
   },
   {
    "duration": 15,
    "start_time": "2021-11-30T09:05:22.803Z"
   },
   {
    "duration": 12,
    "start_time": "2021-11-30T09:05:25.629Z"
   },
   {
    "duration": 11,
    "start_time": "2021-11-30T09:05:28.219Z"
   },
   {
    "duration": 9,
    "start_time": "2021-11-30T09:05:30.707Z"
   },
   {
    "duration": 9,
    "start_time": "2021-11-30T09:05:33.690Z"
   },
   {
    "duration": 8,
    "start_time": "2021-11-30T09:05:36.043Z"
   },
   {
    "duration": 16,
    "start_time": "2021-11-30T09:06:15.188Z"
   },
   {
    "duration": 11,
    "start_time": "2021-11-30T09:06:36.139Z"
   },
   {
    "duration": 12,
    "start_time": "2021-11-30T09:06:47.574Z"
   },
   {
    "duration": 120,
    "start_time": "2021-11-30T09:07:15.604Z"
   },
   {
    "duration": 12,
    "start_time": "2021-11-30T09:07:27.952Z"
   },
   {
    "duration": 546,
    "start_time": "2021-11-30T09:09:44.653Z"
   },
   {
    "duration": 11,
    "start_time": "2021-11-30T09:10:02.204Z"
   },
   {
    "duration": 9,
    "start_time": "2021-11-30T09:12:21.537Z"
   },
   {
    "duration": 9,
    "start_time": "2021-11-30T09:12:59.932Z"
   },
   {
    "duration": 10,
    "start_time": "2021-11-30T09:13:15.528Z"
   },
   {
    "duration": 422,
    "start_time": "2021-11-30T09:14:07.657Z"
   },
   {
    "duration": 975,
    "start_time": "2021-11-30T09:15:40.606Z"
   },
   {
    "duration": 391,
    "start_time": "2021-11-30T09:16:44.853Z"
   },
   {
    "duration": 341,
    "start_time": "2021-11-30T09:16:51.733Z"
   },
   {
    "duration": 12,
    "start_time": "2021-11-30T09:17:17.927Z"
   },
   {
    "duration": 11,
    "start_time": "2021-11-30T09:17:22.077Z"
   },
   {
    "duration": 333,
    "start_time": "2021-11-30T09:17:25.183Z"
   },
   {
    "duration": 10,
    "start_time": "2021-11-30T09:18:12.233Z"
   },
   {
    "duration": 343,
    "start_time": "2021-11-30T09:18:20.426Z"
   },
   {
    "duration": 10,
    "start_time": "2021-11-30T09:18:24.752Z"
   },
   {
    "duration": 1599,
    "start_time": "2021-11-30T09:19:55.004Z"
   },
   {
    "duration": 28,
    "start_time": "2021-11-30T09:30:36.566Z"
   },
   {
    "duration": 19,
    "start_time": "2021-11-30T09:31:08.016Z"
   },
   {
    "duration": 20,
    "start_time": "2021-11-30T09:31:30.365Z"
   },
   {
    "duration": 10,
    "start_time": "2021-11-30T09:32:08.966Z"
   },
   {
    "duration": 9,
    "start_time": "2021-11-30T09:32:12.005Z"
   },
   {
    "duration": 20,
    "start_time": "2021-11-30T09:32:14.813Z"
   },
   {
    "duration": 135,
    "start_time": "2021-11-30T09:33:26.177Z"
   },
   {
    "duration": 19,
    "start_time": "2021-11-30T09:33:32.376Z"
   },
   {
    "duration": 335,
    "start_time": "2021-11-30T09:34:14.628Z"
   },
   {
    "duration": 18,
    "start_time": "2021-11-30T09:34:56.814Z"
   },
   {
    "duration": 17,
    "start_time": "2021-11-30T09:35:44.327Z"
   },
   {
    "duration": 445,
    "start_time": "2021-11-30T09:35:59.996Z"
   },
   {
    "duration": 20,
    "start_time": "2021-11-30T09:36:07.083Z"
   },
   {
    "duration": 118,
    "start_time": "2021-11-30T09:37:19.775Z"
   },
   {
    "duration": 17,
    "start_time": "2021-11-30T09:41:20.667Z"
   },
   {
    "duration": 20,
    "start_time": "2021-11-30T09:43:52.907Z"
   },
   {
    "duration": 20,
    "start_time": "2021-11-30T09:47:37.592Z"
   },
   {
    "duration": 102,
    "start_time": "2021-11-30T09:50:32.258Z"
   },
   {
    "duration": 8,
    "start_time": "2021-11-30T09:51:29.663Z"
   },
   {
    "duration": 352,
    "start_time": "2021-11-30T09:51:32.558Z"
   },
   {
    "duration": 215,
    "start_time": "2021-11-30T09:51:35.548Z"
   },
   {
    "duration": 203,
    "start_time": "2021-11-30T09:52:32.214Z"
   },
   {
    "duration": 335,
    "start_time": "2021-11-30T09:52:57.449Z"
   },
   {
    "duration": 126,
    "start_time": "2021-11-30T09:55:15.910Z"
   },
   {
    "duration": 334,
    "start_time": "2021-11-30T09:55:44.118Z"
   },
   {
    "duration": 127,
    "start_time": "2021-11-30T09:58:43.112Z"
   },
   {
    "duration": 137,
    "start_time": "2021-11-30T10:00:51.501Z"
   },
   {
    "duration": 112,
    "start_time": "2021-11-30T10:01:49.439Z"
   },
   {
    "duration": 179,
    "start_time": "2021-11-30T10:03:44.802Z"
   },
   {
    "duration": 209,
    "start_time": "2021-11-30T10:04:20.667Z"
   },
   {
    "duration": 112,
    "start_time": "2021-11-30T10:04:59.065Z"
   },
   {
    "duration": 259,
    "start_time": "2021-11-30T10:05:06.400Z"
   },
   {
    "duration": 253,
    "start_time": "2021-11-30T10:05:19.565Z"
   },
   {
    "duration": 242,
    "start_time": "2021-11-30T10:05:26.200Z"
   },
   {
    "duration": 240,
    "start_time": "2021-11-30T10:05:36.164Z"
   },
   {
    "duration": 241,
    "start_time": "2021-11-30T10:05:41.603Z"
   },
   {
    "duration": 347,
    "start_time": "2021-11-30T10:05:56.253Z"
   },
   {
    "duration": 282,
    "start_time": "2021-11-30T10:07:19.456Z"
   },
   {
    "duration": 283,
    "start_time": "2021-11-30T10:07:56.949Z"
   },
   {
    "duration": 284,
    "start_time": "2021-11-30T10:08:25.176Z"
   },
   {
    "duration": 293,
    "start_time": "2021-11-30T10:08:31.730Z"
   },
   {
    "duration": 215,
    "start_time": "2021-11-30T10:09:39.970Z"
   },
   {
    "duration": 309,
    "start_time": "2021-11-30T10:13:46.333Z"
   },
   {
    "duration": 300,
    "start_time": "2021-11-30T10:13:53.646Z"
   },
   {
    "duration": 217,
    "start_time": "2021-11-30T10:14:16.528Z"
   },
   {
    "duration": 345,
    "start_time": "2021-11-30T10:14:21.789Z"
   },
   {
    "duration": 127,
    "start_time": "2021-11-30T10:14:42.905Z"
   },
   {
    "duration": 13,
    "start_time": "2021-11-30T10:14:57.346Z"
   },
   {
    "duration": 10,
    "start_time": "2021-11-30T10:14:59.562Z"
   },
   {
    "duration": 313,
    "start_time": "2021-11-30T10:15:01.773Z"
   },
   {
    "duration": 265,
    "start_time": "2021-11-30T10:15:16.730Z"
   },
   {
    "duration": 272,
    "start_time": "2021-11-30T10:15:26.834Z"
   },
   {
    "duration": 260,
    "start_time": "2021-11-30T10:15:40.447Z"
   },
   {
    "duration": 284,
    "start_time": "2021-11-30T10:15:45.943Z"
   },
   {
    "duration": 4,
    "start_time": "2021-11-30T10:15:56.989Z"
   },
   {
    "duration": 5,
    "start_time": "2021-11-30T10:15:59.631Z"
   },
   {
    "duration": 337,
    "start_time": "2021-11-30T10:16:01.246Z"
   },
   {
    "duration": 12,
    "start_time": "2021-11-30T10:16:04.856Z"
   },
   {
    "duration": 6,
    "start_time": "2021-11-30T10:16:07.995Z"
   },
   {
    "duration": 104,
    "start_time": "2021-11-30T10:23:08.749Z"
   },
   {
    "duration": 10,
    "start_time": "2021-11-30T10:26:53.779Z"
   },
   {
    "duration": 10,
    "start_time": "2021-11-30T10:26:57.781Z"
   },
   {
    "duration": 17,
    "start_time": "2021-11-30T10:27:00.419Z"
   },
   {
    "duration": 109,
    "start_time": "2021-11-30T10:33:00.377Z"
   },
   {
    "duration": 628,
    "start_time": "2021-11-30T10:33:16.415Z"
   },
   {
    "duration": 7,
    "start_time": "2021-11-30T11:23:30.790Z"
   },
   {
    "duration": 7,
    "start_time": "2021-11-30T11:23:50.419Z"
   },
   {
    "duration": 402,
    "start_time": "2021-11-30T11:24:09.436Z"
   },
   {
    "duration": 338,
    "start_time": "2021-11-30T11:25:03.894Z"
   },
   {
    "duration": 6,
    "start_time": "2021-11-30T11:25:22.808Z"
   },
   {
    "duration": 9,
    "start_time": "2021-11-30T11:27:06.295Z"
   },
   {
    "duration": 10,
    "start_time": "2021-11-30T11:27:30.184Z"
   },
   {
    "duration": 9,
    "start_time": "2021-11-30T11:29:06.266Z"
   },
   {
    "duration": 8,
    "start_time": "2021-11-30T11:29:53.918Z"
   },
   {
    "duration": 134,
    "start_time": "2021-11-30T11:30:15.944Z"
   },
   {
    "duration": 10,
    "start_time": "2021-11-30T11:30:31.403Z"
   },
   {
    "duration": 315,
    "start_time": "2021-11-30T11:31:13.937Z"
   },
   {
    "duration": 13,
    "start_time": "2021-11-30T11:31:21.409Z"
   },
   {
    "duration": 423,
    "start_time": "2021-11-30T11:33:41.484Z"
   },
   {
    "duration": 6,
    "start_time": "2021-11-30T11:33:46.326Z"
   },
   {
    "duration": 7,
    "start_time": "2021-11-30T11:34:25.970Z"
   },
   {
    "duration": 382,
    "start_time": "2021-11-30T11:34:40.235Z"
   },
   {
    "duration": 7,
    "start_time": "2021-11-30T11:34:46.241Z"
   },
   {
    "duration": 8,
    "start_time": "2021-11-30T11:34:58.735Z"
   },
   {
    "duration": 362,
    "start_time": "2021-11-30T11:44:31.351Z"
   },
   {
    "duration": 344,
    "start_time": "2021-11-30T11:45:06.621Z"
   },
   {
    "duration": 367,
    "start_time": "2021-11-30T11:45:12.661Z"
   },
   {
    "duration": 352,
    "start_time": "2021-11-30T11:45:43.747Z"
   },
   {
    "duration": 8,
    "start_time": "2021-11-30T11:48:15.444Z"
   },
   {
    "duration": 339,
    "start_time": "2021-11-30T11:48:23.030Z"
   },
   {
    "duration": 373,
    "start_time": "2021-11-30T11:48:33.364Z"
   },
   {
    "duration": 359,
    "start_time": "2021-11-30T11:48:37.261Z"
   },
   {
    "duration": 8,
    "start_time": "2021-11-30T11:48:49.488Z"
   },
   {
    "duration": 437,
    "start_time": "2021-11-30T11:49:29.756Z"
   },
   {
    "duration": 349,
    "start_time": "2021-11-30T11:55:38.648Z"
   },
   {
    "duration": 9,
    "start_time": "2021-11-30T11:57:40.805Z"
   },
   {
    "duration": 11,
    "start_time": "2021-11-30T11:58:34.636Z"
   },
   {
    "duration": 10,
    "start_time": "2021-11-30T11:58:40.238Z"
   },
   {
    "duration": 9,
    "start_time": "2021-11-30T12:00:34.273Z"
   },
   {
    "duration": 5,
    "start_time": "2021-11-30T12:00:42.353Z"
   },
   {
    "duration": 5,
    "start_time": "2021-11-30T12:00:45.301Z"
   },
   {
    "duration": 7,
    "start_time": "2021-11-30T12:01:00.104Z"
   },
   {
    "duration": 5,
    "start_time": "2021-11-30T12:01:10.074Z"
   },
   {
    "duration": 13,
    "start_time": "2021-11-30T12:01:40.395Z"
   },
   {
    "duration": 7,
    "start_time": "2021-11-30T12:01:52.993Z"
   },
   {
    "duration": 179,
    "start_time": "2021-11-30T12:02:20.416Z"
   },
   {
    "duration": 8,
    "start_time": "2021-11-30T12:02:55.363Z"
   },
   {
    "duration": 10,
    "start_time": "2021-11-30T12:03:02.961Z"
   },
   {
    "duration": 7,
    "start_time": "2021-11-30T12:03:13.319Z"
   },
   {
    "duration": 7,
    "start_time": "2021-11-30T12:03:15.247Z"
   },
   {
    "duration": 109,
    "start_time": "2021-11-30T12:03:28.155Z"
   },
   {
    "duration": 7,
    "start_time": "2021-11-30T12:03:31.769Z"
   },
   {
    "duration": 8,
    "start_time": "2021-11-30T12:03:47.120Z"
   },
   {
    "duration": 10,
    "start_time": "2021-11-30T12:04:00.848Z"
   },
   {
    "duration": 12,
    "start_time": "2021-11-30T12:07:17.437Z"
   },
   {
    "duration": 13,
    "start_time": "2021-11-30T12:07:35.057Z"
   },
   {
    "duration": 14,
    "start_time": "2021-11-30T12:08:11.390Z"
   },
   {
    "duration": 124,
    "start_time": "2021-11-30T12:08:57.168Z"
   },
   {
    "duration": 13,
    "start_time": "2021-11-30T12:09:30.680Z"
   },
   {
    "duration": 13,
    "start_time": "2021-11-30T12:10:06.574Z"
   },
   {
    "duration": 12,
    "start_time": "2021-11-30T12:11:23.429Z"
   },
   {
    "duration": 7,
    "start_time": "2021-11-30T12:12:02.107Z"
   },
   {
    "duration": 109,
    "start_time": "2021-11-30T12:13:02.569Z"
   },
   {
    "duration": 128,
    "start_time": "2021-11-30T12:13:08.315Z"
   },
   {
    "duration": 353,
    "start_time": "2021-11-30T12:13:13.541Z"
   },
   {
    "duration": 347,
    "start_time": "2021-11-30T12:13:27.797Z"
   },
   {
    "duration": 129,
    "start_time": "2021-11-30T12:13:42.471Z"
   },
   {
    "duration": 8,
    "start_time": "2021-11-30T12:13:49.903Z"
   },
   {
    "duration": 5,
    "start_time": "2021-11-30T12:15:16.508Z"
   },
   {
    "duration": 7,
    "start_time": "2021-11-30T12:15:36.293Z"
   },
   {
    "duration": 9,
    "start_time": "2021-11-30T12:16:21.551Z"
   },
   {
    "duration": 10,
    "start_time": "2021-11-30T12:16:45.667Z"
   },
   {
    "duration": 167,
    "start_time": "2021-11-30T12:20:46.111Z"
   },
   {
    "duration": 397,
    "start_time": "2021-11-30T12:21:12.205Z"
   },
   {
    "duration": 149,
    "start_time": "2021-11-30T12:23:21.127Z"
   },
   {
    "duration": 120,
    "start_time": "2021-11-30T12:23:25.836Z"
   },
   {
    "duration": 121,
    "start_time": "2021-11-30T12:23:40.047Z"
   },
   {
    "duration": 130,
    "start_time": "2021-11-30T12:23:42.624Z"
   },
   {
    "duration": 127,
    "start_time": "2021-11-30T12:23:49.615Z"
   },
   {
    "duration": 141,
    "start_time": "2021-11-30T12:23:55.084Z"
   },
   {
    "duration": 478,
    "start_time": "2021-11-30T12:23:59.282Z"
   },
   {
    "duration": 410,
    "start_time": "2021-11-30T12:24:27.423Z"
   },
   {
    "duration": 24,
    "start_time": "2021-11-30T12:24:34.709Z"
   },
   {
    "duration": 429,
    "start_time": "2021-11-30T12:26:41.792Z"
   },
   {
    "duration": 133,
    "start_time": "2021-11-30T12:31:16.655Z"
   },
   {
    "duration": 128,
    "start_time": "2021-11-30T12:32:00.882Z"
   },
   {
    "duration": 568,
    "start_time": "2021-11-30T12:32:22.026Z"
   },
   {
    "duration": 371,
    "start_time": "2021-11-30T12:32:47.362Z"
   },
   {
    "duration": 111,
    "start_time": "2021-11-30T12:32:50.924Z"
   },
   {
    "duration": 404,
    "start_time": "2021-11-30T12:32:59.954Z"
   },
   {
    "duration": 9,
    "start_time": "2021-11-30T12:38:23.318Z"
   },
   {
    "duration": 8,
    "start_time": "2021-11-30T12:38:45.836Z"
   },
   {
    "duration": 7,
    "start_time": "2021-11-30T12:38:48.674Z"
   },
   {
    "duration": 11,
    "start_time": "2021-11-30T12:42:12.506Z"
   },
   {
    "duration": 4,
    "start_time": "2021-11-30T12:42:32.796Z"
   },
   {
    "duration": 127,
    "start_time": "2021-11-30T12:43:17.988Z"
   },
   {
    "duration": 389,
    "start_time": "2021-11-30T12:43:23.171Z"
   },
   {
    "duration": 10,
    "start_time": "2021-11-30T12:43:32.263Z"
   },
   {
    "duration": 16,
    "start_time": "2021-11-30T12:43:45.840Z"
   },
   {
    "duration": 432,
    "start_time": "2021-11-30T12:55:46.044Z"
   },
   {
    "duration": 18,
    "start_time": "2021-11-30T12:55:54.967Z"
   },
   {
    "duration": 15,
    "start_time": "2021-11-30T12:56:41.773Z"
   },
   {
    "duration": 388,
    "start_time": "2021-11-30T12:59:08.133Z"
   },
   {
    "duration": 359,
    "start_time": "2021-11-30T12:59:10.808Z"
   },
   {
    "duration": 19,
    "start_time": "2021-11-30T13:00:22.350Z"
   },
   {
    "duration": 7658,
    "start_time": "2021-11-30T13:00:47.357Z"
   },
   {
    "duration": 378,
    "start_time": "2021-11-30T13:01:15.766Z"
   },
   {
    "duration": 14,
    "start_time": "2021-11-30T13:01:45.792Z"
   },
   {
    "duration": 17,
    "start_time": "2021-11-30T13:04:53.357Z"
   },
   {
    "duration": 113,
    "start_time": "2021-11-30T13:08:28.478Z"
   },
   {
    "duration": 25,
    "start_time": "2021-11-30T13:08:40.134Z"
   },
   {
    "duration": 123,
    "start_time": "2021-11-30T13:10:35.070Z"
   },
   {
    "duration": 9,
    "start_time": "2021-11-30T13:15:52.456Z"
   },
   {
    "duration": 11,
    "start_time": "2021-11-30T13:16:06.887Z"
   },
   {
    "duration": 12,
    "start_time": "2021-11-30T13:19:09.651Z"
   },
   {
    "duration": 6,
    "start_time": "2021-11-30T13:19:20.566Z"
   },
   {
    "duration": 3,
    "start_time": "2021-11-30T13:23:47.645Z"
   },
   {
    "duration": 60,
    "start_time": "2021-11-30T13:23:49.703Z"
   },
   {
    "duration": 12,
    "start_time": "2021-11-30T13:23:58.396Z"
   },
   {
    "duration": 10,
    "start_time": "2021-11-30T13:24:05.477Z"
   },
   {
    "duration": 11,
    "start_time": "2021-11-30T13:24:08.777Z"
   },
   {
    "duration": 11,
    "start_time": "2021-11-30T13:24:51.423Z"
   },
   {
    "duration": 10,
    "start_time": "2021-11-30T13:24:54.626Z"
   },
   {
    "duration": 24,
    "start_time": "2021-11-30T13:24:58.836Z"
   },
   {
    "duration": 21,
    "start_time": "2021-11-30T13:25:02.301Z"
   },
   {
    "duration": 330,
    "start_time": "2021-11-30T13:25:08.527Z"
   },
   {
    "duration": 351,
    "start_time": "2021-11-30T13:25:11.283Z"
   },
   {
    "duration": 355,
    "start_time": "2021-11-30T13:25:23.746Z"
   },
   {
    "duration": 3,
    "start_time": "2021-11-30T13:26:00.642Z"
   },
   {
    "duration": 62,
    "start_time": "2021-11-30T13:26:02.146Z"
   },
   {
    "duration": 9,
    "start_time": "2021-11-30T13:26:06.708Z"
   },
   {
    "duration": 10,
    "start_time": "2021-11-30T13:26:09.600Z"
   },
   {
    "duration": 9,
    "start_time": "2021-11-30T13:26:11.282Z"
   },
   {
    "duration": 9,
    "start_time": "2021-11-30T13:26:14.927Z"
   },
   {
    "duration": 12,
    "start_time": "2021-11-30T13:26:16.179Z"
   },
   {
    "duration": 11,
    "start_time": "2021-11-30T13:26:18.891Z"
   },
   {
    "duration": 23,
    "start_time": "2021-11-30T13:26:22.144Z"
   },
   {
    "duration": 20,
    "start_time": "2021-11-30T13:26:25.401Z"
   },
   {
    "duration": 366,
    "start_time": "2021-11-30T13:26:29.611Z"
   },
   {
    "duration": 410,
    "start_time": "2021-11-30T13:26:33.250Z"
   },
   {
    "duration": 306,
    "start_time": "2021-11-30T13:26:48.300Z"
   },
   {
    "duration": 276,
    "start_time": "2021-11-30T13:26:52.267Z"
   },
   {
    "duration": 296,
    "start_time": "2021-11-30T13:26:56.975Z"
   },
   {
    "duration": 291,
    "start_time": "2021-11-30T13:27:01.757Z"
   },
   {
    "duration": 430,
    "start_time": "2021-11-30T13:27:08.842Z"
   },
   {
    "duration": 333,
    "start_time": "2021-11-30T13:27:26.679Z"
   },
   {
    "duration": 245,
    "start_time": "2021-11-30T13:27:36.896Z"
   },
   {
    "duration": 270,
    "start_time": "2021-11-30T13:27:40.857Z"
   },
   {
    "duration": 271,
    "start_time": "2021-11-30T13:27:44.647Z"
   },
   {
    "duration": 249,
    "start_time": "2021-11-30T13:27:52.628Z"
   },
   {
    "duration": 265,
    "start_time": "2021-11-30T13:27:56.823Z"
   },
   {
    "duration": 256,
    "start_time": "2021-11-30T13:28:25.803Z"
   },
   {
    "duration": 254,
    "start_time": "2021-11-30T13:28:31.555Z"
   },
   {
    "duration": 247,
    "start_time": "2021-11-30T13:28:36.686Z"
   },
   {
    "duration": 257,
    "start_time": "2021-11-30T13:28:42.239Z"
   },
   {
    "duration": 256,
    "start_time": "2021-11-30T13:28:48.161Z"
   },
   {
    "duration": 338,
    "start_time": "2021-11-30T13:28:53.061Z"
   },
   {
    "duration": 257,
    "start_time": "2021-11-30T13:28:58.411Z"
   },
   {
    "duration": 267,
    "start_time": "2021-11-30T13:29:02.927Z"
   },
   {
    "duration": 260,
    "start_time": "2021-11-30T13:29:06.233Z"
   },
   {
    "duration": 265,
    "start_time": "2021-11-30T13:29:09.230Z"
   },
   {
    "duration": 261,
    "start_time": "2021-11-30T13:29:14.911Z"
   },
   {
    "duration": 243,
    "start_time": "2021-11-30T13:29:18.572Z"
   },
   {
    "duration": 315,
    "start_time": "2021-11-30T13:29:27.774Z"
   },
   {
    "duration": 210,
    "start_time": "2021-11-30T13:29:32.018Z"
   },
   {
    "duration": 364,
    "start_time": "2021-11-30T13:29:42.409Z"
   },
   {
    "duration": 13,
    "start_time": "2021-11-30T13:29:56.663Z"
   },
   {
    "duration": 9,
    "start_time": "2021-11-30T13:29:58.478Z"
   },
   {
    "duration": 372,
    "start_time": "2021-11-30T13:30:04.673Z"
   },
   {
    "duration": 5,
    "start_time": "2021-11-30T13:30:43.249Z"
   },
   {
    "duration": 454,
    "start_time": "2021-11-30T13:31:12.361Z"
   },
   {
    "duration": 5,
    "start_time": "2021-11-30T13:31:20.733Z"
   },
   {
    "duration": 294,
    "start_time": "2021-11-30T13:32:02.270Z"
   },
   {
    "duration": 14,
    "start_time": "2021-11-30T13:32:14.648Z"
   },
   {
    "duration": 6,
    "start_time": "2021-11-30T13:32:19.380Z"
   },
   {
    "duration": 7,
    "start_time": "2021-11-30T13:32:28.406Z"
   },
   {
    "duration": 10,
    "start_time": "2021-11-30T13:32:51.776Z"
   },
   {
    "duration": 11,
    "start_time": "2021-11-30T13:33:08.686Z"
   },
   {
    "duration": 15,
    "start_time": "2021-11-30T13:33:18.524Z"
   },
   {
    "duration": 18,
    "start_time": "2021-11-30T13:33:21.578Z"
   },
   {
    "duration": 19,
    "start_time": "2021-11-30T13:33:48.519Z"
   },
   {
    "duration": 11,
    "start_time": "2021-11-30T13:34:37.726Z"
   },
   {
    "duration": 113,
    "start_time": "2021-12-01T07:11:44.845Z"
   },
   {
    "duration": 1468,
    "start_time": "2022-03-04T06:23:46.520Z"
   },
   {
    "duration": 72,
    "start_time": "2022-03-04T06:23:48.888Z"
   },
   {
    "duration": 20,
    "start_time": "2022-03-04T06:23:52.271Z"
   },
   {
    "duration": 16,
    "start_time": "2022-03-04T06:23:54.899Z"
   },
   {
    "duration": 15,
    "start_time": "2022-03-04T06:23:57.168Z"
   },
   {
    "duration": 12,
    "start_time": "2022-03-04T06:23:59.597Z"
   },
   {
    "duration": 12,
    "start_time": "2022-03-04T06:24:02.554Z"
   },
   {
    "duration": 10,
    "start_time": "2022-03-04T06:24:04.349Z"
   },
   {
    "duration": 12,
    "start_time": "2022-03-04T06:24:06.760Z"
   },
   {
    "duration": 16,
    "start_time": "2022-03-04T06:24:08.891Z"
   },
   {
    "duration": 17,
    "start_time": "2022-03-04T06:24:10.629Z"
   },
   {
    "duration": 1088,
    "start_time": "2022-03-04T06:24:47.947Z"
   },
   {
    "duration": 47,
    "start_time": "2022-03-04T06:24:55.988Z"
   },
   {
    "duration": 15,
    "start_time": "2022-03-04T06:25:05.911Z"
   },
   {
    "duration": 565,
    "start_time": "2022-03-04T06:25:08.201Z"
   },
   {
    "duration": 666,
    "start_time": "2022-03-04T06:25:11.914Z"
   },
   {
    "duration": 571,
    "start_time": "2022-03-04T06:25:31.953Z"
   },
   {
    "duration": 613,
    "start_time": "2022-03-04T06:25:35.562Z"
   },
   {
    "duration": 330,
    "start_time": "2022-03-04T06:25:39.246Z"
   },
   {
    "duration": 555,
    "start_time": "2022-03-04T06:25:43.314Z"
   },
   {
    "duration": 21,
    "start_time": "2022-03-04T06:25:57.846Z"
   },
   {
    "duration": 14,
    "start_time": "2022-03-04T06:25:59.793Z"
   },
   {
    "duration": 576,
    "start_time": "2022-03-04T06:26:01.601Z"
   },
   {
    "duration": 7,
    "start_time": "2022-03-04T06:26:05.441Z"
   },
   {
    "duration": 535,
    "start_time": "2022-03-04T06:26:07.327Z"
   },
   {
    "duration": 6,
    "start_time": "2022-03-04T06:26:10.349Z"
   },
   {
    "duration": 439,
    "start_time": "2022-03-04T06:26:16.397Z"
   },
   {
    "duration": 19,
    "start_time": "2022-03-04T06:26:21.168Z"
   },
   {
    "duration": 8,
    "start_time": "2022-03-04T06:26:23.836Z"
   },
   {
    "duration": 14,
    "start_time": "2022-03-04T06:26:32.021Z"
   },
   {
    "duration": 19,
    "start_time": "2022-03-04T06:26:35.711Z"
   },
   {
    "duration": 15,
    "start_time": "2022-03-04T06:26:38.422Z"
   },
   {
    "duration": 19,
    "start_time": "2022-03-04T06:26:41.390Z"
   },
   {
    "duration": 21,
    "start_time": "2022-03-04T06:26:43.854Z"
   }
  ],
  "kernelspec": {
   "display_name": "Python 3",
   "language": "python",
   "name": "python3"
  },
  "language_info": {
   "codemirror_mode": {
    "name": "ipython",
    "version": 3
   },
   "file_extension": ".py",
   "mimetype": "text/x-python",
   "name": "python",
   "nbconvert_exporter": "python",
   "pygments_lexer": "ipython3",
   "version": "3.7.8"
  },
  "toc": {
   "base_numbering": 1,
   "nav_menu": {},
   "number_sections": true,
   "sideBar": true,
   "skip_h1_title": true,
   "title_cell": "Table of Contents",
   "title_sidebar": "Contents",
   "toc_cell": false,
   "toc_position": {},
   "toc_section_display": true,
   "toc_window_display": false
  }
 },
 "nbformat": 4,
 "nbformat_minor": 5
}
