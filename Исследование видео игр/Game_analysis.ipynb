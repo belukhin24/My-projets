{
 "cells": [
  {
   "cell_type": "markdown",
   "metadata": {},
   "source": [
    "# Иследование успешности игр\n",
    "\n",
    "Я работаю в интернет-магазине «Стримчик», который продаёт по всему миру компьютерные игры. Из открытых источников доступны исторические данные о продажах игр, оценки пользователей и экспертов, жанры и платформы (например, Xbox или PlayStation), мне нужно выявить определяющие успешность игры закономерности. \n",
    "\n",
    "Это позволит руководсву компании сделать ставку на потенциально популярный продукт и спланировать рекламные кампании."
   ]
  },
  {
   "cell_type": "markdown",
   "metadata": {},
   "source": [
    "# Шаг 1. Открытие файлов с данными и изучение общей информации\n",
    "\n",
    "Для начана импортирую библиотеки и открою таблицу"
   ]
  },
  {
   "cell_type": "code",
   "execution_count": 1,
   "metadata": {},
   "outputs": [],
   "source": [
    "import pandas as pd\n",
    "import numpy as np\n",
    "import matplotlib.pyplot as plt\n",
    "from scipy import stats as st\n",
    "import math"
   ]
  },
  {
   "cell_type": "code",
   "execution_count": 2,
   "metadata": {},
   "outputs": [
    {
     "data": {
      "text/html": [
       "<div>\n",
       "<style scoped>\n",
       "    .dataframe tbody tr th:only-of-type {\n",
       "        vertical-align: middle;\n",
       "    }\n",
       "\n",
       "    .dataframe tbody tr th {\n",
       "        vertical-align: top;\n",
       "    }\n",
       "\n",
       "    .dataframe thead th {\n",
       "        text-align: right;\n",
       "    }\n",
       "</style>\n",
       "<table border=\"1\" class=\"dataframe\">\n",
       "  <thead>\n",
       "    <tr style=\"text-align: right;\">\n",
       "      <th></th>\n",
       "      <th>Name</th>\n",
       "      <th>Platform</th>\n",
       "      <th>Year_of_Release</th>\n",
       "      <th>Genre</th>\n",
       "      <th>NA_sales</th>\n",
       "      <th>EU_sales</th>\n",
       "      <th>JP_sales</th>\n",
       "      <th>Other_sales</th>\n",
       "      <th>Critic_Score</th>\n",
       "      <th>User_Score</th>\n",
       "      <th>Rating</th>\n",
       "    </tr>\n",
       "  </thead>\n",
       "  <tbody>\n",
       "    <tr>\n",
       "      <td>0</td>\n",
       "      <td>Wii Sports</td>\n",
       "      <td>Wii</td>\n",
       "      <td>2006.0</td>\n",
       "      <td>Sports</td>\n",
       "      <td>41.36</td>\n",
       "      <td>28.96</td>\n",
       "      <td>3.77</td>\n",
       "      <td>8.45</td>\n",
       "      <td>76.0</td>\n",
       "      <td>8</td>\n",
       "      <td>E</td>\n",
       "    </tr>\n",
       "    <tr>\n",
       "      <td>1</td>\n",
       "      <td>Super Mario Bros.</td>\n",
       "      <td>NES</td>\n",
       "      <td>1985.0</td>\n",
       "      <td>Platform</td>\n",
       "      <td>29.08</td>\n",
       "      <td>3.58</td>\n",
       "      <td>6.81</td>\n",
       "      <td>0.77</td>\n",
       "      <td>NaN</td>\n",
       "      <td>NaN</td>\n",
       "      <td>NaN</td>\n",
       "    </tr>\n",
       "    <tr>\n",
       "      <td>2</td>\n",
       "      <td>Mario Kart Wii</td>\n",
       "      <td>Wii</td>\n",
       "      <td>2008.0</td>\n",
       "      <td>Racing</td>\n",
       "      <td>15.68</td>\n",
       "      <td>12.76</td>\n",
       "      <td>3.79</td>\n",
       "      <td>3.29</td>\n",
       "      <td>82.0</td>\n",
       "      <td>8.3</td>\n",
       "      <td>E</td>\n",
       "    </tr>\n",
       "    <tr>\n",
       "      <td>3</td>\n",
       "      <td>Wii Sports Resort</td>\n",
       "      <td>Wii</td>\n",
       "      <td>2009.0</td>\n",
       "      <td>Sports</td>\n",
       "      <td>15.61</td>\n",
       "      <td>10.93</td>\n",
       "      <td>3.28</td>\n",
       "      <td>2.95</td>\n",
       "      <td>80.0</td>\n",
       "      <td>8</td>\n",
       "      <td>E</td>\n",
       "    </tr>\n",
       "    <tr>\n",
       "      <td>4</td>\n",
       "      <td>Pokemon Red/Pokemon Blue</td>\n",
       "      <td>GB</td>\n",
       "      <td>1996.0</td>\n",
       "      <td>Role-Playing</td>\n",
       "      <td>11.27</td>\n",
       "      <td>8.89</td>\n",
       "      <td>10.22</td>\n",
       "      <td>1.00</td>\n",
       "      <td>NaN</td>\n",
       "      <td>NaN</td>\n",
       "      <td>NaN</td>\n",
       "    </tr>\n",
       "  </tbody>\n",
       "</table>\n",
       "</div>"
      ],
      "text/plain": [
       "                       Name Platform  Year_of_Release         Genre  NA_sales  \\\n",
       "0                Wii Sports      Wii           2006.0        Sports     41.36   \n",
       "1         Super Mario Bros.      NES           1985.0      Platform     29.08   \n",
       "2            Mario Kart Wii      Wii           2008.0        Racing     15.68   \n",
       "3         Wii Sports Resort      Wii           2009.0        Sports     15.61   \n",
       "4  Pokemon Red/Pokemon Blue       GB           1996.0  Role-Playing     11.27   \n",
       "\n",
       "   EU_sales  JP_sales  Other_sales  Critic_Score User_Score Rating  \n",
       "0     28.96      3.77         8.45          76.0          8      E  \n",
       "1      3.58      6.81         0.77           NaN        NaN    NaN  \n",
       "2     12.76      3.79         3.29          82.0        8.3      E  \n",
       "3     10.93      3.28         2.95          80.0          8      E  \n",
       "4      8.89     10.22         1.00           NaN        NaN    NaN  "
      ]
     },
     "execution_count": 2,
     "metadata": {},
     "output_type": "execute_result"
    }
   ],
   "source": [
    "df = pd.read_csv('/datasets/games.csv')\n",
    "df.head()"
   ]
  },
  {
   "cell_type": "code",
   "execution_count": 3,
   "metadata": {},
   "outputs": [
    {
     "name": "stdout",
     "output_type": "stream",
     "text": [
      "<class 'pandas.core.frame.DataFrame'>\n",
      "RangeIndex: 16715 entries, 0 to 16714\n",
      "Data columns (total 11 columns):\n",
      "Name               16713 non-null object\n",
      "Platform           16715 non-null object\n",
      "Year_of_Release    16446 non-null float64\n",
      "Genre              16713 non-null object\n",
      "NA_sales           16715 non-null float64\n",
      "EU_sales           16715 non-null float64\n",
      "JP_sales           16715 non-null float64\n",
      "Other_sales        16715 non-null float64\n",
      "Critic_Score       8137 non-null float64\n",
      "User_Score         10014 non-null object\n",
      "Rating             9949 non-null object\n",
      "dtypes: float64(6), object(5)\n",
      "memory usage: 1.4+ MB\n"
     ]
    }
   ],
   "source": [
    "df.info()"
   ]
  },
  {
   "cell_type": "markdown",
   "metadata": {},
   "source": [
    "Предвортельно вижу:\n",
    " - Название столбцов которые нужно привести в нижнеру регистру\n",
    " - столбцы, которые нужно привести к логическому типу данных\n",
    " - пропуски в 6 столбцах\n",
    " - дополнительно проверю дубликаты в строках, возможно там тоже есть значения с разными регистрами\n",
    " \n",
    " Начну с приведения к нижнему регистру все названия столбцов\n",
    " "
   ]
  },
  {
   "cell_type": "markdown",
   "metadata": {},
   "source": [
    "# Шаг 2. Предподготовка данных"
   ]
  },
  {
   "cell_type": "code",
   "execution_count": 4,
   "metadata": {},
   "outputs": [
    {
     "data": {
      "text/html": [
       "<div>\n",
       "<style scoped>\n",
       "    .dataframe tbody tr th:only-of-type {\n",
       "        vertical-align: middle;\n",
       "    }\n",
       "\n",
       "    .dataframe tbody tr th {\n",
       "        vertical-align: top;\n",
       "    }\n",
       "\n",
       "    .dataframe thead th {\n",
       "        text-align: right;\n",
       "    }\n",
       "</style>\n",
       "<table border=\"1\" class=\"dataframe\">\n",
       "  <thead>\n",
       "    <tr style=\"text-align: right;\">\n",
       "      <th></th>\n",
       "      <th>name</th>\n",
       "      <th>platform</th>\n",
       "      <th>year_of_release</th>\n",
       "      <th>genre</th>\n",
       "      <th>na_sales</th>\n",
       "      <th>eu_sales</th>\n",
       "      <th>jp_sales</th>\n",
       "      <th>other_sales</th>\n",
       "      <th>critic_score</th>\n",
       "      <th>user_score</th>\n",
       "      <th>rating</th>\n",
       "    </tr>\n",
       "  </thead>\n",
       "  <tbody>\n",
       "    <tr>\n",
       "      <td>0</td>\n",
       "      <td>Wii Sports</td>\n",
       "      <td>Wii</td>\n",
       "      <td>2006.0</td>\n",
       "      <td>Sports</td>\n",
       "      <td>41.36</td>\n",
       "      <td>28.96</td>\n",
       "      <td>3.77</td>\n",
       "      <td>8.45</td>\n",
       "      <td>76.0</td>\n",
       "      <td>8</td>\n",
       "      <td>E</td>\n",
       "    </tr>\n",
       "    <tr>\n",
       "      <td>1</td>\n",
       "      <td>Super Mario Bros.</td>\n",
       "      <td>NES</td>\n",
       "      <td>1985.0</td>\n",
       "      <td>Platform</td>\n",
       "      <td>29.08</td>\n",
       "      <td>3.58</td>\n",
       "      <td>6.81</td>\n",
       "      <td>0.77</td>\n",
       "      <td>NaN</td>\n",
       "      <td>NaN</td>\n",
       "      <td>NaN</td>\n",
       "    </tr>\n",
       "    <tr>\n",
       "      <td>2</td>\n",
       "      <td>Mario Kart Wii</td>\n",
       "      <td>Wii</td>\n",
       "      <td>2008.0</td>\n",
       "      <td>Racing</td>\n",
       "      <td>15.68</td>\n",
       "      <td>12.76</td>\n",
       "      <td>3.79</td>\n",
       "      <td>3.29</td>\n",
       "      <td>82.0</td>\n",
       "      <td>8.3</td>\n",
       "      <td>E</td>\n",
       "    </tr>\n",
       "    <tr>\n",
       "      <td>3</td>\n",
       "      <td>Wii Sports Resort</td>\n",
       "      <td>Wii</td>\n",
       "      <td>2009.0</td>\n",
       "      <td>Sports</td>\n",
       "      <td>15.61</td>\n",
       "      <td>10.93</td>\n",
       "      <td>3.28</td>\n",
       "      <td>2.95</td>\n",
       "      <td>80.0</td>\n",
       "      <td>8</td>\n",
       "      <td>E</td>\n",
       "    </tr>\n",
       "    <tr>\n",
       "      <td>4</td>\n",
       "      <td>Pokemon Red/Pokemon Blue</td>\n",
       "      <td>GB</td>\n",
       "      <td>1996.0</td>\n",
       "      <td>Role-Playing</td>\n",
       "      <td>11.27</td>\n",
       "      <td>8.89</td>\n",
       "      <td>10.22</td>\n",
       "      <td>1.00</td>\n",
       "      <td>NaN</td>\n",
       "      <td>NaN</td>\n",
       "      <td>NaN</td>\n",
       "    </tr>\n",
       "  </tbody>\n",
       "</table>\n",
       "</div>"
      ],
      "text/plain": [
       "                       name platform  year_of_release         genre  na_sales  \\\n",
       "0                Wii Sports      Wii           2006.0        Sports     41.36   \n",
       "1         Super Mario Bros.      NES           1985.0      Platform     29.08   \n",
       "2            Mario Kart Wii      Wii           2008.0        Racing     15.68   \n",
       "3         Wii Sports Resort      Wii           2009.0        Sports     15.61   \n",
       "4  Pokemon Red/Pokemon Blue       GB           1996.0  Role-Playing     11.27   \n",
       "\n",
       "   eu_sales  jp_sales  other_sales  critic_score user_score rating  \n",
       "0     28.96      3.77         8.45          76.0          8      E  \n",
       "1      3.58      6.81         0.77           NaN        NaN    NaN  \n",
       "2     12.76      3.79         3.29          82.0        8.3      E  \n",
       "3     10.93      3.28         2.95          80.0          8      E  \n",
       "4      8.89     10.22         1.00           NaN        NaN    NaN  "
      ]
     },
     "execution_count": 4,
     "metadata": {},
     "output_type": "execute_result"
    }
   ],
   "source": [
    "df.columns = df.columns.str.lower()\n",
    "df.head()"
   ]
  },
  {
   "cell_type": "markdown",
   "metadata": {},
   "source": [
    "Приведу год к типу инт методом astype, и взгляну на пропущщенные"
   ]
  },
  {
   "cell_type": "code",
   "execution_count": 5,
   "metadata": {},
   "outputs": [
    {
     "data": {
      "text/html": [
       "<div>\n",
       "<style scoped>\n",
       "    .dataframe tbody tr th:only-of-type {\n",
       "        vertical-align: middle;\n",
       "    }\n",
       "\n",
       "    .dataframe tbody tr th {\n",
       "        vertical-align: top;\n",
       "    }\n",
       "\n",
       "    .dataframe thead th {\n",
       "        text-align: right;\n",
       "    }\n",
       "</style>\n",
       "<table border=\"1\" class=\"dataframe\">\n",
       "  <thead>\n",
       "    <tr style=\"text-align: right;\">\n",
       "      <th></th>\n",
       "      <th>name</th>\n",
       "      <th>platform</th>\n",
       "      <th>year_of_release</th>\n",
       "      <th>genre</th>\n",
       "      <th>na_sales</th>\n",
       "      <th>eu_sales</th>\n",
       "      <th>jp_sales</th>\n",
       "      <th>other_sales</th>\n",
       "      <th>critic_score</th>\n",
       "      <th>user_score</th>\n",
       "      <th>rating</th>\n",
       "    </tr>\n",
       "  </thead>\n",
       "  <tbody>\n",
       "    <tr>\n",
       "      <td>183</td>\n",
       "      <td>Madden NFL 2004</td>\n",
       "      <td>PS2</td>\n",
       "      <td>NaN</td>\n",
       "      <td>Sports</td>\n",
       "      <td>4.26</td>\n",
       "      <td>0.26</td>\n",
       "      <td>0.01</td>\n",
       "      <td>0.71</td>\n",
       "      <td>94.0</td>\n",
       "      <td>8.5</td>\n",
       "      <td>E</td>\n",
       "    </tr>\n",
       "    <tr>\n",
       "      <td>377</td>\n",
       "      <td>FIFA Soccer 2004</td>\n",
       "      <td>PS2</td>\n",
       "      <td>NaN</td>\n",
       "      <td>Sports</td>\n",
       "      <td>0.59</td>\n",
       "      <td>2.36</td>\n",
       "      <td>0.04</td>\n",
       "      <td>0.51</td>\n",
       "      <td>84.0</td>\n",
       "      <td>6.4</td>\n",
       "      <td>E</td>\n",
       "    </tr>\n",
       "    <tr>\n",
       "      <td>456</td>\n",
       "      <td>LEGO Batman: The Videogame</td>\n",
       "      <td>Wii</td>\n",
       "      <td>NaN</td>\n",
       "      <td>Action</td>\n",
       "      <td>1.80</td>\n",
       "      <td>0.97</td>\n",
       "      <td>0.00</td>\n",
       "      <td>0.29</td>\n",
       "      <td>74.0</td>\n",
       "      <td>7.9</td>\n",
       "      <td>E10+</td>\n",
       "    </tr>\n",
       "    <tr>\n",
       "      <td>475</td>\n",
       "      <td>wwe Smackdown vs. Raw 2006</td>\n",
       "      <td>PS2</td>\n",
       "      <td>NaN</td>\n",
       "      <td>Fighting</td>\n",
       "      <td>1.57</td>\n",
       "      <td>1.02</td>\n",
       "      <td>0.00</td>\n",
       "      <td>0.41</td>\n",
       "      <td>NaN</td>\n",
       "      <td>NaN</td>\n",
       "      <td>NaN</td>\n",
       "    </tr>\n",
       "    <tr>\n",
       "      <td>609</td>\n",
       "      <td>Space Invaders</td>\n",
       "      <td>2600</td>\n",
       "      <td>NaN</td>\n",
       "      <td>Shooter</td>\n",
       "      <td>2.36</td>\n",
       "      <td>0.14</td>\n",
       "      <td>0.00</td>\n",
       "      <td>0.03</td>\n",
       "      <td>NaN</td>\n",
       "      <td>NaN</td>\n",
       "      <td>NaN</td>\n",
       "    </tr>\n",
       "    <tr>\n",
       "      <td>627</td>\n",
       "      <td>Rock Band</td>\n",
       "      <td>X360</td>\n",
       "      <td>NaN</td>\n",
       "      <td>Misc</td>\n",
       "      <td>1.93</td>\n",
       "      <td>0.33</td>\n",
       "      <td>0.00</td>\n",
       "      <td>0.21</td>\n",
       "      <td>92.0</td>\n",
       "      <td>8.2</td>\n",
       "      <td>T</td>\n",
       "    </tr>\n",
       "    <tr>\n",
       "      <td>657</td>\n",
       "      <td>Frogger's Adventures: Temple of the Frog</td>\n",
       "      <td>GBA</td>\n",
       "      <td>NaN</td>\n",
       "      <td>Adventure</td>\n",
       "      <td>2.15</td>\n",
       "      <td>0.18</td>\n",
       "      <td>0.00</td>\n",
       "      <td>0.07</td>\n",
       "      <td>73.0</td>\n",
       "      <td>tbd</td>\n",
       "      <td>E</td>\n",
       "    </tr>\n",
       "    <tr>\n",
       "      <td>678</td>\n",
       "      <td>LEGO Indiana Jones: The Original Adventures</td>\n",
       "      <td>Wii</td>\n",
       "      <td>NaN</td>\n",
       "      <td>Action</td>\n",
       "      <td>1.51</td>\n",
       "      <td>0.61</td>\n",
       "      <td>0.00</td>\n",
       "      <td>0.21</td>\n",
       "      <td>78.0</td>\n",
       "      <td>6.6</td>\n",
       "      <td>E10+</td>\n",
       "    </tr>\n",
       "    <tr>\n",
       "      <td>719</td>\n",
       "      <td>Call of Duty 3</td>\n",
       "      <td>Wii</td>\n",
       "      <td>NaN</td>\n",
       "      <td>Shooter</td>\n",
       "      <td>1.17</td>\n",
       "      <td>0.84</td>\n",
       "      <td>0.00</td>\n",
       "      <td>0.23</td>\n",
       "      <td>69.0</td>\n",
       "      <td>6.7</td>\n",
       "      <td>T</td>\n",
       "    </tr>\n",
       "    <tr>\n",
       "      <td>805</td>\n",
       "      <td>Rock Band</td>\n",
       "      <td>Wii</td>\n",
       "      <td>NaN</td>\n",
       "      <td>Misc</td>\n",
       "      <td>1.33</td>\n",
       "      <td>0.56</td>\n",
       "      <td>0.00</td>\n",
       "      <td>0.20</td>\n",
       "      <td>80.0</td>\n",
       "      <td>6.3</td>\n",
       "      <td>T</td>\n",
       "    </tr>\n",
       "  </tbody>\n",
       "</table>\n",
       "</div>"
      ],
      "text/plain": [
       "                                            name platform  year_of_release  \\\n",
       "183                              Madden NFL 2004      PS2              NaN   \n",
       "377                             FIFA Soccer 2004      PS2              NaN   \n",
       "456                   LEGO Batman: The Videogame      Wii              NaN   \n",
       "475                   wwe Smackdown vs. Raw 2006      PS2              NaN   \n",
       "609                               Space Invaders     2600              NaN   \n",
       "627                                    Rock Band     X360              NaN   \n",
       "657     Frogger's Adventures: Temple of the Frog      GBA              NaN   \n",
       "678  LEGO Indiana Jones: The Original Adventures      Wii              NaN   \n",
       "719                               Call of Duty 3      Wii              NaN   \n",
       "805                                    Rock Band      Wii              NaN   \n",
       "\n",
       "         genre  na_sales  eu_sales  jp_sales  other_sales  critic_score  \\\n",
       "183     Sports      4.26      0.26      0.01         0.71          94.0   \n",
       "377     Sports      0.59      2.36      0.04         0.51          84.0   \n",
       "456     Action      1.80      0.97      0.00         0.29          74.0   \n",
       "475   Fighting      1.57      1.02      0.00         0.41           NaN   \n",
       "609    Shooter      2.36      0.14      0.00         0.03           NaN   \n",
       "627       Misc      1.93      0.33      0.00         0.21          92.0   \n",
       "657  Adventure      2.15      0.18      0.00         0.07          73.0   \n",
       "678     Action      1.51      0.61      0.00         0.21          78.0   \n",
       "719    Shooter      1.17      0.84      0.00         0.23          69.0   \n",
       "805       Misc      1.33      0.56      0.00         0.20          80.0   \n",
       "\n",
       "    user_score rating  \n",
       "183        8.5      E  \n",
       "377        6.4      E  \n",
       "456        7.9   E10+  \n",
       "475        NaN    NaN  \n",
       "609        NaN    NaN  \n",
       "627        8.2      T  \n",
       "657        tbd      E  \n",
       "678        6.6   E10+  \n",
       "719        6.7      T  \n",
       "805        6.3      T  "
      ]
     },
     "execution_count": 5,
     "metadata": {},
     "output_type": "execute_result"
    }
   ],
   "source": [
    "df['year_of_release'] = df['year_of_release'].round().astype('Int64')\n",
    "df[df['year_of_release'].isnull()].head(10)"
   ]
  },
  {
   "cell_type": "markdown",
   "metadata": {},
   "source": [
    "Вижу пропущенные значений, часть можно заполнить из названия спортивных симуляторов, но так как год в названии таких игр не всегда соотвествует году выпуску я этого делать не буду. Значения оставлю пустые\n",
    "\n",
    "Поподробнее гляну на значения 'user_score'"
   ]
  },
  {
   "cell_type": "code",
   "execution_count": 6,
   "metadata": {},
   "outputs": [
    {
     "data": {
      "text/plain": [
       "tbd    2424\n",
       "7.8     324\n",
       "8       290\n",
       "8.2     282\n",
       "8.3     254\n",
       "8.5     253\n",
       "7.5     251\n",
       "7.9     249\n",
       "8.1     244\n",
       "7.7     240\n",
       "Name: user_score, dtype: int64"
      ]
     },
     "execution_count": 6,
     "metadata": {},
     "output_type": "execute_result"
    }
   ],
   "source": [
    "df['user_score'].value_counts().head(10)"
   ]
  },
  {
   "cell_type": "markdown",
   "metadata": {},
   "source": [
    "вижу значение 'tbd', что значит оценка еще не определена, скорее всего это значит что даную игру некое количество пользователей оценили, но данное количество не достаточно для того что бы вывести средний результат\n",
    "\n",
    "Заменю значения 'tbd' на NaN, так как не виже значений которые могут коррелировать с рейтингом игроков"
   ]
  },
  {
   "cell_type": "code",
   "execution_count": 7,
   "metadata": {},
   "outputs": [
    {
     "name": "stdout",
     "output_type": "stream",
     "text": [
      "<class 'pandas.core.frame.DataFrame'>\n",
      "RangeIndex: 16715 entries, 0 to 16714\n",
      "Data columns (total 11 columns):\n",
      "name               16713 non-null object\n",
      "platform           16715 non-null object\n",
      "year_of_release    16446 non-null Int64\n",
      "genre              16713 non-null object\n",
      "na_sales           16715 non-null float64\n",
      "eu_sales           16715 non-null float64\n",
      "jp_sales           16715 non-null float64\n",
      "other_sales        16715 non-null float64\n",
      "critic_score       8137 non-null float64\n",
      "user_score         7590 non-null float64\n",
      "rating             9949 non-null object\n",
      "dtypes: Int64(1), float64(6), object(4)\n",
      "memory usage: 1.4+ MB\n"
     ]
    }
   ],
   "source": [
    "df['user_score'] = df['user_score'].replace('tbd',np.NaN).astype('Float64')\n",
    "df.info()"
   ]
  },
  {
   "cell_type": "markdown",
   "metadata": {},
   "source": [
    "вижу большое количество пропусков в столбцах с оценкой и рейтингом\n",
    "\n",
    "выше я видел игры с годом выпуска 1996, сомневаюсь что в эти года играм присваивали рейтинг, а игроки и эксперты им давали четкие оценки, выведу сводную таблицу с годами, где индекс задам год, и посмотрю количество остальных значений"
   ]
  },
  {
   "cell_type": "code",
   "execution_count": 8,
   "metadata": {},
   "outputs": [
    {
     "data": {
      "text/html": [
       "<div>\n",
       "<style scoped>\n",
       "    .dataframe tbody tr th:only-of-type {\n",
       "        vertical-align: middle;\n",
       "    }\n",
       "\n",
       "    .dataframe tbody tr th {\n",
       "        vertical-align: top;\n",
       "    }\n",
       "\n",
       "    .dataframe thead th {\n",
       "        text-align: right;\n",
       "    }\n",
       "</style>\n",
       "<table border=\"1\" class=\"dataframe\">\n",
       "  <thead>\n",
       "    <tr style=\"text-align: right;\">\n",
       "      <th></th>\n",
       "      <th>critic_score</th>\n",
       "      <th>eu_sales</th>\n",
       "      <th>genre</th>\n",
       "      <th>jp_sales</th>\n",
       "      <th>na_sales</th>\n",
       "      <th>name</th>\n",
       "      <th>other_sales</th>\n",
       "      <th>platform</th>\n",
       "      <th>rating</th>\n",
       "      <th>user_score</th>\n",
       "    </tr>\n",
       "    <tr>\n",
       "      <th>year_of_release</th>\n",
       "      <th></th>\n",
       "      <th></th>\n",
       "      <th></th>\n",
       "      <th></th>\n",
       "      <th></th>\n",
       "      <th></th>\n",
       "      <th></th>\n",
       "      <th></th>\n",
       "      <th></th>\n",
       "      <th></th>\n",
       "    </tr>\n",
       "  </thead>\n",
       "  <tbody>\n",
       "    <tr>\n",
       "      <td>1980</td>\n",
       "      <td>0</td>\n",
       "      <td>9</td>\n",
       "      <td>9</td>\n",
       "      <td>9</td>\n",
       "      <td>9</td>\n",
       "      <td>9</td>\n",
       "      <td>9</td>\n",
       "      <td>9</td>\n",
       "      <td>0</td>\n",
       "      <td>0</td>\n",
       "    </tr>\n",
       "    <tr>\n",
       "      <td>1981</td>\n",
       "      <td>0</td>\n",
       "      <td>46</td>\n",
       "      <td>46</td>\n",
       "      <td>46</td>\n",
       "      <td>46</td>\n",
       "      <td>46</td>\n",
       "      <td>46</td>\n",
       "      <td>46</td>\n",
       "      <td>0</td>\n",
       "      <td>0</td>\n",
       "    </tr>\n",
       "    <tr>\n",
       "      <td>1982</td>\n",
       "      <td>0</td>\n",
       "      <td>36</td>\n",
       "      <td>36</td>\n",
       "      <td>36</td>\n",
       "      <td>36</td>\n",
       "      <td>36</td>\n",
       "      <td>36</td>\n",
       "      <td>36</td>\n",
       "      <td>0</td>\n",
       "      <td>0</td>\n",
       "    </tr>\n",
       "    <tr>\n",
       "      <td>1983</td>\n",
       "      <td>0</td>\n",
       "      <td>17</td>\n",
       "      <td>17</td>\n",
       "      <td>17</td>\n",
       "      <td>17</td>\n",
       "      <td>17</td>\n",
       "      <td>17</td>\n",
       "      <td>17</td>\n",
       "      <td>0</td>\n",
       "      <td>0</td>\n",
       "    </tr>\n",
       "    <tr>\n",
       "      <td>1984</td>\n",
       "      <td>0</td>\n",
       "      <td>14</td>\n",
       "      <td>14</td>\n",
       "      <td>14</td>\n",
       "      <td>14</td>\n",
       "      <td>14</td>\n",
       "      <td>14</td>\n",
       "      <td>14</td>\n",
       "      <td>0</td>\n",
       "      <td>0</td>\n",
       "    </tr>\n",
       "    <tr>\n",
       "      <td>1985</td>\n",
       "      <td>1</td>\n",
       "      <td>14</td>\n",
       "      <td>14</td>\n",
       "      <td>14</td>\n",
       "      <td>14</td>\n",
       "      <td>14</td>\n",
       "      <td>14</td>\n",
       "      <td>14</td>\n",
       "      <td>1</td>\n",
       "      <td>1</td>\n",
       "    </tr>\n",
       "    <tr>\n",
       "      <td>1986</td>\n",
       "      <td>0</td>\n",
       "      <td>21</td>\n",
       "      <td>21</td>\n",
       "      <td>21</td>\n",
       "      <td>21</td>\n",
       "      <td>21</td>\n",
       "      <td>21</td>\n",
       "      <td>21</td>\n",
       "      <td>0</td>\n",
       "      <td>0</td>\n",
       "    </tr>\n",
       "    <tr>\n",
       "      <td>1987</td>\n",
       "      <td>0</td>\n",
       "      <td>16</td>\n",
       "      <td>16</td>\n",
       "      <td>16</td>\n",
       "      <td>16</td>\n",
       "      <td>16</td>\n",
       "      <td>16</td>\n",
       "      <td>16</td>\n",
       "      <td>0</td>\n",
       "      <td>0</td>\n",
       "    </tr>\n",
       "    <tr>\n",
       "      <td>1988</td>\n",
       "      <td>1</td>\n",
       "      <td>15</td>\n",
       "      <td>15</td>\n",
       "      <td>15</td>\n",
       "      <td>15</td>\n",
       "      <td>15</td>\n",
       "      <td>15</td>\n",
       "      <td>15</td>\n",
       "      <td>1</td>\n",
       "      <td>1</td>\n",
       "    </tr>\n",
       "    <tr>\n",
       "      <td>1989</td>\n",
       "      <td>0</td>\n",
       "      <td>17</td>\n",
       "      <td>17</td>\n",
       "      <td>17</td>\n",
       "      <td>17</td>\n",
       "      <td>17</td>\n",
       "      <td>17</td>\n",
       "      <td>17</td>\n",
       "      <td>0</td>\n",
       "      <td>0</td>\n",
       "    </tr>\n",
       "    <tr>\n",
       "      <td>1990</td>\n",
       "      <td>0</td>\n",
       "      <td>16</td>\n",
       "      <td>16</td>\n",
       "      <td>16</td>\n",
       "      <td>16</td>\n",
       "      <td>16</td>\n",
       "      <td>16</td>\n",
       "      <td>16</td>\n",
       "      <td>0</td>\n",
       "      <td>0</td>\n",
       "    </tr>\n",
       "    <tr>\n",
       "      <td>1991</td>\n",
       "      <td>0</td>\n",
       "      <td>41</td>\n",
       "      <td>41</td>\n",
       "      <td>41</td>\n",
       "      <td>41</td>\n",
       "      <td>41</td>\n",
       "      <td>41</td>\n",
       "      <td>41</td>\n",
       "      <td>0</td>\n",
       "      <td>0</td>\n",
       "    </tr>\n",
       "    <tr>\n",
       "      <td>1992</td>\n",
       "      <td>1</td>\n",
       "      <td>43</td>\n",
       "      <td>43</td>\n",
       "      <td>43</td>\n",
       "      <td>43</td>\n",
       "      <td>43</td>\n",
       "      <td>43</td>\n",
       "      <td>43</td>\n",
       "      <td>2</td>\n",
       "      <td>1</td>\n",
       "    </tr>\n",
       "    <tr>\n",
       "      <td>1993</td>\n",
       "      <td>0</td>\n",
       "      <td>62</td>\n",
       "      <td>60</td>\n",
       "      <td>62</td>\n",
       "      <td>62</td>\n",
       "      <td>60</td>\n",
       "      <td>62</td>\n",
       "      <td>62</td>\n",
       "      <td>0</td>\n",
       "      <td>0</td>\n",
       "    </tr>\n",
       "    <tr>\n",
       "      <td>1994</td>\n",
       "      <td>1</td>\n",
       "      <td>121</td>\n",
       "      <td>121</td>\n",
       "      <td>121</td>\n",
       "      <td>121</td>\n",
       "      <td>121</td>\n",
       "      <td>121</td>\n",
       "      <td>121</td>\n",
       "      <td>1</td>\n",
       "      <td>1</td>\n",
       "    </tr>\n",
       "    <tr>\n",
       "      <td>1995</td>\n",
       "      <td>0</td>\n",
       "      <td>219</td>\n",
       "      <td>219</td>\n",
       "      <td>219</td>\n",
       "      <td>219</td>\n",
       "      <td>219</td>\n",
       "      <td>219</td>\n",
       "      <td>219</td>\n",
       "      <td>0</td>\n",
       "      <td>0</td>\n",
       "    </tr>\n",
       "    <tr>\n",
       "      <td>1996</td>\n",
       "      <td>8</td>\n",
       "      <td>263</td>\n",
       "      <td>263</td>\n",
       "      <td>263</td>\n",
       "      <td>263</td>\n",
       "      <td>263</td>\n",
       "      <td>263</td>\n",
       "      <td>263</td>\n",
       "      <td>7</td>\n",
       "      <td>8</td>\n",
       "    </tr>\n",
       "    <tr>\n",
       "      <td>1997</td>\n",
       "      <td>17</td>\n",
       "      <td>289</td>\n",
       "      <td>289</td>\n",
       "      <td>289</td>\n",
       "      <td>289</td>\n",
       "      <td>289</td>\n",
       "      <td>289</td>\n",
       "      <td>289</td>\n",
       "      <td>19</td>\n",
       "      <td>18</td>\n",
       "    </tr>\n",
       "    <tr>\n",
       "      <td>1998</td>\n",
       "      <td>28</td>\n",
       "      <td>379</td>\n",
       "      <td>379</td>\n",
       "      <td>379</td>\n",
       "      <td>379</td>\n",
       "      <td>379</td>\n",
       "      <td>379</td>\n",
       "      <td>379</td>\n",
       "      <td>32</td>\n",
       "      <td>31</td>\n",
       "    </tr>\n",
       "    <tr>\n",
       "      <td>1999</td>\n",
       "      <td>39</td>\n",
       "      <td>338</td>\n",
       "      <td>338</td>\n",
       "      <td>338</td>\n",
       "      <td>338</td>\n",
       "      <td>338</td>\n",
       "      <td>338</td>\n",
       "      <td>338</td>\n",
       "      <td>42</td>\n",
       "      <td>31</td>\n",
       "    </tr>\n",
       "    <tr>\n",
       "      <td>2000</td>\n",
       "      <td>143</td>\n",
       "      <td>350</td>\n",
       "      <td>350</td>\n",
       "      <td>350</td>\n",
       "      <td>350</td>\n",
       "      <td>350</td>\n",
       "      <td>350</td>\n",
       "      <td>350</td>\n",
       "      <td>148</td>\n",
       "      <td>107</td>\n",
       "    </tr>\n",
       "    <tr>\n",
       "      <td>2001</td>\n",
       "      <td>326</td>\n",
       "      <td>482</td>\n",
       "      <td>482</td>\n",
       "      <td>482</td>\n",
       "      <td>482</td>\n",
       "      <td>482</td>\n",
       "      <td>482</td>\n",
       "      <td>482</td>\n",
       "      <td>339</td>\n",
       "      <td>257</td>\n",
       "    </tr>\n",
       "    <tr>\n",
       "      <td>2002</td>\n",
       "      <td>627</td>\n",
       "      <td>829</td>\n",
       "      <td>829</td>\n",
       "      <td>829</td>\n",
       "      <td>829</td>\n",
       "      <td>829</td>\n",
       "      <td>829</td>\n",
       "      <td>829</td>\n",
       "      <td>655</td>\n",
       "      <td>464</td>\n",
       "    </tr>\n",
       "    <tr>\n",
       "      <td>2003</td>\n",
       "      <td>585</td>\n",
       "      <td>775</td>\n",
       "      <td>775</td>\n",
       "      <td>775</td>\n",
       "      <td>775</td>\n",
       "      <td>775</td>\n",
       "      <td>775</td>\n",
       "      <td>775</td>\n",
       "      <td>613</td>\n",
       "      <td>516</td>\n",
       "    </tr>\n",
       "    <tr>\n",
       "      <td>2004</td>\n",
       "      <td>561</td>\n",
       "      <td>762</td>\n",
       "      <td>762</td>\n",
       "      <td>762</td>\n",
       "      <td>762</td>\n",
       "      <td>762</td>\n",
       "      <td>762</td>\n",
       "      <td>762</td>\n",
       "      <td>598</td>\n",
       "      <td>489</td>\n",
       "    </tr>\n",
       "    <tr>\n",
       "      <td>2005</td>\n",
       "      <td>655</td>\n",
       "      <td>939</td>\n",
       "      <td>939</td>\n",
       "      <td>939</td>\n",
       "      <td>939</td>\n",
       "      <td>939</td>\n",
       "      <td>939</td>\n",
       "      <td>939</td>\n",
       "      <td>706</td>\n",
       "      <td>583</td>\n",
       "    </tr>\n",
       "    <tr>\n",
       "      <td>2006</td>\n",
       "      <td>620</td>\n",
       "      <td>1006</td>\n",
       "      <td>1006</td>\n",
       "      <td>1006</td>\n",
       "      <td>1006</td>\n",
       "      <td>1006</td>\n",
       "      <td>1006</td>\n",
       "      <td>1006</td>\n",
       "      <td>678</td>\n",
       "      <td>552</td>\n",
       "    </tr>\n",
       "    <tr>\n",
       "      <td>2007</td>\n",
       "      <td>692</td>\n",
       "      <td>1197</td>\n",
       "      <td>1197</td>\n",
       "      <td>1197</td>\n",
       "      <td>1197</td>\n",
       "      <td>1197</td>\n",
       "      <td>1197</td>\n",
       "      <td>1197</td>\n",
       "      <td>821</td>\n",
       "      <td>629</td>\n",
       "    </tr>\n",
       "    <tr>\n",
       "      <td>2008</td>\n",
       "      <td>715</td>\n",
       "      <td>1427</td>\n",
       "      <td>1427</td>\n",
       "      <td>1427</td>\n",
       "      <td>1427</td>\n",
       "      <td>1427</td>\n",
       "      <td>1427</td>\n",
       "      <td>1427</td>\n",
       "      <td>981</td>\n",
       "      <td>661</td>\n",
       "    </tr>\n",
       "    <tr>\n",
       "      <td>2009</td>\n",
       "      <td>651</td>\n",
       "      <td>1426</td>\n",
       "      <td>1426</td>\n",
       "      <td>1426</td>\n",
       "      <td>1426</td>\n",
       "      <td>1426</td>\n",
       "      <td>1426</td>\n",
       "      <td>1426</td>\n",
       "      <td>1011</td>\n",
       "      <td>614</td>\n",
       "    </tr>\n",
       "    <tr>\n",
       "      <td>2010</td>\n",
       "      <td>500</td>\n",
       "      <td>1255</td>\n",
       "      <td>1255</td>\n",
       "      <td>1255</td>\n",
       "      <td>1255</td>\n",
       "      <td>1255</td>\n",
       "      <td>1255</td>\n",
       "      <td>1255</td>\n",
       "      <td>799</td>\n",
       "      <td>467</td>\n",
       "    </tr>\n",
       "    <tr>\n",
       "      <td>2011</td>\n",
       "      <td>500</td>\n",
       "      <td>1136</td>\n",
       "      <td>1136</td>\n",
       "      <td>1136</td>\n",
       "      <td>1136</td>\n",
       "      <td>1136</td>\n",
       "      <td>1136</td>\n",
       "      <td>1136</td>\n",
       "      <td>703</td>\n",
       "      <td>501</td>\n",
       "    </tr>\n",
       "    <tr>\n",
       "      <td>2012</td>\n",
       "      <td>321</td>\n",
       "      <td>653</td>\n",
       "      <td>653</td>\n",
       "      <td>653</td>\n",
       "      <td>653</td>\n",
       "      <td>653</td>\n",
       "      <td>653</td>\n",
       "      <td>653</td>\n",
       "      <td>355</td>\n",
       "      <td>339</td>\n",
       "    </tr>\n",
       "    <tr>\n",
       "      <td>2013</td>\n",
       "      <td>273</td>\n",
       "      <td>544</td>\n",
       "      <td>544</td>\n",
       "      <td>544</td>\n",
       "      <td>544</td>\n",
       "      <td>544</td>\n",
       "      <td>544</td>\n",
       "      <td>544</td>\n",
       "      <td>316</td>\n",
       "      <td>304</td>\n",
       "    </tr>\n",
       "    <tr>\n",
       "      <td>2014</td>\n",
       "      <td>261</td>\n",
       "      <td>581</td>\n",
       "      <td>581</td>\n",
       "      <td>581</td>\n",
       "      <td>581</td>\n",
       "      <td>581</td>\n",
       "      <td>581</td>\n",
       "      <td>581</td>\n",
       "      <td>345</td>\n",
       "      <td>329</td>\n",
       "    </tr>\n",
       "    <tr>\n",
       "      <td>2015</td>\n",
       "      <td>225</td>\n",
       "      <td>606</td>\n",
       "      <td>606</td>\n",
       "      <td>606</td>\n",
       "      <td>606</td>\n",
       "      <td>606</td>\n",
       "      <td>606</td>\n",
       "      <td>606</td>\n",
       "      <td>315</td>\n",
       "      <td>297</td>\n",
       "    </tr>\n",
       "    <tr>\n",
       "      <td>2016</td>\n",
       "      <td>232</td>\n",
       "      <td>502</td>\n",
       "      <td>502</td>\n",
       "      <td>502</td>\n",
       "      <td>502</td>\n",
       "      <td>502</td>\n",
       "      <td>502</td>\n",
       "      <td>502</td>\n",
       "      <td>280</td>\n",
       "      <td>262</td>\n",
       "    </tr>\n",
       "  </tbody>\n",
       "</table>\n",
       "</div>"
      ],
      "text/plain": [
       "                 critic_score  eu_sales  genre  jp_sales  na_sales  name  \\\n",
       "year_of_release                                                            \n",
       "1980                        0         9      9         9         9     9   \n",
       "1981                        0        46     46        46        46    46   \n",
       "1982                        0        36     36        36        36    36   \n",
       "1983                        0        17     17        17        17    17   \n",
       "1984                        0        14     14        14        14    14   \n",
       "1985                        1        14     14        14        14    14   \n",
       "1986                        0        21     21        21        21    21   \n",
       "1987                        0        16     16        16        16    16   \n",
       "1988                        1        15     15        15        15    15   \n",
       "1989                        0        17     17        17        17    17   \n",
       "1990                        0        16     16        16        16    16   \n",
       "1991                        0        41     41        41        41    41   \n",
       "1992                        1        43     43        43        43    43   \n",
       "1993                        0        62     60        62        62    60   \n",
       "1994                        1       121    121       121       121   121   \n",
       "1995                        0       219    219       219       219   219   \n",
       "1996                        8       263    263       263       263   263   \n",
       "1997                       17       289    289       289       289   289   \n",
       "1998                       28       379    379       379       379   379   \n",
       "1999                       39       338    338       338       338   338   \n",
       "2000                      143       350    350       350       350   350   \n",
       "2001                      326       482    482       482       482   482   \n",
       "2002                      627       829    829       829       829   829   \n",
       "2003                      585       775    775       775       775   775   \n",
       "2004                      561       762    762       762       762   762   \n",
       "2005                      655       939    939       939       939   939   \n",
       "2006                      620      1006   1006      1006      1006  1006   \n",
       "2007                      692      1197   1197      1197      1197  1197   \n",
       "2008                      715      1427   1427      1427      1427  1427   \n",
       "2009                      651      1426   1426      1426      1426  1426   \n",
       "2010                      500      1255   1255      1255      1255  1255   \n",
       "2011                      500      1136   1136      1136      1136  1136   \n",
       "2012                      321       653    653       653       653   653   \n",
       "2013                      273       544    544       544       544   544   \n",
       "2014                      261       581    581       581       581   581   \n",
       "2015                      225       606    606       606       606   606   \n",
       "2016                      232       502    502       502       502   502   \n",
       "\n",
       "                 other_sales  platform  rating  user_score  \n",
       "year_of_release                                             \n",
       "1980                       9         9       0           0  \n",
       "1981                      46        46       0           0  \n",
       "1982                      36        36       0           0  \n",
       "1983                      17        17       0           0  \n",
       "1984                      14        14       0           0  \n",
       "1985                      14        14       1           1  \n",
       "1986                      21        21       0           0  \n",
       "1987                      16        16       0           0  \n",
       "1988                      15        15       1           1  \n",
       "1989                      17        17       0           0  \n",
       "1990                      16        16       0           0  \n",
       "1991                      41        41       0           0  \n",
       "1992                      43        43       2           1  \n",
       "1993                      62        62       0           0  \n",
       "1994                     121       121       1           1  \n",
       "1995                     219       219       0           0  \n",
       "1996                     263       263       7           8  \n",
       "1997                     289       289      19          18  \n",
       "1998                     379       379      32          31  \n",
       "1999                     338       338      42          31  \n",
       "2000                     350       350     148         107  \n",
       "2001                     482       482     339         257  \n",
       "2002                     829       829     655         464  \n",
       "2003                     775       775     613         516  \n",
       "2004                     762       762     598         489  \n",
       "2005                     939       939     706         583  \n",
       "2006                    1006      1006     678         552  \n",
       "2007                    1197      1197     821         629  \n",
       "2008                    1427      1427     981         661  \n",
       "2009                    1426      1426    1011         614  \n",
       "2010                    1255      1255     799         467  \n",
       "2011                    1136      1136     703         501  \n",
       "2012                     653       653     355         339  \n",
       "2013                     544       544     316         304  \n",
       "2014                     581       581     345         329  \n",
       "2015                     606       606     315         297  \n",
       "2016                     502       502     280         262  "
      ]
     },
     "execution_count": 8,
     "metadata": {},
     "output_type": "execute_result"
    }
   ],
   "source": [
    "df.pivot_table(index='year_of_release', aggfunc='count')"
   ]
  },
  {
   "cell_type": "markdown",
   "metadata": {},
   "source": [
    "я был прав, до 1999 года оценки и рейтинг присваивался очень редко, да и игр выходило не так много, годами позже замечаю что рейтин и оценки присваиваиваются не всем играм, пропуски скорее ошибка попытаюсь найти с чем они корелируют\n"
   ]
  },
  {
   "cell_type": "code",
   "execution_count": 9,
   "metadata": {},
   "outputs": [
    {
     "data": {
      "text/html": [
       "<div>\n",
       "<style scoped>\n",
       "    .dataframe tbody tr th:only-of-type {\n",
       "        vertical-align: middle;\n",
       "    }\n",
       "\n",
       "    .dataframe tbody tr th {\n",
       "        vertical-align: top;\n",
       "    }\n",
       "\n",
       "    .dataframe thead th {\n",
       "        text-align: right;\n",
       "    }\n",
       "</style>\n",
       "<table border=\"1\" class=\"dataframe\">\n",
       "  <thead>\n",
       "    <tr style=\"text-align: right;\">\n",
       "      <th></th>\n",
       "      <th>critic_score</th>\n",
       "      <th>eu_sales</th>\n",
       "      <th>genre</th>\n",
       "      <th>jp_sales</th>\n",
       "      <th>na_sales</th>\n",
       "      <th>name</th>\n",
       "      <th>other_sales</th>\n",
       "      <th>rating</th>\n",
       "      <th>user_score</th>\n",
       "      <th>year_of_release</th>\n",
       "    </tr>\n",
       "    <tr>\n",
       "      <th>platform</th>\n",
       "      <th></th>\n",
       "      <th></th>\n",
       "      <th></th>\n",
       "      <th></th>\n",
       "      <th></th>\n",
       "      <th></th>\n",
       "      <th></th>\n",
       "      <th></th>\n",
       "      <th></th>\n",
       "      <th></th>\n",
       "    </tr>\n",
       "  </thead>\n",
       "  <tbody>\n",
       "    <tr>\n",
       "      <td>2600</td>\n",
       "      <td>0</td>\n",
       "      <td>133</td>\n",
       "      <td>133</td>\n",
       "      <td>133</td>\n",
       "      <td>133</td>\n",
       "      <td>133</td>\n",
       "      <td>133</td>\n",
       "      <td>0</td>\n",
       "      <td>0</td>\n",
       "      <td>116</td>\n",
       "    </tr>\n",
       "    <tr>\n",
       "      <td>3DO</td>\n",
       "      <td>0</td>\n",
       "      <td>3</td>\n",
       "      <td>3</td>\n",
       "      <td>3</td>\n",
       "      <td>3</td>\n",
       "      <td>3</td>\n",
       "      <td>3</td>\n",
       "      <td>0</td>\n",
       "      <td>0</td>\n",
       "      <td>3</td>\n",
       "    </tr>\n",
       "    <tr>\n",
       "      <td>3DS</td>\n",
       "      <td>1</td>\n",
       "      <td>292</td>\n",
       "      <td>292</td>\n",
       "      <td>292</td>\n",
       "      <td>292</td>\n",
       "      <td>292</td>\n",
       "      <td>292</td>\n",
       "      <td>0</td>\n",
       "      <td>1</td>\n",
       "      <td>289</td>\n",
       "    </tr>\n",
       "    <tr>\n",
       "      <td>DC</td>\n",
       "      <td>0</td>\n",
       "      <td>38</td>\n",
       "      <td>38</td>\n",
       "      <td>38</td>\n",
       "      <td>38</td>\n",
       "      <td>38</td>\n",
       "      <td>38</td>\n",
       "      <td>0</td>\n",
       "      <td>0</td>\n",
       "      <td>38</td>\n",
       "    </tr>\n",
       "    <tr>\n",
       "      <td>DS</td>\n",
       "      <td>2</td>\n",
       "      <td>878</td>\n",
       "      <td>878</td>\n",
       "      <td>878</td>\n",
       "      <td>878</td>\n",
       "      <td>878</td>\n",
       "      <td>878</td>\n",
       "      <td>0</td>\n",
       "      <td>1</td>\n",
       "      <td>866</td>\n",
       "    </tr>\n",
       "    <tr>\n",
       "      <td>GB</td>\n",
       "      <td>0</td>\n",
       "      <td>98</td>\n",
       "      <td>98</td>\n",
       "      <td>98</td>\n",
       "      <td>98</td>\n",
       "      <td>98</td>\n",
       "      <td>98</td>\n",
       "      <td>0</td>\n",
       "      <td>0</td>\n",
       "      <td>97</td>\n",
       "    </tr>\n",
       "    <tr>\n",
       "      <td>GBA</td>\n",
       "      <td>0</td>\n",
       "      <td>300</td>\n",
       "      <td>300</td>\n",
       "      <td>300</td>\n",
       "      <td>300</td>\n",
       "      <td>300</td>\n",
       "      <td>300</td>\n",
       "      <td>0</td>\n",
       "      <td>0</td>\n",
       "      <td>297</td>\n",
       "    </tr>\n",
       "    <tr>\n",
       "      <td>GC</td>\n",
       "      <td>0</td>\n",
       "      <td>87</td>\n",
       "      <td>87</td>\n",
       "      <td>87</td>\n",
       "      <td>87</td>\n",
       "      <td>87</td>\n",
       "      <td>87</td>\n",
       "      <td>0</td>\n",
       "      <td>0</td>\n",
       "      <td>85</td>\n",
       "    </tr>\n",
       "    <tr>\n",
       "      <td>GEN</td>\n",
       "      <td>0</td>\n",
       "      <td>29</td>\n",
       "      <td>27</td>\n",
       "      <td>29</td>\n",
       "      <td>29</td>\n",
       "      <td>27</td>\n",
       "      <td>29</td>\n",
       "      <td>0</td>\n",
       "      <td>0</td>\n",
       "      <td>29</td>\n",
       "    </tr>\n",
       "    <tr>\n",
       "      <td>GG</td>\n",
       "      <td>0</td>\n",
       "      <td>1</td>\n",
       "      <td>1</td>\n",
       "      <td>1</td>\n",
       "      <td>1</td>\n",
       "      <td>1</td>\n",
       "      <td>1</td>\n",
       "      <td>0</td>\n",
       "      <td>0</td>\n",
       "      <td>1</td>\n",
       "    </tr>\n",
       "    <tr>\n",
       "      <td>N64</td>\n",
       "      <td>0</td>\n",
       "      <td>319</td>\n",
       "      <td>319</td>\n",
       "      <td>319</td>\n",
       "      <td>319</td>\n",
       "      <td>319</td>\n",
       "      <td>319</td>\n",
       "      <td>0</td>\n",
       "      <td>0</td>\n",
       "      <td>316</td>\n",
       "    </tr>\n",
       "    <tr>\n",
       "      <td>NES</td>\n",
       "      <td>0</td>\n",
       "      <td>98</td>\n",
       "      <td>98</td>\n",
       "      <td>98</td>\n",
       "      <td>98</td>\n",
       "      <td>98</td>\n",
       "      <td>98</td>\n",
       "      <td>0</td>\n",
       "      <td>0</td>\n",
       "      <td>98</td>\n",
       "    </tr>\n",
       "    <tr>\n",
       "      <td>NG</td>\n",
       "      <td>0</td>\n",
       "      <td>12</td>\n",
       "      <td>12</td>\n",
       "      <td>12</td>\n",
       "      <td>12</td>\n",
       "      <td>12</td>\n",
       "      <td>12</td>\n",
       "      <td>0</td>\n",
       "      <td>0</td>\n",
       "      <td>12</td>\n",
       "    </tr>\n",
       "    <tr>\n",
       "      <td>PC</td>\n",
       "      <td>38</td>\n",
       "      <td>200</td>\n",
       "      <td>200</td>\n",
       "      <td>200</td>\n",
       "      <td>200</td>\n",
       "      <td>200</td>\n",
       "      <td>200</td>\n",
       "      <td>0</td>\n",
       "      <td>42</td>\n",
       "      <td>200</td>\n",
       "    </tr>\n",
       "    <tr>\n",
       "      <td>PCFX</td>\n",
       "      <td>0</td>\n",
       "      <td>1</td>\n",
       "      <td>1</td>\n",
       "      <td>1</td>\n",
       "      <td>1</td>\n",
       "      <td>1</td>\n",
       "      <td>1</td>\n",
       "      <td>0</td>\n",
       "      <td>0</td>\n",
       "      <td>1</td>\n",
       "    </tr>\n",
       "    <tr>\n",
       "      <td>PS</td>\n",
       "      <td>4</td>\n",
       "      <td>989</td>\n",
       "      <td>989</td>\n",
       "      <td>989</td>\n",
       "      <td>989</td>\n",
       "      <td>989</td>\n",
       "      <td>989</td>\n",
       "      <td>0</td>\n",
       "      <td>4</td>\n",
       "      <td>986</td>\n",
       "    </tr>\n",
       "    <tr>\n",
       "      <td>PS2</td>\n",
       "      <td>0</td>\n",
       "      <td>680</td>\n",
       "      <td>680</td>\n",
       "      <td>680</td>\n",
       "      <td>680</td>\n",
       "      <td>680</td>\n",
       "      <td>680</td>\n",
       "      <td>0</td>\n",
       "      <td>0</td>\n",
       "      <td>671</td>\n",
       "    </tr>\n",
       "    <tr>\n",
       "      <td>PS3</td>\n",
       "      <td>7</td>\n",
       "      <td>379</td>\n",
       "      <td>379</td>\n",
       "      <td>379</td>\n",
       "      <td>379</td>\n",
       "      <td>379</td>\n",
       "      <td>379</td>\n",
       "      <td>0</td>\n",
       "      <td>11</td>\n",
       "      <td>371</td>\n",
       "    </tr>\n",
       "    <tr>\n",
       "      <td>PS4</td>\n",
       "      <td>11</td>\n",
       "      <td>137</td>\n",
       "      <td>137</td>\n",
       "      <td>137</td>\n",
       "      <td>137</td>\n",
       "      <td>137</td>\n",
       "      <td>137</td>\n",
       "      <td>0</td>\n",
       "      <td>11</td>\n",
       "      <td>137</td>\n",
       "    </tr>\n",
       "    <tr>\n",
       "      <td>PSP</td>\n",
       "      <td>1</td>\n",
       "      <td>665</td>\n",
       "      <td>665</td>\n",
       "      <td>665</td>\n",
       "      <td>665</td>\n",
       "      <td>665</td>\n",
       "      <td>665</td>\n",
       "      <td>0</td>\n",
       "      <td>0</td>\n",
       "      <td>657</td>\n",
       "    </tr>\n",
       "    <tr>\n",
       "      <td>PSV</td>\n",
       "      <td>0</td>\n",
       "      <td>279</td>\n",
       "      <td>279</td>\n",
       "      <td>279</td>\n",
       "      <td>279</td>\n",
       "      <td>279</td>\n",
       "      <td>279</td>\n",
       "      <td>0</td>\n",
       "      <td>0</td>\n",
       "      <td>279</td>\n",
       "    </tr>\n",
       "    <tr>\n",
       "      <td>SAT</td>\n",
       "      <td>0</td>\n",
       "      <td>173</td>\n",
       "      <td>173</td>\n",
       "      <td>173</td>\n",
       "      <td>173</td>\n",
       "      <td>173</td>\n",
       "      <td>173</td>\n",
       "      <td>0</td>\n",
       "      <td>0</td>\n",
       "      <td>173</td>\n",
       "    </tr>\n",
       "    <tr>\n",
       "      <td>SCD</td>\n",
       "      <td>0</td>\n",
       "      <td>6</td>\n",
       "      <td>6</td>\n",
       "      <td>6</td>\n",
       "      <td>6</td>\n",
       "      <td>6</td>\n",
       "      <td>6</td>\n",
       "      <td>0</td>\n",
       "      <td>0</td>\n",
       "      <td>6</td>\n",
       "    </tr>\n",
       "    <tr>\n",
       "      <td>SNES</td>\n",
       "      <td>0</td>\n",
       "      <td>239</td>\n",
       "      <td>239</td>\n",
       "      <td>239</td>\n",
       "      <td>239</td>\n",
       "      <td>239</td>\n",
       "      <td>239</td>\n",
       "      <td>0</td>\n",
       "      <td>0</td>\n",
       "      <td>239</td>\n",
       "    </tr>\n",
       "    <tr>\n",
       "      <td>TG16</td>\n",
       "      <td>0</td>\n",
       "      <td>2</td>\n",
       "      <td>2</td>\n",
       "      <td>2</td>\n",
       "      <td>2</td>\n",
       "      <td>2</td>\n",
       "      <td>2</td>\n",
       "      <td>0</td>\n",
       "      <td>0</td>\n",
       "      <td>2</td>\n",
       "    </tr>\n",
       "    <tr>\n",
       "      <td>WS</td>\n",
       "      <td>0</td>\n",
       "      <td>6</td>\n",
       "      <td>6</td>\n",
       "      <td>6</td>\n",
       "      <td>6</td>\n",
       "      <td>6</td>\n",
       "      <td>6</td>\n",
       "      <td>0</td>\n",
       "      <td>0</td>\n",
       "      <td>6</td>\n",
       "    </tr>\n",
       "    <tr>\n",
       "      <td>Wii</td>\n",
       "      <td>3</td>\n",
       "      <td>318</td>\n",
       "      <td>318</td>\n",
       "      <td>318</td>\n",
       "      <td>318</td>\n",
       "      <td>318</td>\n",
       "      <td>318</td>\n",
       "      <td>0</td>\n",
       "      <td>1</td>\n",
       "      <td>309</td>\n",
       "    </tr>\n",
       "    <tr>\n",
       "      <td>WiiU</td>\n",
       "      <td>0</td>\n",
       "      <td>42</td>\n",
       "      <td>42</td>\n",
       "      <td>42</td>\n",
       "      <td>42</td>\n",
       "      <td>42</td>\n",
       "      <td>42</td>\n",
       "      <td>0</td>\n",
       "      <td>0</td>\n",
       "      <td>42</td>\n",
       "    </tr>\n",
       "    <tr>\n",
       "      <td>X360</td>\n",
       "      <td>4</td>\n",
       "      <td>210</td>\n",
       "      <td>210</td>\n",
       "      <td>210</td>\n",
       "      <td>210</td>\n",
       "      <td>210</td>\n",
       "      <td>210</td>\n",
       "      <td>0</td>\n",
       "      <td>8</td>\n",
       "      <td>202</td>\n",
       "    </tr>\n",
       "    <tr>\n",
       "      <td>XB</td>\n",
       "      <td>4</td>\n",
       "      <td>91</td>\n",
       "      <td>91</td>\n",
       "      <td>91</td>\n",
       "      <td>91</td>\n",
       "      <td>91</td>\n",
       "      <td>91</td>\n",
       "      <td>0</td>\n",
       "      <td>1</td>\n",
       "      <td>89</td>\n",
       "    </tr>\n",
       "    <tr>\n",
       "      <td>XOne</td>\n",
       "      <td>8</td>\n",
       "      <td>61</td>\n",
       "      <td>61</td>\n",
       "      <td>61</td>\n",
       "      <td>61</td>\n",
       "      <td>61</td>\n",
       "      <td>61</td>\n",
       "      <td>0</td>\n",
       "      <td>6</td>\n",
       "      <td>61</td>\n",
       "    </tr>\n",
       "  </tbody>\n",
       "</table>\n",
       "</div>"
      ],
      "text/plain": [
       "          critic_score  eu_sales  genre  jp_sales  na_sales  name  \\\n",
       "platform                                                            \n",
       "2600                 0       133    133       133       133   133   \n",
       "3DO                  0         3      3         3         3     3   \n",
       "3DS                  1       292    292       292       292   292   \n",
       "DC                   0        38     38        38        38    38   \n",
       "DS                   2       878    878       878       878   878   \n",
       "GB                   0        98     98        98        98    98   \n",
       "GBA                  0       300    300       300       300   300   \n",
       "GC                   0        87     87        87        87    87   \n",
       "GEN                  0        29     27        29        29    27   \n",
       "GG                   0         1      1         1         1     1   \n",
       "N64                  0       319    319       319       319   319   \n",
       "NES                  0        98     98        98        98    98   \n",
       "NG                   0        12     12        12        12    12   \n",
       "PC                  38       200    200       200       200   200   \n",
       "PCFX                 0         1      1         1         1     1   \n",
       "PS                   4       989    989       989       989   989   \n",
       "PS2                  0       680    680       680       680   680   \n",
       "PS3                  7       379    379       379       379   379   \n",
       "PS4                 11       137    137       137       137   137   \n",
       "PSP                  1       665    665       665       665   665   \n",
       "PSV                  0       279    279       279       279   279   \n",
       "SAT                  0       173    173       173       173   173   \n",
       "SCD                  0         6      6         6         6     6   \n",
       "SNES                 0       239    239       239       239   239   \n",
       "TG16                 0         2      2         2         2     2   \n",
       "WS                   0         6      6         6         6     6   \n",
       "Wii                  3       318    318       318       318   318   \n",
       "WiiU                 0        42     42        42        42    42   \n",
       "X360                 4       210    210       210       210   210   \n",
       "XB                   4        91     91        91        91    91   \n",
       "XOne                 8        61     61        61        61    61   \n",
       "\n",
       "          other_sales  rating  user_score  year_of_release  \n",
       "platform                                                    \n",
       "2600              133       0           0              116  \n",
       "3DO                 3       0           0                3  \n",
       "3DS               292       0           1              289  \n",
       "DC                 38       0           0               38  \n",
       "DS                878       0           1              866  \n",
       "GB                 98       0           0               97  \n",
       "GBA               300       0           0              297  \n",
       "GC                 87       0           0               85  \n",
       "GEN                29       0           0               29  \n",
       "GG                  1       0           0                1  \n",
       "N64               319       0           0              316  \n",
       "NES                98       0           0               98  \n",
       "NG                 12       0           0               12  \n",
       "PC                200       0          42              200  \n",
       "PCFX                1       0           0                1  \n",
       "PS                989       0           4              986  \n",
       "PS2               680       0           0              671  \n",
       "PS3               379       0          11              371  \n",
       "PS4               137       0          11              137  \n",
       "PSP               665       0           0              657  \n",
       "PSV               279       0           0              279  \n",
       "SAT               173       0           0              173  \n",
       "SCD                 6       0           0                6  \n",
       "SNES              239       0           0              239  \n",
       "TG16                2       0           0                2  \n",
       "WS                  6       0           0                6  \n",
       "Wii               318       0           1              309  \n",
       "WiiU               42       0           0               42  \n",
       "X360              210       0           8              202  \n",
       "XB                 91       0           1               89  \n",
       "XOne               61       0           6               61  "
      ]
     },
     "execution_count": 9,
     "metadata": {},
     "output_type": "execute_result"
    }
   ],
   "source": [
    "raiting_null=df[df['rating'].isnull()]\n",
    "\n",
    "raiting_null.pivot_table(index='platform', aggfunc='count')"
   ]
  },
  {
   "cell_type": "markdown",
   "metadata": {},
   "source": [
    "не обнаруживаю корреляцию отсуствия рейтинга и оценок с типом платформы или жанра игры, но вижу что они пропуски коррелируют между друг другом, в больше нсве случаем трисуствует сразу три пустых значения в строке, в стобцах рейтинга и оценок.\n",
    "\n",
    "не буду заполнять пропуски  так как не вижу корреляции и удалять не буду, так как при удалении потеряю почти половину значений.\n",
    " \n",
    "разберусь с другими пропусками, замечаю что есть по 2 пропущенных в стобцах 'name' и 'genre', гляну на них "
   ]
  },
  {
   "cell_type": "code",
   "execution_count": 10,
   "metadata": {},
   "outputs": [
    {
     "data": {
      "text/html": [
       "<div>\n",
       "<style scoped>\n",
       "    .dataframe tbody tr th:only-of-type {\n",
       "        vertical-align: middle;\n",
       "    }\n",
       "\n",
       "    .dataframe tbody tr th {\n",
       "        vertical-align: top;\n",
       "    }\n",
       "\n",
       "    .dataframe thead th {\n",
       "        text-align: right;\n",
       "    }\n",
       "</style>\n",
       "<table border=\"1\" class=\"dataframe\">\n",
       "  <thead>\n",
       "    <tr style=\"text-align: right;\">\n",
       "      <th></th>\n",
       "      <th>name</th>\n",
       "      <th>platform</th>\n",
       "      <th>year_of_release</th>\n",
       "      <th>genre</th>\n",
       "      <th>na_sales</th>\n",
       "      <th>eu_sales</th>\n",
       "      <th>jp_sales</th>\n",
       "      <th>other_sales</th>\n",
       "      <th>critic_score</th>\n",
       "      <th>user_score</th>\n",
       "      <th>rating</th>\n",
       "    </tr>\n",
       "  </thead>\n",
       "  <tbody>\n",
       "    <tr>\n",
       "      <td>659</td>\n",
       "      <td>NaN</td>\n",
       "      <td>GEN</td>\n",
       "      <td>1993</td>\n",
       "      <td>NaN</td>\n",
       "      <td>1.78</td>\n",
       "      <td>0.53</td>\n",
       "      <td>0.00</td>\n",
       "      <td>0.08</td>\n",
       "      <td>NaN</td>\n",
       "      <td>NaN</td>\n",
       "      <td>NaN</td>\n",
       "    </tr>\n",
       "    <tr>\n",
       "      <td>14244</td>\n",
       "      <td>NaN</td>\n",
       "      <td>GEN</td>\n",
       "      <td>1993</td>\n",
       "      <td>NaN</td>\n",
       "      <td>0.00</td>\n",
       "      <td>0.00</td>\n",
       "      <td>0.03</td>\n",
       "      <td>0.00</td>\n",
       "      <td>NaN</td>\n",
       "      <td>NaN</td>\n",
       "      <td>NaN</td>\n",
       "    </tr>\n",
       "  </tbody>\n",
       "</table>\n",
       "</div>"
      ],
      "text/plain": [
       "      name platform  year_of_release genre  na_sales  eu_sales  jp_sales  \\\n",
       "659    NaN      GEN             1993   NaN      1.78      0.53      0.00   \n",
       "14244  NaN      GEN             1993   NaN      0.00      0.00      0.03   \n",
       "\n",
       "       other_sales  critic_score  user_score rating  \n",
       "659           0.08           NaN         NaN    NaN  \n",
       "14244         0.00           NaN         NaN    NaN  "
      ]
     },
     "metadata": {},
     "output_type": "display_data"
    }
   ],
   "source": [
    "display(df[df['name'].isnull()])"
   ]
  },
  {
   "cell_type": "markdown",
   "metadata": {},
   "source": [
    "два значения с непонятным жанром и названием, удалю данные строки из нашей таблицы"
   ]
  },
  {
   "cell_type": "code",
   "execution_count": 11,
   "metadata": {},
   "outputs": [
    {
     "data": {
      "text/html": [
       "<div>\n",
       "<style scoped>\n",
       "    .dataframe tbody tr th:only-of-type {\n",
       "        vertical-align: middle;\n",
       "    }\n",
       "\n",
       "    .dataframe tbody tr th {\n",
       "        vertical-align: top;\n",
       "    }\n",
       "\n",
       "    .dataframe thead th {\n",
       "        text-align: right;\n",
       "    }\n",
       "</style>\n",
       "<table border=\"1\" class=\"dataframe\">\n",
       "  <thead>\n",
       "    <tr style=\"text-align: right;\">\n",
       "      <th></th>\n",
       "      <th>name</th>\n",
       "      <th>platform</th>\n",
       "      <th>year_of_release</th>\n",
       "      <th>genre</th>\n",
       "      <th>na_sales</th>\n",
       "      <th>eu_sales</th>\n",
       "      <th>jp_sales</th>\n",
       "      <th>other_sales</th>\n",
       "      <th>critic_score</th>\n",
       "      <th>user_score</th>\n",
       "      <th>rating</th>\n",
       "    </tr>\n",
       "  </thead>\n",
       "  <tbody>\n",
       "  </tbody>\n",
       "</table>\n",
       "</div>"
      ],
      "text/plain": [
       "Empty DataFrame\n",
       "Columns: [name, platform, year_of_release, genre, na_sales, eu_sales, jp_sales, other_sales, critic_score, user_score, rating]\n",
       "Index: []"
      ]
     },
     "metadata": {},
     "output_type": "display_data"
    }
   ],
   "source": [
    "df = df.drop([659,14244])\n",
    "display(df[df['name'].isnull()])"
   ]
  },
  {
   "cell_type": "markdown",
   "metadata": {},
   "source": [
    "теперь гляну на строкив столбцах 'platform' и 'genre', что бы убедится что нет дубликатов с разным регистром или еще что нибудь"
   ]
  },
  {
   "cell_type": "code",
   "execution_count": 12,
   "metadata": {},
   "outputs": [
    {
     "data": {
      "text/plain": [
       "PS2     2161\n",
       "DS      2151\n",
       "PS3     1331\n",
       "Wii     1320\n",
       "X360    1262\n",
       "PSP     1209\n",
       "PS      1197\n",
       "PC       974\n",
       "XB       824\n",
       "GBA      822\n",
       "GC       556\n",
       "3DS      520\n",
       "PSV      430\n",
       "PS4      392\n",
       "N64      319\n",
       "XOne     247\n",
       "SNES     239\n",
       "SAT      173\n",
       "WiiU     147\n",
       "2600     133\n",
       "NES       98\n",
       "GB        98\n",
       "DC        52\n",
       "GEN       27\n",
       "NG        12\n",
       "WS         6\n",
       "SCD        6\n",
       "3DO        3\n",
       "TG16       2\n",
       "PCFX       1\n",
       "GG         1\n",
       "Name: platform, dtype: int64"
      ]
     },
     "execution_count": 12,
     "metadata": {},
     "output_type": "execute_result"
    }
   ],
   "source": [
    "df['platform'].value_counts()"
   ]
  },
  {
   "cell_type": "code",
   "execution_count": 13,
   "metadata": {},
   "outputs": [
    {
     "data": {
      "text/plain": [
       "Action          3369\n",
       "Sports          2348\n",
       "Misc            1750\n",
       "Role-Playing    1498\n",
       "Shooter         1323\n",
       "Adventure       1303\n",
       "Racing          1249\n",
       "Platform         888\n",
       "Simulation       873\n",
       "Fighting         849\n",
       "Strategy         683\n",
       "Puzzle           580\n",
       "Name: genre, dtype: int64"
      ]
     },
     "execution_count": 13,
     "metadata": {},
     "output_type": "execute_result"
    }
   ],
   "source": [
    "df['genre'].value_counts()"
   ]
  },
  {
   "cell_type": "markdown",
   "metadata": {},
   "source": [
    "Вроде все хорошо, теперь создам отдельный столбец с общими продажами"
   ]
  },
  {
   "cell_type": "code",
   "execution_count": 14,
   "metadata": {},
   "outputs": [
    {
     "data": {
      "text/html": [
       "<div>\n",
       "<style scoped>\n",
       "    .dataframe tbody tr th:only-of-type {\n",
       "        vertical-align: middle;\n",
       "    }\n",
       "\n",
       "    .dataframe tbody tr th {\n",
       "        vertical-align: top;\n",
       "    }\n",
       "\n",
       "    .dataframe thead th {\n",
       "        text-align: right;\n",
       "    }\n",
       "</style>\n",
       "<table border=\"1\" class=\"dataframe\">\n",
       "  <thead>\n",
       "    <tr style=\"text-align: right;\">\n",
       "      <th></th>\n",
       "      <th>name</th>\n",
       "      <th>platform</th>\n",
       "      <th>year_of_release</th>\n",
       "      <th>genre</th>\n",
       "      <th>na_sales</th>\n",
       "      <th>eu_sales</th>\n",
       "      <th>jp_sales</th>\n",
       "      <th>other_sales</th>\n",
       "      <th>critic_score</th>\n",
       "      <th>user_score</th>\n",
       "      <th>rating</th>\n",
       "      <th>total_sales</th>\n",
       "    </tr>\n",
       "  </thead>\n",
       "  <tbody>\n",
       "    <tr>\n",
       "      <td>0</td>\n",
       "      <td>Wii Sports</td>\n",
       "      <td>Wii</td>\n",
       "      <td>2006</td>\n",
       "      <td>Sports</td>\n",
       "      <td>41.36</td>\n",
       "      <td>28.96</td>\n",
       "      <td>3.77</td>\n",
       "      <td>8.45</td>\n",
       "      <td>76.0</td>\n",
       "      <td>8.0</td>\n",
       "      <td>E</td>\n",
       "      <td>82.54</td>\n",
       "    </tr>\n",
       "    <tr>\n",
       "      <td>1</td>\n",
       "      <td>Super Mario Bros.</td>\n",
       "      <td>NES</td>\n",
       "      <td>1985</td>\n",
       "      <td>Platform</td>\n",
       "      <td>29.08</td>\n",
       "      <td>3.58</td>\n",
       "      <td>6.81</td>\n",
       "      <td>0.77</td>\n",
       "      <td>NaN</td>\n",
       "      <td>NaN</td>\n",
       "      <td>NaN</td>\n",
       "      <td>40.24</td>\n",
       "    </tr>\n",
       "    <tr>\n",
       "      <td>2</td>\n",
       "      <td>Mario Kart Wii</td>\n",
       "      <td>Wii</td>\n",
       "      <td>2008</td>\n",
       "      <td>Racing</td>\n",
       "      <td>15.68</td>\n",
       "      <td>12.76</td>\n",
       "      <td>3.79</td>\n",
       "      <td>3.29</td>\n",
       "      <td>82.0</td>\n",
       "      <td>8.3</td>\n",
       "      <td>E</td>\n",
       "      <td>35.52</td>\n",
       "    </tr>\n",
       "    <tr>\n",
       "      <td>3</td>\n",
       "      <td>Wii Sports Resort</td>\n",
       "      <td>Wii</td>\n",
       "      <td>2009</td>\n",
       "      <td>Sports</td>\n",
       "      <td>15.61</td>\n",
       "      <td>10.93</td>\n",
       "      <td>3.28</td>\n",
       "      <td>2.95</td>\n",
       "      <td>80.0</td>\n",
       "      <td>8.0</td>\n",
       "      <td>E</td>\n",
       "      <td>32.77</td>\n",
       "    </tr>\n",
       "    <tr>\n",
       "      <td>4</td>\n",
       "      <td>Pokemon Red/Pokemon Blue</td>\n",
       "      <td>GB</td>\n",
       "      <td>1996</td>\n",
       "      <td>Role-Playing</td>\n",
       "      <td>11.27</td>\n",
       "      <td>8.89</td>\n",
       "      <td>10.22</td>\n",
       "      <td>1.00</td>\n",
       "      <td>NaN</td>\n",
       "      <td>NaN</td>\n",
       "      <td>NaN</td>\n",
       "      <td>31.38</td>\n",
       "    </tr>\n",
       "  </tbody>\n",
       "</table>\n",
       "</div>"
      ],
      "text/plain": [
       "                       name platform  year_of_release         genre  na_sales  \\\n",
       "0                Wii Sports      Wii             2006        Sports     41.36   \n",
       "1         Super Mario Bros.      NES             1985      Platform     29.08   \n",
       "2            Mario Kart Wii      Wii             2008        Racing     15.68   \n",
       "3         Wii Sports Resort      Wii             2009        Sports     15.61   \n",
       "4  Pokemon Red/Pokemon Blue       GB             1996  Role-Playing     11.27   \n",
       "\n",
       "   eu_sales  jp_sales  other_sales  critic_score  user_score rating  \\\n",
       "0     28.96      3.77         8.45          76.0         8.0      E   \n",
       "1      3.58      6.81         0.77           NaN         NaN    NaN   \n",
       "2     12.76      3.79         3.29          82.0         8.3      E   \n",
       "3     10.93      3.28         2.95          80.0         8.0      E   \n",
       "4      8.89     10.22         1.00           NaN         NaN    NaN   \n",
       "\n",
       "   total_sales  \n",
       "0        82.54  \n",
       "1        40.24  \n",
       "2        35.52  \n",
       "3        32.77  \n",
       "4        31.38  "
      ]
     },
     "execution_count": 14,
     "metadata": {},
     "output_type": "execute_result"
    }
   ],
   "source": [
    "df['total_sales'] = df[['na_sales','eu_sales','jp_sales','other_sales']].sum(axis=1)\n",
    "df.head()"
   ]
  },
  {
   "cell_type": "markdown",
   "metadata": {},
   "source": [
    "# Шаг 3. Исследовательский анализ данных"
   ]
  },
  {
   "cell_type": "markdown",
   "metadata": {},
   "source": [
    "Начну анализ с того что гляну через гистограмму на количество игр выпущенной за год"
   ]
  },
  {
   "cell_type": "code",
   "execution_count": 15,
   "metadata": {},
   "outputs": [
    {
     "data": {
      "text/plain": [
       "Text(0, 0.5, 'кол-во игр')"
      ]
     },
     "execution_count": 15,
     "metadata": {},
     "output_type": "execute_result"
    },
    {
     "data": {
      "image/png": "[encoded data removed]",
      "text/plain": [
       "<Figure size 720x576 with 1 Axes>"
      ]
     },
     "metadata": {},
     "output_type": "display_data"
    }
   ],
   "source": [
    "plt.style.use('ggplot') \n",
    "\n",
    "df['year_of_release'].plot.hist(alpha=0.5, legend=True, bins=35, figsize=(10,8))\n",
    "\n",
    "\n",
    "plt.title('Кол-во вышедших игр в год')\n",
    "plt.xlabel('год')\n",
    "plt.ylabel('кол-во игр')"
   ]
  },
  {
   "cell_type": "markdown",
   "metadata": {},
   "source": [
    "вижу что игры с 1980 по 1995 представленны в меньшем количестве чем другие года, да и приставки выпущенные в те года уже не актуальны на сегодняшний день, по этому данные за этот период кажутся не важными, поэтому удалю период до 2000 г и выберу наиболее комерчески успешные платформы"
   ]
  },
  {
   "cell_type": "code",
   "execution_count": 16,
   "metadata": {},
   "outputs": [
    {
     "data": {
      "text/html": [
       "<div>\n",
       "<style scoped>\n",
       "    .dataframe tbody tr th:only-of-type {\n",
       "        vertical-align: middle;\n",
       "    }\n",
       "\n",
       "    .dataframe tbody tr th {\n",
       "        vertical-align: top;\n",
       "    }\n",
       "\n",
       "    .dataframe thead th {\n",
       "        text-align: right;\n",
       "    }\n",
       "</style>\n",
       "<table border=\"1\" class=\"dataframe\">\n",
       "  <thead>\n",
       "    <tr style=\"text-align: right;\">\n",
       "      <th></th>\n",
       "      <th>total_sales</th>\n",
       "    </tr>\n",
       "    <tr>\n",
       "      <th>platform</th>\n",
       "      <th></th>\n",
       "    </tr>\n",
       "  </thead>\n",
       "  <tbody>\n",
       "    <tr>\n",
       "      <td>PS2</td>\n",
       "      <td>1233.56</td>\n",
       "    </tr>\n",
       "    <tr>\n",
       "      <td>X360</td>\n",
       "      <td>961.24</td>\n",
       "    </tr>\n",
       "    <tr>\n",
       "      <td>PS3</td>\n",
       "      <td>931.34</td>\n",
       "    </tr>\n",
       "    <tr>\n",
       "      <td>Wii</td>\n",
       "      <td>891.18</td>\n",
       "    </tr>\n",
       "    <tr>\n",
       "      <td>DS</td>\n",
       "      <td>802.76</td>\n",
       "    </tr>\n",
       "    <tr>\n",
       "      <td>PS4</td>\n",
       "      <td>314.14</td>\n",
       "    </tr>\n",
       "    <tr>\n",
       "      <td>GBA</td>\n",
       "      <td>312.88</td>\n",
       "    </tr>\n",
       "    <tr>\n",
       "      <td>PSP</td>\n",
       "      <td>289.53</td>\n",
       "    </tr>\n",
       "    <tr>\n",
       "      <td>3DS</td>\n",
       "      <td>257.81</td>\n",
       "    </tr>\n",
       "    <tr>\n",
       "      <td>XB</td>\n",
       "      <td>251.57</td>\n",
       "    </tr>\n",
       "  </tbody>\n",
       "</table>\n",
       "</div>"
      ],
      "text/plain": [
       "          total_sales\n",
       "platform             \n",
       "PS2           1233.56\n",
       "X360           961.24\n",
       "PS3            931.34\n",
       "Wii            891.18\n",
       "DS             802.76\n",
       "PS4            314.14\n",
       "GBA            312.88\n",
       "PSP            289.53\n",
       "3DS            257.81\n",
       "XB             251.57"
      ]
     },
     "execution_count": 16,
     "metadata": {},
     "output_type": "execute_result"
    }
   ],
   "source": [
    "top_platform = df.query('year_of_release >= 2000').pivot_table(\n",
    "    index = 'platform', \n",
    "    values = 'total_sales', \n",
    "    aggfunc = 'sum').sort_values('total_sales', ascending = False).head(10)\n",
    "top_platform"
   ]
  },
  {
   "cell_type": "markdown",
   "metadata": {},
   "source": [
    "посмотрю по ним распределение по годам, и увижу жиненый цикл консолей"
   ]
  },
  {
   "cell_type": "code",
   "execution_count": 17,
   "metadata": {},
   "outputs": [
    {
     "data": {
      "image/png": "[encoded data removed]",
      "text/plain": [
       "<Figure size 1080x432 with 1 Axes>"
      ]
     },
     "metadata": {},
     "output_type": "display_data"
    }
   ],
   "source": [
    "location = top_platform.index\n",
    "\n",
    "fig, ax = plt.subplots()\n",
    "for plat in location :\n",
    "    games_sales_plot = df.query('platform == @plat')\n",
    "    games_sales_plot = games_sales_plot.groupby('year_of_release').agg(total_sales=('total_sales','sum'))\n",
    "    games_sales_plot.plot(y='total_sales', style='o-', ylim=(0, 230), xlim=(2000, 2017), grid=True, figsize=(15, 6), ax=ax)\n",
    "plt.xlabel('Года')\n",
    "plt.ylabel('Кол-во новых игр')\n",
    "plt.title('Кол-во выпуска новых игр по годам')\n",
    "plt.legend(top_platform.index)\n",
    "plt.show()"
   ]
  },
  {
   "cell_type": "markdown",
   "metadata": {},
   "source": [
    "Вижу что средний показатель жизни консоли это примерно 9 лет, в середине жизненого цикла консоли достигают пиков продаж игр, исходя из этого логично будет взять именно половину среднего срока жизни консолей, для того что бы наилучшим оброзом проанализировать продажи и спрогназировать продажи на 2017 год, возьму данные с 2013 года.\n",
    "\n",
    "Выведу наиболее успешные платформы за этот период, и посмотрю рост и падения продаж игр по ним"
   ]
  },
  {
   "cell_type": "code",
   "execution_count": 18,
   "metadata": {},
   "outputs": [
    {
     "data": {
      "text/html": [
       "<div>\n",
       "<style scoped>\n",
       "    .dataframe tbody tr th:only-of-type {\n",
       "        vertical-align: middle;\n",
       "    }\n",
       "\n",
       "    .dataframe tbody tr th {\n",
       "        vertical-align: top;\n",
       "    }\n",
       "\n",
       "    .dataframe thead th {\n",
       "        text-align: right;\n",
       "    }\n",
       "</style>\n",
       "<table border=\"1\" class=\"dataframe\">\n",
       "  <thead>\n",
       "    <tr style=\"text-align: right;\">\n",
       "      <th></th>\n",
       "      <th>total_sales</th>\n",
       "    </tr>\n",
       "    <tr>\n",
       "      <th>platform</th>\n",
       "      <th></th>\n",
       "    </tr>\n",
       "  </thead>\n",
       "  <tbody>\n",
       "    <tr>\n",
       "      <td>PS4</td>\n",
       "      <td>314.14</td>\n",
       "    </tr>\n",
       "    <tr>\n",
       "      <td>PS3</td>\n",
       "      <td>181.43</td>\n",
       "    </tr>\n",
       "    <tr>\n",
       "      <td>XOne</td>\n",
       "      <td>159.32</td>\n",
       "    </tr>\n",
       "    <tr>\n",
       "      <td>3DS</td>\n",
       "      <td>143.25</td>\n",
       "    </tr>\n",
       "    <tr>\n",
       "      <td>X360</td>\n",
       "      <td>136.80</td>\n",
       "    </tr>\n",
       "    <tr>\n",
       "      <td>WiiU</td>\n",
       "      <td>64.63</td>\n",
       "    </tr>\n",
       "    <tr>\n",
       "      <td>PC</td>\n",
       "      <td>39.43</td>\n",
       "    </tr>\n",
       "    <tr>\n",
       "      <td>PSV</td>\n",
       "      <td>32.99</td>\n",
       "    </tr>\n",
       "    <tr>\n",
       "      <td>Wii</td>\n",
       "      <td>13.66</td>\n",
       "    </tr>\n",
       "    <tr>\n",
       "      <td>PSP</td>\n",
       "      <td>3.50</td>\n",
       "    </tr>\n",
       "    <tr>\n",
       "      <td>DS</td>\n",
       "      <td>1.54</td>\n",
       "    </tr>\n",
       "  </tbody>\n",
       "</table>\n",
       "</div>"
      ],
      "text/plain": [
       "          total_sales\n",
       "platform             \n",
       "PS4            314.14\n",
       "PS3            181.43\n",
       "XOne           159.32\n",
       "3DS            143.25\n",
       "X360           136.80\n",
       "WiiU            64.63\n",
       "PC              39.43\n",
       "PSV             32.99\n",
       "Wii             13.66\n",
       "PSP              3.50\n",
       "DS               1.54"
      ]
     },
     "execution_count": 18,
     "metadata": {},
     "output_type": "execute_result"
    }
   ],
   "source": [
    "df_main = df.query('year_of_release >= 2013 & platform')\n",
    "df_main_platform = df_main.pivot_table(\n",
    "    index = 'platform', \n",
    "    values = 'total_sales', \n",
    "    aggfunc = 'sum').sort_values('total_sales', ascending = False)\n",
    "top_platform\n",
    "df_main_platform"
   ]
  },
  {
   "cell_type": "markdown",
   "metadata": {},
   "source": [
    "Теперь гляну как распределяются продажи игр на данные консоли на графике"
   ]
  },
  {
   "cell_type": "code",
   "execution_count": 19,
   "metadata": {},
   "outputs": [
    {
     "data": {
      "image/png": "[encoded data removed]",
      "text/plain": [
       "<Figure size 720x504 with 1 Axes>"
      ]
     },
     "metadata": {},
     "output_type": "display_data"
    }
   ],
   "source": [
    "location = df_main_platform.index\n",
    "\n",
    "fig, ax = plt.subplots()\n",
    "for plat in location:\n",
    "    games_sales_plot = df.query('platform == @plat')\n",
    "    games_sales_plot = games_sales_plot.groupby('year_of_release').agg(total_sales=('total_sales','sum'))\n",
    "    games_sales_plot.plot(y='total_sales', style='o-', ylim=(0, 150), xlim=(2012, 2017), grid=True, figsize=(10, 7), ax=ax)\n",
    "plt.xlabel('Года')\n",
    "plt.ylabel('Кол-во новых игр')\n",
    "plt.title('Кол-во выпуска новых игр по годам')\n",
    "plt.legend(df_main_platform.index)\n",
    "plt.show()"
   ]
  },
  {
   "cell_type": "markdown",
   "metadata": {},
   "source": [
    "На основании выводов сделанных ранее, и ссылаясь на полученый график, можно прийти к выводу что наиболее перспективными по прадажам игр в 2017 году будут являться консоли XOne и PS4, остальные консоли как видно заканчивают свой жизненый цикл\n",
    "\n",
    "Построю график «ящик с усами» по глобальным продажам игр в разбивке по платформам"
   ]
  },
  {
   "cell_type": "code",
   "execution_count": 20,
   "metadata": {},
   "outputs": [],
   "source": [
    "df_main = df_main.query('platform != (\"PSP\",\"Wii\",\"DS\")')#удалил консоли уоторые в нашем периоде минимальные продажи"
   ]
  },
  {
   "cell_type": "code",
   "execution_count": 21,
   "metadata": {},
   "outputs": [
    {
     "name": "stderr",
     "output_type": "stream",
     "text": [
      "/opt/conda/lib/python3.7/site-packages/numpy/core/_asarray.py:83: VisibleDeprecationWarning: Creating an ndarray from ragged nested sequences (which is a list-or-tuple of lists-or-tuples-or ndarrays with different lengths or shapes) is deprecated. If you meant to do this, you must specify 'dtype=object' when creating the ndarray\n",
      "  return array(a, dtype, copy=False, order=order)\n"
     ]
    },
    {
     "data": {
      "image/png": "[encoded data removed]",
      "text/plain": [
       "<Figure size 1080x648 with 1 Axes>"
      ]
     },
     "metadata": {},
     "output_type": "display_data"
    },
    {
     "data": {
      "text/html": [
       "<div>\n",
       "<style scoped>\n",
       "    .dataframe tbody tr th:only-of-type {\n",
       "        vertical-align: middle;\n",
       "    }\n",
       "\n",
       "    .dataframe tbody tr th {\n",
       "        vertical-align: top;\n",
       "    }\n",
       "\n",
       "    .dataframe thead th {\n",
       "        text-align: right;\n",
       "    }\n",
       "</style>\n",
       "<table border=\"1\" class=\"dataframe\">\n",
       "  <thead>\n",
       "    <tr style=\"text-align: right;\">\n",
       "      <th>platform</th>\n",
       "      <th>3DS</th>\n",
       "      <th>PC</th>\n",
       "      <th>PS3</th>\n",
       "      <th>PS4</th>\n",
       "      <th>PSV</th>\n",
       "      <th>WiiU</th>\n",
       "      <th>X360</th>\n",
       "      <th>XOne</th>\n",
       "    </tr>\n",
       "  </thead>\n",
       "  <tbody>\n",
       "    <tr>\n",
       "      <td>count</td>\n",
       "      <td>303.000000</td>\n",
       "      <td>189.000000</td>\n",
       "      <td>345.000000</td>\n",
       "      <td>392.000000</td>\n",
       "      <td>358.000000</td>\n",
       "      <td>115.000000</td>\n",
       "      <td>186.000000</td>\n",
       "      <td>247.000000</td>\n",
       "    </tr>\n",
       "    <tr>\n",
       "      <td>mean</td>\n",
       "      <td>0.472772</td>\n",
       "      <td>0.208624</td>\n",
       "      <td>0.525884</td>\n",
       "      <td>0.801378</td>\n",
       "      <td>0.092151</td>\n",
       "      <td>0.562000</td>\n",
       "      <td>0.735484</td>\n",
       "      <td>0.645020</td>\n",
       "    </tr>\n",
       "    <tr>\n",
       "      <td>std</td>\n",
       "      <td>1.381347</td>\n",
       "      <td>0.352304</td>\n",
       "      <td>1.451939</td>\n",
       "      <td>1.609456</td>\n",
       "      <td>0.153816</td>\n",
       "      <td>1.038778</td>\n",
       "      <td>1.663275</td>\n",
       "      <td>1.036139</td>\n",
       "    </tr>\n",
       "    <tr>\n",
       "      <td>min</td>\n",
       "      <td>0.010000</td>\n",
       "      <td>0.010000</td>\n",
       "      <td>0.010000</td>\n",
       "      <td>0.010000</td>\n",
       "      <td>0.010000</td>\n",
       "      <td>0.010000</td>\n",
       "      <td>0.010000</td>\n",
       "      <td>0.010000</td>\n",
       "    </tr>\n",
       "    <tr>\n",
       "      <td>25%</td>\n",
       "      <td>0.040000</td>\n",
       "      <td>0.030000</td>\n",
       "      <td>0.040000</td>\n",
       "      <td>0.060000</td>\n",
       "      <td>0.020000</td>\n",
       "      <td>0.060000</td>\n",
       "      <td>0.080000</td>\n",
       "      <td>0.060000</td>\n",
       "    </tr>\n",
       "    <tr>\n",
       "      <td>50%</td>\n",
       "      <td>0.090000</td>\n",
       "      <td>0.080000</td>\n",
       "      <td>0.150000</td>\n",
       "      <td>0.200000</td>\n",
       "      <td>0.040000</td>\n",
       "      <td>0.200000</td>\n",
       "      <td>0.265000</td>\n",
       "      <td>0.220000</td>\n",
       "    </tr>\n",
       "    <tr>\n",
       "      <td>75%</td>\n",
       "      <td>0.280000</td>\n",
       "      <td>0.230000</td>\n",
       "      <td>0.510000</td>\n",
       "      <td>0.730000</td>\n",
       "      <td>0.110000</td>\n",
       "      <td>0.595000</td>\n",
       "      <td>0.795000</td>\n",
       "      <td>0.685000</td>\n",
       "    </tr>\n",
       "    <tr>\n",
       "      <td>max</td>\n",
       "      <td>14.600000</td>\n",
       "      <td>3.050000</td>\n",
       "      <td>21.050000</td>\n",
       "      <td>14.630000</td>\n",
       "      <td>1.960000</td>\n",
       "      <td>7.090000</td>\n",
       "      <td>16.270000</td>\n",
       "      <td>7.390000</td>\n",
       "    </tr>\n",
       "  </tbody>\n",
       "</table>\n",
       "</div>"
      ],
      "text/plain": [
       "platform         3DS          PC         PS3         PS4         PSV  \\\n",
       "count     303.000000  189.000000  345.000000  392.000000  358.000000   \n",
       "mean        0.472772    0.208624    0.525884    0.801378    0.092151   \n",
       "std         1.381347    0.352304    1.451939    1.609456    0.153816   \n",
       "min         0.010000    0.010000    0.010000    0.010000    0.010000   \n",
       "25%         0.040000    0.030000    0.040000    0.060000    0.020000   \n",
       "50%         0.090000    0.080000    0.150000    0.200000    0.040000   \n",
       "75%         0.280000    0.230000    0.510000    0.730000    0.110000   \n",
       "max        14.600000    3.050000   21.050000   14.630000    1.960000   \n",
       "\n",
       "platform        WiiU        X360        XOne  \n",
       "count     115.000000  186.000000  247.000000  \n",
       "mean        0.562000    0.735484    0.645020  \n",
       "std         1.038778    1.663275    1.036139  \n",
       "min         0.010000    0.010000    0.010000  \n",
       "25%         0.060000    0.080000    0.060000  \n",
       "50%         0.200000    0.265000    0.220000  \n",
       "75%         0.595000    0.795000    0.685000  \n",
       "max         7.090000   16.270000    7.390000  "
      ]
     },
     "execution_count": 21,
     "metadata": {},
     "output_type": "execute_result"
    }
   ],
   "source": [
    "df_main.pivot_table(index='name', columns = 'platform', values = 'total_sales').boxplot(figsize=(15, 9))\n",
    "plt.show()\n",
    "df_main.pivot_table(index='name', columns = 'platform', values = 'total_sales').describe()"
   ]
  },
  {
   "cell_type": "markdown",
   "metadata": {},
   "source": [
    "Как видно из графика и описания большая часть игр почти на всех консолях не преодалевает порог 500 тысяч продаж, и средняя варируется примерно в 500 тысяч, при этом видны выбросы достигающие до 20 милионов продаж. "
   ]
  },
  {
   "cell_type": "markdown",
   "metadata": {},
   "source": [
    "Теперь гляну как коррелируют отзывы критиков и игроков с продажами, начну с PS4"
   ]
  },
  {
   "cell_type": "code",
   "execution_count": 22,
   "metadata": {},
   "outputs": [
    {
     "data": {
      "image/png": "[encoded data removed]",
      "text/plain": [
       "<Figure size 720x432 with 1 Axes>"
      ]
     },
     "metadata": {},
     "output_type": "display_data"
    },
    {
     "data": {
      "text/html": [
       "<div>\n",
       "<style scoped>\n",
       "    .dataframe tbody tr th:only-of-type {\n",
       "        vertical-align: middle;\n",
       "    }\n",
       "\n",
       "    .dataframe tbody tr th {\n",
       "        vertical-align: top;\n",
       "    }\n",
       "\n",
       "    .dataframe thead th {\n",
       "        text-align: right;\n",
       "    }\n",
       "</style>\n",
       "<table border=\"1\" class=\"dataframe\">\n",
       "  <thead>\n",
       "    <tr style=\"text-align: right;\">\n",
       "      <th></th>\n",
       "      <th>critic_score</th>\n",
       "      <th>total_sales</th>\n",
       "    </tr>\n",
       "  </thead>\n",
       "  <tbody>\n",
       "    <tr>\n",
       "      <td>critic_score</td>\n",
       "      <td>1.000000</td>\n",
       "      <td>0.406568</td>\n",
       "    </tr>\n",
       "    <tr>\n",
       "      <td>total_sales</td>\n",
       "      <td>0.406568</td>\n",
       "      <td>1.000000</td>\n",
       "    </tr>\n",
       "  </tbody>\n",
       "</table>\n",
       "</div>"
      ],
      "text/plain": [
       "              critic_score  total_sales\n",
       "critic_score      1.000000     0.406568\n",
       "total_sales       0.406568     1.000000"
      ]
     },
     "execution_count": 22,
     "metadata": {},
     "output_type": "execute_result"
    }
   ],
   "source": [
    "df_PS4 = df_main.query('platform == \"PS4\"')\n",
    "fig, ax = plt.subplots(figsize=(10, 6))\n",
    "ax.scatter(x = df_PS4['critic_score'], y = df_PS4['total_sales'])\n",
    "plt.xlabel('Оценка критиков')\n",
    "plt.ylabel('Кол-во проданных игр, млн')\n",
    "plt.title('Корреляция продаж с оценкой критоков, PS4')\n",
    "plt.show()\n",
    "\n",
    "df_PS4[['critic_score', 'total_sales']].corr()"
   ]
  },
  {
   "cell_type": "markdown",
   "metadata": {},
   "source": [
    "Корреляцию уже видно, но уберем выбросы через квантили и проверим еще раз, что бы не писать длинный код создам функции"
   ]
  },
  {
   "cell_type": "code",
   "execution_count": 27,
   "metadata": {},
   "outputs": [],
   "source": [
    "def corr_console_user (row):\n",
    "    console = df_main.query(\"platform == @row\")\n",
    "    q1 = console['total_sales'].quantile(0.25)\n",
    "    q3 = console['total_sales'].quantile(0.75)\n",
    "    iqr = q3 - q1\n",
    "    lower_bound = q1 - (1.5 * iqr) \n",
    "    upper_bound = q3 + (1.5 * iqr)\n",
    "    console = console[console['total_sales'].between(lower_bound, upper_bound, inclusive=True)]\n",
    "    fig, ax = plt.subplots(figsize=(5, 4))\n",
    "    ax.scatter(x = console['user_score'], y = console['total_sales'])\n",
    "    plt.show()\n",
    "    return console[['user_score', 'total_sales']].corr()\n",
    "\n",
    "\n",
    "def corr_console_critic (row):\n",
    "    console = df_main.query(\"platform == @row\")\n",
    "    q1 = console['total_sales'].quantile(0.25)\n",
    "    q3 = console['total_sales'].quantile(0.75)\n",
    "    iqr = q3 - q1\n",
    "    lower_bound = q1 - (1.5 * iqr) \n",
    "    upper_bound = q3 + (1.5 * iqr)\n",
    "    console = console[console['total_sales'].between(lower_bound, upper_bound, inclusive=True)]\n",
    "    fig, ax = plt.subplots(figsize=(5, 4))\n",
    "    ax.scatter(x = console['critic_score'], y = console['total_sales'])\n",
    "    plt.show()\n",
    "    return console[['critic_score', 'total_sales']].corr()\n"
   ]
  },
  {
   "cell_type": "code",
   "execution_count": 28,
   "metadata": {},
   "outputs": [
    {
     "data": {
      "image/png": "[encoded data removed]",
      "text/plain": [
       "<Figure size 360x288 with 1 Axes>"
      ]
     },
     "metadata": {},
     "output_type": "display_data"
    },
    {
     "data": {
      "text/html": [
       "<div>\n",
       "<style scoped>\n",
       "    .dataframe tbody tr th:only-of-type {\n",
       "        vertical-align: middle;\n",
       "    }\n",
       "\n",
       "    .dataframe tbody tr th {\n",
       "        vertical-align: top;\n",
       "    }\n",
       "\n",
       "    .dataframe thead th {\n",
       "        text-align: right;\n",
       "    }\n",
       "</style>\n",
       "<table border=\"1\" class=\"dataframe\">\n",
       "  <thead>\n",
       "    <tr style=\"text-align: right;\">\n",
       "      <th></th>\n",
       "      <th>user_score</th>\n",
       "      <th>total_sales</th>\n",
       "    </tr>\n",
       "  </thead>\n",
       "  <tbody>\n",
       "    <tr>\n",
       "      <td>user_score</td>\n",
       "      <td>1.000000</td>\n",
       "      <td>0.032088</td>\n",
       "    </tr>\n",
       "    <tr>\n",
       "      <td>total_sales</td>\n",
       "      <td>0.032088</td>\n",
       "      <td>1.000000</td>\n",
       "    </tr>\n",
       "  </tbody>\n",
       "</table>\n",
       "</div>"
      ],
      "text/plain": [
       "             user_score  total_sales\n",
       "user_score     1.000000     0.032088\n",
       "total_sales    0.032088     1.000000"
      ]
     },
     "execution_count": 28,
     "metadata": {},
     "output_type": "execute_result"
    }
   ],
   "source": [
    "corr_console_user ('PS4')"
   ]
  },
  {
   "cell_type": "code",
   "execution_count": 29,
   "metadata": {},
   "outputs": [
    {
     "data": {
      "image/png": "[encoded data removed]",
      "text/plain": [
       "<Figure size 360x288 with 1 Axes>"
      ]
     },
     "metadata": {},
     "output_type": "display_data"
    },
    {
     "data": {
      "text/html": [
       "<div>\n",
       "<style scoped>\n",
       "    .dataframe tbody tr th:only-of-type {\n",
       "        vertical-align: middle;\n",
       "    }\n",
       "\n",
       "    .dataframe tbody tr th {\n",
       "        vertical-align: top;\n",
       "    }\n",
       "\n",
       "    .dataframe thead th {\n",
       "        text-align: right;\n",
       "    }\n",
       "</style>\n",
       "<table border=\"1\" class=\"dataframe\">\n",
       "  <thead>\n",
       "    <tr style=\"text-align: right;\">\n",
       "      <th></th>\n",
       "      <th>critic_score</th>\n",
       "      <th>total_sales</th>\n",
       "    </tr>\n",
       "  </thead>\n",
       "  <tbody>\n",
       "    <tr>\n",
       "      <td>critic_score</td>\n",
       "      <td>1.000000</td>\n",
       "      <td>0.264572</td>\n",
       "    </tr>\n",
       "    <tr>\n",
       "      <td>total_sales</td>\n",
       "      <td>0.264572</td>\n",
       "      <td>1.000000</td>\n",
       "    </tr>\n",
       "  </tbody>\n",
       "</table>\n",
       "</div>"
      ],
      "text/plain": [
       "              critic_score  total_sales\n",
       "critic_score      1.000000     0.264572\n",
       "total_sales       0.264572     1.000000"
      ]
     },
     "execution_count": 29,
     "metadata": {},
     "output_type": "execute_result"
    }
   ],
   "source": [
    "corr_console_critic ('PS4')"
   ]
  },
  {
   "cell_type": "markdown",
   "metadata": {},
   "source": [
    "Как видно отчетливая корреляция имеется с критиками а вот с играками видно что корелячии почти нет.\n",
    "\n",
    "Проделаю то же самое и сдругими популярными консолями"
   ]
  },
  {
   "cell_type": "code",
   "execution_count": 30,
   "metadata": {},
   "outputs": [
    {
     "data": {
      "image/png": "[encoded data removed]",
      "text/plain": [
       "<Figure size 360x288 with 1 Axes>"
      ]
     },
     "metadata": {},
     "output_type": "display_data"
    },
    {
     "data": {
      "text/html": [
       "<div>\n",
       "<style scoped>\n",
       "    .dataframe tbody tr th:only-of-type {\n",
       "        vertical-align: middle;\n",
       "    }\n",
       "\n",
       "    .dataframe tbody tr th {\n",
       "        vertical-align: top;\n",
       "    }\n",
       "\n",
       "    .dataframe thead th {\n",
       "        text-align: right;\n",
       "    }\n",
       "</style>\n",
       "<table border=\"1\" class=\"dataframe\">\n",
       "  <thead>\n",
       "    <tr style=\"text-align: right;\">\n",
       "      <th></th>\n",
       "      <th>user_score</th>\n",
       "      <th>total_sales</th>\n",
       "    </tr>\n",
       "  </thead>\n",
       "  <tbody>\n",
       "    <tr>\n",
       "      <td>user_score</td>\n",
       "      <td>1.000000</td>\n",
       "      <td>-0.019098</td>\n",
       "    </tr>\n",
       "    <tr>\n",
       "      <td>total_sales</td>\n",
       "      <td>-0.019098</td>\n",
       "      <td>1.000000</td>\n",
       "    </tr>\n",
       "  </tbody>\n",
       "</table>\n",
       "</div>"
      ],
      "text/plain": [
       "             user_score  total_sales\n",
       "user_score     1.000000    -0.019098\n",
       "total_sales   -0.019098     1.000000"
      ]
     },
     "execution_count": 30,
     "metadata": {},
     "output_type": "execute_result"
    }
   ],
   "source": [
    "top_platforms = ['PS3','X360','XOne','PSV', 'PC','3DS']\n",
    "corr_console_user (top_platforms)"
   ]
  },
  {
   "cell_type": "code",
   "execution_count": 31,
   "metadata": {},
   "outputs": [
    {
     "data": {
      "image/png": "[encoded data removed]",
      "text/plain": [
       "<Figure size 360x288 with 1 Axes>"
      ]
     },
     "metadata": {},
     "output_type": "display_data"
    },
    {
     "data": {
      "text/html": [
       "<div>\n",
       "<style scoped>\n",
       "    .dataframe tbody tr th:only-of-type {\n",
       "        vertical-align: middle;\n",
       "    }\n",
       "\n",
       "    .dataframe tbody tr th {\n",
       "        vertical-align: top;\n",
       "    }\n",
       "\n",
       "    .dataframe thead th {\n",
       "        text-align: right;\n",
       "    }\n",
       "</style>\n",
       "<table border=\"1\" class=\"dataframe\">\n",
       "  <thead>\n",
       "    <tr style=\"text-align: right;\">\n",
       "      <th></th>\n",
       "      <th>critic_score</th>\n",
       "      <th>total_sales</th>\n",
       "    </tr>\n",
       "  </thead>\n",
       "  <tbody>\n",
       "    <tr>\n",
       "      <td>critic_score</td>\n",
       "      <td>1.000000</td>\n",
       "      <td>0.221241</td>\n",
       "    </tr>\n",
       "    <tr>\n",
       "      <td>total_sales</td>\n",
       "      <td>0.221241</td>\n",
       "      <td>1.000000</td>\n",
       "    </tr>\n",
       "  </tbody>\n",
       "</table>\n",
       "</div>"
      ],
      "text/plain": [
       "              critic_score  total_sales\n",
       "critic_score      1.000000     0.221241\n",
       "total_sales       0.221241     1.000000"
      ]
     },
     "execution_count": 31,
     "metadata": {},
     "output_type": "execute_result"
    }
   ],
   "source": [
    "corr_console_critic (top_platforms)"
   ]
  },
  {
   "cell_type": "markdown",
   "metadata": {},
   "source": [
    "на других консолях пподтверждается та же корреляция что и с ps4\n",
    "\n",
    "Посмотрю на общее распределение игр по жанрам, выделю для себя наиболее прибыльный жанр"
   ]
  },
  {
   "cell_type": "code",
   "execution_count": 32,
   "metadata": {},
   "outputs": [
    {
     "data": {
      "text/html": [
       "<div>\n",
       "<style scoped>\n",
       "    .dataframe tbody tr th:only-of-type {\n",
       "        vertical-align: middle;\n",
       "    }\n",
       "\n",
       "    .dataframe tbody tr th {\n",
       "        vertical-align: top;\n",
       "    }\n",
       "\n",
       "    .dataframe thead th {\n",
       "        text-align: right;\n",
       "    }\n",
       "</style>\n",
       "<table border=\"1\" class=\"dataframe\">\n",
       "  <thead>\n",
       "    <tr style=\"text-align: right;\">\n",
       "      <th></th>\n",
       "      <th>count</th>\n",
       "      <th>sum</th>\n",
       "      <th>mean_sale</th>\n",
       "    </tr>\n",
       "    <tr>\n",
       "      <th>genre</th>\n",
       "      <th></th>\n",
       "      <th></th>\n",
       "      <th></th>\n",
       "    </tr>\n",
       "  </thead>\n",
       "  <tbody>\n",
       "    <tr>\n",
       "      <td>Shooter</td>\n",
       "      <td>187</td>\n",
       "      <td>232.98</td>\n",
       "      <td>1.245882</td>\n",
       "    </tr>\n",
       "    <tr>\n",
       "      <td>Sports</td>\n",
       "      <td>205</td>\n",
       "      <td>148.98</td>\n",
       "      <td>0.726732</td>\n",
       "    </tr>\n",
       "    <tr>\n",
       "      <td>Platform</td>\n",
       "      <td>70</td>\n",
       "      <td>39.69</td>\n",
       "      <td>0.567000</td>\n",
       "    </tr>\n",
       "    <tr>\n",
       "      <td>Role-Playing</td>\n",
       "      <td>285</td>\n",
       "      <td>144.86</td>\n",
       "      <td>0.508281</td>\n",
       "    </tr>\n",
       "    <tr>\n",
       "      <td>Racing</td>\n",
       "      <td>85</td>\n",
       "      <td>39.89</td>\n",
       "      <td>0.469294</td>\n",
       "    </tr>\n",
       "    <tr>\n",
       "      <td>Fighting</td>\n",
       "      <td>79</td>\n",
       "      <td>35.29</td>\n",
       "      <td>0.446709</td>\n",
       "    </tr>\n",
       "    <tr>\n",
       "      <td>Action</td>\n",
       "      <td>744</td>\n",
       "      <td>317.69</td>\n",
       "      <td>0.427003</td>\n",
       "    </tr>\n",
       "    <tr>\n",
       "      <td>Misc</td>\n",
       "      <td>139</td>\n",
       "      <td>55.51</td>\n",
       "      <td>0.399353</td>\n",
       "    </tr>\n",
       "    <tr>\n",
       "      <td>Simulation</td>\n",
       "      <td>60</td>\n",
       "      <td>21.41</td>\n",
       "      <td>0.356833</td>\n",
       "    </tr>\n",
       "    <tr>\n",
       "      <td>Puzzle</td>\n",
       "      <td>17</td>\n",
       "      <td>3.17</td>\n",
       "      <td>0.186471</td>\n",
       "    </tr>\n",
       "    <tr>\n",
       "      <td>Strategy</td>\n",
       "      <td>54</td>\n",
       "      <td>9.80</td>\n",
       "      <td>0.181481</td>\n",
       "    </tr>\n",
       "    <tr>\n",
       "      <td>Adventure</td>\n",
       "      <td>210</td>\n",
       "      <td>22.72</td>\n",
       "      <td>0.108190</td>\n",
       "    </tr>\n",
       "  </tbody>\n",
       "</table>\n",
       "</div>"
      ],
      "text/plain": [
       "              count     sum  mean_sale\n",
       "genre                                 \n",
       "Shooter         187  232.98   1.245882\n",
       "Sports          205  148.98   0.726732\n",
       "Platform         70   39.69   0.567000\n",
       "Role-Playing    285  144.86   0.508281\n",
       "Racing           85   39.89   0.469294\n",
       "Fighting         79   35.29   0.446709\n",
       "Action          744  317.69   0.427003\n",
       "Misc            139   55.51   0.399353\n",
       "Simulation       60   21.41   0.356833\n",
       "Puzzle           17    3.17   0.186471\n",
       "Strategy         54    9.80   0.181481\n",
       "Adventure       210   22.72   0.108190"
      ]
     },
     "execution_count": 32,
     "metadata": {},
     "output_type": "execute_result"
    }
   ],
   "source": [
    "df_genre = df_main.pivot_table(index = 'genre',  values =  'total_sales', aggfunc = ('sum', 'count'))\n",
    "df_genre['mean_sale'] = df_genre['sum']/ df_genre['count']\n",
    "df_genre.sort_values('mean_sale', ascending =False)"
   ]
  },
  {
   "cell_type": "markdown",
   "metadata": {},
   "source": [
    "Вижу что наиболле прибыльные жанры это шутеры и спортивные симуляторы"
   ]
  },
  {
   "cell_type": "markdown",
   "metadata": {},
   "source": [
    "# Шаг 4. Состовление портрета пользователя каждого региона"
   ]
  },
  {
   "cell_type": "markdown",
   "metadata": {},
   "source": [
    "Определю для пользователя каждого региона ( япония, северная америка и европа):\n",
    "- Самые популярные платформы (топ-5). Опишите различия в долях продаж.\n",
    "- Самые популярные жанры (топ-5). Поясните разницу.\n",
    "- Влияет ли рейтинг ESRB на продажи в отдельном регионе?\n"
   ]
  },
  {
   "cell_type": "code",
   "execution_count": 33,
   "metadata": {},
   "outputs": [
    {
     "data": {
      "text/html": [
       "<div>\n",
       "<style scoped>\n",
       "    .dataframe tbody tr th:only-of-type {\n",
       "        vertical-align: middle;\n",
       "    }\n",
       "\n",
       "    .dataframe tbody tr th {\n",
       "        vertical-align: top;\n",
       "    }\n",
       "\n",
       "    .dataframe thead th {\n",
       "        text-align: right;\n",
       "    }\n",
       "</style>\n",
       "<table border=\"1\" class=\"dataframe\">\n",
       "  <thead>\n",
       "    <tr style=\"text-align: right;\">\n",
       "      <th></th>\n",
       "      <th>jp_sales</th>\n",
       "      <th>eu_sales</th>\n",
       "      <th>na_sales</th>\n",
       "    </tr>\n",
       "    <tr>\n",
       "      <th>platform</th>\n",
       "      <th></th>\n",
       "      <th></th>\n",
       "      <th></th>\n",
       "    </tr>\n",
       "  </thead>\n",
       "  <tbody>\n",
       "    <tr>\n",
       "      <td>3DS</td>\n",
       "      <td>67.81</td>\n",
       "      <td>30.96</td>\n",
       "      <td>38.20</td>\n",
       "    </tr>\n",
       "    <tr>\n",
       "      <td>PC</td>\n",
       "      <td>0.00</td>\n",
       "      <td>25.36</td>\n",
       "      <td>11.11</td>\n",
       "    </tr>\n",
       "    <tr>\n",
       "      <td>PS3</td>\n",
       "      <td>23.35</td>\n",
       "      <td>67.81</td>\n",
       "      <td>63.50</td>\n",
       "    </tr>\n",
       "    <tr>\n",
       "      <td>PS4</td>\n",
       "      <td>15.96</td>\n",
       "      <td>141.09</td>\n",
       "      <td>108.74</td>\n",
       "    </tr>\n",
       "    <tr>\n",
       "      <td>PSV</td>\n",
       "      <td>18.59</td>\n",
       "      <td>6.10</td>\n",
       "      <td>5.04</td>\n",
       "    </tr>\n",
       "    <tr>\n",
       "      <td>WiiU</td>\n",
       "      <td>10.88</td>\n",
       "      <td>19.85</td>\n",
       "      <td>29.21</td>\n",
       "    </tr>\n",
       "    <tr>\n",
       "      <td>X360</td>\n",
       "      <td>0.51</td>\n",
       "      <td>42.52</td>\n",
       "      <td>81.66</td>\n",
       "    </tr>\n",
       "    <tr>\n",
       "      <td>XOne</td>\n",
       "      <td>0.34</td>\n",
       "      <td>51.59</td>\n",
       "      <td>93.12</td>\n",
       "    </tr>\n",
       "  </tbody>\n",
       "</table>\n",
       "</div>"
      ],
      "text/plain": [
       "          jp_sales  eu_sales  na_sales\n",
       "platform                              \n",
       "3DS          67.81     30.96     38.20\n",
       "PC            0.00     25.36     11.11\n",
       "PS3          23.35     67.81     63.50\n",
       "PS4          15.96    141.09    108.74\n",
       "PSV          18.59      6.10      5.04\n",
       "WiiU         10.88     19.85     29.21\n",
       "X360          0.51     42.52     81.66\n",
       "XOne          0.34     51.59     93.12"
      ]
     },
     "metadata": {},
     "output_type": "display_data"
    },
    {
     "data": {
      "image/png": "[encoded data removed]",
      "text/plain": [
       "<Figure size 1080x504 with 1 Axes>"
      ]
     },
     "metadata": {},
     "output_type": "display_data"
    }
   ],
   "source": [
    "jp_platform =df_main.pivot_table(\n",
    "    index = 'platform', \n",
    "    values =  'jp_sales', \n",
    "    aggfunc = 'sum')\n",
    "\n",
    "eu_platform = df_main.pivot_table(\n",
    "    index = 'platform', \n",
    "    values =  'eu_sales', \n",
    "    aggfunc = 'sum')\n",
    "\n",
    "na_platform = df_main.pivot_table(\n",
    "    index = 'platform', \n",
    "    values =  'na_sales', \n",
    "    aggfunc = 'sum')\n",
    "\n",
    "all_platform = jp_platform.join((eu_platform, na_platform))\n",
    "\n",
    "display(all_platform)\n",
    "all_platform.plot(kind = 'bar',figsize=(15, 7), style='o-')\n",
    "plt.xticks(np.arange(len(all_platform)), all_platform.index)\n",
    "plt.xlabel('Платформы')\n",
    "plt.ylabel('Кол-во продаж')\n",
    "plt.title('Распределения продаж по платформам')\n",
    "plt.legend(all_platform.columns)\n",
    "plt.show()"
   ]
  },
  {
   "cell_type": "markdown",
   "metadata": {},
   "source": [
    "вижу что предпочтения игроков в консолх отличается, в японии предпочитают 3DS, в европе предпочитают приставки PS4, а в штатах PS4 и XOne держуться пости на равне\n",
    "\n",
    "Посомтрю что с жанрами игр"
   ]
  },
  {
   "cell_type": "code",
   "execution_count": 34,
   "metadata": {},
   "outputs": [
    {
     "data": {
      "text/html": [
       "<div>\n",
       "<style scoped>\n",
       "    .dataframe tbody tr th:only-of-type {\n",
       "        vertical-align: middle;\n",
       "    }\n",
       "\n",
       "    .dataframe tbody tr th {\n",
       "        vertical-align: top;\n",
       "    }\n",
       "\n",
       "    .dataframe thead th {\n",
       "        text-align: right;\n",
       "    }\n",
       "</style>\n",
       "<table border=\"1\" class=\"dataframe\">\n",
       "  <thead>\n",
       "    <tr style=\"text-align: right;\">\n",
       "      <th></th>\n",
       "      <th>jp_sales</th>\n",
       "      <th>eu_sales</th>\n",
       "      <th>na_sales</th>\n",
       "    </tr>\n",
       "    <tr>\n",
       "      <th>genre</th>\n",
       "      <th></th>\n",
       "      <th></th>\n",
       "      <th></th>\n",
       "    </tr>\n",
       "  </thead>\n",
       "  <tbody>\n",
       "    <tr>\n",
       "      <td>Action</td>\n",
       "      <td>39.65</td>\n",
       "      <td>116.76</td>\n",
       "      <td>124.35</td>\n",
       "    </tr>\n",
       "    <tr>\n",
       "      <td>Adventure</td>\n",
       "      <td>5.11</td>\n",
       "      <td>8.09</td>\n",
       "      <td>7.10</td>\n",
       "    </tr>\n",
       "    <tr>\n",
       "      <td>Fighting</td>\n",
       "      <td>7.63</td>\n",
       "      <td>8.55</td>\n",
       "      <td>15.55</td>\n",
       "    </tr>\n",
       "    <tr>\n",
       "      <td>Misc</td>\n",
       "      <td>8.98</td>\n",
       "      <td>17.04</td>\n",
       "      <td>24.00</td>\n",
       "    </tr>\n",
       "    <tr>\n",
       "      <td>Platform</td>\n",
       "      <td>4.79</td>\n",
       "      <td>14.31</td>\n",
       "      <td>16.72</td>\n",
       "    </tr>\n",
       "    <tr>\n",
       "      <td>Puzzle</td>\n",
       "      <td>1.18</td>\n",
       "      <td>1.00</td>\n",
       "      <td>0.83</td>\n",
       "    </tr>\n",
       "    <tr>\n",
       "      <td>Racing</td>\n",
       "      <td>2.30</td>\n",
       "      <td>20.19</td>\n",
       "      <td>12.96</td>\n",
       "    </tr>\n",
       "    <tr>\n",
       "      <td>Role-Playing</td>\n",
       "      <td>50.01</td>\n",
       "      <td>36.97</td>\n",
       "      <td>46.40</td>\n",
       "    </tr>\n",
       "    <tr>\n",
       "      <td>Shooter</td>\n",
       "      <td>6.61</td>\n",
       "      <td>87.86</td>\n",
       "      <td>109.74</td>\n",
       "    </tr>\n",
       "    <tr>\n",
       "      <td>Simulation</td>\n",
       "      <td>4.52</td>\n",
       "      <td>10.78</td>\n",
       "      <td>4.68</td>\n",
       "    </tr>\n",
       "    <tr>\n",
       "      <td>Sports</td>\n",
       "      <td>4.91</td>\n",
       "      <td>59.60</td>\n",
       "      <td>65.12</td>\n",
       "    </tr>\n",
       "    <tr>\n",
       "      <td>Strategy</td>\n",
       "      <td>1.75</td>\n",
       "      <td>4.13</td>\n",
       "      <td>3.13</td>\n",
       "    </tr>\n",
       "  </tbody>\n",
       "</table>\n",
       "</div>"
      ],
      "text/plain": [
       "              jp_sales  eu_sales  na_sales\n",
       "genre                                     \n",
       "Action           39.65    116.76    124.35\n",
       "Adventure         5.11      8.09      7.10\n",
       "Fighting          7.63      8.55     15.55\n",
       "Misc              8.98     17.04     24.00\n",
       "Platform          4.79     14.31     16.72\n",
       "Puzzle            1.18      1.00      0.83\n",
       "Racing            2.30     20.19     12.96\n",
       "Role-Playing     50.01     36.97     46.40\n",
       "Shooter           6.61     87.86    109.74\n",
       "Simulation        4.52     10.78      4.68\n",
       "Sports            4.91     59.60     65.12\n",
       "Strategy          1.75      4.13      3.13"
      ]
     },
     "metadata": {},
     "output_type": "display_data"
    },
    {
     "data": {
      "image/png": "[encoded data removed]",
      "text/plain": [
       "<Figure size 1080x504 with 1 Axes>"
      ]
     },
     "metadata": {},
     "output_type": "display_data"
    }
   ],
   "source": [
    "jp_genre =df_main.pivot_table(\n",
    "    index = 'genre', \n",
    "    values =  'jp_sales', \n",
    "    aggfunc = 'sum')\n",
    "\n",
    "eu_genre = df_main.pivot_table(\n",
    "    index = 'genre', \n",
    "    values =  'eu_sales', \n",
    "    aggfunc = 'sum')\n",
    "\n",
    "na_genre = df_main.pivot_table(\n",
    "    index = 'genre', \n",
    "    values =  'na_sales', \n",
    "    aggfunc = 'sum')\n",
    "\n",
    "all_genre = jp_genre.join((eu_genre, na_genre))\n",
    "\n",
    "display(all_genre)\n",
    "all_genre.plot(kind = 'bar', figsize=(15, 7), style='o-')\n",
    "plt.xticks(np.arange(len(all_genre)), all_genre.index)\n",
    "plt.xlabel('Жанры')\n",
    "plt.ylabel('Кол-во продаж')\n",
    "plt.title('Распределения продаж по жанрам')\n",
    "plt.legend(all_genre.columns)\n",
    "plt.show()"
   ]
  },
  {
   "cell_type": "markdown",
   "metadata": {},
   "source": [
    "В жанрах так же наблюдаются отличия, в японии наибольша часть продаж это продажи ролевых игр, а в европе и штатах, преобладают  акшены и шутеры. Предполагаю что данные отличия связаны с разным менталитетом и культурой людей."
   ]
  },
  {
   "cell_type": "code",
   "execution_count": 35,
   "metadata": {},
   "outputs": [
    {
     "data": {
      "text/html": [
       "<div>\n",
       "<style scoped>\n",
       "    .dataframe tbody tr th:only-of-type {\n",
       "        vertical-align: middle;\n",
       "    }\n",
       "\n",
       "    .dataframe tbody tr th {\n",
       "        vertical-align: top;\n",
       "    }\n",
       "\n",
       "    .dataframe thead th {\n",
       "        text-align: right;\n",
       "    }\n",
       "</style>\n",
       "<table border=\"1\" class=\"dataframe\">\n",
       "  <thead>\n",
       "    <tr style=\"text-align: right;\">\n",
       "      <th></th>\n",
       "      <th>jp_sales</th>\n",
       "      <th>eu_sales</th>\n",
       "      <th>na_sales</th>\n",
       "    </tr>\n",
       "    <tr>\n",
       "      <th>rating</th>\n",
       "      <th></th>\n",
       "      <th></th>\n",
       "      <th></th>\n",
       "    </tr>\n",
       "  </thead>\n",
       "  <tbody>\n",
       "    <tr>\n",
       "      <td>E</td>\n",
       "      <td>15.00</td>\n",
       "      <td>81.67</td>\n",
       "      <td>78.46</td>\n",
       "    </tr>\n",
       "    <tr>\n",
       "      <td>E10+</td>\n",
       "      <td>5.89</td>\n",
       "      <td>37.97</td>\n",
       "      <td>47.97</td>\n",
       "    </tr>\n",
       "    <tr>\n",
       "      <td>M</td>\n",
       "      <td>14.11</td>\n",
       "      <td>145.32</td>\n",
       "      <td>165.21</td>\n",
       "    </tr>\n",
       "    <tr>\n",
       "      <td>T</td>\n",
       "      <td>20.44</td>\n",
       "      <td>41.92</td>\n",
       "      <td>49.79</td>\n",
       "    </tr>\n",
       "  </tbody>\n",
       "</table>\n",
       "</div>"
      ],
      "text/plain": [
       "        jp_sales  eu_sales  na_sales\n",
       "rating                              \n",
       "E          15.00     81.67     78.46\n",
       "E10+        5.89     37.97     47.97\n",
       "M          14.11    145.32    165.21\n",
       "T          20.44     41.92     49.79"
      ]
     },
     "metadata": {},
     "output_type": "display_data"
    },
    {
     "data": {
      "image/png": "[encoded data removed]",
      "text/plain": [
       "<Figure size 1080x504 with 1 Axes>"
      ]
     },
     "metadata": {},
     "output_type": "display_data"
    }
   ],
   "source": [
    "jp_rating =df_main.pivot_table(\n",
    "    index = 'rating', \n",
    "    values =  'jp_sales', \n",
    "    aggfunc = 'sum')\n",
    "\n",
    "eu_rating = df_main.pivot_table(\n",
    "    index = 'rating', \n",
    "    values =  'eu_sales', \n",
    "    aggfunc = 'sum')\n",
    "\n",
    "na_rating = df_main.pivot_table(\n",
    "    index = 'rating', \n",
    "    values =  'na_sales', \n",
    "    aggfunc = 'sum')\n",
    "\n",
    "all_rating = jp_rating.join((eu_rating, na_rating))\n",
    "\n",
    "display(all_rating)\n",
    "all_rating.plot(kind = 'bar',figsize=(15, 7), style='o-')\n",
    "plt.xticks(np.arange(len(all_rating)), all_rating.index)\n",
    "plt.xlabel('Жанры')\n",
    "plt.ylabel('Кол-во продаж')\n",
    "plt.title('Распределения продаж по рейтингу')\n",
    "plt.legend(all_rating.columns)\n",
    "plt.show()"
   ]
  },
  {
   "cell_type": "markdown",
   "metadata": {},
   "source": [
    "Вижу что в японии большая часть продаж приходиться на рейтинг Т(подростки), в вот в штатах и европе вижу что большая часть продаж приходится на рейтиг М(для взрослых), это поддалкивает на мысль что рейтинг имеет влияние на продажи."
   ]
  },
  {
   "cell_type": "markdown",
   "metadata": {},
   "source": [
    "# Шаг 5. Проверка гипотез"
   ]
  },
  {
   "cell_type": "markdown",
   "metadata": {},
   "source": [
    "Проверю первую гипотезу что, средние пользовательские рейтинги платформ Xbox One и PC одинаковые."
   ]
  },
  {
   "cell_type": "markdown",
   "metadata": {},
   "source": [
    "Перед проверкой через нулевую гипотезу определюсь с понятиями\n",
    "\n",
    "- Нулевая гипотеза – это гипотеза об отсуствии значимы различий между какими либо показателями,или о случайной связи между ними.\n",
    "Это значит что при подтверждении нулевой гипотезы, средние пользовательские рейтинги платформ Xbox One и PC с высокой вероятность одинаковые.\n",
    "\n",
    "- Альтернативная гипотеза – это гипотеза о занчимости различия между сравниваемыми величинами, а значит при подтверждении данной гипотезы,  средние пользовательские рейтинги платформ Xbox One и PC с высокой вероятность будут отличаться."
   ]
  },
  {
   "cell_type": "code",
   "execution_count": 37,
   "metadata": {},
   "outputs": [
    {
     "name": "stdout",
     "output_type": "stream",
     "text": [
      "cредняя оценка пользователей игрн на Xbox One: 6.521428571428572\n",
      "cреднее оценка пользователей игрн на PC: 6.269677419354839\n",
      "p-значение: 0.1401265840361139\n",
      "Не получилось отвергнуть нулевую гипотезу\n"
     ]
    }
   ],
   "source": [
    "Xbox_One = df_main.query('platform == \"XOne\"')\n",
    "PC = df_main.query('platform == \"PC\"')\n",
    "\n",
    "alpha = 0.05 \n",
    "\n",
    "print('cредняя оценка пользователей игрн на Xbox One:', pd.Series(Xbox_One['user_score']).mean())\n",
    "print('cреднее оценка пользователей игрн на PC:', pd.Series(PC['user_score']).mean())\n",
    "\n",
    "results = st.ttest_ind(Xbox_One['user_score'], PC['user_score'], nan_policy=\"omit\")\n",
    "\n",
    "\n",
    "print('p-значение:', results.pvalue)\n",
    "\n",
    "if results.pvalue < alpha:\n",
    "    print(\"Отвергаем нулевую гипотезу\")\n",
    "else:\n",
    "    print(\"Не получилось отвергнуть нулевую гипотезу\") "
   ]
  },
  {
   "cell_type": "markdown",
   "metadata": {},
   "source": [
    "Не отвергаем нулевую гипотезу о равенстве. Стало быть, можно считать что гипотеза о том что средние пользовательские оценки игр платформ Xbox One и PC действительно одинаковые, а если есть разница, то она случайна."
   ]
  },
  {
   "cell_type": "markdown",
   "metadata": {},
   "source": [
    "Теперь проверю гипотезу что средние пользовательские рейтинги жанров Action и Sports разные."
   ]
  },
  {
   "cell_type": "code",
   "execution_count": 38,
   "metadata": {},
   "outputs": [
    {
     "name": "stdout",
     "output_type": "stream",
     "text": [
      "cредняя оценка пользовательей игр жанра Action: 6.8496124031007755\n",
      "cреднее оценка пользовательей игр жанра Sports: 5.261783439490446\n",
      "p-значение: 4.172703051737009e-27\n",
      "Отвергаем нулевую гипотезу\n"
     ]
    }
   ],
   "source": [
    "Action = df_main.query('genre == \"Action\"')\n",
    "Sports = df_main.query('genre == \"Sports\"')\n",
    "\n",
    "alpha = 0.05 \n",
    "\n",
    "print('cредняя оценка пользовательей игр жанра Action:', pd.Series(Action['user_score']).mean())\n",
    "print('cреднее оценка пользовательей игр жанра Sports:', pd.Series(Sports['user_score']).mean())\n",
    "\n",
    "results = st.ttest_ind(Action['user_score'], Sports['user_score'], nan_policy=\"omit\")\n",
    "\n",
    "\n",
    "print('p-значение:', results.pvalue)\n",
    "\n",
    "if results.pvalue < alpha:\n",
    "    print(\"Отвергаем нулевую гипотезу\")\n",
    "else:\n",
    "    print(\"Не получилось отвергнуть нулевую гипотезу\") "
   ]
  },
  {
   "cell_type": "markdown",
   "metadata": {},
   "source": [
    "Для выбранного уровня значимости отвергаем нулевую гипотезу, вывод - действительно средние пользовательские рейтинги жанров Action и Sports отличаются."
   ]
  },
  {
   "cell_type": "markdown",
   "metadata": {},
   "source": [
    "# Шаг  6. Вывод"
   ]
  },
  {
   "cell_type": "markdown",
   "metadata": {},
   "source": [
    "Мне удалось выявить следующие закономерности успешности игр для планирования рекламной компании по регионам:\n",
    " - Северная америка: \n",
    " 1. Приставки: PS4, Xbox One, Xbox360\n",
    " 2. Жанры: Action, Sports, Shooter\n",
    " 3. Рейтинг: М.\n",
    " \n",
    " - Европа\n",
    " 1. Приставки: PS4, PS3\n",
    " 2. Жанры: Action, Sports, Shooter\n",
    " 3. Рейтинг: М, E.\n",
    " \n",
    " - Япония\n",
    " 1. Приставки: 3DS, PS4, PS3\n",
    " 2. Жанры: Role-Playing, Action\n",
    " 3. Рейтинг: T, М\n",
    " \n",
    "И конечно игры должны имеють положительне отзывы от критиков, в этом случаю успешность проекта возрастает как показывает проведенные тесты  корреляции.\n"
   ]
  }
 ],
 "metadata": {
  "ExecuteTimeLog": [
   {
    "duration": -3545,
    "start_time": "2021-10-10T06:59:46.385Z"
   },
   {
    "duration": 85,
    "start_time": "2021-10-10T07:01:10.308Z"
   },
   {
    "duration": 69,
    "start_time": "2021-10-10T07:02:03.173Z"
   },
   {
    "duration": 64,
    "start_time": "2021-10-10T07:03:44.336Z"
   },
   {
    "duration": 64,
    "start_time": "2021-10-10T07:03:46.274Z"
   },
   {
    "duration": 16,
    "start_time": "2021-10-10T07:03:52.677Z"
   },
   {
    "duration": 15,
    "start_time": "2021-10-10T07:04:34.509Z"
   },
   {
    "duration": 6,
    "start_time": "2021-10-10T07:14:24.426Z"
   },
   {
    "duration": 4,
    "start_time": "2021-10-10T07:15:28.148Z"
   },
   {
    "duration": 282,
    "start_time": "2021-10-10T07:15:32.759Z"
   },
   {
    "duration": 251,
    "start_time": "2021-10-10T07:15:48.486Z"
   },
   {
    "duration": 248,
    "start_time": "2021-10-10T07:16:16.921Z"
   },
   {
    "duration": 277,
    "start_time": "2021-10-10T07:17:51.273Z"
   },
   {
    "duration": 266,
    "start_time": "2021-10-10T07:18:20.630Z"
   },
   {
    "duration": 6,
    "start_time": "2021-10-10T07:18:27.912Z"
   },
   {
    "duration": 6,
    "start_time": "2021-10-10T07:18:34.645Z"
   },
   {
    "duration": 274,
    "start_time": "2021-10-10T07:18:47.341Z"
   },
   {
    "duration": 295,
    "start_time": "2021-10-10T07:19:09.356Z"
   },
   {
    "duration": 260,
    "start_time": "2021-10-10T07:19:27.653Z"
   },
   {
    "duration": 569,
    "start_time": "2021-10-10T07:19:42.002Z"
   },
   {
    "duration": 63,
    "start_time": "2021-10-10T07:19:44.518Z"
   },
   {
    "duration": 304,
    "start_time": "2021-10-10T07:19:48.180Z"
   },
   {
    "duration": 570,
    "start_time": "2021-10-10T07:20:12.114Z"
   },
   {
    "duration": 29,
    "start_time": "2021-10-10T07:20:24.494Z"
   },
   {
    "duration": 30,
    "start_time": "2021-10-10T07:20:32.269Z"
   },
   {
    "duration": 8011,
    "start_time": "2021-10-10T07:25:47.400Z"
   },
   {
    "duration": 6505,
    "start_time": "2021-10-10T07:26:35.305Z"
   },
   {
    "duration": 294,
    "start_time": "2021-10-10T07:26:47.860Z"
   },
   {
    "duration": 22,
    "start_time": "2021-10-10T07:27:51.685Z"
   },
   {
    "duration": 28,
    "start_time": "2021-10-10T07:28:00.853Z"
   },
   {
    "duration": 256,
    "start_time": "2021-10-10T07:28:24.783Z"
   },
   {
    "duration": 4,
    "start_time": "2021-10-10T07:28:34.032Z"
   },
   {
    "duration": 63,
    "start_time": "2021-10-10T07:28:36.052Z"
   },
   {
    "duration": 27,
    "start_time": "2021-10-10T07:28:40.484Z"
   },
   {
    "duration": 37,
    "start_time": "2021-10-10T07:28:45.035Z"
   },
   {
    "duration": 4,
    "start_time": "2021-10-10T07:29:15.142Z"
   },
   {
    "duration": 64,
    "start_time": "2021-10-10T07:29:17.514Z"
   },
   {
    "duration": 29,
    "start_time": "2021-10-10T07:29:21.153Z"
   },
   {
    "duration": 33,
    "start_time": "2021-10-10T07:29:27.579Z"
   },
   {
    "duration": 10,
    "start_time": "2021-10-10T07:48:09.193Z"
   },
   {
    "duration": 28,
    "start_time": "2021-10-10T07:48:39.501Z"
   },
   {
    "duration": 877,
    "start_time": "2021-10-10T07:48:59.029Z"
   },
   {
    "duration": 9,
    "start_time": "2021-10-10T07:51:58.047Z"
   },
   {
    "duration": 7,
    "start_time": "2021-10-10T07:52:24.712Z"
   },
   {
    "duration": 31,
    "start_time": "2021-10-10T07:52:46.343Z"
   },
   {
    "duration": 4,
    "start_time": "2021-10-10T07:54:44.433Z"
   },
   {
    "duration": 63,
    "start_time": "2021-10-10T07:54:46.262Z"
   },
   {
    "duration": 29,
    "start_time": "2021-10-10T07:54:50.209Z"
   },
   {
    "duration": 29,
    "start_time": "2021-10-10T07:55:32.154Z"
   },
   {
    "duration": 20,
    "start_time": "2021-10-10T07:55:57.289Z"
   },
   {
    "duration": 263,
    "start_time": "2021-10-10T07:56:04.404Z"
   },
   {
    "duration": 4,
    "start_time": "2021-10-10T07:56:11.991Z"
   },
   {
    "duration": 62,
    "start_time": "2021-10-10T07:56:14.173Z"
   },
   {
    "duration": 20,
    "start_time": "2021-10-10T07:56:17.286Z"
   },
   {
    "duration": 22,
    "start_time": "2021-10-10T07:56:19.625Z"
   },
   {
    "duration": 270,
    "start_time": "2021-10-10T07:56:22.262Z"
   },
   {
    "duration": 11,
    "start_time": "2021-10-10T07:57:03.586Z"
   },
   {
    "duration": 15,
    "start_time": "2021-10-10T07:57:12.786Z"
   },
   {
    "duration": 10,
    "start_time": "2021-10-10T07:57:23.169Z"
   },
   {
    "duration": 115,
    "start_time": "2021-10-10T08:03:49.021Z"
   },
   {
    "duration": 32,
    "start_time": "2021-10-10T08:04:00.194Z"
   },
   {
    "duration": 34,
    "start_time": "2021-10-10T08:04:05.448Z"
   },
   {
    "duration": 14,
    "start_time": "2021-10-10T08:04:27.011Z"
   },
   {
    "duration": 4,
    "start_time": "2021-10-10T08:05:08.609Z"
   },
   {
    "duration": 63,
    "start_time": "2021-10-10T08:05:10.533Z"
   },
   {
    "duration": 19,
    "start_time": "2021-10-10T08:05:13.463Z"
   },
   {
    "duration": 21,
    "start_time": "2021-10-10T08:05:16.093Z"
   },
   {
    "duration": 32,
    "start_time": "2021-10-10T08:05:19.133Z"
   },
   {
    "duration": 16,
    "start_time": "2021-10-10T08:05:33.961Z"
   },
   {
    "duration": 14,
    "start_time": "2021-10-10T08:05:35.785Z"
   },
   {
    "duration": 264,
    "start_time": "2021-10-10T08:06:30.424Z"
   },
   {
    "duration": 20,
    "start_time": "2021-10-10T08:06:37.000Z"
   },
   {
    "duration": 33,
    "start_time": "2021-10-10T08:07:24.363Z"
   },
   {
    "duration": 19,
    "start_time": "2021-10-10T08:07:37.826Z"
   },
   {
    "duration": 20,
    "start_time": "2021-10-10T08:07:39.620Z"
   },
   {
    "duration": 31,
    "start_time": "2021-10-10T08:07:41.570Z"
   },
   {
    "duration": 271,
    "start_time": "2021-10-10T08:08:34.468Z"
   },
   {
    "duration": 20,
    "start_time": "2021-10-10T08:08:45.427Z"
   },
   {
    "duration": 108,
    "start_time": "2021-10-10T08:10:32.673Z"
   },
   {
    "duration": 20,
    "start_time": "2021-10-10T08:10:37.551Z"
   },
   {
    "duration": 18,
    "start_time": "2021-10-10T08:10:42.893Z"
   },
   {
    "duration": 263,
    "start_time": "2021-10-10T08:12:41.810Z"
   },
   {
    "duration": 92,
    "start_time": "2021-10-10T08:13:21.265Z"
   },
   {
    "duration": 294,
    "start_time": "2021-10-10T08:13:28.336Z"
   },
   {
    "duration": 302,
    "start_time": "2021-10-10T08:14:02.656Z"
   },
   {
    "duration": 300,
    "start_time": "2021-10-10T08:14:11.503Z"
   },
   {
    "duration": 4,
    "start_time": "2021-10-10T08:14:53.726Z"
   },
   {
    "duration": 63,
    "start_time": "2021-10-10T08:14:55.649Z"
   },
   {
    "duration": 19,
    "start_time": "2021-10-10T08:14:58.989Z"
   },
   {
    "duration": 6,
    "start_time": "2021-10-10T08:15:01.643Z"
   },
   {
    "duration": 7,
    "start_time": "2021-10-10T08:15:06.115Z"
   },
   {
    "duration": 15,
    "start_time": "2021-10-10T08:15:09.869Z"
   },
   {
    "duration": 20,
    "start_time": "2021-10-10T08:15:17.234Z"
   },
   {
    "duration": 265,
    "start_time": "2021-10-10T08:15:19.707Z"
   },
   {
    "duration": 252,
    "start_time": "2021-10-10T08:15:42.640Z"
   },
   {
    "duration": 301,
    "start_time": "2021-10-10T08:16:10.772Z"
   },
   {
    "duration": 272,
    "start_time": "2021-10-10T08:18:50.141Z"
   },
   {
    "duration": 276,
    "start_time": "2021-10-10T08:22:41.396Z"
   },
   {
    "duration": 267,
    "start_time": "2021-10-10T08:27:45.685Z"
   },
   {
    "duration": 3,
    "start_time": "2021-10-10T08:28:14.135Z"
   },
   {
    "duration": 3,
    "start_time": "2021-10-10T08:28:17.675Z"
   },
   {
    "duration": 249,
    "start_time": "2021-10-10T08:28:34.544Z"
   },
   {
    "duration": 3,
    "start_time": "2021-10-10T08:28:55.166Z"
   },
   {
    "duration": 66,
    "start_time": "2021-10-10T08:28:57.050Z"
   },
   {
    "duration": 20,
    "start_time": "2021-10-10T08:29:00.947Z"
   },
   {
    "duration": 6,
    "start_time": "2021-10-10T08:29:02.988Z"
   },
   {
    "duration": 8,
    "start_time": "2021-10-10T08:29:05.629Z"
   },
   {
    "duration": 28,
    "start_time": "2021-10-10T08:29:11.833Z"
   },
   {
    "duration": 9,
    "start_time": "2021-10-10T08:29:19.989Z"
   },
   {
    "duration": 14,
    "start_time": "2021-10-10T08:29:31.563Z"
   },
   {
    "duration": 4,
    "start_time": "2021-10-10T08:29:46.209Z"
   },
   {
    "duration": 62,
    "start_time": "2021-10-10T08:29:47.843Z"
   },
   {
    "duration": 21,
    "start_time": "2021-10-10T08:29:53.577Z"
   },
   {
    "duration": 6,
    "start_time": "2021-10-10T08:29:56.373Z"
   },
   {
    "duration": 8,
    "start_time": "2021-10-10T08:29:58.871Z"
   },
   {
    "duration": 20,
    "start_time": "2021-10-10T08:30:01.542Z"
   },
   {
    "duration": 7,
    "start_time": "2021-10-10T08:30:06.599Z"
   },
   {
    "duration": 15,
    "start_time": "2021-10-10T08:30:08.819Z"
   },
   {
    "duration": 13,
    "start_time": "2021-10-10T08:30:34.837Z"
   },
   {
    "duration": 268,
    "start_time": "2021-10-10T08:30:53.093Z"
   },
   {
    "duration": 4,
    "start_time": "2021-10-10T08:31:02.825Z"
   },
   {
    "duration": 62,
    "start_time": "2021-10-10T08:31:04.410Z"
   },
   {
    "duration": 20,
    "start_time": "2021-10-10T08:31:08.724Z"
   },
   {
    "duration": 5,
    "start_time": "2021-10-10T08:31:10.588Z"
   },
   {
    "duration": 7,
    "start_time": "2021-10-10T08:31:13.408Z"
   },
   {
    "duration": 15,
    "start_time": "2021-10-10T08:31:15.201Z"
   },
   {
    "duration": 20,
    "start_time": "2021-10-10T08:31:18.493Z"
   },
   {
    "duration": 17,
    "start_time": "2021-10-10T08:31:20.841Z"
   },
   {
    "duration": 14,
    "start_time": "2021-10-10T08:31:23.403Z"
   },
   {
    "duration": 13,
    "start_time": "2021-10-10T08:31:26.822Z"
   },
   {
    "duration": 30,
    "start_time": "2021-10-10T08:31:56.170Z"
   },
   {
    "duration": 273,
    "start_time": "2021-10-10T08:32:10.757Z"
   },
   {
    "duration": 94,
    "start_time": "2021-10-10T08:32:25.221Z"
   },
   {
    "duration": 31,
    "start_time": "2021-10-10T08:32:31.352Z"
   },
   {
    "duration": 31,
    "start_time": "2021-10-10T08:33:39.291Z"
   },
   {
    "duration": -3748,
    "start_time": "2021-10-10T08:34:59.258Z"
   },
   {
    "duration": 4,
    "start_time": "2021-10-10T08:35:20.734Z"
   },
   {
    "duration": 62,
    "start_time": "2021-10-10T08:35:23.974Z"
   },
   {
    "duration": 21,
    "start_time": "2021-10-10T08:35:28.543Z"
   },
   {
    "duration": 7,
    "start_time": "2021-10-10T08:35:31.066Z"
   },
   {
    "duration": 7,
    "start_time": "2021-10-10T08:35:33.238Z"
   },
   {
    "duration": 17,
    "start_time": "2021-10-10T08:35:37.509Z"
   },
   {
    "duration": 32,
    "start_time": "2021-10-10T08:35:40.772Z"
   },
   {
    "duration": 32,
    "start_time": "2021-10-10T08:36:43.022Z"
   },
   {
    "duration": 22,
    "start_time": "2021-10-10T08:39:03.489Z"
   },
   {
    "duration": 21,
    "start_time": "2021-10-10T08:39:27.568Z"
   },
   {
    "duration": 30,
    "start_time": "2021-10-10T08:40:40.829Z"
   },
   {
    "duration": 10,
    "start_time": "2021-10-10T08:41:31.015Z"
   },
   {
    "duration": 10,
    "start_time": "2021-10-10T08:42:17.368Z"
   },
   {
    "duration": -3760,
    "start_time": "2021-10-10T08:43:00.564Z"
   },
   {
    "duration": 9,
    "start_time": "2021-10-10T08:43:07.669Z"
   },
   {
    "duration": 10,
    "start_time": "2021-10-10T08:43:13.739Z"
   },
   {
    "duration": 312,
    "start_time": "2021-10-10T08:48:13.957Z"
   },
   {
    "duration": 4,
    "start_time": "2021-10-10T08:48:54.596Z"
   },
   {
    "duration": 64,
    "start_time": "2021-10-10T08:48:56.383Z"
   },
   {
    "duration": 21,
    "start_time": "2021-10-10T08:49:00.140Z"
   },
   {
    "duration": 6,
    "start_time": "2021-10-10T08:49:03.697Z"
   },
   {
    "duration": 12,
    "start_time": "2021-10-10T08:49:12.255Z"
   },
   {
    "duration": 11,
    "start_time": "2021-10-10T08:49:20.049Z"
   },
   {
    "duration": 4,
    "start_time": "2021-10-10T15:10:11.966Z"
   },
   {
    "duration": 64,
    "start_time": "2021-10-10T15:10:14.365Z"
   },
   {
    "duration": 19,
    "start_time": "2021-10-10T15:10:18.222Z"
   },
   {
    "duration": 6,
    "start_time": "2021-10-10T15:10:20.657Z"
   },
   {
    "duration": 10,
    "start_time": "2021-10-10T15:10:22.677Z"
   },
   {
    "duration": 20,
    "start_time": "2021-10-10T15:11:12.652Z"
   },
   {
    "duration": 270,
    "start_time": "2021-10-10T15:12:34.358Z"
   },
   {
    "duration": 4,
    "start_time": "2021-10-10T15:13:12.019Z"
   },
   {
    "duration": 64,
    "start_time": "2021-10-10T15:13:14.335Z"
   },
   {
    "duration": 21,
    "start_time": "2021-10-10T15:13:18.483Z"
   },
   {
    "duration": 6,
    "start_time": "2021-10-10T15:13:21.365Z"
   },
   {
    "duration": 11,
    "start_time": "2021-10-10T15:13:29.010Z"
   },
   {
    "duration": 8,
    "start_time": "2021-10-10T15:17:22.098Z"
   },
   {
    "duration": 21,
    "start_time": "2021-10-10T15:17:45.118Z"
   },
   {
    "duration": 20,
    "start_time": "2021-10-10T15:19:11.203Z"
   },
   {
    "duration": 20,
    "start_time": "2021-10-10T15:19:22.391Z"
   },
   {
    "duration": 17,
    "start_time": "2021-10-10T15:19:39.806Z"
   },
   {
    "duration": 10,
    "start_time": "2021-10-10T15:20:21.705Z"
   },
   {
    "duration": 10,
    "start_time": "2021-10-10T15:23:41.572Z"
   },
   {
    "duration": 9,
    "start_time": "2021-10-10T15:23:46.908Z"
   },
   {
    "duration": 25,
    "start_time": "2021-10-10T15:28:25.071Z"
   },
   {
    "duration": 4,
    "start_time": "2021-10-10T15:30:09.364Z"
   },
   {
    "duration": 62,
    "start_time": "2021-10-10T15:30:11.745Z"
   },
   {
    "duration": 20,
    "start_time": "2021-10-10T15:30:15.021Z"
   },
   {
    "duration": 6,
    "start_time": "2021-10-10T15:30:19.471Z"
   },
   {
    "duration": 31,
    "start_time": "2021-10-10T15:31:21.345Z"
   },
   {
    "duration": 276,
    "start_time": "2021-10-10T15:32:45.554Z"
   },
   {
    "duration": 272,
    "start_time": "2021-10-10T15:32:56.873Z"
   },
   {
    "duration": 39,
    "start_time": "2021-10-10T15:35:01.283Z"
   },
   {
    "duration": 32,
    "start_time": "2021-10-10T15:36:30.879Z"
   },
   {
    "duration": 34,
    "start_time": "2021-10-10T15:38:06.025Z"
   },
   {
    "duration": 33,
    "start_time": "2021-10-10T15:38:18.774Z"
   },
   {
    "duration": 37,
    "start_time": "2021-10-10T15:39:05.487Z"
   },
   {
    "duration": 40,
    "start_time": "2021-10-10T15:43:41.062Z"
   },
   {
    "duration": 10,
    "start_time": "2021-10-10T15:45:37.788Z"
   },
   {
    "duration": 18,
    "start_time": "2021-10-10T15:46:04.546Z"
   },
   {
    "duration": 3,
    "start_time": "2021-10-10T15:50:34.424Z"
   },
   {
    "duration": 64,
    "start_time": "2021-10-10T15:50:36.183Z"
   },
   {
    "duration": 20,
    "start_time": "2021-10-10T15:50:40.430Z"
   },
   {
    "duration": 6,
    "start_time": "2021-10-10T15:50:47.414Z"
   },
   {
    "duration": 438,
    "start_time": "2021-10-10T15:52:16.362Z"
   },
   {
    "duration": 492,
    "start_time": "2021-10-10T15:52:32.092Z"
   },
   {
    "duration": 4,
    "start_time": "2021-10-10T15:52:44.064Z"
   },
   {
    "duration": 67,
    "start_time": "2021-10-10T15:52:46.567Z"
   },
   {
    "duration": 19,
    "start_time": "2021-10-10T15:52:49.979Z"
   },
   {
    "duration": 32,
    "start_time": "2021-10-10T15:52:53.038Z"
   },
   {
    "duration": 273,
    "start_time": "2021-10-10T15:53:50.281Z"
   },
   {
    "duration": 33,
    "start_time": "2021-10-10T15:54:03.090Z"
   },
   {
    "duration": 4,
    "start_time": "2021-10-10T15:58:18.364Z"
   },
   {
    "duration": 65,
    "start_time": "2021-10-10T15:58:20.128Z"
   },
   {
    "duration": 20,
    "start_time": "2021-10-10T15:58:23.312Z"
   },
   {
    "duration": 34,
    "start_time": "2021-10-10T15:58:27.630Z"
   },
   {
    "duration": 10,
    "start_time": "2021-10-10T15:59:26.601Z"
   },
   {
    "duration": 18,
    "start_time": "2021-10-10T15:59:35.171Z"
   },
   {
    "duration": 39,
    "start_time": "2021-10-10T16:00:22.180Z"
   },
   {
    "duration": 40,
    "start_time": "2021-10-10T16:00:25.941Z"
   },
   {
    "duration": 31,
    "start_time": "2021-10-10T16:04:41.213Z"
   },
   {
    "duration": 28,
    "start_time": "2021-10-10T16:05:01.769Z"
   },
   {
    "duration": 8,
    "start_time": "2021-10-10T16:06:20.765Z"
   },
   {
    "duration": 27,
    "start_time": "2021-10-10T16:07:18.097Z"
   },
   {
    "duration": 29,
    "start_time": "2021-10-10T16:08:34.567Z"
   },
   {
    "duration": 8,
    "start_time": "2021-10-10T16:09:01.434Z"
   },
   {
    "duration": 35,
    "start_time": "2021-10-10T16:09:10.660Z"
   },
   {
    "duration": 31,
    "start_time": "2021-10-10T16:09:30.092Z"
   },
   {
    "duration": 36,
    "start_time": "2021-10-10T16:10:26.336Z"
   },
   {
    "duration": 36,
    "start_time": "2021-10-10T16:20:53.278Z"
   },
   {
    "duration": 4,
    "start_time": "2021-10-10T16:25:34.224Z"
   },
   {
    "duration": 4,
    "start_time": "2021-10-10T16:25:38.650Z"
   },
   {
    "duration": 65,
    "start_time": "2021-10-10T16:25:40.494Z"
   },
   {
    "duration": 24,
    "start_time": "2021-10-10T16:25:45.095Z"
   },
   {
    "duration": 25,
    "start_time": "2021-10-10T16:25:48.958Z"
   },
   {
    "duration": 10,
    "start_time": "2021-10-10T16:26:03.771Z"
   },
   {
    "duration": 19,
    "start_time": "2021-10-10T16:26:11.441Z"
   },
   {
    "duration": 82,
    "start_time": "2021-10-10T16:27:16.584Z"
   },
   {
    "duration": 88,
    "start_time": "2021-10-10T16:27:50.560Z"
   },
   {
    "duration": 92,
    "start_time": "2021-10-10T16:28:15.822Z"
   },
   {
    "duration": 85,
    "start_time": "2021-10-10T16:28:26.191Z"
   },
   {
    "duration": 262,
    "start_time": "2021-10-10T16:28:35.228Z"
   },
   {
    "duration": 263,
    "start_time": "2021-10-10T16:28:42.564Z"
   },
   {
    "duration": 359,
    "start_time": "2021-10-10T16:28:49.018Z"
   },
   {
    "duration": 59,
    "start_time": "2021-10-10T16:29:13.003Z"
   },
   {
    "duration": 69,
    "start_time": "2021-10-10T16:29:51.583Z"
   },
   {
    "duration": 37,
    "start_time": "2021-10-10T16:31:09.597Z"
   },
   {
    "duration": 35,
    "start_time": "2021-10-10T16:33:04.554Z"
   },
   {
    "duration": 37,
    "start_time": "2021-10-10T16:33:11.371Z"
   },
   {
    "duration": 22,
    "start_time": "2021-10-10T16:33:32.790Z"
   },
   {
    "duration": 18,
    "start_time": "2021-10-10T16:33:36.826Z"
   },
   {
    "duration": 10,
    "start_time": "2021-10-10T16:33:43.931Z"
   },
   {
    "duration": 10,
    "start_time": "2021-10-10T16:33:46.459Z"
   },
   {
    "duration": 25,
    "start_time": "2021-10-10T16:33:50.792Z"
   },
   {
    "duration": 24,
    "start_time": "2021-10-10T16:34:51.057Z"
   },
   {
    "duration": 88,
    "start_time": "2021-10-10T16:39:52.491Z"
   },
   {
    "duration": 94,
    "start_time": "2021-10-10T16:39:59.265Z"
   },
   {
    "duration": 521,
    "start_time": "2021-10-10T16:40:05.066Z"
   },
   {
    "duration": 254,
    "start_time": "2021-10-11T16:16:22.480Z"
   },
   {
    "duration": 1071,
    "start_time": "2021-10-11T16:16:28.166Z"
   },
   {
    "duration": 52,
    "start_time": "2021-10-11T16:16:29.759Z"
   },
   {
    "duration": 13,
    "start_time": "2021-10-11T16:16:32.555Z"
   },
   {
    "duration": 17,
    "start_time": "2021-10-11T16:16:34.680Z"
   },
   {
    "duration": 9,
    "start_time": "2021-10-11T16:16:36.462Z"
   },
   {
    "duration": 14,
    "start_time": "2021-10-11T16:16:38.201Z"
   },
   {
    "duration": 23,
    "start_time": "2021-10-11T16:16:48.095Z"
   },
   {
    "duration": 12,
    "start_time": "2021-10-11T16:16:57.777Z"
   },
   {
    "duration": 20,
    "start_time": "2021-10-11T16:17:14.405Z"
   },
   {
    "duration": 399,
    "start_time": "2021-10-11T16:17:19.300Z"
   },
   {
    "duration": 327,
    "start_time": "2021-10-11T16:17:53.059Z"
   },
   {
    "duration": 408,
    "start_time": "2021-10-11T16:18:59.128Z"
   },
   {
    "duration": 348,
    "start_time": "2021-10-11T16:19:08.551Z"
   },
   {
    "duration": 15,
    "start_time": "2021-10-11T16:26:35.916Z"
   },
   {
    "duration": 15,
    "start_time": "2021-10-11T16:27:01.562Z"
   },
   {
    "duration": 13,
    "start_time": "2021-10-11T16:27:20.128Z"
   },
   {
    "duration": 14,
    "start_time": "2021-10-11T16:27:32.586Z"
   },
   {
    "duration": 14,
    "start_time": "2021-10-11T16:30:44.565Z"
   },
   {
    "duration": 13,
    "start_time": "2021-10-11T16:33:12.460Z"
   },
   {
    "duration": 13,
    "start_time": "2021-10-11T16:33:16.672Z"
   },
   {
    "duration": 4,
    "start_time": "2021-10-11T16:33:34.494Z"
   },
   {
    "duration": 48,
    "start_time": "2021-10-11T16:33:36.303Z"
   },
   {
    "duration": 14,
    "start_time": "2021-10-11T16:33:40.071Z"
   },
   {
    "duration": 16,
    "start_time": "2021-10-11T16:33:43.310Z"
   },
   {
    "duration": 13,
    "start_time": "2021-10-11T16:33:52.783Z"
   },
   {
    "duration": 25,
    "start_time": "2021-10-11T16:33:59.365Z"
   },
   {
    "duration": 14,
    "start_time": "2021-10-11T16:34:02.887Z"
   },
   {
    "duration": 12,
    "start_time": "2021-10-11T16:34:05.492Z"
   },
   {
    "duration": 15,
    "start_time": "2021-10-11T16:34:09.798Z"
   },
   {
    "duration": 324,
    "start_time": "2021-10-11T16:34:12.320Z"
   },
   {
    "duration": 14,
    "start_time": "2021-10-11T16:34:15.254Z"
   },
   {
    "duration": 24,
    "start_time": "2021-10-11T16:44:16.142Z"
   },
   {
    "duration": 24,
    "start_time": "2021-10-11T16:44:41.620Z"
   },
   {
    "duration": 25,
    "start_time": "2021-10-11T16:47:17.980Z"
   },
   {
    "duration": 761,
    "start_time": "2021-10-11T16:48:07.754Z"
   },
   {
    "duration": 22,
    "start_time": "2021-10-11T16:48:26.124Z"
   },
   {
    "duration": 13,
    "start_time": "2021-10-11T16:53:13.187Z"
   },
   {
    "duration": 13,
    "start_time": "2021-10-11T16:54:06.463Z"
   },
   {
    "duration": 15,
    "start_time": "2021-10-11T16:54:09.733Z"
   },
   {
    "duration": 12,
    "start_time": "2021-10-11T17:00:21.017Z"
   },
   {
    "duration": 244,
    "start_time": "2021-10-11T17:00:39.935Z"
   },
   {
    "duration": 17,
    "start_time": "2021-10-11T17:00:46.524Z"
   },
   {
    "duration": 233,
    "start_time": "2021-10-11T17:04:09.918Z"
   },
   {
    "duration": 2869,
    "start_time": "2021-10-11T17:04:27.083Z"
   },
   {
    "duration": 3,
    "start_time": "2021-10-11T17:06:27.724Z"
   },
   {
    "duration": 4,
    "start_time": "2021-10-11T17:06:35.380Z"
   },
   {
    "duration": 48,
    "start_time": "2021-10-11T17:06:37.135Z"
   },
   {
    "duration": 17,
    "start_time": "2021-10-11T17:06:50.868Z"
   },
   {
    "duration": 17,
    "start_time": "2021-10-11T17:06:53.014Z"
   },
   {
    "duration": 12,
    "start_time": "2021-10-11T17:06:59.245Z"
   },
   {
    "duration": 22,
    "start_time": "2021-10-11T17:07:07.363Z"
   },
   {
    "duration": 12,
    "start_time": "2021-10-11T17:07:13.871Z"
   },
   {
    "duration": 15,
    "start_time": "2021-10-11T17:08:16.668Z"
   },
   {
    "duration": 339,
    "start_time": "2021-10-11T17:08:22.517Z"
   },
   {
    "duration": 14,
    "start_time": "2021-10-11T17:09:01.751Z"
   },
   {
    "duration": 274,
    "start_time": "2021-10-11T17:09:05.696Z"
   },
   {
    "duration": 218,
    "start_time": "2021-10-11T17:09:16.304Z"
   },
   {
    "duration": 716,
    "start_time": "2021-10-11T17:09:28.832Z"
   },
   {
    "duration": 13,
    "start_time": "2021-10-11T17:09:35.290Z"
   },
   {
    "duration": 2834,
    "start_time": "2021-10-11T17:09:48.351Z"
   },
   {
    "duration": 2731,
    "start_time": "2021-10-11T17:11:03.479Z"
   },
   {
    "duration": 2848,
    "start_time": "2021-10-11T17:11:23.179Z"
   },
   {
    "duration": 531,
    "start_time": "2021-10-11T17:12:55.286Z"
   },
   {
    "duration": 2729,
    "start_time": "2021-10-11T17:13:15.510Z"
   },
   {
    "duration": 2892,
    "start_time": "2021-10-11T17:19:13.983Z"
   },
   {
    "duration": 2761,
    "start_time": "2021-10-11T17:19:48.434Z"
   },
   {
    "duration": 2876,
    "start_time": "2021-10-11T17:20:10.691Z"
   },
   {
    "duration": 96,
    "start_time": "2021-10-11T17:25:24.685Z"
   },
   {
    "duration": 425,
    "start_time": "2021-10-11T17:25:56.193Z"
   },
   {
    "duration": 3662,
    "start_time": "2021-10-11T17:26:10.520Z"
   },
   {
    "duration": 218,
    "start_time": "2021-10-11T17:28:43.647Z"
   },
   {
    "duration": 2753,
    "start_time": "2021-10-11T17:28:52.105Z"
   },
   {
    "duration": 3,
    "start_time": "2021-10-11T17:29:03.732Z"
   },
   {
    "duration": 47,
    "start_time": "2021-10-11T17:29:06.725Z"
   },
   {
    "duration": 12,
    "start_time": "2021-10-11T17:29:10.314Z"
   },
   {
    "duration": 16,
    "start_time": "2021-10-11T17:29:12.839Z"
   },
   {
    "duration": 13,
    "start_time": "2021-10-11T17:29:18.067Z"
   },
   {
    "duration": 24,
    "start_time": "2021-10-11T17:29:28.312Z"
   },
   {
    "duration": 11,
    "start_time": "2021-10-11T17:29:38.439Z"
   },
   {
    "duration": 15,
    "start_time": "2021-10-11T17:29:42.006Z"
   },
   {
    "duration": 323,
    "start_time": "2021-10-11T17:29:44.423Z"
   },
   {
    "duration": 14,
    "start_time": "2021-10-11T17:29:50.171Z"
   },
   {
    "duration": 14,
    "start_time": "2021-10-11T17:29:54.357Z"
   },
   {
    "duration": 2818,
    "start_time": "2021-10-11T17:29:58.026Z"
   },
   {
    "duration": 2936,
    "start_time": "2021-10-11T17:31:01.121Z"
   },
   {
    "duration": 14,
    "start_time": "2021-10-11T17:31:15.144Z"
   },
   {
    "duration": 1850,
    "start_time": "2021-10-11T17:31:18.094Z"
   },
   {
    "duration": 1839,
    "start_time": "2021-10-11T17:32:45.347Z"
   },
   {
    "duration": 3,
    "start_time": "2021-10-11T17:41:50.868Z"
   },
   {
    "duration": 46,
    "start_time": "2021-10-11T17:41:52.801Z"
   },
   {
    "duration": 13,
    "start_time": "2021-10-11T17:41:55.679Z"
   },
   {
    "duration": 18,
    "start_time": "2021-10-11T17:41:58.048Z"
   },
   {
    "duration": 14,
    "start_time": "2021-10-11T17:42:04.546Z"
   },
   {
    "duration": 22,
    "start_time": "2021-10-11T17:42:11.075Z"
   },
   {
    "duration": 14,
    "start_time": "2021-10-11T17:42:17.198Z"
   },
   {
    "duration": 17,
    "start_time": "2021-10-11T17:42:22.918Z"
   },
   {
    "duration": 358,
    "start_time": "2021-10-11T17:42:25.441Z"
   },
   {
    "duration": 16,
    "start_time": "2021-10-11T17:43:01.332Z"
   },
   {
    "duration": 16,
    "start_time": "2021-10-11T17:43:06.983Z"
   },
   {
    "duration": 2772,
    "start_time": "2021-10-11T17:44:14.600Z"
   },
   {
    "duration": 14,
    "start_time": "2021-10-11T17:44:46.385Z"
   },
   {
    "duration": 258,
    "start_time": "2021-10-12T15:24:00.233Z"
   },
   {
    "duration": 1069,
    "start_time": "2021-10-12T15:24:44.453Z"
   },
   {
    "duration": 50,
    "start_time": "2021-10-12T15:24:46.916Z"
   },
   {
    "duration": 11,
    "start_time": "2021-10-12T15:24:52.129Z"
   },
   {
    "duration": 17,
    "start_time": "2021-10-12T15:24:55.231Z"
   },
   {
    "duration": 14,
    "start_time": "2021-10-12T15:25:00.004Z"
   },
   {
    "duration": 23,
    "start_time": "2021-10-12T15:25:07.987Z"
   },
   {
    "duration": 21,
    "start_time": "2021-10-12T15:25:12.953Z"
   },
   {
    "duration": 12,
    "start_time": "2021-10-12T15:25:18.969Z"
   },
   {
    "duration": 19,
    "start_time": "2021-10-12T15:25:25.452Z"
   },
   {
    "duration": 349,
    "start_time": "2021-10-12T15:25:30.050Z"
   },
   {
    "duration": 15,
    "start_time": "2021-10-12T15:25:36.542Z"
   },
   {
    "duration": 379,
    "start_time": "2021-10-12T15:27:19.521Z"
   },
   {
    "duration": 370,
    "start_time": "2021-10-12T15:28:16.148Z"
   },
   {
    "duration": 353,
    "start_time": "2021-10-12T15:28:54.118Z"
   },
   {
    "duration": 369,
    "start_time": "2021-10-12T15:31:47.859Z"
   },
   {
    "duration": 292,
    "start_time": "2021-10-12T15:32:35.437Z"
   },
   {
    "duration": 568,
    "start_time": "2021-10-12T15:33:38.231Z"
   },
   {
    "duration": 623,
    "start_time": "2021-10-12T15:34:38.778Z"
   },
   {
    "duration": 551,
    "start_time": "2021-10-12T15:35:57.583Z"
   },
   {
    "duration": 362,
    "start_time": "2021-10-12T15:37:33.827Z"
   },
   {
    "duration": 376,
    "start_time": "2021-10-12T15:37:45.742Z"
   },
   {
    "duration": 361,
    "start_time": "2021-10-12T15:38:01.757Z"
   },
   {
    "duration": 254,
    "start_time": "2021-10-12T15:38:24.803Z"
   },
   {
    "duration": 633,
    "start_time": "2021-10-12T15:39:10.780Z"
   },
   {
    "duration": 574,
    "start_time": "2021-10-12T15:39:52.481Z"
   },
   {
    "duration": 588,
    "start_time": "2021-10-12T15:40:15.884Z"
   },
   {
    "duration": 602,
    "start_time": "2021-10-12T15:40:25.002Z"
   },
   {
    "duration": 554,
    "start_time": "2021-10-12T15:44:36.465Z"
   },
   {
    "duration": 570,
    "start_time": "2021-10-12T15:47:31.564Z"
   },
   {
    "duration": 385,
    "start_time": "2021-10-12T15:50:16.660Z"
   },
   {
    "duration": 227,
    "start_time": "2021-10-12T15:51:10.501Z"
   },
   {
    "duration": 353,
    "start_time": "2021-10-12T15:51:41.336Z"
   },
   {
    "duration": 558,
    "start_time": "2021-10-12T15:53:15.429Z"
   },
   {
    "duration": 668,
    "start_time": "2021-10-12T15:53:48.476Z"
   },
   {
    "duration": 696,
    "start_time": "2021-10-12T15:55:04.062Z"
   },
   {
    "duration": 567,
    "start_time": "2021-10-12T15:55:12.823Z"
   },
   {
    "duration": 386,
    "start_time": "2021-10-12T15:55:49.038Z"
   },
   {
    "duration": 375,
    "start_time": "2021-10-12T15:56:04.135Z"
   },
   {
    "duration": 580,
    "start_time": "2021-10-12T15:56:33.060Z"
   },
   {
    "duration": 658,
    "start_time": "2021-10-12T15:57:21.434Z"
   },
   {
    "duration": 683,
    "start_time": "2021-10-12T15:57:35.724Z"
   },
   {
    "duration": 575,
    "start_time": "2021-10-12T15:59:08.437Z"
   },
   {
    "duration": 560,
    "start_time": "2021-10-12T16:04:24.068Z"
   },
   {
    "duration": 15,
    "start_time": "2021-10-12T16:06:24.442Z"
   },
   {
    "duration": 798,
    "start_time": "2021-10-12T16:06:32.397Z"
   },
   {
    "duration": 18,
    "start_time": "2021-10-12T16:08:31.330Z"
   },
   {
    "duration": 17,
    "start_time": "2021-10-12T16:08:53.121Z"
   },
   {
    "duration": 673,
    "start_time": "2021-10-12T16:08:59.333Z"
   },
   {
    "duration": 16,
    "start_time": "2021-10-12T16:09:30.133Z"
   },
   {
    "duration": 18,
    "start_time": "2021-10-12T16:14:19.876Z"
   },
   {
    "duration": 18,
    "start_time": "2021-10-12T16:15:41.951Z"
   },
   {
    "duration": 473,
    "start_time": "2021-10-12T16:15:44.832Z"
   },
   {
    "duration": 451,
    "start_time": "2021-10-12T16:17:53.673Z"
   },
   {
    "duration": 6,
    "start_time": "2021-10-12T16:22:16.722Z"
   },
   {
    "duration": 17,
    "start_time": "2021-10-12T16:24:01.765Z"
   },
   {
    "duration": 16,
    "start_time": "2021-10-12T16:25:31.098Z"
   },
   {
    "duration": 476,
    "start_time": "2021-10-12T16:26:08.845Z"
   },
   {
    "duration": 396,
    "start_time": "2021-10-12T16:26:25.021Z"
   },
   {
    "duration": 473,
    "start_time": "2021-10-12T16:27:45.484Z"
   },
   {
    "duration": 558,
    "start_time": "2021-10-12T16:28:40.343Z"
   },
   {
    "duration": 419,
    "start_time": "2021-10-12T16:29:22.328Z"
   },
   {
    "duration": 531,
    "start_time": "2021-10-12T16:30:07.866Z"
   },
   {
    "duration": 400,
    "start_time": "2021-10-12T16:57:17.447Z"
   },
   {
    "duration": 17,
    "start_time": "2021-10-12T16:58:28.596Z"
   },
   {
    "duration": 427,
    "start_time": "2021-10-12T16:58:31.683Z"
   },
   {
    "duration": 127,
    "start_time": "2021-10-12T16:59:42.941Z"
   },
   {
    "duration": 4,
    "start_time": "2021-10-12T17:02:02.996Z"
   },
   {
    "duration": 218,
    "start_time": "2021-10-12T17:02:19.435Z"
   },
   {
    "duration": 6,
    "start_time": "2021-10-12T17:02:43.386Z"
   },
   {
    "duration": 67,
    "start_time": "2021-10-12T17:04:16.391Z"
   },
   {
    "duration": 13,
    "start_time": "2021-10-12T17:04:23.866Z"
   },
   {
    "duration": 14,
    "start_time": "2021-10-12T17:05:05.144Z"
   },
   {
    "duration": 118,
    "start_time": "2021-10-12T17:08:56.639Z"
   },
   {
    "duration": 328,
    "start_time": "2021-10-12T17:09:42.142Z"
   },
   {
    "duration": 113,
    "start_time": "2021-10-12T17:09:50.704Z"
   },
   {
    "duration": 1424,
    "start_time": "2021-10-13T11:31:06.011Z"
   },
   {
    "duration": 67,
    "start_time": "2021-10-13T11:31:08.559Z"
   },
   {
    "duration": 19,
    "start_time": "2021-10-13T11:31:11.894Z"
   },
   {
    "duration": 25,
    "start_time": "2021-10-13T11:31:14.574Z"
   },
   {
    "duration": 20,
    "start_time": "2021-10-13T11:31:18.293Z"
   },
   {
    "duration": 36,
    "start_time": "2021-10-13T11:31:27.534Z"
   },
   {
    "duration": 18,
    "start_time": "2021-10-13T11:31:31.742Z"
   },
   {
    "duration": 29,
    "start_time": "2021-10-13T11:31:35.838Z"
   },
   {
    "duration": 29,
    "start_time": "2021-10-13T11:31:43.911Z"
   },
   {
    "duration": 789,
    "start_time": "2021-10-13T11:31:45.878Z"
   },
   {
    "duration": 24,
    "start_time": "2021-10-13T11:31:49.359Z"
   },
   {
    "duration": 706,
    "start_time": "2021-10-13T11:31:51.294Z"
   },
   {
    "duration": 94,
    "start_time": "2021-10-13T11:33:27.354Z"
   },
   {
    "duration": 488,
    "start_time": "2021-10-13T11:35:03.900Z"
   },
   {
    "duration": 1053,
    "start_time": "2021-10-13T11:35:10.707Z"
   },
   {
    "duration": 376,
    "start_time": "2021-10-13T11:35:34.379Z"
   },
   {
    "duration": 34,
    "start_time": "2021-10-13T11:35:38.947Z"
   },
   {
    "duration": 327,
    "start_time": "2021-10-13T11:36:08.537Z"
   },
   {
    "duration": 343,
    "start_time": "2021-10-13T11:36:28.789Z"
   },
   {
    "duration": 355,
    "start_time": "2021-10-13T11:37:33.332Z"
   },
   {
    "duration": 540,
    "start_time": "2021-10-13T11:38:36.878Z"
   },
   {
    "duration": 34,
    "start_time": "2021-10-13T11:38:45.700Z"
   },
   {
    "duration": 341,
    "start_time": "2021-10-13T11:39:16.179Z"
   },
   {
    "duration": 467,
    "start_time": "2021-10-13T11:39:27.852Z"
   },
   {
    "duration": 5,
    "start_time": "2021-10-13T11:39:44.286Z"
   },
   {
    "duration": 349,
    "start_time": "2021-10-13T11:40:34.964Z"
   },
   {
    "duration": 1009,
    "start_time": "2021-10-13T11:40:54.107Z"
   },
   {
    "duration": 112,
    "start_time": "2021-10-13T11:43:21.721Z"
   },
   {
    "duration": 314,
    "start_time": "2021-10-13T11:43:25.423Z"
   },
   {
    "duration": 128,
    "start_time": "2021-10-13T11:43:35.414Z"
   },
   {
    "duration": 119,
    "start_time": "2021-10-13T11:43:57.207Z"
   },
   {
    "duration": 612,
    "start_time": "2021-10-13T11:44:01.344Z"
   },
   {
    "duration": 343,
    "start_time": "2021-10-13T11:44:15.430Z"
   },
   {
    "duration": 316,
    "start_time": "2021-10-13T11:46:55.489Z"
   },
   {
    "duration": 5,
    "start_time": "2021-10-13T11:47:27.488Z"
   },
   {
    "duration": 62,
    "start_time": "2021-10-13T11:47:29.018Z"
   },
   {
    "duration": 20,
    "start_time": "2021-10-13T11:47:31.659Z"
   },
   {
    "duration": 27,
    "start_time": "2021-10-13T11:47:33.811Z"
   },
   {
    "duration": 18,
    "start_time": "2021-10-13T11:47:36.807Z"
   },
   {
    "duration": 35,
    "start_time": "2021-10-13T11:47:42.433Z"
   },
   {
    "duration": 19,
    "start_time": "2021-10-13T11:47:45.759Z"
   },
   {
    "duration": 23,
    "start_time": "2021-10-13T11:47:49.200Z"
   },
   {
    "duration": 565,
    "start_time": "2021-10-13T11:47:51.345Z"
   },
   {
    "duration": 27,
    "start_time": "2021-10-13T11:47:54.049Z"
   },
   {
    "duration": 791,
    "start_time": "2021-10-13T11:47:55.976Z"
   },
   {
    "duration": 25,
    "start_time": "2021-10-13T11:47:59.018Z"
   },
   {
    "duration": 821,
    "start_time": "2021-10-13T11:48:00.923Z"
   },
   {
    "duration": 448,
    "start_time": "2021-10-13T11:48:05.788Z"
   },
   {
    "duration": 43,
    "start_time": "2021-10-13T11:48:20.921Z"
   },
   {
    "duration": 490,
    "start_time": "2021-10-13T11:48:46.121Z"
   },
   {
    "duration": 571,
    "start_time": "2021-10-13T11:49:02.399Z"
   },
   {
    "duration": 970,
    "start_time": "2021-10-13T11:50:00.507Z"
   },
   {
    "duration": 564,
    "start_time": "2021-10-13T11:50:14.668Z"
   },
   {
    "duration": 638,
    "start_time": "2021-10-13T11:50:48.665Z"
   },
   {
    "duration": 750,
    "start_time": "2021-10-13T11:53:25.748Z"
   },
   {
    "duration": 672,
    "start_time": "2021-10-13T11:53:31.044Z"
   },
   {
    "duration": 1231,
    "start_time": "2021-10-13T11:54:59.718Z"
   },
   {
    "duration": 1039,
    "start_time": "2021-10-13T11:55:13.570Z"
   },
   {
    "duration": 710,
    "start_time": "2021-10-13T11:55:45.295Z"
   },
   {
    "duration": 101,
    "start_time": "2021-10-13T11:56:38.182Z"
   },
   {
    "duration": 663,
    "start_time": "2021-10-13T11:56:41.087Z"
   },
   {
    "duration": 23,
    "start_time": "2021-10-13T11:57:16.142Z"
   },
   {
    "duration": 25,
    "start_time": "2021-10-13T11:57:45.293Z"
   },
   {
    "duration": 104,
    "start_time": "2021-10-13T12:00:34.906Z"
   },
   {
    "duration": 27,
    "start_time": "2021-10-13T12:00:42.590Z"
   },
   {
    "duration": 4,
    "start_time": "2021-10-13T12:01:06.551Z"
   },
   {
    "duration": 60,
    "start_time": "2021-10-13T12:01:11.729Z"
   },
   {
    "duration": 13,
    "start_time": "2021-10-13T12:01:13.439Z"
   },
   {
    "duration": 19,
    "start_time": "2021-10-13T12:01:15.952Z"
   },
   {
    "duration": 26,
    "start_time": "2021-10-13T12:01:19.138Z"
   },
   {
    "duration": 10,
    "start_time": "2021-10-13T12:01:21.359Z"
   },
   {
    "duration": 138,
    "start_time": "2021-10-13T12:01:23.511Z"
   },
   {
    "duration": 34,
    "start_time": "2021-10-13T12:01:28.067Z"
   },
   {
    "duration": 18,
    "start_time": "2021-10-13T12:01:31.624Z"
   },
   {
    "duration": 26,
    "start_time": "2021-10-13T12:01:34.296Z"
   },
   {
    "duration": 549,
    "start_time": "2021-10-13T12:01:39.144Z"
   },
   {
    "duration": 29,
    "start_time": "2021-10-13T12:01:42.488Z"
   },
   {
    "duration": 806,
    "start_time": "2021-10-13T12:01:45.144Z"
   },
   {
    "duration": 798,
    "start_time": "2021-10-13T12:02:04.019Z"
   },
   {
    "duration": 810,
    "start_time": "2021-10-13T12:02:09.248Z"
   },
   {
    "duration": 4,
    "start_time": "2021-10-13T12:02:54.536Z"
   },
   {
    "duration": 60,
    "start_time": "2021-10-13T12:02:56.142Z"
   },
   {
    "duration": 20,
    "start_time": "2021-10-13T12:02:59.000Z"
   },
   {
    "duration": 25,
    "start_time": "2021-10-13T12:03:01.765Z"
   },
   {
    "duration": 18,
    "start_time": "2021-10-13T12:03:06.017Z"
   },
   {
    "duration": 35,
    "start_time": "2021-10-13T12:03:12.245Z"
   },
   {
    "duration": 18,
    "start_time": "2021-10-13T12:03:15.441Z"
   },
   {
    "duration": 25,
    "start_time": "2021-10-13T12:03:18.081Z"
   },
   {
    "duration": 576,
    "start_time": "2021-10-13T12:03:20.408Z"
   },
   {
    "duration": 27,
    "start_time": "2021-10-13T12:03:23.234Z"
   },
   {
    "duration": 789,
    "start_time": "2021-10-13T12:03:26.673Z"
   },
   {
    "duration": 983,
    "start_time": "2021-10-13T12:03:33.162Z"
   },
   {
    "duration": 24,
    "start_time": "2021-10-13T12:03:37.673Z"
   },
   {
    "duration": 704,
    "start_time": "2021-10-13T12:03:39.423Z"
   },
   {
    "duration": 654,
    "start_time": "2021-10-13T12:03:46.011Z"
   },
   {
    "duration": 628,
    "start_time": "2021-10-13T12:04:37.803Z"
   },
   {
    "duration": 873,
    "start_time": "2021-10-13T12:05:13.179Z"
   },
   {
    "duration": 636,
    "start_time": "2021-10-13T12:07:19.286Z"
   },
   {
    "duration": 779,
    "start_time": "2021-10-13T12:07:33.180Z"
   },
   {
    "duration": 590,
    "start_time": "2021-10-13T12:07:40.413Z"
   },
   {
    "duration": 668,
    "start_time": "2021-10-13T12:08:04.666Z"
   },
   {
    "duration": 646,
    "start_time": "2021-10-13T12:08:12.014Z"
   },
   {
    "duration": 612,
    "start_time": "2021-10-13T12:08:43.188Z"
   },
   {
    "duration": 687,
    "start_time": "2021-10-13T12:08:49.516Z"
   },
   {
    "duration": 790,
    "start_time": "2021-10-13T12:09:05.470Z"
   },
   {
    "duration": 687,
    "start_time": "2021-10-13T12:09:26.192Z"
   },
   {
    "duration": 758,
    "start_time": "2021-10-13T12:12:17.739Z"
   },
   {
    "duration": 717,
    "start_time": "2021-10-13T12:21:58.821Z"
   },
   {
    "duration": 665,
    "start_time": "2021-10-13T12:22:09.896Z"
   },
   {
    "duration": 660,
    "start_time": "2021-10-13T12:22:30.208Z"
   },
   {
    "duration": 455,
    "start_time": "2021-10-13T12:24:02.158Z"
   },
   {
    "duration": 457,
    "start_time": "2021-10-13T12:24:22.234Z"
   },
   {
    "duration": 450,
    "start_time": "2021-10-13T12:24:53.174Z"
   },
   {
    "duration": 439,
    "start_time": "2021-10-13T12:25:05.366Z"
   },
   {
    "duration": 472,
    "start_time": "2021-10-13T12:25:12.609Z"
   },
   {
    "duration": 490,
    "start_time": "2021-10-13T12:25:52.915Z"
   },
   {
    "duration": 813,
    "start_time": "2021-10-13T12:26:56.950Z"
   },
   {
    "duration": 510,
    "start_time": "2021-10-13T12:27:06.041Z"
   },
   {
    "duration": 12,
    "start_time": "2021-10-13T12:28:40.503Z"
   },
   {
    "duration": 17,
    "start_time": "2021-10-13T12:28:42.591Z"
   },
   {
    "duration": 18,
    "start_time": "2021-10-13T12:29:05.663Z"
   },
   {
    "duration": 13,
    "start_time": "2021-10-13T12:29:07.346Z"
   },
   {
    "duration": 14,
    "start_time": "2021-10-13T12:29:14.241Z"
   },
   {
    "duration": 595,
    "start_time": "2021-10-13T12:29:35.145Z"
   },
   {
    "duration": 4,
    "start_time": "2021-10-13T12:30:58.731Z"
   },
   {
    "duration": 64,
    "start_time": "2021-10-13T12:31:00.130Z"
   },
   {
    "duration": 21,
    "start_time": "2021-10-13T12:31:03.212Z"
   },
   {
    "duration": 25,
    "start_time": "2021-10-13T12:31:05.084Z"
   },
   {
    "duration": 19,
    "start_time": "2021-10-13T12:31:10.135Z"
   },
   {
    "duration": 34,
    "start_time": "2021-10-13T12:31:13.901Z"
   },
   {
    "duration": 17,
    "start_time": "2021-10-13T12:31:17.109Z"
   },
   {
    "duration": 24,
    "start_time": "2021-10-13T12:31:20.071Z"
   },
   {
    "duration": 712,
    "start_time": "2021-10-13T12:31:22.692Z"
   },
   {
    "duration": 29,
    "start_time": "2021-10-13T12:31:25.436Z"
   },
   {
    "duration": 963,
    "start_time": "2021-10-13T12:31:28.994Z"
   },
   {
    "duration": 26,
    "start_time": "2021-10-13T12:31:32.020Z"
   },
   {
    "duration": 701,
    "start_time": "2021-10-13T12:31:33.996Z"
   },
   {
    "duration": 788,
    "start_time": "2021-10-13T12:31:37.572Z"
   },
   {
    "duration": 457,
    "start_time": "2021-10-13T12:31:41.076Z"
   },
   {
    "duration": 12,
    "start_time": "2021-10-13T12:31:43.770Z"
   },
   {
    "duration": 13,
    "start_time": "2021-10-13T12:31:45.155Z"
   },
   {
    "duration": 437,
    "start_time": "2021-10-13T12:31:46.811Z"
   },
   {
    "duration": 507,
    "start_time": "2021-10-13T12:32:41.236Z"
   },
   {
    "duration": 363,
    "start_time": "2021-10-13T12:33:40.349Z"
   },
   {
    "duration": 470,
    "start_time": "2021-10-13T12:34:13.735Z"
   },
   {
    "duration": 457,
    "start_time": "2021-10-13T12:34:23.114Z"
   },
   {
    "duration": 11,
    "start_time": "2021-10-13T12:34:29.334Z"
   },
   {
    "duration": 11,
    "start_time": "2021-10-13T12:34:36.806Z"
   },
   {
    "duration": 12,
    "start_time": "2021-10-13T12:35:49.719Z"
   },
   {
    "duration": 12,
    "start_time": "2021-10-13T12:35:51.422Z"
   },
   {
    "duration": 434,
    "start_time": "2021-10-13T12:35:52.813Z"
   },
   {
    "duration": 428,
    "start_time": "2021-10-13T12:36:35.704Z"
   },
   {
    "duration": 41,
    "start_time": "2021-10-13T12:42:32.211Z"
   },
   {
    "duration": 35,
    "start_time": "2021-10-13T12:43:09.510Z"
   },
   {
    "duration": 30,
    "start_time": "2021-10-13T12:43:21.561Z"
   },
   {
    "duration": 411,
    "start_time": "2021-10-13T12:46:26.150Z"
   },
   {
    "duration": 33,
    "start_time": "2021-10-13T12:46:42.084Z"
   },
   {
    "duration": 34,
    "start_time": "2021-10-13T12:47:32.892Z"
   },
   {
    "duration": 1320,
    "start_time": "2021-10-14T13:13:19.555Z"
   },
   {
    "duration": 88,
    "start_time": "2021-10-14T13:13:22.649Z"
   },
   {
    "duration": 19,
    "start_time": "2021-10-14T13:13:25.618Z"
   },
   {
    "duration": 25,
    "start_time": "2021-10-14T13:13:28.485Z"
   },
   {
    "duration": 11,
    "start_time": "2021-10-14T13:13:32.809Z"
   },
   {
    "duration": 25,
    "start_time": "2021-10-14T13:13:35.345Z"
   },
   {
    "duration": 38,
    "start_time": "2021-10-14T13:13:39.135Z"
   },
   {
    "duration": 35,
    "start_time": "2021-10-14T13:13:52.845Z"
   },
   {
    "duration": 34,
    "start_time": "2021-10-14T13:17:39.557Z"
   },
   {
    "duration": 21,
    "start_time": "2021-10-14T13:17:42.235Z"
   },
   {
    "duration": 23,
    "start_time": "2021-10-14T13:17:44.459Z"
   },
   {
    "duration": 24,
    "start_time": "2021-10-14T13:18:20.368Z"
   },
   {
    "duration": 843,
    "start_time": "2021-10-14T13:18:30.161Z"
   },
   {
    "duration": 35,
    "start_time": "2021-10-14T13:18:32.988Z"
   },
   {
    "duration": 819,
    "start_time": "2021-10-14T13:20:40.031Z"
   },
   {
    "duration": 25,
    "start_time": "2021-10-14T13:24:59.976Z"
   },
   {
    "duration": 745,
    "start_time": "2021-10-14T13:25:30.508Z"
   },
   {
    "duration": 753,
    "start_time": "2021-10-14T13:25:39.836Z"
   },
   {
    "duration": 778,
    "start_time": "2021-10-14T13:26:00.425Z"
   },
   {
    "duration": 24,
    "start_time": "2021-10-14T13:26:16.761Z"
   },
   {
    "duration": 92,
    "start_time": "2021-10-14T13:27:05.074Z"
   },
   {
    "duration": 843,
    "start_time": "2021-10-14T13:27:18.442Z"
   },
   {
    "duration": 782,
    "start_time": "2021-10-14T13:28:59.001Z"
   },
   {
    "duration": 757,
    "start_time": "2021-10-14T13:29:15.179Z"
   },
   {
    "duration": 789,
    "start_time": "2021-10-14T13:29:20.629Z"
   },
   {
    "duration": 760,
    "start_time": "2021-10-14T13:29:23.721Z"
   },
   {
    "duration": 835,
    "start_time": "2021-10-14T13:33:53.151Z"
   },
   {
    "duration": 29,
    "start_time": "2021-10-14T13:36:51.517Z"
   },
   {
    "duration": 847,
    "start_time": "2021-10-14T13:36:53.959Z"
   },
   {
    "duration": 769,
    "start_time": "2021-10-14T13:36:59.109Z"
   },
   {
    "duration": 24,
    "start_time": "2021-10-14T13:37:39.675Z"
   },
   {
    "duration": 666,
    "start_time": "2021-10-14T13:37:43.397Z"
   },
   {
    "duration": 748,
    "start_time": "2021-10-14T13:37:48.646Z"
   },
   {
    "duration": 39,
    "start_time": "2021-10-14T13:38:48.258Z"
   },
   {
    "duration": 10,
    "start_time": "2021-10-14T13:41:35.811Z"
   },
   {
    "duration": 724,
    "start_time": "2021-10-14T13:41:38.951Z"
   },
   {
    "duration": 26,
    "start_time": "2021-10-14T13:41:59.744Z"
   },
   {
    "duration": 89,
    "start_time": "2021-10-14T13:42:14.401Z"
   },
   {
    "duration": 25,
    "start_time": "2021-10-14T13:42:25.351Z"
   },
   {
    "duration": 10,
    "start_time": "2021-10-14T13:42:30.120Z"
   },
   {
    "duration": 1129,
    "start_time": "2021-10-14T13:42:44.840Z"
   },
   {
    "duration": 803,
    "start_time": "2021-10-14T13:43:31.619Z"
   },
   {
    "duration": 3,
    "start_time": "2021-10-14T13:44:02.136Z"
   },
   {
    "duration": 59,
    "start_time": "2021-10-14T13:44:03.697Z"
   },
   {
    "duration": 20,
    "start_time": "2021-10-14T13:44:07.393Z"
   },
   {
    "duration": 23,
    "start_time": "2021-10-14T13:44:09.529Z"
   },
   {
    "duration": 17,
    "start_time": "2021-10-14T13:44:14.024Z"
   },
   {
    "duration": 33,
    "start_time": "2021-10-14T13:44:19.529Z"
   },
   {
    "duration": 16,
    "start_time": "2021-10-14T13:44:23.228Z"
   },
   {
    "duration": 25,
    "start_time": "2021-10-14T13:44:26.164Z"
   },
   {
    "duration": 542,
    "start_time": "2021-10-14T13:44:28.266Z"
   },
   {
    "duration": 26,
    "start_time": "2021-10-14T13:44:32.685Z"
   },
   {
    "duration": 833,
    "start_time": "2021-10-14T13:44:50.938Z"
   },
   {
    "duration": 27,
    "start_time": "2021-10-14T13:45:05.617Z"
   },
   {
    "duration": 774,
    "start_time": "2021-10-14T13:45:12.001Z"
   },
   {
    "duration": 10,
    "start_time": "2021-10-14T13:45:23.282Z"
   },
   {
    "duration": 1490,
    "start_time": "2021-10-14T13:45:25.226Z"
   },
   {
    "duration": 4,
    "start_time": "2021-10-14T13:45:57.538Z"
   },
   {
    "duration": 65,
    "start_time": "2021-10-14T13:45:59.621Z"
   },
   {
    "duration": 20,
    "start_time": "2021-10-14T13:46:02.837Z"
   },
   {
    "duration": 25,
    "start_time": "2021-10-14T13:46:05.134Z"
   },
   {
    "duration": 18,
    "start_time": "2021-10-14T13:46:09.089Z"
   },
   {
    "duration": 37,
    "start_time": "2021-10-14T13:46:11.300Z"
   },
   {
    "duration": 34,
    "start_time": "2021-10-14T13:46:14.151Z"
   },
   {
    "duration": 21,
    "start_time": "2021-10-14T13:46:16.777Z"
   },
   {
    "duration": 17,
    "start_time": "2021-10-14T13:46:18.840Z"
   },
   {
    "duration": 25,
    "start_time": "2021-10-14T13:46:21.749Z"
   },
   {
    "duration": 565,
    "start_time": "2021-10-14T13:46:23.826Z"
   },
   {
    "duration": 26,
    "start_time": "2021-10-14T13:46:26.721Z"
   },
   {
    "duration": 808,
    "start_time": "2021-10-14T13:46:28.938Z"
   },
   {
    "duration": 27,
    "start_time": "2021-10-14T13:46:33.039Z"
   },
   {
    "duration": 777,
    "start_time": "2021-10-14T13:46:35.718Z"
   },
   {
    "duration": 11,
    "start_time": "2021-10-14T13:46:46.820Z"
   },
   {
    "duration": 647,
    "start_time": "2021-10-14T13:46:49.178Z"
   },
   {
    "duration": 481,
    "start_time": "2021-10-14T13:48:44.600Z"
   },
   {
    "duration": 598,
    "start_time": "2021-10-14T13:49:22.171Z"
   },
   {
    "duration": 633,
    "start_time": "2021-10-14T13:50:37.598Z"
   },
   {
    "duration": 90,
    "start_time": "2021-10-14T13:53:37.404Z"
   },
   {
    "duration": 7,
    "start_time": "2021-10-14T14:07:11.740Z"
   },
   {
    "duration": 7,
    "start_time": "2021-10-14T14:07:51.231Z"
   },
   {
    "duration": 7,
    "start_time": "2021-10-14T14:08:01.621Z"
   },
   {
    "duration": 1455,
    "start_time": "2021-10-14T14:08:38.934Z"
   },
   {
    "duration": 7,
    "start_time": "2021-10-14T14:08:56.438Z"
   },
   {
    "duration": 852,
    "start_time": "2021-10-14T14:08:58.752Z"
   },
   {
    "duration": 8,
    "start_time": "2021-10-14T14:09:31.097Z"
   },
   {
    "duration": 864,
    "start_time": "2021-10-14T14:09:32.840Z"
   },
   {
    "duration": 7,
    "start_time": "2021-10-14T14:09:56.775Z"
   },
   {
    "duration": 912,
    "start_time": "2021-10-14T14:10:00.577Z"
   },
   {
    "duration": 8,
    "start_time": "2021-10-14T14:10:23.032Z"
   },
   {
    "duration": 1407,
    "start_time": "2021-10-14T14:10:24.806Z"
   },
   {
    "duration": 9,
    "start_time": "2021-10-14T14:14:24.455Z"
   },
   {
    "duration": 486,
    "start_time": "2021-10-14T14:14:41.617Z"
   },
   {
    "duration": 466,
    "start_time": "2021-10-14T14:15:01.229Z"
   },
   {
    "duration": 533,
    "start_time": "2021-10-14T14:15:16.544Z"
   },
   {
    "duration": 10,
    "start_time": "2021-10-14T14:17:57.858Z"
   },
   {
    "duration": 9,
    "start_time": "2021-10-14T14:18:08.036Z"
   },
   {
    "duration": 464,
    "start_time": "2021-10-14T14:18:14.330Z"
   },
   {
    "duration": 529,
    "start_time": "2021-10-14T14:18:19.339Z"
   },
   {
    "duration": 9,
    "start_time": "2021-10-14T14:18:51.395Z"
   },
   {
    "duration": 469,
    "start_time": "2021-10-14T14:18:53.139Z"
   },
   {
    "duration": 472,
    "start_time": "2021-10-14T14:18:56.250Z"
   },
   {
    "duration": 474,
    "start_time": "2021-10-14T14:18:59.756Z"
   },
   {
    "duration": 10,
    "start_time": "2021-10-14T14:19:16.581Z"
   },
   {
    "duration": 426,
    "start_time": "2021-10-14T14:19:21.301Z"
   },
   {
    "duration": 9,
    "start_time": "2021-10-14T14:19:50.448Z"
   },
   {
    "duration": 426,
    "start_time": "2021-10-14T14:19:52.818Z"
   },
   {
    "duration": 116,
    "start_time": "2021-10-14T14:21:32.676Z"
   },
   {
    "duration": 397,
    "start_time": "2021-10-14T14:21:46.056Z"
   },
   {
    "duration": 288,
    "start_time": "2021-10-14T14:25:48.331Z"
   },
   {
    "duration": 380,
    "start_time": "2021-10-14T14:26:00.447Z"
   },
   {
    "duration": 792,
    "start_time": "2021-10-14T14:26:16.814Z"
   },
   {
    "duration": 364,
    "start_time": "2021-10-14T14:26:36.865Z"
   },
   {
    "duration": 430,
    "start_time": "2021-10-14T14:26:39.710Z"
   },
   {
    "duration": 433,
    "start_time": "2021-10-14T14:26:52.663Z"
   },
   {
    "duration": 314,
    "start_time": "2021-10-14T14:30:53.194Z"
   },
   {
    "duration": 282,
    "start_time": "2021-10-14T14:31:21.139Z"
   },
   {
    "duration": 33,
    "start_time": "2021-10-14T14:31:26.427Z"
   },
   {
    "duration": 35,
    "start_time": "2021-10-14T14:31:38.185Z"
   },
   {
    "duration": 104,
    "start_time": "2021-10-14T14:33:28.594Z"
   },
   {
    "duration": 20,
    "start_time": "2021-10-14T14:41:22.084Z"
   },
   {
    "duration": 20,
    "start_time": "2021-10-14T14:41:45.644Z"
   },
   {
    "duration": 19,
    "start_time": "2021-10-14T14:41:49.340Z"
   },
   {
    "duration": 22,
    "start_time": "2021-10-14T14:41:54.728Z"
   },
   {
    "duration": 271,
    "start_time": "2021-10-14T14:42:18.415Z"
   },
   {
    "duration": 24,
    "start_time": "2021-10-14T14:42:32.248Z"
   },
   {
    "duration": 19,
    "start_time": "2021-10-14T14:42:34.231Z"
   },
   {
    "duration": 85,
    "start_time": "2021-10-14T14:51:41.794Z"
   },
   {
    "duration": 131,
    "start_time": "2021-10-14T14:51:58.986Z"
   },
   {
    "duration": 305,
    "start_time": "2021-10-14T14:52:06.198Z"
   },
   {
    "duration": 303,
    "start_time": "2021-10-14T14:52:13.162Z"
   },
   {
    "duration": 95,
    "start_time": "2021-10-14T14:52:24.322Z"
   },
   {
    "duration": 91,
    "start_time": "2021-10-14T14:52:28.177Z"
   },
   {
    "duration": 46,
    "start_time": "2021-10-14T14:52:30.644Z"
   },
   {
    "duration": 40,
    "start_time": "2021-10-14T14:52:55.462Z"
   },
   {
    "duration": 40,
    "start_time": "2021-10-14T14:58:11.951Z"
   },
   {
    "duration": 288,
    "start_time": "2021-10-14T15:08:27.741Z"
   },
   {
    "duration": 404,
    "start_time": "2021-10-14T15:09:15.184Z"
   },
   {
    "duration": 338,
    "start_time": "2021-10-14T15:09:32.717Z"
   },
   {
    "duration": 364,
    "start_time": "2021-10-14T15:10:40.509Z"
   },
   {
    "duration": 530,
    "start_time": "2021-10-14T15:11:19.192Z"
   },
   {
    "duration": 492,
    "start_time": "2021-10-14T15:11:25.588Z"
   },
   {
    "duration": 470,
    "start_time": "2021-10-14T15:12:08.472Z"
   },
   {
    "duration": 491,
    "start_time": "2021-10-14T15:13:44.906Z"
   },
   {
    "duration": 510,
    "start_time": "2021-10-14T15:14:11.067Z"
   },
   {
    "duration": 42,
    "start_time": "2021-10-14T15:16:06.274Z"
   },
   {
    "duration": 559,
    "start_time": "2021-10-14T15:16:35.281Z"
   },
   {
    "duration": 479,
    "start_time": "2021-10-14T15:20:07.529Z"
   },
   {
    "duration": 479,
    "start_time": "2021-10-14T15:20:46.581Z"
   },
   {
    "duration": 612,
    "start_time": "2021-10-14T15:21:33.471Z"
   },
   {
    "duration": 482,
    "start_time": "2021-10-14T15:21:55.440Z"
   },
   {
    "duration": 487,
    "start_time": "2021-10-14T15:22:16.557Z"
   },
   {
    "duration": 486,
    "start_time": "2021-10-14T15:22:48.017Z"
   },
   {
    "duration": 299,
    "start_time": "2021-10-14T15:25:09.323Z"
   },
   {
    "duration": 299,
    "start_time": "2021-10-14T15:25:50.144Z"
   },
   {
    "duration": 290,
    "start_time": "2021-10-14T15:27:43.230Z"
   },
   {
    "duration": 545,
    "start_time": "2021-10-14T15:31:56.121Z"
   },
   {
    "duration": 688,
    "start_time": "2021-10-14T15:32:32.760Z"
   },
   {
    "duration": 576,
    "start_time": "2021-10-14T15:32:44.060Z"
   },
   {
    "duration": 470,
    "start_time": "2021-10-14T15:32:55.463Z"
   },
   {
    "duration": 124,
    "start_time": "2021-10-14T15:44:33.607Z"
   },
   {
    "duration": 287,
    "start_time": "2021-10-14T15:44:39.916Z"
   },
   {
    "duration": 268,
    "start_time": "2021-10-14T15:44:56.002Z"
   },
   {
    "duration": 314,
    "start_time": "2021-10-14T15:45:28.951Z"
   },
   {
    "duration": 87,
    "start_time": "2021-10-14T15:47:08.361Z"
   },
   {
    "duration": 269,
    "start_time": "2021-10-14T15:47:13.312Z"
   },
   {
    "duration": 265,
    "start_time": "2021-10-14T15:47:51.786Z"
   },
   {
    "duration": 17,
    "start_time": "2021-10-14T15:48:28.456Z"
   },
   {
    "duration": 16,
    "start_time": "2021-10-14T15:49:59.153Z"
   },
   {
    "duration": 83,
    "start_time": "2021-10-14T15:55:37.412Z"
   },
   {
    "duration": 18,
    "start_time": "2021-10-14T15:55:52.552Z"
   },
   {
    "duration": 18,
    "start_time": "2021-10-14T15:55:59.763Z"
   },
   {
    "duration": 17,
    "start_time": "2021-10-14T15:56:10.721Z"
   },
   {
    "duration": 21,
    "start_time": "2021-10-14T15:59:15.239Z"
   },
   {
    "duration": 19,
    "start_time": "2021-10-14T16:00:43.115Z"
   },
   {
    "duration": 102,
    "start_time": "2021-10-14T16:04:02.481Z"
   },
   {
    "duration": 18,
    "start_time": "2021-10-14T16:18:11.964Z"
   },
   {
    "duration": 1086,
    "start_time": "2021-10-14T17:34:32.882Z"
   },
   {
    "duration": 51,
    "start_time": "2021-10-14T17:34:33.970Z"
   },
   {
    "duration": 10,
    "start_time": "2021-10-14T17:34:34.023Z"
   },
   {
    "duration": 11,
    "start_time": "2021-10-14T17:34:34.035Z"
   },
   {
    "duration": 16,
    "start_time": "2021-10-14T17:34:34.047Z"
   },
   {
    "duration": 14,
    "start_time": "2021-10-14T17:34:34.065Z"
   },
   {
    "duration": 13,
    "start_time": "2021-10-14T17:34:34.081Z"
   },
   {
    "duration": 23,
    "start_time": "2021-10-14T17:34:34.095Z"
   },
   {
    "duration": 21,
    "start_time": "2021-10-14T17:34:34.120Z"
   },
   {
    "duration": 41,
    "start_time": "2021-10-14T17:34:34.143Z"
   },
   {
    "duration": 13,
    "start_time": "2021-10-14T17:34:34.186Z"
   },
   {
    "duration": 7,
    "start_time": "2021-10-14T17:34:34.200Z"
   },
   {
    "duration": 7,
    "start_time": "2021-10-14T17:34:34.209Z"
   },
   {
    "duration": 16,
    "start_time": "2021-10-14T17:34:34.218Z"
   },
   {
    "duration": 327,
    "start_time": "2021-10-14T17:34:34.276Z"
   },
   {
    "duration": 25,
    "start_time": "2021-10-14T17:34:34.605Z"
   },
   {
    "duration": 476,
    "start_time": "2021-10-14T17:34:34.632Z"
   },
   {
    "duration": 16,
    "start_time": "2021-10-14T17:34:35.110Z"
   },
   {
    "duration": 466,
    "start_time": "2021-10-14T17:34:35.128Z"
   },
   {
    "duration": 7,
    "start_time": "2021-10-14T17:34:35.596Z"
   },
   {
    "duration": 386,
    "start_time": "2021-10-14T17:34:35.605Z"
   },
   {
    "duration": 235,
    "start_time": "2021-10-14T17:34:35.993Z"
   },
   {
    "duration": 27,
    "start_time": "2021-10-14T17:34:36.203Z"
   },
   {
    "duration": 26,
    "start_time": "2021-10-14T17:34:36.205Z"
   },
   {
    "duration": 25,
    "start_time": "2021-10-14T17:34:36.208Z"
   },
   {
    "duration": 24,
    "start_time": "2021-10-14T17:34:36.210Z"
   },
   {
    "duration": 7,
    "start_time": "2021-10-14T17:34:36.228Z"
   },
   {
    "duration": 6,
    "start_time": "2021-10-14T17:34:36.231Z"
   },
   {
    "duration": 2,
    "start_time": "2021-10-14T17:34:36.236Z"
   },
   {
    "duration": -5,
    "start_time": "2021-10-14T17:34:36.244Z"
   },
   {
    "duration": -6,
    "start_time": "2021-10-14T17:34:36.247Z"
   },
   {
    "duration": -7,
    "start_time": "2021-10-14T17:34:36.249Z"
   },
   {
    "duration": -8,
    "start_time": "2021-10-14T17:34:36.251Z"
   },
   {
    "duration": -8,
    "start_time": "2021-10-14T17:34:36.253Z"
   },
   {
    "duration": 308,
    "start_time": "2021-10-14T17:35:00.722Z"
   },
   {
    "duration": 5,
    "start_time": "2021-10-14T17:35:01.032Z"
   },
   {
    "duration": 314,
    "start_time": "2021-10-14T17:35:01.039Z"
   },
   {
    "duration": 335,
    "start_time": "2021-10-14T17:35:01.355Z"
   },
   {
    "duration": 397,
    "start_time": "2021-10-14T17:35:01.691Z"
   },
   {
    "duration": 302,
    "start_time": "2021-10-14T17:35:02.090Z"
   },
   {
    "duration": 20,
    "start_time": "2021-10-14T17:35:02.393Z"
   },
   {
    "duration": 1832,
    "start_time": "2021-10-14T17:35:02.414Z"
   },
   {
    "duration": 12,
    "start_time": "2021-10-14T17:35:04.236Z"
   },
   {
    "duration": 11,
    "start_time": "2021-10-14T17:35:04.239Z"
   },
   {
    "duration": 10,
    "start_time": "2021-10-14T17:35:04.241Z"
   },
   {
    "duration": 9,
    "start_time": "2021-10-14T17:35:04.243Z"
   },
   {
    "duration": 1352,
    "start_time": "2021-10-15T09:28:52.482Z"
   },
   {
    "duration": 68,
    "start_time": "2021-10-15T09:28:55.494Z"
   },
   {
    "duration": 21,
    "start_time": "2021-10-15T09:29:13.156Z"
   },
   {
    "duration": 28,
    "start_time": "2021-10-15T09:29:15.642Z"
   },
   {
    "duration": 21,
    "start_time": "2021-10-15T09:29:19.523Z"
   },
   {
    "duration": 17,
    "start_time": "2021-10-15T09:29:48.065Z"
   },
   {
    "duration": 26,
    "start_time": "2021-10-15T09:29:55.426Z"
   },
   {
    "duration": 583,
    "start_time": "2021-10-15T09:30:05.094Z"
   },
   {
    "duration": 32,
    "start_time": "2021-10-15T09:30:17.114Z"
   },
   {
    "duration": 800,
    "start_time": "2021-10-15T09:30:19.732Z"
   },
   {
    "duration": 28,
    "start_time": "2021-10-15T09:35:54.324Z"
   },
   {
    "duration": 808,
    "start_time": "2021-10-15T09:35:56.444Z"
   },
   {
    "duration": 9,
    "start_time": "2021-10-15T09:38:43.935Z"
   },
   {
    "duration": 672,
    "start_time": "2021-10-15T09:38:46.694Z"
   },
   {
    "duration": 99,
    "start_time": "2021-10-15T09:39:17.013Z"
   },
   {
    "duration": 505,
    "start_time": "2021-10-15T09:39:23.241Z"
   },
   {
    "duration": 496,
    "start_time": "2021-10-15T09:40:09.454Z"
   },
   {
    "duration": 494,
    "start_time": "2021-10-15T09:42:10.774Z"
   },
   {
    "duration": 82,
    "start_time": "2021-10-15T09:42:22.080Z"
   },
   {
    "duration": 10,
    "start_time": "2021-10-15T09:44:11.224Z"
   },
   {
    "duration": 410,
    "start_time": "2021-10-15T09:44:16.524Z"
   },
   {
    "duration": 393,
    "start_time": "2021-10-15T09:44:31.488Z"
   },
   {
    "duration": 34,
    "start_time": "2021-10-15T09:45:48.292Z"
   },
   {
    "duration": 1054,
    "start_time": "2021-10-15T09:46:04.344Z"
   },
   {
    "duration": 575,
    "start_time": "2021-10-15T09:46:23.962Z"
   },
   {
    "duration": 512,
    "start_time": "2021-10-15T09:49:00.096Z"
   },
   {
    "duration": 17,
    "start_time": "2021-10-15T12:44:23.670Z"
   },
   {
    "duration": 19,
    "start_time": "2021-10-15T12:44:25.819Z"
   },
   {
    "duration": 1343,
    "start_time": "2022-03-04T07:05:58.854Z"
   },
   {
    "duration": 68,
    "start_time": "2022-03-04T07:06:01.052Z"
   },
   {
    "duration": 14,
    "start_time": "2022-03-04T07:06:03.005Z"
   },
   {
    "duration": 19,
    "start_time": "2022-03-04T07:06:08.953Z"
   },
   {
    "duration": 25,
    "start_time": "2022-03-04T07:06:13.858Z"
   },
   {
    "duration": 10,
    "start_time": "2022-03-04T07:06:16.556Z"
   },
   {
    "duration": 19,
    "start_time": "2022-03-04T07:06:18.561Z"
   },
   {
    "duration": 39,
    "start_time": "2022-03-04T07:06:25.034Z"
   },
   {
    "duration": 43,
    "start_time": "2022-03-04T07:06:28.395Z"
   },
   {
    "duration": 20,
    "start_time": "2022-03-04T07:06:31.518Z"
   },
   {
    "duration": 16,
    "start_time": "2022-03-04T07:06:33.619Z"
   },
   {
    "duration": 10,
    "start_time": "2022-03-04T07:06:36.016Z"
   },
   {
    "duration": 10,
    "start_time": "2022-03-04T07:06:38.432Z"
   },
   {
    "duration": 33,
    "start_time": "2022-03-04T07:06:40.579Z"
   },
   {
    "duration": 555,
    "start_time": "2022-03-04T07:06:45.528Z"
   },
   {
    "duration": 30,
    "start_time": "2022-03-04T07:06:51.248Z"
   },
   {
    "duration": 771,
    "start_time": "2022-03-04T07:06:53.618Z"
   },
   {
    "duration": 28,
    "start_time": "2022-03-04T07:07:03.239Z"
   },
   {
    "duration": 760,
    "start_time": "2022-03-04T07:07:06.059Z"
   },
   {
    "duration": 8,
    "start_time": "2022-03-04T07:07:13.719Z"
   },
   {
    "duration": 642,
    "start_time": "2022-03-04T07:07:15.479Z"
   },
   {
    "duration": 529,
    "start_time": "2022-03-04T07:07:25.412Z"
   },
   {
    "duration": 14,
    "start_time": "2022-03-04T07:07:32.677Z"
   },
   {
    "duration": 9,
    "start_time": "2022-03-04T07:07:40.146Z"
   },
   {
    "duration": 535,
    "start_time": "2022-03-04T07:08:26.111Z"
   },
   {
    "duration": 383,
    "start_time": "2022-03-04T07:08:29.007Z"
   },
   {
    "duration": 9,
    "start_time": "2022-03-04T07:08:40.642Z"
   },
   {
    "duration": 396,
    "start_time": "2022-03-04T07:08:45.051Z"
   },
   {
    "duration": 624,
    "start_time": "2022-03-04T07:08:47.533Z"
   },
   {
    "duration": 538,
    "start_time": "2022-03-04T07:08:50.328Z"
   },
   {
    "duration": 520,
    "start_time": "2022-03-04T07:08:53.719Z"
   },
   {
    "duration": 43,
    "start_time": "2022-03-04T07:09:03.023Z"
   },
   {
    "duration": 808,
    "start_time": "2022-03-04T07:09:07.853Z"
   },
   {
    "duration": 907,
    "start_time": "2022-03-04T07:09:15.436Z"
   },
   {
    "duration": 719,
    "start_time": "2022-03-04T07:09:19.508Z"
   },
   {
    "duration": 23,
    "start_time": "2022-03-04T07:09:32.558Z"
   },
   {
    "duration": 17,
    "start_time": "2022-03-04T07:09:55.308Z"
   },
   {
    "duration": 27,
    "start_time": "2022-03-04T07:09:59.996Z"
   }
  ],
  "kernelspec": {
   "display_name": "Python 3",
   "language": "python",
   "name": "python3"
  },
  "language_info": {
   "codemirror_mode": {
    "name": "ipython",
    "version": 3
   },
   "file_extension": ".py",
   "mimetype": "text/x-python",
   "name": "python",
   "nbconvert_exporter": "python",
   "pygments_lexer": "ipython3",
   "version": "3.7.8"
  },
  "toc": {
   "base_numbering": 1,
   "nav_menu": {},
   "number_sections": true,
   "sideBar": true,
   "skip_h1_title": true,
   "title_cell": "Table of Contents",
   "title_sidebar": "Contents",
   "toc_cell": false,
   "toc_position": {},
   "toc_section_display": true,
   "toc_window_display": false
  }
 },
 "nbformat": 4,
 "nbformat_minor": 2
}
